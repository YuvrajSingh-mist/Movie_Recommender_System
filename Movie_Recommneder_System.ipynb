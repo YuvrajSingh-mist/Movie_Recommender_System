{
 "cells": [
  {
   "cell_type": "code",
   "execution_count": 1808,
   "id": "d50f025c-4b4a-4a33-a6c2-28aad51c0dc6",
   "metadata": {},
   "outputs": [],
   "source": [
    "import nltk\n",
    "import pandas as pd\n",
    "import numpy as np\n",
    "import seaborn as sns\n",
    "from sklearn.model_selection import train_test_split\n",
    "import matplotlib.pyplot as plt\n",
    "from sklearn.compose import ColumnTransformer\n",
    "from sklearn.experimental import enable_iterative_imputer\n",
    "from statsmodels.stats.outliers_influence import variance_inflation_factor\n",
    "from sklearn.preprocessing import StandardScaler, RobustScaler, MinMaxScaler\n",
    "from sklearn.feature_selection import RFE, RFECV, f_regression, chi2\n",
    "from sklearn.ensemble import RandomForestClassifier\n",
    "from sklearn.pipeline import Pipeline\n",
    "from sklearn.linear_model import LogisticRegression\n",
    "from sklearn.experimental import enable_halving_search_cv\n",
    "from sklearn.model_selection import GridSearchCV, KFold, RandomizedSearchCV, HalvingGridSearchCV\n",
    "from sklearn.model_selection import cross_val_score\n",
    "from sklearn.feature_selection import SelectKBest\n",
    "from sklearn.metrics import accuracy_score, confusion_matrix, classification_report, recall_score, precision_score, f1_score, roc_auc_score\n",
    "from sklearn.ensemble import RandomForestClassifier\n",
    "from sklearn.naive_bayes import GaussianNB, BernoulliNB\n",
    "from sklearn.preprocessing import PowerTransformer, QuantileTransformer\n",
    "from mlxtend.feature_selection import SequentialFeatureSelector as SFS\n",
    "from sklearn.neighbors import  KNeighborsClassifier\n",
    "from datetime import datetime as dt\n",
    "from sklearn.impute import SimpleImputer, KNNImputer, IterativeImputer\n",
    "from sklearn.tree import DecisionTreeClassifier\n",
    "from sklearn.svm import SVC, LinearSVC\n",
    "from sklearn.ensemble import GradientBoostingClassifier, AdaBoostClassifier\n",
    "from sklearn.ensemble import VotingClassifier\n",
    "from sklearn.preprocessing import OneHotEncoder, OrdinalEncoder, LabelEncoder\n",
    "from imblearn.combine import SMOTETomek\n",
    "from collections import Counter\n",
    "from mlxtend.feature_selection import ColumnSelector\n",
    "import warnings\n",
    "# Settings the warnings to be ignored\n",
    "warnings.filterwarnings('ignore')"
   ]
  },
  {
   "cell_type": "code",
   "execution_count": 1809,
   "id": "6ccd7c92-15af-4108-a8d6-e97eed90334e",
   "metadata": {},
   "outputs": [],
   "source": [
    "# Displaying all columns\n",
    "pd.set_option('display.max_columns', None)\n",
    "\n",
    "#Display all data in columns\n",
    "# pd.set_option(\"display.max_colwidth\", None)\n",
    "\n",
    "# np.set_printoptions(threshold=None, edgeitems=None, linewidth=None, suppress=None)\n",
    "# pd.set_option(\"display.max_rows\", None)\n",
    "# pd.set_option(\"display.expand_frame_repr\", True)\n",
    "# pd.set_option('display.width', 1000)\n"
   ]
  },
  {
   "cell_type": "code",
   "execution_count": 1810,
   "id": "75ae12cf-7e98-4117-8d54-ea40a9376ea3",
   "metadata": {},
   "outputs": [],
   "source": [
    "#Storing Accuracy\n",
    "\n",
    "data_accuracy = pd.DataFrame(columns=['Algo', 'Accuracy(KFold)', 'Test', 'Train', 'Recall', 'Precision', 'F1', 'ROC_AUC_SCORE'])\n",
    "def store(data):\n",
    "    data_accuracy.loc[len(data_accuracy.index)] = data\n",
    "    data_accuracy.to_csv('loan_prediction_metric_scores.csv')\n",
    "    print(data_accuracy)\n",
    "\n",
    "\n",
    "\n",
    "def get_info_pipeline(pipe_name):\n",
    "    sub_pipe = pipe_name[:-1]\n",
    "    transformed_df = pd.DataFrame(\n",
    "        data=sub_pipe.fit_transform(X_train, y_train),\n",
    "        columns=sub_pipe.get_feature_names_out(),\n",
    "    )\n",
    "    print(transformed_df)"
   ]
  },
  {
   "cell_type": "code",
   "execution_count": 1811,
   "id": "ee1a3f77-f142-4f6f-8ff2-8b0be6c3df84",
   "metadata": {},
   "outputs": [],
   "source": [
    "import spacy\n",
    "nlp = spacy.load('en_core_web_sm')"
   ]
  },
  {
   "cell_type": "code",
   "execution_count": 1812,
   "id": "4570731c-526d-4265-aa74-bdb6e5c867cd",
   "metadata": {},
   "outputs": [],
   "source": [
    "df1 = pd.read_csv('tmdb_5000_credits.csv')\n",
    "df2 = pd.read_csv('tmdb_5000_movies.csv')"
   ]
  },
  {
   "cell_type": "code",
   "execution_count": 1813,
   "id": "db18a860-dcb9-4c02-b274-c97c69c8d3bc",
   "metadata": {},
   "outputs": [
    {
     "data": {
      "text/html": [
       "<div>\n",
       "<style scoped>\n",
       "    .dataframe tbody tr th:only-of-type {\n",
       "        vertical-align: middle;\n",
       "    }\n",
       "\n",
       "    .dataframe tbody tr th {\n",
       "        vertical-align: top;\n",
       "    }\n",
       "\n",
       "    .dataframe thead th {\n",
       "        text-align: right;\n",
       "    }\n",
       "</style>\n",
       "<table border=\"1\" class=\"dataframe\">\n",
       "  <thead>\n",
       "    <tr style=\"text-align: right;\">\n",
       "      <th></th>\n",
       "      <th>movie_id</th>\n",
       "      <th>title</th>\n",
       "      <th>cast</th>\n",
       "      <th>crew</th>\n",
       "    </tr>\n",
       "  </thead>\n",
       "  <tbody>\n",
       "    <tr>\n",
       "      <th>0</th>\n",
       "      <td>19995</td>\n",
       "      <td>Avatar</td>\n",
       "      <td>[{\"cast_id\": 242, \"character\": \"Jake Sully\", \"...</td>\n",
       "      <td>[{\"credit_id\": \"52fe48009251416c750aca23\", \"de...</td>\n",
       "    </tr>\n",
       "  </tbody>\n",
       "</table>\n",
       "</div>"
      ],
      "text/plain": [
       "   movie_id   title                                               cast  \\\n",
       "0     19995  Avatar  [{\"cast_id\": 242, \"character\": \"Jake Sully\", \"...   \n",
       "\n",
       "                                                crew  \n",
       "0  [{\"credit_id\": \"52fe48009251416c750aca23\", \"de...  "
      ]
     },
     "execution_count": 1813,
     "metadata": {},
     "output_type": "execute_result"
    }
   ],
   "source": [
    "df1.head(1)"
   ]
  },
  {
   "cell_type": "code",
   "execution_count": 1814,
   "id": "37fd6a48-baba-4cba-9002-e91529521e37",
   "metadata": {},
   "outputs": [],
   "source": [
    "#Renaming the 'movie_id' col in df1 to 'id' of df2 "
   ]
  },
  {
   "cell_type": "code",
   "execution_count": 1815,
   "id": "8eb1b533-7f7d-4c8f-ab0c-bb4c663ecd64",
   "metadata": {},
   "outputs": [],
   "source": [
    "df1.rename(columns = {'movie_id':'id'}, inplace = True)"
   ]
  },
  {
   "cell_type": "code",
   "execution_count": 1816,
   "id": "4dac1afa-41fd-4f80-9f60-5d9c1f4f6874",
   "metadata": {},
   "outputs": [
    {
     "data": {
      "text/html": [
       "<div>\n",
       "<style scoped>\n",
       "    .dataframe tbody tr th:only-of-type {\n",
       "        vertical-align: middle;\n",
       "    }\n",
       "\n",
       "    .dataframe tbody tr th {\n",
       "        vertical-align: top;\n",
       "    }\n",
       "\n",
       "    .dataframe thead th {\n",
       "        text-align: right;\n",
       "    }\n",
       "</style>\n",
       "<table border=\"1\" class=\"dataframe\">\n",
       "  <thead>\n",
       "    <tr style=\"text-align: right;\">\n",
       "      <th></th>\n",
       "      <th>id</th>\n",
       "      <th>title</th>\n",
       "      <th>cast</th>\n",
       "      <th>crew</th>\n",
       "    </tr>\n",
       "  </thead>\n",
       "  <tbody>\n",
       "    <tr>\n",
       "      <th>0</th>\n",
       "      <td>19995</td>\n",
       "      <td>Avatar</td>\n",
       "      <td>[{\"cast_id\": 242, \"character\": \"Jake Sully\", \"...</td>\n",
       "      <td>[{\"credit_id\": \"52fe48009251416c750aca23\", \"de...</td>\n",
       "    </tr>\n",
       "  </tbody>\n",
       "</table>\n",
       "</div>"
      ],
      "text/plain": [
       "      id   title                                               cast  \\\n",
       "0  19995  Avatar  [{\"cast_id\": 242, \"character\": \"Jake Sully\", \"...   \n",
       "\n",
       "                                                crew  \n",
       "0  [{\"credit_id\": \"52fe48009251416c750aca23\", \"de...  "
      ]
     },
     "execution_count": 1816,
     "metadata": {},
     "output_type": "execute_result"
    }
   ],
   "source": [
    "df1.head(1)"
   ]
  },
  {
   "cell_type": "code",
   "execution_count": 1817,
   "id": "720080a9-f26e-49ec-83ce-b1cb01473eba",
   "metadata": {},
   "outputs": [],
   "source": [
    "#joining the credits amd movie dataframes"
   ]
  },
  {
   "cell_type": "code",
   "execution_count": 1818,
   "id": "2a0640fc-d36b-4553-a3ec-be859a63c68c",
   "metadata": {},
   "outputs": [],
   "source": [
    "df2 = pd.merge(df1, df2, on='id')"
   ]
  },
  {
   "cell_type": "code",
   "execution_count": 1819,
   "id": "dae48cac-bbec-421e-8b41-9ace60e9ad74",
   "metadata": {},
   "outputs": [
    {
     "data": {
      "text/html": [
       "<div>\n",
       "<style scoped>\n",
       "    .dataframe tbody tr th:only-of-type {\n",
       "        vertical-align: middle;\n",
       "    }\n",
       "\n",
       "    .dataframe tbody tr th {\n",
       "        vertical-align: top;\n",
       "    }\n",
       "\n",
       "    .dataframe thead th {\n",
       "        text-align: right;\n",
       "    }\n",
       "</style>\n",
       "<table border=\"1\" class=\"dataframe\">\n",
       "  <thead>\n",
       "    <tr style=\"text-align: right;\">\n",
       "      <th></th>\n",
       "      <th>id</th>\n",
       "      <th>title_x</th>\n",
       "      <th>cast</th>\n",
       "      <th>crew</th>\n",
       "      <th>budget</th>\n",
       "      <th>genres</th>\n",
       "      <th>homepage</th>\n",
       "      <th>keywords</th>\n",
       "      <th>original_language</th>\n",
       "      <th>original_title</th>\n",
       "      <th>overview</th>\n",
       "      <th>popularity</th>\n",
       "      <th>production_companies</th>\n",
       "      <th>production_countries</th>\n",
       "      <th>release_date</th>\n",
       "      <th>revenue</th>\n",
       "      <th>runtime</th>\n",
       "      <th>spoken_languages</th>\n",
       "      <th>status</th>\n",
       "      <th>tagline</th>\n",
       "      <th>title_y</th>\n",
       "      <th>vote_average</th>\n",
       "      <th>vote_count</th>\n",
       "    </tr>\n",
       "  </thead>\n",
       "  <tbody>\n",
       "    <tr>\n",
       "      <th>0</th>\n",
       "      <td>19995</td>\n",
       "      <td>Avatar</td>\n",
       "      <td>[{\"cast_id\": 242, \"character\": \"Jake Sully\", \"...</td>\n",
       "      <td>[{\"credit_id\": \"52fe48009251416c750aca23\", \"de...</td>\n",
       "      <td>237000000</td>\n",
       "      <td>[{\"id\": 28, \"name\": \"Action\"}, {\"id\": 12, \"nam...</td>\n",
       "      <td>http://www.avatarmovie.com/</td>\n",
       "      <td>[{\"id\": 1463, \"name\": \"culture clash\"}, {\"id\":...</td>\n",
       "      <td>en</td>\n",
       "      <td>Avatar</td>\n",
       "      <td>In the 22nd century, a paraplegic Marine is di...</td>\n",
       "      <td>150.437577</td>\n",
       "      <td>[{\"name\": \"Ingenious Film Partners\", \"id\": 289...</td>\n",
       "      <td>[{\"iso_3166_1\": \"US\", \"name\": \"United States o...</td>\n",
       "      <td>2009-12-10</td>\n",
       "      <td>2787965087</td>\n",
       "      <td>162.0</td>\n",
       "      <td>[{\"iso_639_1\": \"en\", \"name\": \"English\"}, {\"iso...</td>\n",
       "      <td>Released</td>\n",
       "      <td>Enter the World of Pandora.</td>\n",
       "      <td>Avatar</td>\n",
       "      <td>7.2</td>\n",
       "      <td>11800</td>\n",
       "    </tr>\n",
       "  </tbody>\n",
       "</table>\n",
       "</div>"
      ],
      "text/plain": [
       "      id title_x                                               cast  \\\n",
       "0  19995  Avatar  [{\"cast_id\": 242, \"character\": \"Jake Sully\", \"...   \n",
       "\n",
       "                                                crew     budget  \\\n",
       "0  [{\"credit_id\": \"52fe48009251416c750aca23\", \"de...  237000000   \n",
       "\n",
       "                                              genres  \\\n",
       "0  [{\"id\": 28, \"name\": \"Action\"}, {\"id\": 12, \"nam...   \n",
       "\n",
       "                      homepage  \\\n",
       "0  http://www.avatarmovie.com/   \n",
       "\n",
       "                                            keywords original_language  \\\n",
       "0  [{\"id\": 1463, \"name\": \"culture clash\"}, {\"id\":...                en   \n",
       "\n",
       "  original_title                                           overview  \\\n",
       "0         Avatar  In the 22nd century, a paraplegic Marine is di...   \n",
       "\n",
       "   popularity                               production_companies  \\\n",
       "0  150.437577  [{\"name\": \"Ingenious Film Partners\", \"id\": 289...   \n",
       "\n",
       "                                production_countries release_date     revenue  \\\n",
       "0  [{\"iso_3166_1\": \"US\", \"name\": \"United States o...   2009-12-10  2787965087   \n",
       "\n",
       "   runtime                                   spoken_languages    status  \\\n",
       "0    162.0  [{\"iso_639_1\": \"en\", \"name\": \"English\"}, {\"iso...  Released   \n",
       "\n",
       "                       tagline title_y  vote_average  vote_count  \n",
       "0  Enter the World of Pandora.  Avatar           7.2       11800  "
      ]
     },
     "execution_count": 1819,
     "metadata": {},
     "output_type": "execute_result"
    }
   ],
   "source": [
    "df2.head(1)"
   ]
  },
  {
   "cell_type": "code",
   "execution_count": 1820,
   "id": "fcb5f53c-07cd-46fc-b241-e9c93f811387",
   "metadata": {},
   "outputs": [],
   "source": [
    "#Drpping columns"
   ]
  },
  {
   "cell_type": "code",
   "execution_count": 1821,
   "id": "26ce9e25-9520-4beb-b084-987008f6ad30",
   "metadata": {},
   "outputs": [
    {
     "data": {
      "text/plain": [
       "Index(['id', 'title_x', 'cast', 'crew', 'budget', 'genres', 'homepage',\n",
       "       'keywords', 'original_language', 'original_title', 'overview',\n",
       "       'popularity', 'production_companies', 'production_countries',\n",
       "       'release_date', 'revenue', 'runtime', 'spoken_languages', 'status',\n",
       "       'tagline', 'title_y', 'vote_average', 'vote_count'],\n",
       "      dtype='object')"
      ]
     },
     "execution_count": 1821,
     "metadata": {},
     "output_type": "execute_result"
    }
   ],
   "source": [
    "df2.columns"
   ]
  },
  {
   "cell_type": "code",
   "execution_count": 1822,
   "id": "7c7c1404-890e-4bbd-8ff1-c39df37ddf75",
   "metadata": {},
   "outputs": [],
   "source": [
    "df2.drop(columns=['status', 'runtime'], axis=1, inplace=True)"
   ]
  },
  {
   "cell_type": "code",
   "execution_count": 1823,
   "id": "37a19b4e-4cf9-496b-bba1-4bc288b26792",
   "metadata": {},
   "outputs": [],
   "source": [
    "df2.drop(columns=['title_x'], axis=1, inplace=True)"
   ]
  },
  {
   "cell_type": "code",
   "execution_count": 1824,
   "id": "79b352aa-c002-4577-a183-1eda356a036d",
   "metadata": {},
   "outputs": [
    {
     "data": {
      "text/html": [
       "<div>\n",
       "<style scoped>\n",
       "    .dataframe tbody tr th:only-of-type {\n",
       "        vertical-align: middle;\n",
       "    }\n",
       "\n",
       "    .dataframe tbody tr th {\n",
       "        vertical-align: top;\n",
       "    }\n",
       "\n",
       "    .dataframe thead th {\n",
       "        text-align: right;\n",
       "    }\n",
       "</style>\n",
       "<table border=\"1\" class=\"dataframe\">\n",
       "  <thead>\n",
       "    <tr style=\"text-align: right;\">\n",
       "      <th></th>\n",
       "      <th>id</th>\n",
       "      <th>cast</th>\n",
       "      <th>crew</th>\n",
       "      <th>budget</th>\n",
       "      <th>genres</th>\n",
       "      <th>homepage</th>\n",
       "      <th>keywords</th>\n",
       "      <th>original_language</th>\n",
       "      <th>original_title</th>\n",
       "      <th>overview</th>\n",
       "      <th>popularity</th>\n",
       "      <th>production_companies</th>\n",
       "      <th>production_countries</th>\n",
       "      <th>release_date</th>\n",
       "      <th>revenue</th>\n",
       "      <th>spoken_languages</th>\n",
       "      <th>tagline</th>\n",
       "      <th>title_y</th>\n",
       "      <th>vote_average</th>\n",
       "      <th>vote_count</th>\n",
       "    </tr>\n",
       "  </thead>\n",
       "  <tbody>\n",
       "    <tr>\n",
       "      <th>0</th>\n",
       "      <td>19995</td>\n",
       "      <td>[{\"cast_id\": 242, \"character\": \"Jake Sully\", \"...</td>\n",
       "      <td>[{\"credit_id\": \"52fe48009251416c750aca23\", \"de...</td>\n",
       "      <td>237000000</td>\n",
       "      <td>[{\"id\": 28, \"name\": \"Action\"}, {\"id\": 12, \"nam...</td>\n",
       "      <td>http://www.avatarmovie.com/</td>\n",
       "      <td>[{\"id\": 1463, \"name\": \"culture clash\"}, {\"id\":...</td>\n",
       "      <td>en</td>\n",
       "      <td>Avatar</td>\n",
       "      <td>In the 22nd century, a paraplegic Marine is di...</td>\n",
       "      <td>150.437577</td>\n",
       "      <td>[{\"name\": \"Ingenious Film Partners\", \"id\": 289...</td>\n",
       "      <td>[{\"iso_3166_1\": \"US\", \"name\": \"United States o...</td>\n",
       "      <td>2009-12-10</td>\n",
       "      <td>2787965087</td>\n",
       "      <td>[{\"iso_639_1\": \"en\", \"name\": \"English\"}, {\"iso...</td>\n",
       "      <td>Enter the World of Pandora.</td>\n",
       "      <td>Avatar</td>\n",
       "      <td>7.2</td>\n",
       "      <td>11800</td>\n",
       "    </tr>\n",
       "  </tbody>\n",
       "</table>\n",
       "</div>"
      ],
      "text/plain": [
       "      id                                               cast  \\\n",
       "0  19995  [{\"cast_id\": 242, \"character\": \"Jake Sully\", \"...   \n",
       "\n",
       "                                                crew     budget  \\\n",
       "0  [{\"credit_id\": \"52fe48009251416c750aca23\", \"de...  237000000   \n",
       "\n",
       "                                              genres  \\\n",
       "0  [{\"id\": 28, \"name\": \"Action\"}, {\"id\": 12, \"nam...   \n",
       "\n",
       "                      homepage  \\\n",
       "0  http://www.avatarmovie.com/   \n",
       "\n",
       "                                            keywords original_language  \\\n",
       "0  [{\"id\": 1463, \"name\": \"culture clash\"}, {\"id\":...                en   \n",
       "\n",
       "  original_title                                           overview  \\\n",
       "0         Avatar  In the 22nd century, a paraplegic Marine is di...   \n",
       "\n",
       "   popularity                               production_companies  \\\n",
       "0  150.437577  [{\"name\": \"Ingenious Film Partners\", \"id\": 289...   \n",
       "\n",
       "                                production_countries release_date     revenue  \\\n",
       "0  [{\"iso_3166_1\": \"US\", \"name\": \"United States o...   2009-12-10  2787965087   \n",
       "\n",
       "                                    spoken_languages  \\\n",
       "0  [{\"iso_639_1\": \"en\", \"name\": \"English\"}, {\"iso...   \n",
       "\n",
       "                       tagline title_y  vote_average  vote_count  \n",
       "0  Enter the World of Pandora.  Avatar           7.2       11800  "
      ]
     },
     "execution_count": 1824,
     "metadata": {},
     "output_type": "execute_result"
    }
   ],
   "source": [
    "df2.head(1)"
   ]
  },
  {
   "cell_type": "code",
   "execution_count": 1825,
   "id": "7f4182fb-fe13-4ec1-9f8c-29c49bc2bdc7",
   "metadata": {},
   "outputs": [],
   "source": [
    "df2.drop(columns=['title_y'], axis=1, inplace=True)"
   ]
  },
  {
   "cell_type": "code",
   "execution_count": 1826,
   "id": "7c121e96-2fbf-4410-98b2-af6b16bdd1cc",
   "metadata": {},
   "outputs": [
    {
     "data": {
      "text/plain": [
       "(4803, 19)"
      ]
     },
     "execution_count": 1826,
     "metadata": {},
     "output_type": "execute_result"
    }
   ],
   "source": [
    "df2.shape"
   ]
  },
  {
   "cell_type": "code",
   "execution_count": 1827,
   "id": "c42aff38-167e-48f5-8ec0-0ac228bac3d3",
   "metadata": {},
   "outputs": [
    {
     "data": {
      "text/html": [
       "<div>\n",
       "<style scoped>\n",
       "    .dataframe tbody tr th:only-of-type {\n",
       "        vertical-align: middle;\n",
       "    }\n",
       "\n",
       "    .dataframe tbody tr th {\n",
       "        vertical-align: top;\n",
       "    }\n",
       "\n",
       "    .dataframe thead th {\n",
       "        text-align: right;\n",
       "    }\n",
       "</style>\n",
       "<table border=\"1\" class=\"dataframe\">\n",
       "  <thead>\n",
       "    <tr style=\"text-align: right;\">\n",
       "      <th></th>\n",
       "      <th>id</th>\n",
       "      <th>cast</th>\n",
       "      <th>crew</th>\n",
       "      <th>budget</th>\n",
       "      <th>genres</th>\n",
       "      <th>homepage</th>\n",
       "      <th>keywords</th>\n",
       "      <th>original_language</th>\n",
       "      <th>original_title</th>\n",
       "      <th>overview</th>\n",
       "      <th>popularity</th>\n",
       "      <th>production_companies</th>\n",
       "      <th>production_countries</th>\n",
       "      <th>release_date</th>\n",
       "      <th>revenue</th>\n",
       "      <th>spoken_languages</th>\n",
       "      <th>tagline</th>\n",
       "      <th>vote_average</th>\n",
       "      <th>vote_count</th>\n",
       "    </tr>\n",
       "  </thead>\n",
       "  <tbody>\n",
       "    <tr>\n",
       "      <th>0</th>\n",
       "      <td>19995</td>\n",
       "      <td>[{\"cast_id\": 242, \"character\": \"Jake Sully\", \"...</td>\n",
       "      <td>[{\"credit_id\": \"52fe48009251416c750aca23\", \"de...</td>\n",
       "      <td>237000000</td>\n",
       "      <td>[{\"id\": 28, \"name\": \"Action\"}, {\"id\": 12, \"nam...</td>\n",
       "      <td>http://www.avatarmovie.com/</td>\n",
       "      <td>[{\"id\": 1463, \"name\": \"culture clash\"}, {\"id\":...</td>\n",
       "      <td>en</td>\n",
       "      <td>Avatar</td>\n",
       "      <td>In the 22nd century, a paraplegic Marine is di...</td>\n",
       "      <td>150.437577</td>\n",
       "      <td>[{\"name\": \"Ingenious Film Partners\", \"id\": 289...</td>\n",
       "      <td>[{\"iso_3166_1\": \"US\", \"name\": \"United States o...</td>\n",
       "      <td>2009-12-10</td>\n",
       "      <td>2787965087</td>\n",
       "      <td>[{\"iso_639_1\": \"en\", \"name\": \"English\"}, {\"iso...</td>\n",
       "      <td>Enter the World of Pandora.</td>\n",
       "      <td>7.2</td>\n",
       "      <td>11800</td>\n",
       "    </tr>\n",
       "  </tbody>\n",
       "</table>\n",
       "</div>"
      ],
      "text/plain": [
       "      id                                               cast  \\\n",
       "0  19995  [{\"cast_id\": 242, \"character\": \"Jake Sully\", \"...   \n",
       "\n",
       "                                                crew     budget  \\\n",
       "0  [{\"credit_id\": \"52fe48009251416c750aca23\", \"de...  237000000   \n",
       "\n",
       "                                              genres  \\\n",
       "0  [{\"id\": 28, \"name\": \"Action\"}, {\"id\": 12, \"nam...   \n",
       "\n",
       "                      homepage  \\\n",
       "0  http://www.avatarmovie.com/   \n",
       "\n",
       "                                            keywords original_language  \\\n",
       "0  [{\"id\": 1463, \"name\": \"culture clash\"}, {\"id\":...                en   \n",
       "\n",
       "  original_title                                           overview  \\\n",
       "0         Avatar  In the 22nd century, a paraplegic Marine is di...   \n",
       "\n",
       "   popularity                               production_companies  \\\n",
       "0  150.437577  [{\"name\": \"Ingenious Film Partners\", \"id\": 289...   \n",
       "\n",
       "                                production_countries release_date     revenue  \\\n",
       "0  [{\"iso_3166_1\": \"US\", \"name\": \"United States o...   2009-12-10  2787965087   \n",
       "\n",
       "                                    spoken_languages  \\\n",
       "0  [{\"iso_639_1\": \"en\", \"name\": \"English\"}, {\"iso...   \n",
       "\n",
       "                       tagline  vote_average  vote_count  \n",
       "0  Enter the World of Pandora.           7.2       11800  "
      ]
     },
     "execution_count": 1827,
     "metadata": {},
     "output_type": "execute_result"
    }
   ],
   "source": [
    "df2.head(1)"
   ]
  },
  {
   "cell_type": "code",
   "execution_count": 1828,
   "id": "a8b42fbb-9e2f-495b-9c15-2674351439f8",
   "metadata": {},
   "outputs": [],
   "source": [
    "df2.drop(columns=['revenue', 'release_date'], axis=1, inplace=True)"
   ]
  },
  {
   "cell_type": "code",
   "execution_count": 1829,
   "id": "582df72f-fcb9-4937-973b-b2de10aad21e",
   "metadata": {},
   "outputs": [],
   "source": [
    "df2.drop(columns=['budget', 'homepage', 'popularity', 'spoken_languages', 'production_countries', 'vote_average', 'vote_count'], axis=1, inplace=True)"
   ]
  },
  {
   "cell_type": "code",
   "execution_count": 1830,
   "id": "20660644-cb21-4ed7-870e-1a7081129aee",
   "metadata": {},
   "outputs": [
    {
     "data": {
      "text/plain": [
       "(4803, 10)"
      ]
     },
     "execution_count": 1830,
     "metadata": {},
     "output_type": "execute_result"
    }
   ],
   "source": [
    "df2.shape"
   ]
  },
  {
   "cell_type": "code",
   "execution_count": 1831,
   "id": "74475fbf-e042-41ba-8a7f-28ff3404988c",
   "metadata": {},
   "outputs": [
    {
     "data": {
      "text/html": [
       "<div>\n",
       "<style scoped>\n",
       "    .dataframe tbody tr th:only-of-type {\n",
       "        vertical-align: middle;\n",
       "    }\n",
       "\n",
       "    .dataframe tbody tr th {\n",
       "        vertical-align: top;\n",
       "    }\n",
       "\n",
       "    .dataframe thead th {\n",
       "        text-align: right;\n",
       "    }\n",
       "</style>\n",
       "<table border=\"1\" class=\"dataframe\">\n",
       "  <thead>\n",
       "    <tr style=\"text-align: right;\">\n",
       "      <th></th>\n",
       "      <th>id</th>\n",
       "      <th>cast</th>\n",
       "      <th>crew</th>\n",
       "      <th>genres</th>\n",
       "      <th>keywords</th>\n",
       "      <th>original_language</th>\n",
       "      <th>original_title</th>\n",
       "      <th>overview</th>\n",
       "      <th>production_companies</th>\n",
       "      <th>tagline</th>\n",
       "    </tr>\n",
       "  </thead>\n",
       "  <tbody>\n",
       "    <tr>\n",
       "      <th>0</th>\n",
       "      <td>19995</td>\n",
       "      <td>[{\"cast_id\": 242, \"character\": \"Jake Sully\", \"...</td>\n",
       "      <td>[{\"credit_id\": \"52fe48009251416c750aca23\", \"de...</td>\n",
       "      <td>[{\"id\": 28, \"name\": \"Action\"}, {\"id\": 12, \"nam...</td>\n",
       "      <td>[{\"id\": 1463, \"name\": \"culture clash\"}, {\"id\":...</td>\n",
       "      <td>en</td>\n",
       "      <td>Avatar</td>\n",
       "      <td>In the 22nd century, a paraplegic Marine is di...</td>\n",
       "      <td>[{\"name\": \"Ingenious Film Partners\", \"id\": 289...</td>\n",
       "      <td>Enter the World of Pandora.</td>\n",
       "    </tr>\n",
       "  </tbody>\n",
       "</table>\n",
       "</div>"
      ],
      "text/plain": [
       "      id                                               cast  \\\n",
       "0  19995  [{\"cast_id\": 242, \"character\": \"Jake Sully\", \"...   \n",
       "\n",
       "                                                crew  \\\n",
       "0  [{\"credit_id\": \"52fe48009251416c750aca23\", \"de...   \n",
       "\n",
       "                                              genres  \\\n",
       "0  [{\"id\": 28, \"name\": \"Action\"}, {\"id\": 12, \"nam...   \n",
       "\n",
       "                                            keywords original_language  \\\n",
       "0  [{\"id\": 1463, \"name\": \"culture clash\"}, {\"id\":...                en   \n",
       "\n",
       "  original_title                                           overview  \\\n",
       "0         Avatar  In the 22nd century, a paraplegic Marine is di...   \n",
       "\n",
       "                                production_companies  \\\n",
       "0  [{\"name\": \"Ingenious Film Partners\", \"id\": 289...   \n",
       "\n",
       "                       tagline  \n",
       "0  Enter the World of Pandora.  "
      ]
     },
     "execution_count": 1831,
     "metadata": {},
     "output_type": "execute_result"
    }
   ],
   "source": [
    "df2.head(1)"
   ]
  },
  {
   "cell_type": "code",
   "execution_count": 1832,
   "id": "6b92080d-d7dc-4f29-8895-e3dec41f0641",
   "metadata": {},
   "outputs": [
    {
     "data": {
      "text/plain": [
       "id                        0\n",
       "cast                      0\n",
       "crew                      0\n",
       "genres                    0\n",
       "keywords                  0\n",
       "original_language         0\n",
       "original_title            0\n",
       "overview                  3\n",
       "production_companies      0\n",
       "tagline                 844\n",
       "dtype: int64"
      ]
     },
     "execution_count": 1832,
     "metadata": {},
     "output_type": "execute_result"
    }
   ],
   "source": [
    "df2.isnull().sum()"
   ]
  },
  {
   "cell_type": "code",
   "execution_count": 1833,
   "id": "76c99fae-d287-4b71-b045-0a1fb294fac3",
   "metadata": {},
   "outputs": [
    {
     "name": "stdout",
     "output_type": "stream",
     "text": [
      "<class 'pandas.core.frame.DataFrame'>\n",
      "Int64Index: 4803 entries, 0 to 4802\n",
      "Data columns (total 10 columns):\n",
      " #   Column                Non-Null Count  Dtype \n",
      "---  ------                --------------  ----- \n",
      " 0   id                    4803 non-null   int64 \n",
      " 1   cast                  4803 non-null   object\n",
      " 2   crew                  4803 non-null   object\n",
      " 3   genres                4803 non-null   object\n",
      " 4   keywords              4803 non-null   object\n",
      " 5   original_language     4803 non-null   object\n",
      " 6   original_title        4803 non-null   object\n",
      " 7   overview              4800 non-null   object\n",
      " 8   production_companies  4803 non-null   object\n",
      " 9   tagline               3959 non-null   object\n",
      "dtypes: int64(1), object(9)\n",
      "memory usage: 412.8+ KB\n"
     ]
    }
   ],
   "source": [
    "df2.info()"
   ]
  },
  {
   "cell_type": "code",
   "execution_count": 1834,
   "id": "93f739f5-6e65-43f8-a562-f2e5f7dc2a8d",
   "metadata": {},
   "outputs": [],
   "source": [
    "df2.drop(columns='production_companies', axis=1, inplace=True)"
   ]
  },
  {
   "cell_type": "code",
   "execution_count": 1835,
   "id": "21150002-9f7d-4b8a-8b73-90fb9210921f",
   "metadata": {},
   "outputs": [
    {
     "data": {
      "text/html": [
       "<div>\n",
       "<style scoped>\n",
       "    .dataframe tbody tr th:only-of-type {\n",
       "        vertical-align: middle;\n",
       "    }\n",
       "\n",
       "    .dataframe tbody tr th {\n",
       "        vertical-align: top;\n",
       "    }\n",
       "\n",
       "    .dataframe thead th {\n",
       "        text-align: right;\n",
       "    }\n",
       "</style>\n",
       "<table border=\"1\" class=\"dataframe\">\n",
       "  <thead>\n",
       "    <tr style=\"text-align: right;\">\n",
       "      <th></th>\n",
       "      <th>id</th>\n",
       "      <th>cast</th>\n",
       "      <th>crew</th>\n",
       "      <th>genres</th>\n",
       "      <th>keywords</th>\n",
       "      <th>original_language</th>\n",
       "      <th>original_title</th>\n",
       "      <th>overview</th>\n",
       "      <th>tagline</th>\n",
       "    </tr>\n",
       "  </thead>\n",
       "  <tbody>\n",
       "    <tr>\n",
       "      <th>0</th>\n",
       "      <td>19995</td>\n",
       "      <td>[{\"cast_id\": 242, \"character\": \"Jake Sully\", \"...</td>\n",
       "      <td>[{\"credit_id\": \"52fe48009251416c750aca23\", \"de...</td>\n",
       "      <td>[{\"id\": 28, \"name\": \"Action\"}, {\"id\": 12, \"nam...</td>\n",
       "      <td>[{\"id\": 1463, \"name\": \"culture clash\"}, {\"id\":...</td>\n",
       "      <td>en</td>\n",
       "      <td>Avatar</td>\n",
       "      <td>In the 22nd century, a paraplegic Marine is di...</td>\n",
       "      <td>Enter the World of Pandora.</td>\n",
       "    </tr>\n",
       "  </tbody>\n",
       "</table>\n",
       "</div>"
      ],
      "text/plain": [
       "      id                                               cast  \\\n",
       "0  19995  [{\"cast_id\": 242, \"character\": \"Jake Sully\", \"...   \n",
       "\n",
       "                                                crew  \\\n",
       "0  [{\"credit_id\": \"52fe48009251416c750aca23\", \"de...   \n",
       "\n",
       "                                              genres  \\\n",
       "0  [{\"id\": 28, \"name\": \"Action\"}, {\"id\": 12, \"nam...   \n",
       "\n",
       "                                            keywords original_language  \\\n",
       "0  [{\"id\": 1463, \"name\": \"culture clash\"}, {\"id\":...                en   \n",
       "\n",
       "  original_title                                           overview  \\\n",
       "0         Avatar  In the 22nd century, a paraplegic Marine is di...   \n",
       "\n",
       "                       tagline  \n",
       "0  Enter the World of Pandora.  "
      ]
     },
     "execution_count": 1835,
     "metadata": {},
     "output_type": "execute_result"
    }
   ],
   "source": [
    "df2.head(1)"
   ]
  },
  {
   "cell_type": "code",
   "execution_count": 1836,
   "id": "1816d0fd-4017-4900-a514-f2571be48a21",
   "metadata": {},
   "outputs": [
    {
     "data": {
      "text/plain": [
       "(4803, 9)"
      ]
     },
     "execution_count": 1836,
     "metadata": {},
     "output_type": "execute_result"
    }
   ],
   "source": [
    "df2.shape"
   ]
  },
  {
   "cell_type": "code",
   "execution_count": 1837,
   "id": "48e36235-cc0e-46d7-9657-271519d05c80",
   "metadata": {},
   "outputs": [],
   "source": [
    "#Dropping null rows"
   ]
  },
  {
   "cell_type": "code",
   "execution_count": 1838,
   "id": "42aba659-e1cb-473f-aed4-d5dedadbf32a",
   "metadata": {},
   "outputs": [
    {
     "data": {
      "text/plain": [
       "id                     0\n",
       "cast                   0\n",
       "crew                   0\n",
       "genres                 0\n",
       "keywords               0\n",
       "original_language      0\n",
       "original_title         0\n",
       "overview               3\n",
       "tagline              844\n",
       "dtype: int64"
      ]
     },
     "execution_count": 1838,
     "metadata": {},
     "output_type": "execute_result"
    }
   ],
   "source": [
    "df2.isnull().sum()"
   ]
  },
  {
   "cell_type": "code",
   "execution_count": 1839,
   "id": "f1443144-6d14-4aa5-8c6b-238669078bc4",
   "metadata": {},
   "outputs": [],
   "source": [
    "df2.drop(columns='tagline', axis=1, inplace=True)"
   ]
  },
  {
   "cell_type": "code",
   "execution_count": 1840,
   "id": "75b7da7f-47d2-4188-92e7-c5db68f0c988",
   "metadata": {},
   "outputs": [],
   "source": [
    "df2.dropna(inplace=True)"
   ]
  },
  {
   "cell_type": "code",
   "execution_count": 1841,
   "id": "7136be84-52eb-463c-9112-e0e9d9f1890f",
   "metadata": {},
   "outputs": [
    {
     "data": {
      "text/html": [
       "<div>\n",
       "<style scoped>\n",
       "    .dataframe tbody tr th:only-of-type {\n",
       "        vertical-align: middle;\n",
       "    }\n",
       "\n",
       "    .dataframe tbody tr th {\n",
       "        vertical-align: top;\n",
       "    }\n",
       "\n",
       "    .dataframe thead th {\n",
       "        text-align: right;\n",
       "    }\n",
       "</style>\n",
       "<table border=\"1\" class=\"dataframe\">\n",
       "  <thead>\n",
       "    <tr style=\"text-align: right;\">\n",
       "      <th></th>\n",
       "      <th>id</th>\n",
       "      <th>cast</th>\n",
       "      <th>crew</th>\n",
       "      <th>genres</th>\n",
       "      <th>keywords</th>\n",
       "      <th>original_language</th>\n",
       "      <th>original_title</th>\n",
       "      <th>overview</th>\n",
       "    </tr>\n",
       "  </thead>\n",
       "  <tbody>\n",
       "    <tr>\n",
       "      <th>0</th>\n",
       "      <td>19995</td>\n",
       "      <td>[{\"cast_id\": 242, \"character\": \"Jake Sully\", \"...</td>\n",
       "      <td>[{\"credit_id\": \"52fe48009251416c750aca23\", \"de...</td>\n",
       "      <td>[{\"id\": 28, \"name\": \"Action\"}, {\"id\": 12, \"nam...</td>\n",
       "      <td>[{\"id\": 1463, \"name\": \"culture clash\"}, {\"id\":...</td>\n",
       "      <td>en</td>\n",
       "      <td>Avatar</td>\n",
       "      <td>In the 22nd century, a paraplegic Marine is di...</td>\n",
       "    </tr>\n",
       "  </tbody>\n",
       "</table>\n",
       "</div>"
      ],
      "text/plain": [
       "      id                                               cast  \\\n",
       "0  19995  [{\"cast_id\": 242, \"character\": \"Jake Sully\", \"...   \n",
       "\n",
       "                                                crew  \\\n",
       "0  [{\"credit_id\": \"52fe48009251416c750aca23\", \"de...   \n",
       "\n",
       "                                              genres  \\\n",
       "0  [{\"id\": 28, \"name\": \"Action\"}, {\"id\": 12, \"nam...   \n",
       "\n",
       "                                            keywords original_language  \\\n",
       "0  [{\"id\": 1463, \"name\": \"culture clash\"}, {\"id\":...                en   \n",
       "\n",
       "  original_title                                           overview  \n",
       "0         Avatar  In the 22nd century, a paraplegic Marine is di...  "
      ]
     },
     "execution_count": 1841,
     "metadata": {},
     "output_type": "execute_result"
    }
   ],
   "source": [
    "df2.head(1)"
   ]
  },
  {
   "cell_type": "code",
   "execution_count": 1842,
   "id": "4077c982-b153-4d17-8079-de84d55e8084",
   "metadata": {},
   "outputs": [
    {
     "data": {
      "text/plain": [
       "id                   0\n",
       "cast                 0\n",
       "crew                 0\n",
       "genres               0\n",
       "keywords             0\n",
       "original_language    0\n",
       "original_title       0\n",
       "overview             0\n",
       "dtype: int64"
      ]
     },
     "execution_count": 1842,
     "metadata": {},
     "output_type": "execute_result"
    }
   ],
   "source": [
    "df2.isnull().sum()"
   ]
  },
  {
   "cell_type": "code",
   "execution_count": 1843,
   "id": "718a5588-a8b9-46f0-8e3a-2466fc60f274",
   "metadata": {},
   "outputs": [],
   "source": [
    "#Preprocessing"
   ]
  },
  {
   "cell_type": "code",
   "execution_count": 1844,
   "id": "993e4d18-6a54-407a-b4b1-36ff7d03f214",
   "metadata": {},
   "outputs": [],
   "source": [
    "##Genre"
   ]
  },
  {
   "cell_type": "code",
   "execution_count": 1845,
   "id": "b3d9f821-b297-4f8e-aa31-7b90ad50683d",
   "metadata": {},
   "outputs": [
    {
     "data": {
      "text/plain": [
       "'[{\"id\": 28, \"name\": \"Action\"}, {\"id\": 12, \"name\": \"Adventure\"}, {\"id\": 14, \"name\": \"Fantasy\"}, {\"id\": 878, \"name\": \"Science Fiction\"}]'"
      ]
     },
     "execution_count": 1845,
     "metadata": {},
     "output_type": "execute_result"
    }
   ],
   "source": [
    "df2.iloc[0, 3]"
   ]
  },
  {
   "cell_type": "code",
   "execution_count": 1846,
   "id": "48befd88-b20b-4766-a1dd-527c580f432b",
   "metadata": {},
   "outputs": [],
   "source": [
    "import ast"
   ]
  },
  {
   "cell_type": "code",
   "execution_count": 1847,
   "id": "6dba82bb-8ef6-4a1c-8829-2a9d1c9dec1b",
   "metadata": {},
   "outputs": [],
   "source": [
    "def fetch_genres(string):\n",
    "    ls = []\n",
    "    for i in  ast.literal_eval(string):\n",
    "        ls.append(i['name'])\n",
    "    return ls"
   ]
  },
  {
   "cell_type": "code",
   "execution_count": 1848,
   "id": "7ecad9cc-e3f2-4dd7-9b46-a6814e937e01",
   "metadata": {},
   "outputs": [],
   "source": [
    "df2['genres'] = df2['genres'].apply(fetch_genres)"
   ]
  },
  {
   "cell_type": "code",
   "execution_count": 1849,
   "id": "c994f9da-4ef6-4016-9ae1-c7b6e51b81af",
   "metadata": {},
   "outputs": [
    {
     "data": {
      "text/html": [
       "<div>\n",
       "<style scoped>\n",
       "    .dataframe tbody tr th:only-of-type {\n",
       "        vertical-align: middle;\n",
       "    }\n",
       "\n",
       "    .dataframe tbody tr th {\n",
       "        vertical-align: top;\n",
       "    }\n",
       "\n",
       "    .dataframe thead th {\n",
       "        text-align: right;\n",
       "    }\n",
       "</style>\n",
       "<table border=\"1\" class=\"dataframe\">\n",
       "  <thead>\n",
       "    <tr style=\"text-align: right;\">\n",
       "      <th></th>\n",
       "      <th>id</th>\n",
       "      <th>cast</th>\n",
       "      <th>crew</th>\n",
       "      <th>genres</th>\n",
       "      <th>keywords</th>\n",
       "      <th>original_language</th>\n",
       "      <th>original_title</th>\n",
       "      <th>overview</th>\n",
       "    </tr>\n",
       "  </thead>\n",
       "  <tbody>\n",
       "    <tr>\n",
       "      <th>0</th>\n",
       "      <td>19995</td>\n",
       "      <td>[{\"cast_id\": 242, \"character\": \"Jake Sully\", \"...</td>\n",
       "      <td>[{\"credit_id\": \"52fe48009251416c750aca23\", \"de...</td>\n",
       "      <td>[Action, Adventure, Fantasy, Science Fiction]</td>\n",
       "      <td>[{\"id\": 1463, \"name\": \"culture clash\"}, {\"id\":...</td>\n",
       "      <td>en</td>\n",
       "      <td>Avatar</td>\n",
       "      <td>In the 22nd century, a paraplegic Marine is di...</td>\n",
       "    </tr>\n",
       "  </tbody>\n",
       "</table>\n",
       "</div>"
      ],
      "text/plain": [
       "      id                                               cast  \\\n",
       "0  19995  [{\"cast_id\": 242, \"character\": \"Jake Sully\", \"...   \n",
       "\n",
       "                                                crew  \\\n",
       "0  [{\"credit_id\": \"52fe48009251416c750aca23\", \"de...   \n",
       "\n",
       "                                          genres  \\\n",
       "0  [Action, Adventure, Fantasy, Science Fiction]   \n",
       "\n",
       "                                            keywords original_language  \\\n",
       "0  [{\"id\": 1463, \"name\": \"culture clash\"}, {\"id\":...                en   \n",
       "\n",
       "  original_title                                           overview  \n",
       "0         Avatar  In the 22nd century, a paraplegic Marine is di...  "
      ]
     },
     "execution_count": 1849,
     "metadata": {},
     "output_type": "execute_result"
    }
   ],
   "source": [
    "df2.head(1)"
   ]
  },
  {
   "cell_type": "code",
   "execution_count": 1850,
   "id": "242ecb8c-0994-4f60-9dc6-97e2eb7e3641",
   "metadata": {},
   "outputs": [
    {
     "data": {
      "text/plain": [
       "['Action', 'Crime', 'Drama', 'Thriller']"
      ]
     },
     "execution_count": 1850,
     "metadata": {},
     "output_type": "execute_result"
    }
   ],
   "source": [
    "df2.iloc[3, 3]"
   ]
  },
  {
   "cell_type": "code",
   "execution_count": 1851,
   "id": "7fef8644-754d-4773-97df-a23637177e61",
   "metadata": {},
   "outputs": [],
   "source": [
    "##Crew"
   ]
  },
  {
   "cell_type": "code",
   "execution_count": 1852,
   "id": "0f0aa61c-f175-4136-8001-0bb1d65afb3e",
   "metadata": {},
   "outputs": [],
   "source": [
    "def fetch_dir_and_prod(string):\n",
    "    ls = []\n",
    "    for i in  ast.literal_eval(string):\n",
    "        if i['job']=='Director':\n",
    "            ls.append(i['name'])\n",
    "            break\n",
    "    return ls"
   ]
  },
  {
   "cell_type": "code",
   "execution_count": 1853,
   "id": "ade769cc-d364-4b8f-ad00-362fe2df75ac",
   "metadata": {},
   "outputs": [
    {
     "data": {
      "text/html": [
       "<div>\n",
       "<style scoped>\n",
       "    .dataframe tbody tr th:only-of-type {\n",
       "        vertical-align: middle;\n",
       "    }\n",
       "\n",
       "    .dataframe tbody tr th {\n",
       "        vertical-align: top;\n",
       "    }\n",
       "\n",
       "    .dataframe thead th {\n",
       "        text-align: right;\n",
       "    }\n",
       "</style>\n",
       "<table border=\"1\" class=\"dataframe\">\n",
       "  <thead>\n",
       "    <tr style=\"text-align: right;\">\n",
       "      <th></th>\n",
       "      <th>id</th>\n",
       "      <th>cast</th>\n",
       "      <th>crew</th>\n",
       "      <th>genres</th>\n",
       "      <th>keywords</th>\n",
       "      <th>original_language</th>\n",
       "      <th>original_title</th>\n",
       "      <th>overview</th>\n",
       "    </tr>\n",
       "  </thead>\n",
       "  <tbody>\n",
       "    <tr>\n",
       "      <th>0</th>\n",
       "      <td>19995</td>\n",
       "      <td>[{\"cast_id\": 242, \"character\": \"Jake Sully\", \"...</td>\n",
       "      <td>[{\"credit_id\": \"52fe48009251416c750aca23\", \"de...</td>\n",
       "      <td>[Action, Adventure, Fantasy, Science Fiction]</td>\n",
       "      <td>[{\"id\": 1463, \"name\": \"culture clash\"}, {\"id\":...</td>\n",
       "      <td>en</td>\n",
       "      <td>Avatar</td>\n",
       "      <td>In the 22nd century, a paraplegic Marine is di...</td>\n",
       "    </tr>\n",
       "  </tbody>\n",
       "</table>\n",
       "</div>"
      ],
      "text/plain": [
       "      id                                               cast  \\\n",
       "0  19995  [{\"cast_id\": 242, \"character\": \"Jake Sully\", \"...   \n",
       "\n",
       "                                                crew  \\\n",
       "0  [{\"credit_id\": \"52fe48009251416c750aca23\", \"de...   \n",
       "\n",
       "                                          genres  \\\n",
       "0  [Action, Adventure, Fantasy, Science Fiction]   \n",
       "\n",
       "                                            keywords original_language  \\\n",
       "0  [{\"id\": 1463, \"name\": \"culture clash\"}, {\"id\":...                en   \n",
       "\n",
       "  original_title                                           overview  \n",
       "0         Avatar  In the 22nd century, a paraplegic Marine is di...  "
      ]
     },
     "execution_count": 1853,
     "metadata": {},
     "output_type": "execute_result"
    }
   ],
   "source": [
    "df2.head(1)"
   ]
  },
  {
   "cell_type": "code",
   "execution_count": 1854,
   "id": "e8f69306-7651-4031-877d-8164c8d5a967",
   "metadata": {},
   "outputs": [],
   "source": [
    "msg = \" \"\n",
    "msg = df2.loc[4].crew"
   ]
  },
  {
   "cell_type": "code",
   "execution_count": 1855,
   "id": "f160375b-ad7d-4ed6-8c65-c1f29aee5706",
   "metadata": {},
   "outputs": [
    {
     "data": {
      "text/plain": [
       "'[{\"credit_id\": \"52fe479ac3a36847f813eaa3\", \"department\": \"Writing\", \"gender\": 2, \"id\": 7, \"job\": \"Screenplay\", \"name\": \"Andrew Stanton\"}, {\"credit_id\": \"52fe479ac3a36847f813ea65\", \"department\": \"Directing\", \"gender\": 2, \"id\": 7, \"job\": \"Director\", \"name\": \"Andrew Stanton\"}, {\"credit_id\": \"58c69e819251411d30017673\", \"department\": \"Crew\", \"gender\": 2, \"id\": 7879, \"job\": \"Thanks\", \"name\": \"John Lasseter\"}, {\"credit_id\": \"52fe479ac3a36847f813eac5\", \"department\": \"Production\", \"gender\": 2, \"id\": 490, \"job\": \"Producer\", \"name\": \"Colin Wilson\"}, {\"credit_id\": \"58c68f2b9251411d30016cf2\", \"department\": \"Production\", \"gender\": 2, \"id\": 2073, \"job\": \"Casting\", \"name\": \"Gail Stevens\"}, {\"credit_id\": \"58c68ef19251411d62016ec3\", \"department\": \"Sound\", \"gender\": 2, \"id\": 3996, \"job\": \"Sound Re-Recording Mixer\", \"name\": \"Tom Johnson\"}, {\"credit_id\": \"52fe479ac3a36847f813ead7\", \"department\": \"Editing\", \"gender\": 2, \"id\": 6958, \"job\": \"Editor\", \"name\": \"Eric Zumbrunnen\"}, {\"credit_id\": \"58c69a9ec3a36840b801738e\", \"department\": \"Editing\", \"gender\": 0, \"id\": 8158, \"job\": \"Dialogue Editor\", \"name\": \"Michael Silvers\"}, {\"credit_id\": \"58c68f1ec3a368413b015877\", \"department\": \"Sound\", \"gender\": 0, \"id\": 8166, \"job\": \"Sound Re-Recording Mixer\", \"name\": \"Juan Peralta\"}, {\"credit_id\": \"58c69340c3a36841200154c9\", \"department\": \"Costume & Make-Up\", \"gender\": 0, \"id\": 8412, \"job\": \"Key Makeup Artist\", \"name\": \"Paul Gooch\"}, {\"credit_id\": \"58c69cc0c3a368413001574a\", \"department\": \"Art\", \"gender\": 0, \"id\": 12039, \"job\": \"Set Decoration\", \"name\": \"Paki Smith\"}, {\"credit_id\": \"58c69e9e9251411d11017c02\", \"department\": \"Crew\", \"gender\": 0, \"id\": 12895, \"job\": \"Thanks\", \"name\": \"Ed Catmull\"}, {\"credit_id\": \"58c689079251411d19017350\", \"department\": \"Crew\", \"gender\": 2, \"id\": 12897, \"job\": \"In Memory Of\", \"name\": \"Steve Jobs\"}, {\"credit_id\": \"56abe29d9251417e22003953\", \"department\": \"Costume & Make-Up\", \"gender\": 2, \"id\": 15017, \"job\": \"Makeup Designer\", \"name\": \"Bill Corso\"}, {\"credit_id\": \"58c691fc9251411d30016e75\", \"department\": \"Art\", \"gender\": 2, \"id\": 14762, \"job\": \"Art Direction\", \"name\": \"Robert Woodruff\"}, {\"credit_id\": \"52fe479ac3a36847f813eae3\", \"department\": \"Art\", \"gender\": 2, \"id\": 15327, \"job\": \"Production Design\", \"name\": \"Nathan Crowley\"}, {\"credit_id\": \"58c6888bc3a36840f6014f95\", \"department\": \"Sound\", \"gender\": 2, \"id\": 15347, \"job\": \"Music\", \"name\": \"Michael Giacchino\"}, {\"credit_id\": \"52fe479ac3a36847f813ead1\", \"department\": \"Camera\", \"gender\": 0, \"id\": 15348, \"job\": \"Director of Photography\", \"name\": \"Daniel Mindel\"}, {\"credit_id\": \"58c69adcc3a36840f6015b94\", \"department\": \"Sound\", \"gender\": 2, \"id\": 15354, \"job\": \"Music Editor\", \"name\": \"Stephen M. Davis\"}, {\"credit_id\": \"58c69227c3a36840f60155d7\", \"department\": \"Art\", \"gender\": 2, \"id\": 34513, \"job\": \"Art Direction\", \"name\": \"John King\"}, {\"credit_id\": \"52fe479ac3a36847f813eafb\", \"department\": \"Costume & Make-Up\", \"gender\": 0, \"id\": 17675, \"job\": \"Costume Design\", \"name\": \"Mayes C. Rubeo\"}, {\"credit_id\": \"570b939092514111f20029c9\", \"department\": \"Art\", \"gender\": 0, \"id\": 17677, \"job\": \"Supervising Art Director\", \"name\": \"Naaman Marshall\"}, {\"credit_id\": \"58c69203c3a36841140150c8\", \"department\": \"Art\", \"gender\": 0, \"id\": 18925, \"job\": \"Art Direction\", \"name\": \"Scott Zuber\"}, {\"credit_id\": \"58c6905bc3a3684128014f17\", \"department\": \"Art\", \"gender\": 2, \"id\": 23454, \"job\": \"Art Direction\", \"name\": \"Phil Harvey\"}, {\"credit_id\": \"58c69aedc3a36841140156e9\", \"department\": \"Sound\", \"gender\": 0, \"id\": 28241, \"job\": \"Orchestrator\", \"name\": \"Tim Simonec\"}, {\"credit_id\": \"58c69811c3a368410c0160b1\", \"department\": \"Costume & Make-Up\", \"gender\": 0, \"id\": 29233, \"job\": \"Makeup Artist\", \"name\": \"Veronica McAleer\"}, {\"credit_id\": \"52fe479ac3a36847f813eb07\", \"department\": \"Writing\", \"gender\": 2, \"id\": 15776, \"job\": \"Original Story\", \"name\": \"Edgar Rice Burroughs\"}, {\"credit_id\": \"52fe479ac3a36847f813eadd\", \"department\": \"Production\", \"gender\": 1, \"id\": 51557, \"job\": \"Casting\", \"name\": \"Marcia Ross\"}, {\"credit_id\": \"58c69f12c3a36841140159a5\", \"department\": \"Crew\", \"gender\": 2, \"id\": 39624, \"job\": \"Thanks\", \"name\": \"Peter Gabriel\"}, {\"credit_id\": \"58c6937f9251411d30016f5f\", \"department\": \"Costume & Make-Up\", \"gender\": 0, \"id\": 61996, \"job\": \"Key Makeup Artist\", \"name\": \"Christien Tinsley\"}, {\"credit_id\": \"58c69acb9251411d19017f73\", \"department\": \"Production\", \"gender\": 0, \"id\": 64449, \"job\": \"ADR Voice Casting\", \"name\": \"Holly Dorff\"}, {\"credit_id\": \"52fe479ac3a36847f813eabf\", \"department\": \"Production\", \"gender\": 0, \"id\": 72752, \"job\": \"Producer\", \"name\": \"Jim Morris\"}, {\"credit_id\": \"52fe479ac3a36847f813eab9\", \"department\": \"Production\", \"gender\": 0, \"id\": 72753, \"job\": \"Producer\", \"name\": \"Lindsey Collins\"}, {\"credit_id\": \"52fe479ac3a36847f813eaaf\", \"department\": \"Writing\", \"gender\": 2, \"id\": 67758, \"job\": \"Screenplay\", \"name\": \"Michael Chabon\"}, {\"credit_id\": \"58c68a499251411d55016dd5\", \"department\": \"Production\", \"gender\": 0, \"id\": 91055, \"job\": \"Unit Production Manager\", \"name\": \"Jan Foster\"}, {\"credit_id\": \"58c699509251411d550177c7\", \"department\": \"Camera\", \"gender\": 0, \"id\": 91912, \"job\": \"Camera Operator\", \"name\": \"John Skotchdopole\"}, {\"credit_id\": \"58c6995cc3a368412001591e\", \"department\": \"Sound\", \"gender\": 2, \"id\": 105780, \"job\": \"Sound Mixer\", \"name\": \"Chris Munro\"}, {\"credit_id\": \"58c6884e9251411d15016de7\", \"department\": \"Visual Effects\", \"gender\": 0, \"id\": 122274, \"job\": \"Visual Effects Supervisor\", \"name\": \"Peter Chiang\"}, {\"credit_id\": \"52fe479ac3a36847f813eaa9\", \"department\": \"Writing\", \"gender\": 2, \"id\": 126638, \"job\": \"Screenplay\", \"name\": \"Mark Andrews\"}, {\"credit_id\": \"58c68ed79251411d62016eb2\", \"department\": \"Sound\", \"gender\": 0, \"id\": 138617, \"job\": \"Supervising Sound Editor\", \"name\": \"Jonathan Null\"}, {\"credit_id\": \"58c69c9a9251411d6201776e\", \"department\": \"Production\", \"gender\": 2, \"id\": 238120, \"job\": \"Casting Associate\", \"name\": \"Colin Jones\"}, {\"credit_id\": \"52fe479ac3a36847f813eb13\", \"department\": \"Costume & Make-Up\", \"gender\": 1, \"id\": 406204, \"job\": \"Makeup Department Head\", \"name\": \"Ve Neill\"}, {\"credit_id\": \"58c69b249251411d0d018598\", \"department\": \"Production\", \"gender\": 1, \"id\": 528783, \"job\": \"Casting Associate\", \"name\": \"Brittainy Roberts\"}, {\"credit_id\": \"58c698c9c3a36840b8017245\", \"department\": \"Costume & Make-Up\", \"gender\": 0, \"id\": 967148, \"job\": \"Assistant Costume Designer\", \"name\": \"Jeremy Turner\"}, {\"credit_id\": \"58c691f5c3a36841200153f6\", \"department\": \"Art\", \"gender\": 2, \"id\": 969743, \"job\": \"Art Direction\", \"name\": \"Dean Wolcott\"}, {\"credit_id\": \"58c69032c3a36841200152fe\", \"department\": \"Art\", \"gender\": 2, \"id\": 986687, \"job\": \"Art Direction\", \"name\": \"Mark Harris\"}, {\"credit_id\": \"570b9382c3a368779600816a\", \"department\": \"Art\", \"gender\": 0, \"id\": 1034754, \"job\": \"Supervising Art Director\", \"name\": \"James Hambidge\"}, {\"credit_id\": \"52fe479ac3a36847f813eb01\", \"department\": \"Crew\", \"gender\": 0, \"id\": 1034755, \"job\": \"Post Production Supervisor\", \"name\": \"Lori Korngiebel\"}, {\"credit_id\": \"58c692ffc3a3684114015167\", \"department\": \"Art\", \"gender\": 0, \"id\": 1055222, \"job\": \"Storyboard Designer\", \"name\": \"David Krentz\"}, {\"credit_id\": \"58c68e719251411d19017745\", \"department\": \"Visual Effects\", \"gender\": 0, \"id\": 1081073, \"job\": \"Special Effects Supervisor\", \"name\": \"Chris Corbould\"}, {\"credit_id\": \"58c698bec3a368411401553a\", \"department\": \"Costume & Make-Up\", \"gender\": 1, \"id\": 1121742, \"job\": \"Assistant Costume Designer\", \"name\": \"Colleen Kelsall\"}, {\"credit_id\": \"58c68e2e9251411d47017e8a\", \"department\": \"Production\", \"gender\": 0, \"id\": 1123360, \"job\": \"Associate Producer\", \"name\": \"Bob Roath\"}, {\"credit_id\": \"58c692629251411d620170a7\", \"department\": \"Art\", \"gender\": 0, \"id\": 1171098, \"job\": \"Set Designer\", \"name\": \"Darrell L. Wight\"}, {\"credit_id\": \"58c692f9c3a36840b8016e22\", \"department\": \"Art\", \"gender\": 0, \"id\": 1218986, \"job\": \"Storyboard Designer\", \"name\": \"Bryan Andrews\"}, {\"credit_id\": \"58c6941f9251411d110174ca\", \"department\": \"Costume & Make-Up\", \"gender\": 0, \"id\": 1316599, \"job\": \"Makeup Artist\", \"name\": \"Dennis Liddiard\"}, {\"credit_id\": \"58c6943a9251411d0d01804a\", \"department\": \"Costume & Make-Up\", \"gender\": 0, \"id\": 1319490, \"job\": \"Makeup Artist\", \"name\": \"Kevin Haney\"}, {\"credit_id\": \"58c69244c3a368413b015a23\", \"department\": \"Art\", \"gender\": 0, \"id\": 1334782, \"job\": \"Assistant Art Director\", \"name\": \"Josh Lusby\"}, {\"credit_id\": \"58c69ccec3a36841280156f6\", \"department\": \"Art\", \"gender\": 0, \"id\": 1335553, \"job\": \"Property Master\", \"name\": \"Jamie Wilkinson\"}, {\"credit_id\": \"58c69f219251411d190182a8\", \"department\": \"Crew\", \"gender\": 0, \"id\": 1339450, \"job\": \"Thanks\", \"name\": \"Roger Guyett\"}, {\"credit_id\": \"58c69dc79251411d1901819d\", \"department\": \"Crew\", \"gender\": 0, \"id\": 1357070, \"job\": \"Transportation Coordinator\", \"name\": \"Denny Caira\"}, {\"credit_id\": \"58c688709251411d3001684b\", \"department\": \"Visual Effects\", \"gender\": 0, \"id\": 1367497, \"job\": \"Visual Effects Supervisor\", \"name\": \"Sue Rowe\"}, {\"credit_id\": \"58c69ca79251411d11017a77\", \"department\": \"Production\", \"gender\": 0, \"id\": 1374469, \"job\": \"Casting Assistant\", \"name\": \"Toby Spigel\"}, {\"credit_id\": \"58c69aa59251411d11017919\", \"department\": \"Editing\", \"gender\": 0, \"id\": 1376901, \"job\": \"Dialogue Editor\", \"name\": \"Marshall Winn\"}, {\"credit_id\": \"58c68ee9c3a3684128014e36\", \"department\": \"Sound\", \"gender\": 0, \"id\": 1378828, \"job\": \"Sound Re-Recording Mixer\", \"name\": \"Michael Semanick\"}, {\"credit_id\": \"58c692389251411d30016ea2\", \"department\": \"Art\", \"gender\": 0, \"id\": 1388850, \"job\": \"Assistant Art Director\", \"name\": \"Peter Dorme\"}, {\"credit_id\": \"58c69cf49251411d4701890b\", \"department\": \"Lighting\", \"gender\": 0, \"id\": 1390367, \"job\": \"Gaffer\", \"name\": \"Perry Evans\"}, {\"credit_id\": \"58c699f4c3a368413b015f45\", \"department\": \"Directing\", \"gender\": 0, \"id\": 1390388, \"job\": \"Script Supervisor\", \"name\": \"Annie Penn\"}, {\"credit_id\": \"58c69a7ac3a368410c016254\", \"department\": \"Sound\", \"gender\": 0, \"id\": 1394129, \"job\": \"Sound Designer\", \"name\": \"Tim Nielsen\"}, {\"credit_id\": \"58c68edec3a3684114014f16\", \"department\": \"Sound\", \"gender\": 0, \"id\": 1394129, \"job\": \"Supervising Sound Editor\", \"name\": \"Tim Nielsen\"}, {\"credit_id\": \"58c6928f9251411d55017337\", \"department\": \"Art\", \"gender\": 0, \"id\": 1395430, \"job\": \"Art Department Coordinator\", \"name\": \"Jenne Lee\"}, {\"credit_id\": \"58c6925b9251411d150174df\", \"department\": \"Art\", \"gender\": 0, \"id\": 1395435, \"job\": \"Set Designer\", \"name\": \"Theodore Sharps\"}, {\"credit_id\": \"58c691c4c3a36840f6015583\", \"department\": \"Art\", \"gender\": 0, \"id\": 1397837, \"job\": \"Art Direction\", \"name\": \"Joseph Hodges\"}, {\"credit_id\": \"58c699489251411d300172de\", \"department\": \"Camera\", \"gender\": 0, \"id\": 1399467, \"job\": \"Camera Operator\", \"name\": \"Philippe Carr-Forster\"}, {\"credit_id\": \"58c69cfdc3a368413b016165\", \"department\": \"Lighting\", \"gender\": 0, \"id\": 1399475, \"job\": \"Gaffer\", \"name\": \"Christopher Prampin\"}, {\"credit_id\": \"58c69920c3a36841300154e2\", \"department\": \"Camera\", \"gender\": 0, \"id\": 1400535, \"job\": \"Camera Operator\", \"name\": \"Colin Anderson\"}, {\"credit_id\": \"58c699259251411d620174e9\", \"department\": \"Camera\", \"gender\": 0, \"id\": 1400535, \"job\": \"Steadicam Operator\", \"name\": \"Colin Anderson\"}, {\"credit_id\": \"58c699ebc3a368411401561c\", \"department\": \"Production\", \"gender\": 0, \"id\": 1401784, \"job\": \"Production Supervisor\", \"name\": \"Jennifer Teves\"}, {\"credit_id\": \"58c6935ec3a368413b015ae4\", \"department\": \"Costume & Make-Up\", \"gender\": 0, \"id\": 1403388, \"job\": \"Key Makeup Artist\", \"name\": \"Kim Ayers\"}, {\"credit_id\": \"58c68e49c3a368413b0157eb\", \"department\": \"Visual Effects\", \"gender\": 0, \"id\": 1408379, \"job\": \"Visual Effects Producer\", \"name\": \"Daniel Barrow\"}, {\"credit_id\": \"58c6936fc3a368413b015aed\", \"department\": \"Costume & Make-Up\", \"gender\": 0, \"id\": 1409757, \"job\": \"Key Makeup Artist\", \"name\": \"Debbi Salmon\"}, {\"credit_id\": \"58c69339c3a36841200154c4\", \"department\": \"Costume & Make-Up\", \"gender\": 0, \"id\": 1411320, \"job\": \"Key Makeup Artist\", \"name\": \"Paula Price\"}, {\"credit_id\": \"58c69dba9251411d0d018767\", \"department\": \"Camera\", \"gender\": 0, \"id\": 1412205, \"job\": \"Still Photographer\", \"name\": \"Frank Connor\"}, {\"credit_id\": \"58c69a89c3a3684114015691\", \"department\": \"Sound\", \"gender\": 0, \"id\": 1414177, \"job\": \"Sound Effects Editor\", \"name\": \"J.R. Grubbs\"}, {\"credit_id\": \"58c69452c3a36840f6015741\", \"department\": \"Costume & Make-Up\", \"gender\": 0, \"id\": 1414539, \"job\": \"Makeup Artist\", \"name\": \"Deborah Rutherford\"}, {\"credit_id\": \"58c6946c9251411d15017617\", \"department\": \"Costume & Make-Up\", \"gender\": 0, \"id\": 1414540, \"job\": \"Makeup Artist\", \"name\": \"Don Rutherford\"}, {\"credit_id\": \"58c69a929251411d11017907\", \"department\": \"Sound\", \"gender\": 0, \"id\": 1415464, \"job\": \"Sound Effects Editor\", \"name\": \"Malcolm Fife\"}, {\"credit_id\": \"58c6923e9251411d11017382\", \"department\": \"Art\", \"gender\": 0, \"id\": 1417396, \"job\": \"Assistant Art Director\", \"name\": \"Toby Britton\"}, {\"credit_id\": \"58c69866c3a368413001545d\", \"department\": \"Costume & Make-Up\", \"gender\": 0, \"id\": 1418124, \"job\": \"Hair Designer\", \"name\": \"Kevin Alexander\"}, {\"credit_id\": \"58c693779251411d470181e4\", \"department\": \"Costume & Make-Up\", \"gender\": 0, \"id\": 1421936, \"job\": \"Key Makeup Artist\", \"name\": \"Kristie Matthiae\"}, {\"credit_id\": \"58c694a99251411d15017646\", \"department\": \"Costume & Make-Up\", \"gender\": 0, \"id\": 1424151, \"job\": \"Makeup Artist\", \"name\": \"Gerald Quist\"}, {\"credit_id\": \"58c693f39251411d110174a9\", \"department\": \"Costume & Make-Up\", \"gender\": 0, \"id\": 1425411, \"job\": \"Makeup Artist\", \"name\": \"Nuria Mbomio\"}, {\"credit_id\": \"58c68866c3a368413b015367\", \"department\": \"Visual Effects\", \"gender\": 0, \"id\": 1428901, \"job\": \"Animation Supervisor\", \"name\": \"Eamonn Butler\"}, {\"credit_id\": \"58c68ec89251411d11017191\", \"department\": \"Crew\", \"gender\": 0, \"id\": 1428905, \"job\": \"Visual Effects Editor\", \"name\": \"Laura Jennings\"}, {\"credit_id\": \"58c693919251411d0d017fde\", \"department\": \"Costume & Make-Up\", \"gender\": 0, \"id\": 1428911, \"job\": \"Makeup Artist\", \"name\": \"Ailbhe Lemass\"}, {\"credit_id\": \"58c6992f9251411d19017e49\", \"department\": \"Camera\", \"gender\": 0, \"id\": 1430188, \"job\": \"Camera Operator\", \"name\": \"Simon Finney\"}, {\"credit_id\": \"58c6948b9251411d15017628\", \"department\": \"Costume & Make-Up\", \"gender\": 0, \"id\": 1441176, \"job\": \"Makeup Artist\", \"name\": \"Eryn Krueger Mekash\"}, {\"credit_id\": \"58c692ddc3a368413b015a8d\", \"department\": \"Art\", \"gender\": 0, \"id\": 1447571, \"job\": \"Art Department Assistant\", \"name\": \"Travis Witkowski\"}, {\"credit_id\": \"58c694809251411d15017622\", \"department\": \"Costume & Make-Up\", \"gender\": 0, \"id\": 1458894, \"job\": \"Makeup Artist\", \"name\": \"Mike Mekash\"}, {\"credit_id\": \"58c6940e9251411d19017aad\", \"department\": \"Costume & Make-Up\", \"gender\": 0, \"id\": 1530220, \"job\": \"Makeup Artist\", \"name\": \"Kirstin Chalmers\"}, {\"credit_id\": \"58c698e89251411d5501777a\", \"department\": \"Costume & Make-Up\", \"gender\": 0, \"id\": 1532325, \"job\": \"Key Costumer\", \"name\": \"Kacie Seamons\"}, {\"credit_id\": \"58c693b39251411d30016f78\", \"department\": \"Costume & Make-Up\", \"gender\": 0, \"id\": 1536539, \"job\": \"Makeup Artist\", \"name\": \"Deborah Taylor\"}, {\"credit_id\": \"58c68e84c3a36840f60153a1\", \"department\": \"Crew\", \"gender\": 0, \"id\": 1546844, \"job\": \"Visual Effects Art Director\", \"name\": \"Ryan Church\"}, {\"credit_id\": \"58c693659251411d550173be\", \"department\": \"Costume & Make-Up\", \"gender\": 0, \"id\": 1549655, \"job\": \"Key Makeup Artist\", \"name\": \"Camille Henderson\"}, {\"credit_id\": \"58c68fd29251411d30016d3f\", \"department\": \"Crew\", \"gender\": 0, \"id\": 1550851, \"job\": \"Stunt Coordinator\", \"name\": \"Tom Struthers\"}, {\"credit_id\": \"58c692bfc3a36840b8016df9\", \"department\": \"Art\", \"gender\": 0, \"id\": 1551810, \"job\": \"Art Department Assistant\", \"name\": \"Liam Georgensen\"}, {\"credit_id\": \"58c692869251411d30016ed9\", \"department\": \"Art\", \"gender\": 0, \"id\": 1561994, \"job\": \"Art Department Coordinator\", \"name\": \"Lavinia Waters\"}, {\"credit_id\": \"58c697f89251411d30017205\", \"department\": \"Costume & Make-Up\", \"gender\": 0, \"id\": 1613336, \"job\": \"Makeup Artist\", \"name\": \"Greg T. Moon\"}, {\"credit_id\": \"58c69a07c3a36841200159ae\", \"department\": \"Production\", \"gender\": 0, \"id\": 1640350, \"job\": \"Production Coordinator\", \"name\": \"Richard Daldry\"}, {\"credit_id\": \"58c69979c3a368413b015eef\", \"department\": \"Sound\", \"gender\": 2, \"id\": 1658269, \"job\": \"Boom Operator\", \"name\": \"Stephen Finn\"}, {\"credit_id\": \"58c692e4c3a36840f601564a\", \"department\": \"Art\", \"gender\": 0, \"id\": 1661321, \"job\": \"Art Department Assistant\", \"name\": \"Tom Castronovo\"}, {\"credit_id\": \"58c69dadc3a36841280157a4\", \"department\": \"Crew\", \"gender\": 0, \"id\": 1686002, \"job\": \"Unit Publicist\", \"name\": \"Katherine McCormack\"}, {\"credit_id\": \"58c689439251411d15016ed6\", \"department\": \"Production\", \"gender\": 0, \"id\": 1697623, \"job\": \"Unit Production Manager\", \"name\": \"Steve Harding\"}, {\"credit_id\": \"58c68ebdc3a3684128014e11\", \"department\": \"Editing\", \"gender\": 0, \"id\": 1710258, \"job\": \"Additional Editing\", \"name\": \"Erik Jessen\"}, {\"credit_id\": \"58c689739251411d47017af1\", \"department\": \"Directing\", \"gender\": 0, \"id\": 1750922, \"job\": \"First Assistant Director\", \"name\": \"Tommy Gormley\"}, {\"credit_id\": \"58c692c7c3a36841300150c2\", \"department\": \"Art\", \"gender\": 0, \"id\": 1761112, \"job\": \"Art Department Assistant\", \"name\": \"Sarah Ginn\"}, {\"credit_id\": \"58c689aa9251411d55016d59\", \"department\": \"Directing\", \"gender\": 0, \"id\": 1775681, \"job\": \"Second Assistant Director\", \"name\": \"Ben Dixon\"}, {\"credit_id\": \"58c68a859251411d1901746d\", \"department\": \"Directing\", \"gender\": 2, \"id\": 1775682, \"job\": \"Second Assistant Director\", \"name\": \"Andrew M. Ward\"}, {\"credit_id\": \"58c692a4c3a368413b015a64\", \"department\": \"Art\", \"gender\": 0, \"id\": 1775687, \"job\": \"Art Department Coordinator\", \"name\": \"Stacey Newton\"}, {\"credit_id\": \"58c692b6c3a368412001546d\", \"department\": \"Art\", \"gender\": 0, \"id\": 1775688, \"job\": \"Art Department Assistant\", \"name\": \"Rachel Corbould\"}, {\"credit_id\": \"58c692d4c3a368413b015a88\", \"department\": \"Art\", \"gender\": 0, \"id\": 1775689, \"job\": \"Art Department Assistant\", \"name\": \"Jake Hall\"}, {\"credit_id\": \"58c693589251411d0d017fb3\", \"department\": \"Costume & Make-Up\", \"gender\": 0, \"id\": 1775690, \"job\": \"Key Makeup Artist\", \"name\": \"Gemma Richards\"}, {\"credit_id\": \"58c693fe9251411d55017423\", \"department\": \"Costume & Make-Up\", \"gender\": 0, \"id\": 1775691, \"job\": \"Makeup Artist\", \"name\": \"Sara Riesel\"}, {\"credit_id\": \"58c69407c3a368413b015b42\", \"department\": \"Costume & Make-Up\", \"gender\": 0, \"id\": 1775692, \"job\": \"Makeup Artist\", \"name\": \"Paul Boyce\"}, {\"credit_id\": \"58c694189251411d19017ab6\", \"department\": \"Costume & Make-Up\", \"gender\": 0, \"id\": 1775693, \"job\": \"Makeup Artist\", \"name\": \"Mandy Gold\"}, {\"credit_id\": \"58c698989251411d0d01836e\", \"department\": \"Costume & Make-Up\", \"gender\": 0, \"id\": 1775701, \"job\": \"Hairstylist\", \"name\": \"Candice Banks\"}, {\"credit_id\": \"58c698a59251411d19017de5\", \"department\": \"Costume & Make-Up\", \"gender\": 0, \"id\": 1775702, \"job\": \"Hairstylist\", \"name\": \"Gary Machin\"}, {\"credit_id\": \"58c69994c3a36840b80172dd\", \"department\": \"Sound\", \"gender\": 0, \"id\": 1775704, \"job\": \"Boom Operator\", \"name\": \"Noel Espinosa\"}, {\"credit_id\": \"58c69a309251411d110178c9\", \"department\": \"Production\", \"gender\": 0, \"id\": 1775707, \"job\": \"Production Coordinator\", \"name\": \"Meredith Humbracht\"}, {\"credit_id\": \"58c69d39c3a368410c0163fd\", \"department\": \"Camera\", \"gender\": 0, \"id\": 1775718, \"job\": \"Key Grip\", \"name\": \"Gary Hymns\"}, {\"credit_id\": \"58c69da6c3a368413b01620f\", \"department\": \"Camera\", \"gender\": 0, \"id\": 1775721, \"job\": \"Key Grip\", \"name\": \"Thomas Gibson\"}, {\"credit_id\": \"58c69ec49251411d55017be6\", \"department\": \"Crew\", \"gender\": 0, \"id\": 1775723, \"job\": \"Thanks\", \"name\": \"Danton Burroughs\"}, {\"credit_id\": \"591264bac3a368646b04fda5\", \"department\": \"Crew\", \"gender\": 1, \"id\": 1813644, \"job\": \"Stunts\", \"name\": \"Karin Silvestri\"}]'"
      ]
     },
     "execution_count": 1855,
     "metadata": {},
     "output_type": "execute_result"
    }
   ],
   "source": [
    "msg"
   ]
  },
  {
   "cell_type": "code",
   "execution_count": 1856,
   "id": "c56cefe5-93cb-4cc6-855d-9022ccdbd297",
   "metadata": {},
   "outputs": [],
   "source": [
    "import ast\n",
    "msg = ast.literal_eval(msg)"
   ]
  },
  {
   "cell_type": "code",
   "execution_count": 1857,
   "id": "7090f1bc-07bd-4218-bb4f-51b52f3e5012",
   "metadata": {},
   "outputs": [
    {
     "name": "stdout",
     "output_type": "stream",
     "text": [
      "Andrew Stanton\n"
     ]
    }
   ],
   "source": [
    "for i in msg:\n",
    "    if i['job']=='Director':\n",
    "        print(i['name'])\n",
    "        break"
   ]
  },
  {
   "cell_type": "code",
   "execution_count": 1858,
   "id": "e042b3bc-48e4-461e-9057-051b3c5b5121",
   "metadata": {},
   "outputs": [],
   "source": [
    "df2['crew'] = df2['crew'].apply(fetch_dir_and_prod)"
   ]
  },
  {
   "cell_type": "code",
   "execution_count": 1859,
   "id": "041e2819-9f1d-45fd-88fb-ab5de4651ecb",
   "metadata": {},
   "outputs": [
    {
     "data": {
      "text/html": [
       "<div>\n",
       "<style scoped>\n",
       "    .dataframe tbody tr th:only-of-type {\n",
       "        vertical-align: middle;\n",
       "    }\n",
       "\n",
       "    .dataframe tbody tr th {\n",
       "        vertical-align: top;\n",
       "    }\n",
       "\n",
       "    .dataframe thead th {\n",
       "        text-align: right;\n",
       "    }\n",
       "</style>\n",
       "<table border=\"1\" class=\"dataframe\">\n",
       "  <thead>\n",
       "    <tr style=\"text-align: right;\">\n",
       "      <th></th>\n",
       "      <th>id</th>\n",
       "      <th>cast</th>\n",
       "      <th>crew</th>\n",
       "      <th>genres</th>\n",
       "      <th>keywords</th>\n",
       "      <th>original_language</th>\n",
       "      <th>original_title</th>\n",
       "      <th>overview</th>\n",
       "    </tr>\n",
       "  </thead>\n",
       "  <tbody>\n",
       "    <tr>\n",
       "      <th>0</th>\n",
       "      <td>19995</td>\n",
       "      <td>[{\"cast_id\": 242, \"character\": \"Jake Sully\", \"...</td>\n",
       "      <td>[James Cameron]</td>\n",
       "      <td>[Action, Adventure, Fantasy, Science Fiction]</td>\n",
       "      <td>[{\"id\": 1463, \"name\": \"culture clash\"}, {\"id\":...</td>\n",
       "      <td>en</td>\n",
       "      <td>Avatar</td>\n",
       "      <td>In the 22nd century, a paraplegic Marine is di...</td>\n",
       "    </tr>\n",
       "  </tbody>\n",
       "</table>\n",
       "</div>"
      ],
      "text/plain": [
       "      id                                               cast             crew  \\\n",
       "0  19995  [{\"cast_id\": 242, \"character\": \"Jake Sully\", \"...  [James Cameron]   \n",
       "\n",
       "                                          genres  \\\n",
       "0  [Action, Adventure, Fantasy, Science Fiction]   \n",
       "\n",
       "                                            keywords original_language  \\\n",
       "0  [{\"id\": 1463, \"name\": \"culture clash\"}, {\"id\":...                en   \n",
       "\n",
       "  original_title                                           overview  \n",
       "0         Avatar  In the 22nd century, a paraplegic Marine is di...  "
      ]
     },
     "execution_count": 1859,
     "metadata": {},
     "output_type": "execute_result"
    }
   ],
   "source": [
    "df2.head(1)"
   ]
  },
  {
   "cell_type": "code",
   "execution_count": 1860,
   "id": "ff0ae00c-517e-4a23-8d29-9c0386772c3f",
   "metadata": {},
   "outputs": [],
   "source": [
    "##keywords"
   ]
  },
  {
   "cell_type": "code",
   "execution_count": 1861,
   "id": "5fe433a9-500d-46c2-ad0c-3e6b34283db6",
   "metadata": {},
   "outputs": [],
   "source": [
    "msg = df2.iloc[0, 4]"
   ]
  },
  {
   "cell_type": "code",
   "execution_count": 1862,
   "id": "5acc1d01-66d8-4a72-89db-f7207fb1bbbb",
   "metadata": {},
   "outputs": [
    {
     "data": {
      "text/plain": [
       "'[{\"id\": 1463, \"name\": \"culture clash\"}, {\"id\": 2964, \"name\": \"future\"}, {\"id\": 3386, \"name\": \"space war\"}, {\"id\": 3388, \"name\": \"space colony\"}, {\"id\": 3679, \"name\": \"society\"}, {\"id\": 3801, \"name\": \"space travel\"}, {\"id\": 9685, \"name\": \"futuristic\"}, {\"id\": 9840, \"name\": \"romance\"}, {\"id\": 9882, \"name\": \"space\"}, {\"id\": 9951, \"name\": \"alien\"}, {\"id\": 10148, \"name\": \"tribe\"}, {\"id\": 10158, \"name\": \"alien planet\"}, {\"id\": 10987, \"name\": \"cgi\"}, {\"id\": 11399, \"name\": \"marine\"}, {\"id\": 13065, \"name\": \"soldier\"}, {\"id\": 14643, \"name\": \"battle\"}, {\"id\": 14720, \"name\": \"love affair\"}, {\"id\": 165431, \"name\": \"anti war\"}, {\"id\": 193554, \"name\": \"power relations\"}, {\"id\": 206690, \"name\": \"mind and soul\"}, {\"id\": 209714, \"name\": \"3d\"}]'"
      ]
     },
     "execution_count": 1862,
     "metadata": {},
     "output_type": "execute_result"
    }
   ],
   "source": [
    "msg"
   ]
  },
  {
   "cell_type": "code",
   "execution_count": 1863,
   "id": "86248fa7-ae97-40e6-b224-651f29f8a601",
   "metadata": {},
   "outputs": [],
   "source": [
    "def fetch_keyowrds(string):\n",
    "    ls = []\n",
    "    for i in  ast.literal_eval(string):\n",
    "        ls.append(i['name'])\n",
    "            \n",
    "    return ls"
   ]
  },
  {
   "cell_type": "code",
   "execution_count": 1864,
   "id": "cc6ef8ca-be10-4d3f-8a70-55cdc80c0eda",
   "metadata": {},
   "outputs": [
    {
     "data": {
      "text/plain": [
       "['culture clash',\n",
       " 'future',\n",
       " 'space war',\n",
       " 'space colony',\n",
       " 'society',\n",
       " 'space travel',\n",
       " 'futuristic',\n",
       " 'romance',\n",
       " 'space',\n",
       " 'alien',\n",
       " 'tribe',\n",
       " 'alien planet',\n",
       " 'cgi',\n",
       " 'marine',\n",
       " 'soldier',\n",
       " 'battle',\n",
       " 'love affair',\n",
       " 'anti war',\n",
       " 'power relations',\n",
       " 'mind and soul',\n",
       " '3d']"
      ]
     },
     "execution_count": 1864,
     "metadata": {},
     "output_type": "execute_result"
    }
   ],
   "source": [
    "fetch_keyowrds(msg)"
   ]
  },
  {
   "cell_type": "code",
   "execution_count": 1865,
   "id": "301c1bc6-5086-412d-9d23-8f1bf92651bd",
   "metadata": {},
   "outputs": [],
   "source": [
    "df2['keywords'] = df2['keywords'].apply(fetch_genres)"
   ]
  },
  {
   "cell_type": "code",
   "execution_count": 1866,
   "id": "0d732819-b0cb-439b-8a2e-e16071f911ec",
   "metadata": {},
   "outputs": [
    {
     "data": {
      "text/html": [
       "<div>\n",
       "<style scoped>\n",
       "    .dataframe tbody tr th:only-of-type {\n",
       "        vertical-align: middle;\n",
       "    }\n",
       "\n",
       "    .dataframe tbody tr th {\n",
       "        vertical-align: top;\n",
       "    }\n",
       "\n",
       "    .dataframe thead th {\n",
       "        text-align: right;\n",
       "    }\n",
       "</style>\n",
       "<table border=\"1\" class=\"dataframe\">\n",
       "  <thead>\n",
       "    <tr style=\"text-align: right;\">\n",
       "      <th></th>\n",
       "      <th>id</th>\n",
       "      <th>cast</th>\n",
       "      <th>crew</th>\n",
       "      <th>genres</th>\n",
       "      <th>keywords</th>\n",
       "      <th>original_language</th>\n",
       "      <th>original_title</th>\n",
       "      <th>overview</th>\n",
       "    </tr>\n",
       "  </thead>\n",
       "  <tbody>\n",
       "    <tr>\n",
       "      <th>0</th>\n",
       "      <td>19995</td>\n",
       "      <td>[{\"cast_id\": 242, \"character\": \"Jake Sully\", \"...</td>\n",
       "      <td>[James Cameron]</td>\n",
       "      <td>[Action, Adventure, Fantasy, Science Fiction]</td>\n",
       "      <td>[culture clash, future, space war, space colon...</td>\n",
       "      <td>en</td>\n",
       "      <td>Avatar</td>\n",
       "      <td>In the 22nd century, a paraplegic Marine is di...</td>\n",
       "    </tr>\n",
       "  </tbody>\n",
       "</table>\n",
       "</div>"
      ],
      "text/plain": [
       "      id                                               cast             crew  \\\n",
       "0  19995  [{\"cast_id\": 242, \"character\": \"Jake Sully\", \"...  [James Cameron]   \n",
       "\n",
       "                                          genres  \\\n",
       "0  [Action, Adventure, Fantasy, Science Fiction]   \n",
       "\n",
       "                                            keywords original_language  \\\n",
       "0  [culture clash, future, space war, space colon...                en   \n",
       "\n",
       "  original_title                                           overview  \n",
       "0         Avatar  In the 22nd century, a paraplegic Marine is di...  "
      ]
     },
     "execution_count": 1866,
     "metadata": {},
     "output_type": "execute_result"
    }
   ],
   "source": [
    "df2.head(1)"
   ]
  },
  {
   "cell_type": "code",
   "execution_count": 1867,
   "id": "2d97cd73-9171-44aa-96b9-242fb16f4915",
   "metadata": {},
   "outputs": [],
   "source": [
    "##cast (first 3)"
   ]
  },
  {
   "cell_type": "code",
   "execution_count": 1868,
   "id": "5bafa470-c329-461c-8420-c85a4d0be05f",
   "metadata": {},
   "outputs": [],
   "source": [
    "msg = df2.iloc[0, 1]"
   ]
  },
  {
   "cell_type": "code",
   "execution_count": 1869,
   "id": "25c29e1c-b351-4252-af5e-339c938e3c5f",
   "metadata": {},
   "outputs": [
    {
     "data": {
      "text/plain": [
       "'[{\"cast_id\": 242, \"character\": \"Jake Sully\", \"credit_id\": \"5602a8a7c3a3685532001c9a\", \"gender\": 2, \"id\": 65731, \"name\": \"Sam Worthington\", \"order\": 0}, {\"cast_id\": 3, \"character\": \"Neytiri\", \"credit_id\": \"52fe48009251416c750ac9cb\", \"gender\": 1, \"id\": 8691, \"name\": \"Zoe Saldana\", \"order\": 1}, {\"cast_id\": 25, \"character\": \"Dr. Grace Augustine\", \"credit_id\": \"52fe48009251416c750aca39\", \"gender\": 1, \"id\": 10205, \"name\": \"Sigourney Weaver\", \"order\": 2}, {\"cast_id\": 4, \"character\": \"Col. Quaritch\", \"credit_id\": \"52fe48009251416c750ac9cf\", \"gender\": 2, \"id\": 32747, \"name\": \"Stephen Lang\", \"order\": 3}, {\"cast_id\": 5, \"character\": \"Trudy Chacon\", \"credit_id\": \"52fe48009251416c750ac9d3\", \"gender\": 1, \"id\": 17647, \"name\": \"Michelle Rodriguez\", \"order\": 4}, {\"cast_id\": 8, \"character\": \"Selfridge\", \"credit_id\": \"52fe48009251416c750ac9e1\", \"gender\": 2, \"id\": 1771, \"name\": \"Giovanni Ribisi\", \"order\": 5}, {\"cast_id\": 7, \"character\": \"Norm Spellman\", \"credit_id\": \"52fe48009251416c750ac9dd\", \"gender\": 2, \"id\": 59231, \"name\": \"Joel David Moore\", \"order\": 6}, {\"cast_id\": 9, \"character\": \"Moat\", \"credit_id\": \"52fe48009251416c750ac9e5\", \"gender\": 1, \"id\": 30485, \"name\": \"CCH Pounder\", \"order\": 7}, {\"cast_id\": 11, \"character\": \"Eytukan\", \"credit_id\": \"52fe48009251416c750ac9ed\", \"gender\": 2, \"id\": 15853, \"name\": \"Wes Studi\", \"order\": 8}, {\"cast_id\": 10, \"character\": \"Tsu\\'Tey\", \"credit_id\": \"52fe48009251416c750ac9e9\", \"gender\": 2, \"id\": 10964, \"name\": \"Laz Alonso\", \"order\": 9}, {\"cast_id\": 12, \"character\": \"Dr. Max Patel\", \"credit_id\": \"52fe48009251416c750ac9f1\", \"gender\": 2, \"id\": 95697, \"name\": \"Dileep Rao\", \"order\": 10}, {\"cast_id\": 13, \"character\": \"Lyle Wainfleet\", \"credit_id\": \"52fe48009251416c750ac9f5\", \"gender\": 2, \"id\": 98215, \"name\": \"Matt Gerald\", \"order\": 11}, {\"cast_id\": 32, \"character\": \"Private Fike\", \"credit_id\": \"52fe48009251416c750aca5b\", \"gender\": 2, \"id\": 154153, \"name\": \"Sean Anthony Moran\", \"order\": 12}, {\"cast_id\": 33, \"character\": \"Cryo Vault Med Tech\", \"credit_id\": \"52fe48009251416c750aca5f\", \"gender\": 2, \"id\": 397312, \"name\": \"Jason Whyte\", \"order\": 13}, {\"cast_id\": 34, \"character\": \"Venture Star Crew Chief\", \"credit_id\": \"52fe48009251416c750aca63\", \"gender\": 2, \"id\": 42317, \"name\": \"Scott Lawrence\", \"order\": 14}, {\"cast_id\": 35, \"character\": \"Lock Up Trooper\", \"credit_id\": \"52fe48009251416c750aca67\", \"gender\": 2, \"id\": 986734, \"name\": \"Kelly Kilgour\", \"order\": 15}, {\"cast_id\": 36, \"character\": \"Shuttle Pilot\", \"credit_id\": \"52fe48009251416c750aca6b\", \"gender\": 0, \"id\": 1207227, \"name\": \"James Patrick Pitt\", \"order\": 16}, {\"cast_id\": 37, \"character\": \"Shuttle Co-Pilot\", \"credit_id\": \"52fe48009251416c750aca6f\", \"gender\": 0, \"id\": 1180936, \"name\": \"Sean Patrick Murphy\", \"order\": 17}, {\"cast_id\": 38, \"character\": \"Shuttle Crew Chief\", \"credit_id\": \"52fe48009251416c750aca73\", \"gender\": 2, \"id\": 1019578, \"name\": \"Peter Dillon\", \"order\": 18}, {\"cast_id\": 39, \"character\": \"Tractor Operator / Troupe\", \"credit_id\": \"52fe48009251416c750aca77\", \"gender\": 0, \"id\": 91443, \"name\": \"Kevin Dorman\", \"order\": 19}, {\"cast_id\": 40, \"character\": \"Dragon Gunship Pilot\", \"credit_id\": \"52fe48009251416c750aca7b\", \"gender\": 2, \"id\": 173391, \"name\": \"Kelson Henderson\", \"order\": 20}, {\"cast_id\": 41, \"character\": \"Dragon Gunship Gunner\", \"credit_id\": \"52fe48009251416c750aca7f\", \"gender\": 0, \"id\": 1207236, \"name\": \"David Van Horn\", \"order\": 21}, {\"cast_id\": 42, \"character\": \"Dragon Gunship Navigator\", \"credit_id\": \"52fe48009251416c750aca83\", \"gender\": 0, \"id\": 215913, \"name\": \"Jacob Tomuri\", \"order\": 22}, {\"cast_id\": 43, \"character\": \"Suit #1\", \"credit_id\": \"52fe48009251416c750aca87\", \"gender\": 0, \"id\": 143206, \"name\": \"Michael Blain-Rozgay\", \"order\": 23}, {\"cast_id\": 44, \"character\": \"Suit #2\", \"credit_id\": \"52fe48009251416c750aca8b\", \"gender\": 2, \"id\": 169676, \"name\": \"Jon Curry\", \"order\": 24}, {\"cast_id\": 46, \"character\": \"Ambient Room Tech\", \"credit_id\": \"52fe48009251416c750aca8f\", \"gender\": 0, \"id\": 1048610, \"name\": \"Luke Hawker\", \"order\": 25}, {\"cast_id\": 47, \"character\": \"Ambient Room Tech / Troupe\", \"credit_id\": \"52fe48009251416c750aca93\", \"gender\": 0, \"id\": 42288, \"name\": \"Woody Schultz\", \"order\": 26}, {\"cast_id\": 48, \"character\": \"Horse Clan Leader\", \"credit_id\": \"52fe48009251416c750aca97\", \"gender\": 2, \"id\": 68278, \"name\": \"Peter Mensah\", \"order\": 27}, {\"cast_id\": 49, \"character\": \"Link Room Tech\", \"credit_id\": \"52fe48009251416c750aca9b\", \"gender\": 0, \"id\": 1207247, \"name\": \"Sonia Yee\", \"order\": 28}, {\"cast_id\": 50, \"character\": \"Basketball Avatar / Troupe\", \"credit_id\": \"52fe48009251416c750aca9f\", \"gender\": 1, \"id\": 1207248, \"name\": \"Jahnel Curfman\", \"order\": 29}, {\"cast_id\": 51, \"character\": \"Basketball Avatar\", \"credit_id\": \"52fe48009251416c750acaa3\", \"gender\": 0, \"id\": 89714, \"name\": \"Ilram Choi\", \"order\": 30}, {\"cast_id\": 52, \"character\": \"Na\\'vi Child\", \"credit_id\": \"52fe48009251416c750acaa7\", \"gender\": 0, \"id\": 1207249, \"name\": \"Kyla Warren\", \"order\": 31}, {\"cast_id\": 53, \"character\": \"Troupe\", \"credit_id\": \"52fe48009251416c750acaab\", \"gender\": 0, \"id\": 1207250, \"name\": \"Lisa Roumain\", \"order\": 32}, {\"cast_id\": 54, \"character\": \"Troupe\", \"credit_id\": \"52fe48009251416c750acaaf\", \"gender\": 1, \"id\": 83105, \"name\": \"Debra Wilson\", \"order\": 33}, {\"cast_id\": 57, \"character\": \"Troupe\", \"credit_id\": \"52fe48009251416c750acabb\", \"gender\": 0, \"id\": 1207253, \"name\": \"Chris Mala\", \"order\": 34}, {\"cast_id\": 55, \"character\": \"Troupe\", \"credit_id\": \"52fe48009251416c750acab3\", \"gender\": 0, \"id\": 1207251, \"name\": \"Taylor Kibby\", \"order\": 35}, {\"cast_id\": 56, \"character\": \"Troupe\", \"credit_id\": \"52fe48009251416c750acab7\", \"gender\": 0, \"id\": 1207252, \"name\": \"Jodie Landau\", \"order\": 36}, {\"cast_id\": 58, \"character\": \"Troupe\", \"credit_id\": \"52fe48009251416c750acabf\", \"gender\": 0, \"id\": 1207254, \"name\": \"Julie Lamm\", \"order\": 37}, {\"cast_id\": 59, \"character\": \"Troupe\", \"credit_id\": \"52fe48009251416c750acac3\", \"gender\": 0, \"id\": 1207257, \"name\": \"Cullen B. Madden\", \"order\": 38}, {\"cast_id\": 60, \"character\": \"Troupe\", \"credit_id\": \"52fe48009251416c750acac7\", \"gender\": 0, \"id\": 1207259, \"name\": \"Joseph Brady Madden\", \"order\": 39}, {\"cast_id\": 61, \"character\": \"Troupe\", \"credit_id\": \"52fe48009251416c750acacb\", \"gender\": 0, \"id\": 1207262, \"name\": \"Frankie Torres\", \"order\": 40}, {\"cast_id\": 62, \"character\": \"Troupe\", \"credit_id\": \"52fe48009251416c750acacf\", \"gender\": 1, \"id\": 1158600, \"name\": \"Austin Wilson\", \"order\": 41}, {\"cast_id\": 63, \"character\": \"Troupe\", \"credit_id\": \"52fe48019251416c750acad3\", \"gender\": 1, \"id\": 983705, \"name\": \"Sara Wilson\", \"order\": 42}, {\"cast_id\": 64, \"character\": \"Troupe\", \"credit_id\": \"52fe48019251416c750acad7\", \"gender\": 0, \"id\": 1207263, \"name\": \"Tamica Washington-Miller\", \"order\": 43}, {\"cast_id\": 65, \"character\": \"Op Center Staff\", \"credit_id\": \"52fe48019251416c750acadb\", \"gender\": 1, \"id\": 1145098, \"name\": \"Lucy Briant\", \"order\": 44}, {\"cast_id\": 66, \"character\": \"Op Center Staff\", \"credit_id\": \"52fe48019251416c750acadf\", \"gender\": 2, \"id\": 33305, \"name\": \"Nathan Meister\", \"order\": 45}, {\"cast_id\": 67, \"character\": \"Op Center Staff\", \"credit_id\": \"52fe48019251416c750acae3\", \"gender\": 0, \"id\": 1207264, \"name\": \"Gerry Blair\", \"order\": 46}, {\"cast_id\": 68, \"character\": \"Op Center Staff\", \"credit_id\": \"52fe48019251416c750acae7\", \"gender\": 2, \"id\": 33311, \"name\": \"Matthew Chamberlain\", \"order\": 47}, {\"cast_id\": 69, \"character\": \"Op Center Staff\", \"credit_id\": \"52fe48019251416c750acaeb\", \"gender\": 0, \"id\": 1207265, \"name\": \"Paul Yates\", \"order\": 48}, {\"cast_id\": 70, \"character\": \"Op Center Duty Officer\", \"credit_id\": \"52fe48019251416c750acaef\", \"gender\": 0, \"id\": 1207266, \"name\": \"Wray Wilson\", \"order\": 49}, {\"cast_id\": 71, \"character\": \"Op Center Staff\", \"credit_id\": \"52fe48019251416c750acaf3\", \"gender\": 2, \"id\": 54492, \"name\": \"James Gaylyn\", \"order\": 50}, {\"cast_id\": 72, \"character\": \"Dancer\", \"credit_id\": \"52fe48019251416c750acaf7\", \"gender\": 0, \"id\": 1207267, \"name\": \"Melvin Leno Clark III\", \"order\": 51}, {\"cast_id\": 73, \"character\": \"Dancer\", \"credit_id\": \"52fe48019251416c750acafb\", \"gender\": 0, \"id\": 1207268, \"name\": \"Carvon Futrell\", \"order\": 52}, {\"cast_id\": 74, \"character\": \"Dancer\", \"credit_id\": \"52fe48019251416c750acaff\", \"gender\": 0, \"id\": 1207269, \"name\": \"Brandon Jelkes\", \"order\": 53}, {\"cast_id\": 75, \"character\": \"Dancer\", \"credit_id\": \"52fe48019251416c750acb03\", \"gender\": 0, \"id\": 1207270, \"name\": \"Micah Moch\", \"order\": 54}, {\"cast_id\": 76, \"character\": \"Dancer\", \"credit_id\": \"52fe48019251416c750acb07\", \"gender\": 0, \"id\": 1207271, \"name\": \"Hanniyah Muhammad\", \"order\": 55}, {\"cast_id\": 77, \"character\": \"Dancer\", \"credit_id\": \"52fe48019251416c750acb0b\", \"gender\": 0, \"id\": 1207272, \"name\": \"Christopher Nolen\", \"order\": 56}, {\"cast_id\": 78, \"character\": \"Dancer\", \"credit_id\": \"52fe48019251416c750acb0f\", \"gender\": 0, \"id\": 1207273, \"name\": \"Christa Oliver\", \"order\": 57}, {\"cast_id\": 79, \"character\": \"Dancer\", \"credit_id\": \"52fe48019251416c750acb13\", \"gender\": 0, \"id\": 1207274, \"name\": \"April Marie Thomas\", \"order\": 58}, {\"cast_id\": 80, \"character\": \"Dancer\", \"credit_id\": \"52fe48019251416c750acb17\", \"gender\": 0, \"id\": 1207275, \"name\": \"Bravita A. Threatt\", \"order\": 59}, {\"cast_id\": 81, \"character\": \"Mining Chief (uncredited)\", \"credit_id\": \"52fe48019251416c750acb1b\", \"gender\": 0, \"id\": 1207276, \"name\": \"Colin Bleasdale\", \"order\": 60}, {\"cast_id\": 82, \"character\": \"Veteran Miner (uncredited)\", \"credit_id\": \"52fe48019251416c750acb1f\", \"gender\": 0, \"id\": 107969, \"name\": \"Mike Bodnar\", \"order\": 61}, {\"cast_id\": 83, \"character\": \"Richard (uncredited)\", \"credit_id\": \"52fe48019251416c750acb23\", \"gender\": 0, \"id\": 1207278, \"name\": \"Matt Clayton\", \"order\": 62}, {\"cast_id\": 84, \"character\": \"Nav\\'i (uncredited)\", \"credit_id\": \"52fe48019251416c750acb27\", \"gender\": 1, \"id\": 147898, \"name\": \"Nicole Dionne\", \"order\": 63}, {\"cast_id\": 85, \"character\": \"Trooper (uncredited)\", \"credit_id\": \"52fe48019251416c750acb2b\", \"gender\": 0, \"id\": 1207280, \"name\": \"Jamie Harrison\", \"order\": 64}, {\"cast_id\": 86, \"character\": \"Trooper (uncredited)\", \"credit_id\": \"52fe48019251416c750acb2f\", \"gender\": 0, \"id\": 1207281, \"name\": \"Allan Henry\", \"order\": 65}, {\"cast_id\": 87, \"character\": \"Ground Technician (uncredited)\", \"credit_id\": \"52fe48019251416c750acb33\", \"gender\": 2, \"id\": 1207282, \"name\": \"Anthony Ingruber\", \"order\": 66}, {\"cast_id\": 88, \"character\": \"Flight Crew Mechanic (uncredited)\", \"credit_id\": \"52fe48019251416c750acb37\", \"gender\": 0, \"id\": 1207283, \"name\": \"Ashley Jeffery\", \"order\": 67}, {\"cast_id\": 14, \"character\": \"Samson Pilot\", \"credit_id\": \"52fe48009251416c750ac9f9\", \"gender\": 0, \"id\": 98216, \"name\": \"Dean Knowsley\", \"order\": 68}, {\"cast_id\": 89, \"character\": \"Trooper (uncredited)\", \"credit_id\": \"52fe48019251416c750acb3b\", \"gender\": 0, \"id\": 1201399, \"name\": \"Joseph Mika-Hunt\", \"order\": 69}, {\"cast_id\": 90, \"character\": \"Banshee (uncredited)\", \"credit_id\": \"52fe48019251416c750acb3f\", \"gender\": 0, \"id\": 236696, \"name\": \"Terry Notary\", \"order\": 70}, {\"cast_id\": 91, \"character\": \"Soldier (uncredited)\", \"credit_id\": \"52fe48019251416c750acb43\", \"gender\": 0, \"id\": 1207287, \"name\": \"Kai Pantano\", \"order\": 71}, {\"cast_id\": 92, \"character\": \"Blast Technician (uncredited)\", \"credit_id\": \"52fe48019251416c750acb47\", \"gender\": 0, \"id\": 1207288, \"name\": \"Logan Pithyou\", \"order\": 72}, {\"cast_id\": 93, \"character\": \"Vindum Raah (uncredited)\", \"credit_id\": \"52fe48019251416c750acb4b\", \"gender\": 0, \"id\": 1207289, \"name\": \"Stuart Pollock\", \"order\": 73}, {\"cast_id\": 94, \"character\": \"Hero (uncredited)\", \"credit_id\": \"52fe48019251416c750acb4f\", \"gender\": 0, \"id\": 584868, \"name\": \"Raja\", \"order\": 74}, {\"cast_id\": 95, \"character\": \"Ops Centreworker (uncredited)\", \"credit_id\": \"52fe48019251416c750acb53\", \"gender\": 0, \"id\": 1207290, \"name\": \"Gareth Ruck\", \"order\": 75}, {\"cast_id\": 96, \"character\": \"Engineer (uncredited)\", \"credit_id\": \"52fe48019251416c750acb57\", \"gender\": 0, \"id\": 1062463, \"name\": \"Rhian Sheehan\", \"order\": 76}, {\"cast_id\": 97, \"character\": \"Col. Quaritch\\'s Mech Suit (uncredited)\", \"credit_id\": \"52fe48019251416c750acb5b\", \"gender\": 0, \"id\": 60656, \"name\": \"T. J. Storm\", \"order\": 77}, {\"cast_id\": 98, \"character\": \"Female Marine (uncredited)\", \"credit_id\": \"52fe48019251416c750acb5f\", \"gender\": 0, \"id\": 1207291, \"name\": \"Jodie Taylor\", \"order\": 78}, {\"cast_id\": 99, \"character\": \"Ikran Clan Leader (uncredited)\", \"credit_id\": \"52fe48019251416c750acb63\", \"gender\": 1, \"id\": 1186027, \"name\": \"Alicia Vela-Bailey\", \"order\": 79}, {\"cast_id\": 100, \"character\": \"Geologist (uncredited)\", \"credit_id\": \"52fe48019251416c750acb67\", \"gender\": 0, \"id\": 1207292, \"name\": \"Richard Whiteside\", \"order\": 80}, {\"cast_id\": 101, \"character\": \"Na\\'vi (uncredited)\", \"credit_id\": \"52fe48019251416c750acb6b\", \"gender\": 0, \"id\": 103259, \"name\": \"Nikie Zambo\", \"order\": 81}, {\"cast_id\": 102, \"character\": \"Ambient Room Tech / Troupe\", \"credit_id\": \"52fe48019251416c750acb6f\", \"gender\": 1, \"id\": 42286, \"name\": \"Julene Renee\", \"order\": 82}]'"
      ]
     },
     "execution_count": 1869,
     "metadata": {},
     "output_type": "execute_result"
    }
   ],
   "source": [
    "msg"
   ]
  },
  {
   "cell_type": "code",
   "execution_count": 1870,
   "id": "b1983adb-9231-414b-a5f7-009c788bcdca",
   "metadata": {},
   "outputs": [],
   "source": [
    "def fetch_crew_first_three(string):\n",
    "    ls = []\n",
    "    cnt = 3\n",
    "    for i in  ast.literal_eval(string):\n",
    "        if cnt==0:\n",
    "            break\n",
    "        else:\n",
    "            ls.append(i['name'])\n",
    "        cnt=cnt-1\n",
    "    return ls"
   ]
  },
  {
   "cell_type": "code",
   "execution_count": 1871,
   "id": "438d70c5-ff43-434f-984e-7ee1c6f7d734",
   "metadata": {},
   "outputs": [
    {
     "data": {
      "text/plain": [
       "'[{\"cast_id\": 242, \"character\": \"Jake Sully\", \"credit_id\": \"5602a8a7c3a3685532001c9a\", \"gender\": 2, \"id\": 65731, \"name\": \"Sam Worthington\", \"order\": 0}, {\"cast_id\": 3, \"character\": \"Neytiri\", \"credit_id\": \"52fe48009251416c750ac9cb\", \"gender\": 1, \"id\": 8691, \"name\": \"Zoe Saldana\", \"order\": 1}, {\"cast_id\": 25, \"character\": \"Dr. Grace Augustine\", \"credit_id\": \"52fe48009251416c750aca39\", \"gender\": 1, \"id\": 10205, \"name\": \"Sigourney Weaver\", \"order\": 2}, {\"cast_id\": 4, \"character\": \"Col. Quaritch\", \"credit_id\": \"52fe48009251416c750ac9cf\", \"gender\": 2, \"id\": 32747, \"name\": \"Stephen Lang\", \"order\": 3}, {\"cast_id\": 5, \"character\": \"Trudy Chacon\", \"credit_id\": \"52fe48009251416c750ac9d3\", \"gender\": 1, \"id\": 17647, \"name\": \"Michelle Rodriguez\", \"order\": 4}, {\"cast_id\": 8, \"character\": \"Selfridge\", \"credit_id\": \"52fe48009251416c750ac9e1\", \"gender\": 2, \"id\": 1771, \"name\": \"Giovanni Ribisi\", \"order\": 5}, {\"cast_id\": 7, \"character\": \"Norm Spellman\", \"credit_id\": \"52fe48009251416c750ac9dd\", \"gender\": 2, \"id\": 59231, \"name\": \"Joel David Moore\", \"order\": 6}, {\"cast_id\": 9, \"character\": \"Moat\", \"credit_id\": \"52fe48009251416c750ac9e5\", \"gender\": 1, \"id\": 30485, \"name\": \"CCH Pounder\", \"order\": 7}, {\"cast_id\": 11, \"character\": \"Eytukan\", \"credit_id\": \"52fe48009251416c750ac9ed\", \"gender\": 2, \"id\": 15853, \"name\": \"Wes Studi\", \"order\": 8}, {\"cast_id\": 10, \"character\": \"Tsu\\'Tey\", \"credit_id\": \"52fe48009251416c750ac9e9\", \"gender\": 2, \"id\": 10964, \"name\": \"Laz Alonso\", \"order\": 9}, {\"cast_id\": 12, \"character\": \"Dr. Max Patel\", \"credit_id\": \"52fe48009251416c750ac9f1\", \"gender\": 2, \"id\": 95697, \"name\": \"Dileep Rao\", \"order\": 10}, {\"cast_id\": 13, \"character\": \"Lyle Wainfleet\", \"credit_id\": \"52fe48009251416c750ac9f5\", \"gender\": 2, \"id\": 98215, \"name\": \"Matt Gerald\", \"order\": 11}, {\"cast_id\": 32, \"character\": \"Private Fike\", \"credit_id\": \"52fe48009251416c750aca5b\", \"gender\": 2, \"id\": 154153, \"name\": \"Sean Anthony Moran\", \"order\": 12}, {\"cast_id\": 33, \"character\": \"Cryo Vault Med Tech\", \"credit_id\": \"52fe48009251416c750aca5f\", \"gender\": 2, \"id\": 397312, \"name\": \"Jason Whyte\", \"order\": 13}, {\"cast_id\": 34, \"character\": \"Venture Star Crew Chief\", \"credit_id\": \"52fe48009251416c750aca63\", \"gender\": 2, \"id\": 42317, \"name\": \"Scott Lawrence\", \"order\": 14}, {\"cast_id\": 35, \"character\": \"Lock Up Trooper\", \"credit_id\": \"52fe48009251416c750aca67\", \"gender\": 2, \"id\": 986734, \"name\": \"Kelly Kilgour\", \"order\": 15}, {\"cast_id\": 36, \"character\": \"Shuttle Pilot\", \"credit_id\": \"52fe48009251416c750aca6b\", \"gender\": 0, \"id\": 1207227, \"name\": \"James Patrick Pitt\", \"order\": 16}, {\"cast_id\": 37, \"character\": \"Shuttle Co-Pilot\", \"credit_id\": \"52fe48009251416c750aca6f\", \"gender\": 0, \"id\": 1180936, \"name\": \"Sean Patrick Murphy\", \"order\": 17}, {\"cast_id\": 38, \"character\": \"Shuttle Crew Chief\", \"credit_id\": \"52fe48009251416c750aca73\", \"gender\": 2, \"id\": 1019578, \"name\": \"Peter Dillon\", \"order\": 18}, {\"cast_id\": 39, \"character\": \"Tractor Operator / Troupe\", \"credit_id\": \"52fe48009251416c750aca77\", \"gender\": 0, \"id\": 91443, \"name\": \"Kevin Dorman\", \"order\": 19}, {\"cast_id\": 40, \"character\": \"Dragon Gunship Pilot\", \"credit_id\": \"52fe48009251416c750aca7b\", \"gender\": 2, \"id\": 173391, \"name\": \"Kelson Henderson\", \"order\": 20}, {\"cast_id\": 41, \"character\": \"Dragon Gunship Gunner\", \"credit_id\": \"52fe48009251416c750aca7f\", \"gender\": 0, \"id\": 1207236, \"name\": \"David Van Horn\", \"order\": 21}, {\"cast_id\": 42, \"character\": \"Dragon Gunship Navigator\", \"credit_id\": \"52fe48009251416c750aca83\", \"gender\": 0, \"id\": 215913, \"name\": \"Jacob Tomuri\", \"order\": 22}, {\"cast_id\": 43, \"character\": \"Suit #1\", \"credit_id\": \"52fe48009251416c750aca87\", \"gender\": 0, \"id\": 143206, \"name\": \"Michael Blain-Rozgay\", \"order\": 23}, {\"cast_id\": 44, \"character\": \"Suit #2\", \"credit_id\": \"52fe48009251416c750aca8b\", \"gender\": 2, \"id\": 169676, \"name\": \"Jon Curry\", \"order\": 24}, {\"cast_id\": 46, \"character\": \"Ambient Room Tech\", \"credit_id\": \"52fe48009251416c750aca8f\", \"gender\": 0, \"id\": 1048610, \"name\": \"Luke Hawker\", \"order\": 25}, {\"cast_id\": 47, \"character\": \"Ambient Room Tech / Troupe\", \"credit_id\": \"52fe48009251416c750aca93\", \"gender\": 0, \"id\": 42288, \"name\": \"Woody Schultz\", \"order\": 26}, {\"cast_id\": 48, \"character\": \"Horse Clan Leader\", \"credit_id\": \"52fe48009251416c750aca97\", \"gender\": 2, \"id\": 68278, \"name\": \"Peter Mensah\", \"order\": 27}, {\"cast_id\": 49, \"character\": \"Link Room Tech\", \"credit_id\": \"52fe48009251416c750aca9b\", \"gender\": 0, \"id\": 1207247, \"name\": \"Sonia Yee\", \"order\": 28}, {\"cast_id\": 50, \"character\": \"Basketball Avatar / Troupe\", \"credit_id\": \"52fe48009251416c750aca9f\", \"gender\": 1, \"id\": 1207248, \"name\": \"Jahnel Curfman\", \"order\": 29}, {\"cast_id\": 51, \"character\": \"Basketball Avatar\", \"credit_id\": \"52fe48009251416c750acaa3\", \"gender\": 0, \"id\": 89714, \"name\": \"Ilram Choi\", \"order\": 30}, {\"cast_id\": 52, \"character\": \"Na\\'vi Child\", \"credit_id\": \"52fe48009251416c750acaa7\", \"gender\": 0, \"id\": 1207249, \"name\": \"Kyla Warren\", \"order\": 31}, {\"cast_id\": 53, \"character\": \"Troupe\", \"credit_id\": \"52fe48009251416c750acaab\", \"gender\": 0, \"id\": 1207250, \"name\": \"Lisa Roumain\", \"order\": 32}, {\"cast_id\": 54, \"character\": \"Troupe\", \"credit_id\": \"52fe48009251416c750acaaf\", \"gender\": 1, \"id\": 83105, \"name\": \"Debra Wilson\", \"order\": 33}, {\"cast_id\": 57, \"character\": \"Troupe\", \"credit_id\": \"52fe48009251416c750acabb\", \"gender\": 0, \"id\": 1207253, \"name\": \"Chris Mala\", \"order\": 34}, {\"cast_id\": 55, \"character\": \"Troupe\", \"credit_id\": \"52fe48009251416c750acab3\", \"gender\": 0, \"id\": 1207251, \"name\": \"Taylor Kibby\", \"order\": 35}, {\"cast_id\": 56, \"character\": \"Troupe\", \"credit_id\": \"52fe48009251416c750acab7\", \"gender\": 0, \"id\": 1207252, \"name\": \"Jodie Landau\", \"order\": 36}, {\"cast_id\": 58, \"character\": \"Troupe\", \"credit_id\": \"52fe48009251416c750acabf\", \"gender\": 0, \"id\": 1207254, \"name\": \"Julie Lamm\", \"order\": 37}, {\"cast_id\": 59, \"character\": \"Troupe\", \"credit_id\": \"52fe48009251416c750acac3\", \"gender\": 0, \"id\": 1207257, \"name\": \"Cullen B. Madden\", \"order\": 38}, {\"cast_id\": 60, \"character\": \"Troupe\", \"credit_id\": \"52fe48009251416c750acac7\", \"gender\": 0, \"id\": 1207259, \"name\": \"Joseph Brady Madden\", \"order\": 39}, {\"cast_id\": 61, \"character\": \"Troupe\", \"credit_id\": \"52fe48009251416c750acacb\", \"gender\": 0, \"id\": 1207262, \"name\": \"Frankie Torres\", \"order\": 40}, {\"cast_id\": 62, \"character\": \"Troupe\", \"credit_id\": \"52fe48009251416c750acacf\", \"gender\": 1, \"id\": 1158600, \"name\": \"Austin Wilson\", \"order\": 41}, {\"cast_id\": 63, \"character\": \"Troupe\", \"credit_id\": \"52fe48019251416c750acad3\", \"gender\": 1, \"id\": 983705, \"name\": \"Sara Wilson\", \"order\": 42}, {\"cast_id\": 64, \"character\": \"Troupe\", \"credit_id\": \"52fe48019251416c750acad7\", \"gender\": 0, \"id\": 1207263, \"name\": \"Tamica Washington-Miller\", \"order\": 43}, {\"cast_id\": 65, \"character\": \"Op Center Staff\", \"credit_id\": \"52fe48019251416c750acadb\", \"gender\": 1, \"id\": 1145098, \"name\": \"Lucy Briant\", \"order\": 44}, {\"cast_id\": 66, \"character\": \"Op Center Staff\", \"credit_id\": \"52fe48019251416c750acadf\", \"gender\": 2, \"id\": 33305, \"name\": \"Nathan Meister\", \"order\": 45}, {\"cast_id\": 67, \"character\": \"Op Center Staff\", \"credit_id\": \"52fe48019251416c750acae3\", \"gender\": 0, \"id\": 1207264, \"name\": \"Gerry Blair\", \"order\": 46}, {\"cast_id\": 68, \"character\": \"Op Center Staff\", \"credit_id\": \"52fe48019251416c750acae7\", \"gender\": 2, \"id\": 33311, \"name\": \"Matthew Chamberlain\", \"order\": 47}, {\"cast_id\": 69, \"character\": \"Op Center Staff\", \"credit_id\": \"52fe48019251416c750acaeb\", \"gender\": 0, \"id\": 1207265, \"name\": \"Paul Yates\", \"order\": 48}, {\"cast_id\": 70, \"character\": \"Op Center Duty Officer\", \"credit_id\": \"52fe48019251416c750acaef\", \"gender\": 0, \"id\": 1207266, \"name\": \"Wray Wilson\", \"order\": 49}, {\"cast_id\": 71, \"character\": \"Op Center Staff\", \"credit_id\": \"52fe48019251416c750acaf3\", \"gender\": 2, \"id\": 54492, \"name\": \"James Gaylyn\", \"order\": 50}, {\"cast_id\": 72, \"character\": \"Dancer\", \"credit_id\": \"52fe48019251416c750acaf7\", \"gender\": 0, \"id\": 1207267, \"name\": \"Melvin Leno Clark III\", \"order\": 51}, {\"cast_id\": 73, \"character\": \"Dancer\", \"credit_id\": \"52fe48019251416c750acafb\", \"gender\": 0, \"id\": 1207268, \"name\": \"Carvon Futrell\", \"order\": 52}, {\"cast_id\": 74, \"character\": \"Dancer\", \"credit_id\": \"52fe48019251416c750acaff\", \"gender\": 0, \"id\": 1207269, \"name\": \"Brandon Jelkes\", \"order\": 53}, {\"cast_id\": 75, \"character\": \"Dancer\", \"credit_id\": \"52fe48019251416c750acb03\", \"gender\": 0, \"id\": 1207270, \"name\": \"Micah Moch\", \"order\": 54}, {\"cast_id\": 76, \"character\": \"Dancer\", \"credit_id\": \"52fe48019251416c750acb07\", \"gender\": 0, \"id\": 1207271, \"name\": \"Hanniyah Muhammad\", \"order\": 55}, {\"cast_id\": 77, \"character\": \"Dancer\", \"credit_id\": \"52fe48019251416c750acb0b\", \"gender\": 0, \"id\": 1207272, \"name\": \"Christopher Nolen\", \"order\": 56}, {\"cast_id\": 78, \"character\": \"Dancer\", \"credit_id\": \"52fe48019251416c750acb0f\", \"gender\": 0, \"id\": 1207273, \"name\": \"Christa Oliver\", \"order\": 57}, {\"cast_id\": 79, \"character\": \"Dancer\", \"credit_id\": \"52fe48019251416c750acb13\", \"gender\": 0, \"id\": 1207274, \"name\": \"April Marie Thomas\", \"order\": 58}, {\"cast_id\": 80, \"character\": \"Dancer\", \"credit_id\": \"52fe48019251416c750acb17\", \"gender\": 0, \"id\": 1207275, \"name\": \"Bravita A. Threatt\", \"order\": 59}, {\"cast_id\": 81, \"character\": \"Mining Chief (uncredited)\", \"credit_id\": \"52fe48019251416c750acb1b\", \"gender\": 0, \"id\": 1207276, \"name\": \"Colin Bleasdale\", \"order\": 60}, {\"cast_id\": 82, \"character\": \"Veteran Miner (uncredited)\", \"credit_id\": \"52fe48019251416c750acb1f\", \"gender\": 0, \"id\": 107969, \"name\": \"Mike Bodnar\", \"order\": 61}, {\"cast_id\": 83, \"character\": \"Richard (uncredited)\", \"credit_id\": \"52fe48019251416c750acb23\", \"gender\": 0, \"id\": 1207278, \"name\": \"Matt Clayton\", \"order\": 62}, {\"cast_id\": 84, \"character\": \"Nav\\'i (uncredited)\", \"credit_id\": \"52fe48019251416c750acb27\", \"gender\": 1, \"id\": 147898, \"name\": \"Nicole Dionne\", \"order\": 63}, {\"cast_id\": 85, \"character\": \"Trooper (uncredited)\", \"credit_id\": \"52fe48019251416c750acb2b\", \"gender\": 0, \"id\": 1207280, \"name\": \"Jamie Harrison\", \"order\": 64}, {\"cast_id\": 86, \"character\": \"Trooper (uncredited)\", \"credit_id\": \"52fe48019251416c750acb2f\", \"gender\": 0, \"id\": 1207281, \"name\": \"Allan Henry\", \"order\": 65}, {\"cast_id\": 87, \"character\": \"Ground Technician (uncredited)\", \"credit_id\": \"52fe48019251416c750acb33\", \"gender\": 2, \"id\": 1207282, \"name\": \"Anthony Ingruber\", \"order\": 66}, {\"cast_id\": 88, \"character\": \"Flight Crew Mechanic (uncredited)\", \"credit_id\": \"52fe48019251416c750acb37\", \"gender\": 0, \"id\": 1207283, \"name\": \"Ashley Jeffery\", \"order\": 67}, {\"cast_id\": 14, \"character\": \"Samson Pilot\", \"credit_id\": \"52fe48009251416c750ac9f9\", \"gender\": 0, \"id\": 98216, \"name\": \"Dean Knowsley\", \"order\": 68}, {\"cast_id\": 89, \"character\": \"Trooper (uncredited)\", \"credit_id\": \"52fe48019251416c750acb3b\", \"gender\": 0, \"id\": 1201399, \"name\": \"Joseph Mika-Hunt\", \"order\": 69}, {\"cast_id\": 90, \"character\": \"Banshee (uncredited)\", \"credit_id\": \"52fe48019251416c750acb3f\", \"gender\": 0, \"id\": 236696, \"name\": \"Terry Notary\", \"order\": 70}, {\"cast_id\": 91, \"character\": \"Soldier (uncredited)\", \"credit_id\": \"52fe48019251416c750acb43\", \"gender\": 0, \"id\": 1207287, \"name\": \"Kai Pantano\", \"order\": 71}, {\"cast_id\": 92, \"character\": \"Blast Technician (uncredited)\", \"credit_id\": \"52fe48019251416c750acb47\", \"gender\": 0, \"id\": 1207288, \"name\": \"Logan Pithyou\", \"order\": 72}, {\"cast_id\": 93, \"character\": \"Vindum Raah (uncredited)\", \"credit_id\": \"52fe48019251416c750acb4b\", \"gender\": 0, \"id\": 1207289, \"name\": \"Stuart Pollock\", \"order\": 73}, {\"cast_id\": 94, \"character\": \"Hero (uncredited)\", \"credit_id\": \"52fe48019251416c750acb4f\", \"gender\": 0, \"id\": 584868, \"name\": \"Raja\", \"order\": 74}, {\"cast_id\": 95, \"character\": \"Ops Centreworker (uncredited)\", \"credit_id\": \"52fe48019251416c750acb53\", \"gender\": 0, \"id\": 1207290, \"name\": \"Gareth Ruck\", \"order\": 75}, {\"cast_id\": 96, \"character\": \"Engineer (uncredited)\", \"credit_id\": \"52fe48019251416c750acb57\", \"gender\": 0, \"id\": 1062463, \"name\": \"Rhian Sheehan\", \"order\": 76}, {\"cast_id\": 97, \"character\": \"Col. Quaritch\\'s Mech Suit (uncredited)\", \"credit_id\": \"52fe48019251416c750acb5b\", \"gender\": 0, \"id\": 60656, \"name\": \"T. J. Storm\", \"order\": 77}, {\"cast_id\": 98, \"character\": \"Female Marine (uncredited)\", \"credit_id\": \"52fe48019251416c750acb5f\", \"gender\": 0, \"id\": 1207291, \"name\": \"Jodie Taylor\", \"order\": 78}, {\"cast_id\": 99, \"character\": \"Ikran Clan Leader (uncredited)\", \"credit_id\": \"52fe48019251416c750acb63\", \"gender\": 1, \"id\": 1186027, \"name\": \"Alicia Vela-Bailey\", \"order\": 79}, {\"cast_id\": 100, \"character\": \"Geologist (uncredited)\", \"credit_id\": \"52fe48019251416c750acb67\", \"gender\": 0, \"id\": 1207292, \"name\": \"Richard Whiteside\", \"order\": 80}, {\"cast_id\": 101, \"character\": \"Na\\'vi (uncredited)\", \"credit_id\": \"52fe48019251416c750acb6b\", \"gender\": 0, \"id\": 103259, \"name\": \"Nikie Zambo\", \"order\": 81}, {\"cast_id\": 102, \"character\": \"Ambient Room Tech / Troupe\", \"credit_id\": \"52fe48019251416c750acb6f\", \"gender\": 1, \"id\": 42286, \"name\": \"Julene Renee\", \"order\": 82}]'"
      ]
     },
     "execution_count": 1871,
     "metadata": {},
     "output_type": "execute_result"
    }
   ],
   "source": [
    "msg"
   ]
  },
  {
   "cell_type": "code",
   "execution_count": 1872,
   "id": "30927699-fb4e-42df-94d8-e45152b2024a",
   "metadata": {},
   "outputs": [
    {
     "data": {
      "text/plain": [
       "['Sam Worthington', 'Zoe Saldana', 'Sigourney Weaver']"
      ]
     },
     "execution_count": 1872,
     "metadata": {},
     "output_type": "execute_result"
    }
   ],
   "source": [
    "fetch_crew_first_three(msg)"
   ]
  },
  {
   "cell_type": "code",
   "execution_count": 1873,
   "id": "eb53b4c2-221b-4c83-a5e2-13e04f1781af",
   "metadata": {},
   "outputs": [],
   "source": [
    "df2['cast'] = df2['cast'].apply(fetch_crew_first_three)"
   ]
  },
  {
   "cell_type": "code",
   "execution_count": 1874,
   "id": "44d6ed38-5ddc-409d-a884-2895d2567ef3",
   "metadata": {},
   "outputs": [
    {
     "data": {
      "text/html": [
       "<div>\n",
       "<style scoped>\n",
       "    .dataframe tbody tr th:only-of-type {\n",
       "        vertical-align: middle;\n",
       "    }\n",
       "\n",
       "    .dataframe tbody tr th {\n",
       "        vertical-align: top;\n",
       "    }\n",
       "\n",
       "    .dataframe thead th {\n",
       "        text-align: right;\n",
       "    }\n",
       "</style>\n",
       "<table border=\"1\" class=\"dataframe\">\n",
       "  <thead>\n",
       "    <tr style=\"text-align: right;\">\n",
       "      <th></th>\n",
       "      <th>id</th>\n",
       "      <th>cast</th>\n",
       "      <th>crew</th>\n",
       "      <th>genres</th>\n",
       "      <th>keywords</th>\n",
       "      <th>original_language</th>\n",
       "      <th>original_title</th>\n",
       "      <th>overview</th>\n",
       "    </tr>\n",
       "  </thead>\n",
       "  <tbody>\n",
       "    <tr>\n",
       "      <th>0</th>\n",
       "      <td>19995</td>\n",
       "      <td>[Sam Worthington, Zoe Saldana, Sigourney Weaver]</td>\n",
       "      <td>[James Cameron]</td>\n",
       "      <td>[Action, Adventure, Fantasy, Science Fiction]</td>\n",
       "      <td>[culture clash, future, space war, space colon...</td>\n",
       "      <td>en</td>\n",
       "      <td>Avatar</td>\n",
       "      <td>In the 22nd century, a paraplegic Marine is di...</td>\n",
       "    </tr>\n",
       "  </tbody>\n",
       "</table>\n",
       "</div>"
      ],
      "text/plain": [
       "      id                                              cast             crew  \\\n",
       "0  19995  [Sam Worthington, Zoe Saldana, Sigourney Weaver]  [James Cameron]   \n",
       "\n",
       "                                          genres  \\\n",
       "0  [Action, Adventure, Fantasy, Science Fiction]   \n",
       "\n",
       "                                            keywords original_language  \\\n",
       "0  [culture clash, future, space war, space colon...                en   \n",
       "\n",
       "  original_title                                           overview  \n",
       "0         Avatar  In the 22nd century, a paraplegic Marine is di...  "
      ]
     },
     "execution_count": 1874,
     "metadata": {},
     "output_type": "execute_result"
    }
   ],
   "source": [
    "df2.head(1)"
   ]
  },
  {
   "cell_type": "code",
   "execution_count": 1875,
   "id": "74d6c95d-fcf7-4731-af4c-c18c15bf1858",
   "metadata": {},
   "outputs": [],
   "source": [
    "df2.rename(columns = {'crew':'director'}, inplace = True)"
   ]
  },
  {
   "cell_type": "code",
   "execution_count": 1876,
   "id": "c98e4319-6508-4f43-bda6-d8f2ebbbe379",
   "metadata": {},
   "outputs": [
    {
     "data": {
      "text/html": [
       "<div>\n",
       "<style scoped>\n",
       "    .dataframe tbody tr th:only-of-type {\n",
       "        vertical-align: middle;\n",
       "    }\n",
       "\n",
       "    .dataframe tbody tr th {\n",
       "        vertical-align: top;\n",
       "    }\n",
       "\n",
       "    .dataframe thead th {\n",
       "        text-align: right;\n",
       "    }\n",
       "</style>\n",
       "<table border=\"1\" class=\"dataframe\">\n",
       "  <thead>\n",
       "    <tr style=\"text-align: right;\">\n",
       "      <th></th>\n",
       "      <th>id</th>\n",
       "      <th>cast</th>\n",
       "      <th>director</th>\n",
       "      <th>genres</th>\n",
       "      <th>keywords</th>\n",
       "      <th>original_language</th>\n",
       "      <th>original_title</th>\n",
       "      <th>overview</th>\n",
       "    </tr>\n",
       "  </thead>\n",
       "  <tbody>\n",
       "    <tr>\n",
       "      <th>0</th>\n",
       "      <td>19995</td>\n",
       "      <td>[Sam Worthington, Zoe Saldana, Sigourney Weaver]</td>\n",
       "      <td>[James Cameron]</td>\n",
       "      <td>[Action, Adventure, Fantasy, Science Fiction]</td>\n",
       "      <td>[culture clash, future, space war, space colon...</td>\n",
       "      <td>en</td>\n",
       "      <td>Avatar</td>\n",
       "      <td>In the 22nd century, a paraplegic Marine is di...</td>\n",
       "    </tr>\n",
       "  </tbody>\n",
       "</table>\n",
       "</div>"
      ],
      "text/plain": [
       "      id                                              cast         director  \\\n",
       "0  19995  [Sam Worthington, Zoe Saldana, Sigourney Weaver]  [James Cameron]   \n",
       "\n",
       "                                          genres  \\\n",
       "0  [Action, Adventure, Fantasy, Science Fiction]   \n",
       "\n",
       "                                            keywords original_language  \\\n",
       "0  [culture clash, future, space war, space colon...                en   \n",
       "\n",
       "  original_title                                           overview  \n",
       "0         Avatar  In the 22nd century, a paraplegic Marine is di...  "
      ]
     },
     "execution_count": 1876,
     "metadata": {},
     "output_type": "execute_result"
    }
   ],
   "source": [
    "df2.head(1)"
   ]
  },
  {
   "cell_type": "code",
   "execution_count": 1877,
   "id": "dc61d547-15c1-4f0b-ac00-b62b76f12cfc",
   "metadata": {},
   "outputs": [],
   "source": [
    "#Preprocessing 'overview' column\n",
    "\n",
    "#Lowercasing\n",
    "\n",
    "df2['overview'] = df2['overview'].str.lower()\n",
    "\n",
    "\n",
    "# Removing HTML tags\n",
    "\n",
    "import re\n",
    "\n",
    "def remove_html(text):\n",
    "    pattern = re.compile('<.*?>')\n",
    "    return pattern.sub(r'', text)\n",
    "\n",
    "df2['overview'] = df2['overview'].apply(remove_html)\n",
    "# print(df.head())\n",
    "\n",
    "\n",
    "#Remove @\n",
    "\n",
    "def remove_at_the_rate(text):\n",
    "\n",
    "  ls = []\n",
    "  new = []\n",
    "\n",
    "  ls = nlp(text)\n",
    "\n",
    "  for word in ls:\n",
    "        if word.text != \"@\":\n",
    "            new.append(word.text)\n",
    "\n",
    "  return ' '.join(new)\n",
    "\n",
    "df2['overview'] = df2['overview'].apply(remove_at_the_rate)\n",
    "\n",
    "\n",
    "\n",
    "#Removing URL\n",
    "\n",
    "import re\n",
    "\n",
    "def remove_url(text):\n",
    "    pattern = re.compile(r'https?://\\S+|www\\.\\S+')\n",
    "    return pattern.sub(r'', text)\n",
    "\n",
    "df2['overview'] = df2['overview'].apply(remove_url)\n",
    "# print(df.head())\n",
    "\n",
    "\n",
    "#Remmove punctuation\n",
    "\n",
    "import string\n",
    "\n",
    "punc = string.punctuation\n",
    "\n",
    "def  remove_punc(text):\n",
    "\n",
    "    return text.translate(str.maketrans('', '', punc))\n",
    "\n",
    "df2['overview'] = df2['overview'].apply(remove_punc)\n",
    "\n",
    "\n",
    "#Correcting spelling\n",
    "\n",
    "# from textblob import TextBlob\n",
    "\n",
    "# def spell_check(text):\n",
    "\n",
    "#     textblb = TextBlob(text)\n",
    "#     return textblb.correct().string\n",
    "\n",
    "# X['remainder__text'] = X['remainder__text'].apply(spell_check)\n",
    "\n",
    "\n",
    "from autocorrect import Speller\n",
    "\n",
    "check = Speller()\n",
    "\n",
    "def check_spell(text):\n",
    "\n",
    "  return check(text)\n",
    "\n",
    "df2['overview'] = df2['overview'].apply(check_spell)\n",
    "\n",
    "\n",
    "# Removing stop words\n",
    "\n",
    "\n",
    "from nltk.corpus import stopwords\n",
    "\n",
    "stopwords = stopwords.words('english')\n",
    "\n",
    "def remove_stop_words(text):\n",
    "    ls = []\n",
    "    new = []\n",
    "\n",
    "    ls = nlp(text)\n",
    "\n",
    "    for word in ls:\n",
    "        if word.text not in stopwords:\n",
    "\n",
    "            new.append(word.text)\n",
    "\n",
    "    return ' '.join(new)\n",
    "\n",
    "df2['overview'] = df2['overview'].apply(remove_stop_words)\n",
    "\n",
    "\n",
    "#Removing Contradictions\n",
    "\n",
    "import contractions\n",
    "\n",
    "def remove_contradictions(text):\n",
    "\n",
    "  return \" \".join([contractions.fix(word.text) for word in nlp(text)])\n",
    "\n",
    "df2['overview'] = df2['overview'].apply(remove_contradictions)\n",
    "\n",
    "\n",
    "# #Lemmetization\n",
    "\n",
    "# from nltk.stem.wordnet import WordNetLemmatizer\n",
    "\n",
    "# lemmatizer = WordNetLemmatizer()\n",
    "\n",
    "def Lemmetization(text):\n",
    "\n",
    "  return \" \".join([word.lemma_ for word in nlp(text)])\n",
    "\n",
    "\n",
    "# #Stemming\n",
    "\n",
    "# from nltk.stem.porter import PorterStemmer\n",
    "\n",
    "# ps = PorterStemmer()\n",
    "# def stemming(text):\n",
    "\n",
    "#     return \" \".join([ps.stem(word.text) for word in nlp(text)])\n",
    "\n",
    "df2['overview'] = df2['overview'].apply(Lemmetization)\n",
    "\n",
    "\n"
   ]
  },
  {
   "cell_type": "code",
   "execution_count": 1878,
   "id": "b7c34e40-8320-4550-bee3-ec005a90c8c5",
   "metadata": {},
   "outputs": [],
   "source": [
    "#Tokenization of overview column"
   ]
  },
  {
   "cell_type": "code",
   "execution_count": 1879,
   "id": "0c40c9f0-16fb-4a74-8762-d61c2fdeeb93",
   "metadata": {},
   "outputs": [],
   "source": [
    "# from nltk.tokenize import sent_tokenize, word_tokenize\n",
    "\n",
    "# def token_nlp(string):\n",
    "#     ls = []\n",
    "#     # doc1 = nlp(string)\n",
    "#     doc1 = word_tokenize(string)\n",
    "#     ls.append(doc1)\n",
    "#     return ls"
   ]
  },
  {
   "cell_type": "code",
   "execution_count": 1880,
   "id": "a4b8eff4-7826-416a-be2e-5b993e71f2f8",
   "metadata": {},
   "outputs": [],
   "source": [
    "# df2['overview'] = df2['overview'].apply(token_nlp)"
   ]
  },
  {
   "cell_type": "code",
   "execution_count": 1881,
   "id": "3e4a7c7c-0545-4a8b-9ab5-acd92436d74f",
   "metadata": {},
   "outputs": [
    {
     "data": {
      "text/plain": [
       "'22nd century     paraplegic marine dispatch moon pandora unique mission     become torn follow order protect alien civilization'"
      ]
     },
     "execution_count": 1881,
     "metadata": {},
     "output_type": "execute_result"
    }
   ],
   "source": [
    "df2.iloc[0, 7]"
   ]
  },
  {
   "cell_type": "code",
   "execution_count": 1882,
   "id": "ce712d2a-ac19-4f2f-bbc0-78f730e23bea",
   "metadata": {},
   "outputs": [
    {
     "data": {
      "text/html": [
       "<div>\n",
       "<style scoped>\n",
       "    .dataframe tbody tr th:only-of-type {\n",
       "        vertical-align: middle;\n",
       "    }\n",
       "\n",
       "    .dataframe tbody tr th {\n",
       "        vertical-align: top;\n",
       "    }\n",
       "\n",
       "    .dataframe thead th {\n",
       "        text-align: right;\n",
       "    }\n",
       "</style>\n",
       "<table border=\"1\" class=\"dataframe\">\n",
       "  <thead>\n",
       "    <tr style=\"text-align: right;\">\n",
       "      <th></th>\n",
       "      <th>id</th>\n",
       "      <th>cast</th>\n",
       "      <th>director</th>\n",
       "      <th>genres</th>\n",
       "      <th>keywords</th>\n",
       "      <th>original_language</th>\n",
       "      <th>original_title</th>\n",
       "      <th>overview</th>\n",
       "    </tr>\n",
       "  </thead>\n",
       "  <tbody>\n",
       "    <tr>\n",
       "      <th>0</th>\n",
       "      <td>19995</td>\n",
       "      <td>[Sam Worthington, Zoe Saldana, Sigourney Weaver]</td>\n",
       "      <td>[James Cameron]</td>\n",
       "      <td>[Action, Adventure, Fantasy, Science Fiction]</td>\n",
       "      <td>[culture clash, future, space war, space colon...</td>\n",
       "      <td>en</td>\n",
       "      <td>Avatar</td>\n",
       "      <td>22nd century     paraplegic marine dispatch mo...</td>\n",
       "    </tr>\n",
       "  </tbody>\n",
       "</table>\n",
       "</div>"
      ],
      "text/plain": [
       "      id                                              cast         director  \\\n",
       "0  19995  [Sam Worthington, Zoe Saldana, Sigourney Weaver]  [James Cameron]   \n",
       "\n",
       "                                          genres  \\\n",
       "0  [Action, Adventure, Fantasy, Science Fiction]   \n",
       "\n",
       "                                            keywords original_language  \\\n",
       "0  [culture clash, future, space war, space colon...                en   \n",
       "\n",
       "  original_title                                           overview  \n",
       "0         Avatar  22nd century     paraplegic marine dispatch mo...  "
      ]
     },
     "execution_count": 1882,
     "metadata": {},
     "output_type": "execute_result"
    }
   ],
   "source": [
    "df2.head(1)"
   ]
  },
  {
   "cell_type": "code",
   "execution_count": 1883,
   "id": "30a1b861-a290-4472-8024-41d23ef31107",
   "metadata": {},
   "outputs": [],
   "source": [
    "df2['tags'] = df2.sum(axis=1)"
   ]
  },
  {
   "cell_type": "code",
   "execution_count": 1884,
   "id": "7d44db0a-9df9-40c8-bd53-7b10265d88a1",
   "metadata": {},
   "outputs": [
    {
     "data": {
      "text/html": [
       "<div>\n",
       "<style scoped>\n",
       "    .dataframe tbody tr th:only-of-type {\n",
       "        vertical-align: middle;\n",
       "    }\n",
       "\n",
       "    .dataframe tbody tr th {\n",
       "        vertical-align: top;\n",
       "    }\n",
       "\n",
       "    .dataframe thead th {\n",
       "        text-align: right;\n",
       "    }\n",
       "</style>\n",
       "<table border=\"1\" class=\"dataframe\">\n",
       "  <thead>\n",
       "    <tr style=\"text-align: right;\">\n",
       "      <th></th>\n",
       "      <th>id</th>\n",
       "      <th>cast</th>\n",
       "      <th>director</th>\n",
       "      <th>genres</th>\n",
       "      <th>keywords</th>\n",
       "      <th>original_language</th>\n",
       "      <th>original_title</th>\n",
       "      <th>overview</th>\n",
       "      <th>tags</th>\n",
       "    </tr>\n",
       "  </thead>\n",
       "  <tbody>\n",
       "    <tr>\n",
       "      <th>0</th>\n",
       "      <td>19995</td>\n",
       "      <td>[Sam Worthington, Zoe Saldana, Sigourney Weaver]</td>\n",
       "      <td>[James Cameron]</td>\n",
       "      <td>[Action, Adventure, Fantasy, Science Fiction]</td>\n",
       "      <td>[culture clash, future, space war, space colon...</td>\n",
       "      <td>en</td>\n",
       "      <td>Avatar</td>\n",
       "      <td>22nd century     paraplegic marine dispatch mo...</td>\n",
       "      <td>19995</td>\n",
       "    </tr>\n",
       "  </tbody>\n",
       "</table>\n",
       "</div>"
      ],
      "text/plain": [
       "      id                                              cast         director  \\\n",
       "0  19995  [Sam Worthington, Zoe Saldana, Sigourney Weaver]  [James Cameron]   \n",
       "\n",
       "                                          genres  \\\n",
       "0  [Action, Adventure, Fantasy, Science Fiction]   \n",
       "\n",
       "                                            keywords original_language  \\\n",
       "0  [culture clash, future, space war, space colon...                en   \n",
       "\n",
       "  original_title                                           overview   tags  \n",
       "0         Avatar  22nd century     paraplegic marine dispatch mo...  19995  "
      ]
     },
     "execution_count": 1884,
     "metadata": {},
     "output_type": "execute_result"
    }
   ],
   "source": [
    "df2.head(1)"
   ]
  },
  {
   "cell_type": "code",
   "execution_count": 1885,
   "id": "d1929543-3e56-4175-aadb-00f184dd0228",
   "metadata": {},
   "outputs": [],
   "source": [
    "#Removing spaces between names in cast and crew column"
   ]
  },
  {
   "cell_type": "code",
   "execution_count": 1886,
   "id": "8b5fa86f-174c-4c31-a04f-53255da95d6a",
   "metadata": {},
   "outputs": [],
   "source": [
    "def remove_spaces(ls):\n",
    "    for i in range(len(ls)):\n",
    "        ls[i] = ls[i].replace(' ', '')\n",
    "    return ls\n",
    "        # print(ls[i])"
   ]
  },
  {
   "cell_type": "code",
   "execution_count": 1887,
   "id": "d113ef88-e6d0-4cfc-8da8-5475882ccd82",
   "metadata": {},
   "outputs": [],
   "source": [
    "ls1 = df2.iloc[0, 1]"
   ]
  },
  {
   "cell_type": "code",
   "execution_count": 1888,
   "id": "65186383-fc44-4d53-91e9-2828a57da6d2",
   "metadata": {},
   "outputs": [
    {
     "data": {
      "text/plain": [
       "['Sam Worthington', 'Zoe Saldana', 'Sigourney Weaver']"
      ]
     },
     "execution_count": 1888,
     "metadata": {},
     "output_type": "execute_result"
    }
   ],
   "source": [
    "ls1"
   ]
  },
  {
   "cell_type": "code",
   "execution_count": 1889,
   "id": "95c92d70-c64e-4f0b-9261-7a27c26b2b2a",
   "metadata": {},
   "outputs": [
    {
     "data": {
      "text/plain": [
       "['SamWorthington', 'ZoeSaldana', 'SigourneyWeaver']"
      ]
     },
     "execution_count": 1889,
     "metadata": {},
     "output_type": "execute_result"
    }
   ],
   "source": [
    "remove_spaces(ls1)"
   ]
  },
  {
   "cell_type": "code",
   "execution_count": 1890,
   "id": "964f2192-d134-4941-ac2e-089afed3f2cf",
   "metadata": {},
   "outputs": [],
   "source": [
    "df2.drop(columns='tags', axis=1, inplace=True)"
   ]
  },
  {
   "cell_type": "code",
   "execution_count": 1891,
   "id": "c130edef-16c5-404d-9d0b-476113de7a00",
   "metadata": {},
   "outputs": [
    {
     "data": {
      "text/html": [
       "<div>\n",
       "<style scoped>\n",
       "    .dataframe tbody tr th:only-of-type {\n",
       "        vertical-align: middle;\n",
       "    }\n",
       "\n",
       "    .dataframe tbody tr th {\n",
       "        vertical-align: top;\n",
       "    }\n",
       "\n",
       "    .dataframe thead th {\n",
       "        text-align: right;\n",
       "    }\n",
       "</style>\n",
       "<table border=\"1\" class=\"dataframe\">\n",
       "  <thead>\n",
       "    <tr style=\"text-align: right;\">\n",
       "      <th></th>\n",
       "      <th>id</th>\n",
       "      <th>cast</th>\n",
       "      <th>director</th>\n",
       "      <th>genres</th>\n",
       "      <th>keywords</th>\n",
       "      <th>original_language</th>\n",
       "      <th>original_title</th>\n",
       "      <th>overview</th>\n",
       "    </tr>\n",
       "  </thead>\n",
       "  <tbody>\n",
       "    <tr>\n",
       "      <th>0</th>\n",
       "      <td>19995</td>\n",
       "      <td>[SamWorthington, ZoeSaldana, SigourneyWeaver]</td>\n",
       "      <td>[James Cameron]</td>\n",
       "      <td>[Action, Adventure, Fantasy, Science Fiction]</td>\n",
       "      <td>[culture clash, future, space war, space colon...</td>\n",
       "      <td>en</td>\n",
       "      <td>Avatar</td>\n",
       "      <td>22nd century     paraplegic marine dispatch mo...</td>\n",
       "    </tr>\n",
       "  </tbody>\n",
       "</table>\n",
       "</div>"
      ],
      "text/plain": [
       "      id                                           cast         director  \\\n",
       "0  19995  [SamWorthington, ZoeSaldana, SigourneyWeaver]  [James Cameron]   \n",
       "\n",
       "                                          genres  \\\n",
       "0  [Action, Adventure, Fantasy, Science Fiction]   \n",
       "\n",
       "                                            keywords original_language  \\\n",
       "0  [culture clash, future, space war, space colon...                en   \n",
       "\n",
       "  original_title                                           overview  \n",
       "0         Avatar  22nd century     paraplegic marine dispatch mo...  "
      ]
     },
     "execution_count": 1891,
     "metadata": {},
     "output_type": "execute_result"
    }
   ],
   "source": [
    "df2.head(1)"
   ]
  },
  {
   "cell_type": "code",
   "execution_count": 1892,
   "id": "03e61869-bdd6-4409-a3e6-b7df1ce76b6b",
   "metadata": {},
   "outputs": [],
   "source": [
    "df2['cast'] = df2['cast'].apply(remove_spaces)"
   ]
  },
  {
   "cell_type": "code",
   "execution_count": 1893,
   "id": "a3a0091e-b60f-4f9b-8a69-a9e16caace35",
   "metadata": {},
   "outputs": [],
   "source": [
    "df2['director'] = df2['director'].apply(remove_spaces)"
   ]
  },
  {
   "cell_type": "code",
   "execution_count": 1894,
   "id": "078ef678-85d0-4eb9-adec-4ec96e3abf51",
   "metadata": {},
   "outputs": [],
   "source": [
    "# df2['genres'] = df2['genres'].apply(remove_spaces)"
   ]
  },
  {
   "cell_type": "code",
   "execution_count": 1895,
   "id": "4a1d3f62-381e-4266-9a1f-65c8e2a7f28b",
   "metadata": {},
   "outputs": [
    {
     "data": {
      "text/html": [
       "<div>\n",
       "<style scoped>\n",
       "    .dataframe tbody tr th:only-of-type {\n",
       "        vertical-align: middle;\n",
       "    }\n",
       "\n",
       "    .dataframe tbody tr th {\n",
       "        vertical-align: top;\n",
       "    }\n",
       "\n",
       "    .dataframe thead th {\n",
       "        text-align: right;\n",
       "    }\n",
       "</style>\n",
       "<table border=\"1\" class=\"dataframe\">\n",
       "  <thead>\n",
       "    <tr style=\"text-align: right;\">\n",
       "      <th></th>\n",
       "      <th>id</th>\n",
       "      <th>cast</th>\n",
       "      <th>director</th>\n",
       "      <th>genres</th>\n",
       "      <th>keywords</th>\n",
       "      <th>original_language</th>\n",
       "      <th>original_title</th>\n",
       "      <th>overview</th>\n",
       "    </tr>\n",
       "  </thead>\n",
       "  <tbody>\n",
       "    <tr>\n",
       "      <th>0</th>\n",
       "      <td>19995</td>\n",
       "      <td>[SamWorthington, ZoeSaldana, SigourneyWeaver]</td>\n",
       "      <td>[JamesCameron]</td>\n",
       "      <td>[Action, Adventure, Fantasy, Science Fiction]</td>\n",
       "      <td>[culture clash, future, space war, space colon...</td>\n",
       "      <td>en</td>\n",
       "      <td>Avatar</td>\n",
       "      <td>22nd century     paraplegic marine dispatch mo...</td>\n",
       "    </tr>\n",
       "  </tbody>\n",
       "</table>\n",
       "</div>"
      ],
      "text/plain": [
       "      id                                           cast        director  \\\n",
       "0  19995  [SamWorthington, ZoeSaldana, SigourneyWeaver]  [JamesCameron]   \n",
       "\n",
       "                                          genres  \\\n",
       "0  [Action, Adventure, Fantasy, Science Fiction]   \n",
       "\n",
       "                                            keywords original_language  \\\n",
       "0  [culture clash, future, space war, space colon...                en   \n",
       "\n",
       "  original_title                                           overview  \n",
       "0         Avatar  22nd century     paraplegic marine dispatch mo...  "
      ]
     },
     "execution_count": 1895,
     "metadata": {},
     "output_type": "execute_result"
    }
   ],
   "source": [
    "df2.head(1)"
   ]
  },
  {
   "cell_type": "code",
   "execution_count": 1896,
   "id": "17cd9a83-534a-428b-adb8-5ca1e20dc0c8",
   "metadata": {},
   "outputs": [],
   "source": [
    "# df2['keywords'] = df2['keywords'].apply(remove_spaces)"
   ]
  },
  {
   "cell_type": "code",
   "execution_count": 1897,
   "id": "f8508778-de46-4bd2-844a-ba0ca7fe9ec1",
   "metadata": {},
   "outputs": [],
   "source": [
    "df2['combined'] = df2['cast'] + df2['director'] + df2['genres'] + df2['keywords'] "
   ]
  },
  {
   "cell_type": "code",
   "execution_count": 1898,
   "id": "b4379f33-1b9a-405d-b583-12ef1b08d330",
   "metadata": {},
   "outputs": [
    {
     "data": {
      "text/html": [
       "<div>\n",
       "<style scoped>\n",
       "    .dataframe tbody tr th:only-of-type {\n",
       "        vertical-align: middle;\n",
       "    }\n",
       "\n",
       "    .dataframe tbody tr th {\n",
       "        vertical-align: top;\n",
       "    }\n",
       "\n",
       "    .dataframe thead th {\n",
       "        text-align: right;\n",
       "    }\n",
       "</style>\n",
       "<table border=\"1\" class=\"dataframe\">\n",
       "  <thead>\n",
       "    <tr style=\"text-align: right;\">\n",
       "      <th></th>\n",
       "      <th>id</th>\n",
       "      <th>cast</th>\n",
       "      <th>director</th>\n",
       "      <th>genres</th>\n",
       "      <th>keywords</th>\n",
       "      <th>original_language</th>\n",
       "      <th>original_title</th>\n",
       "      <th>overview</th>\n",
       "      <th>combined</th>\n",
       "    </tr>\n",
       "  </thead>\n",
       "  <tbody>\n",
       "    <tr>\n",
       "      <th>0</th>\n",
       "      <td>19995</td>\n",
       "      <td>[SamWorthington, ZoeSaldana, SigourneyWeaver]</td>\n",
       "      <td>[JamesCameron]</td>\n",
       "      <td>[Action, Adventure, Fantasy, Science Fiction]</td>\n",
       "      <td>[culture clash, future, space war, space colon...</td>\n",
       "      <td>en</td>\n",
       "      <td>Avatar</td>\n",
       "      <td>22nd century     paraplegic marine dispatch mo...</td>\n",
       "      <td>[SamWorthington, ZoeSaldana, SigourneyWeaver, ...</td>\n",
       "    </tr>\n",
       "  </tbody>\n",
       "</table>\n",
       "</div>"
      ],
      "text/plain": [
       "      id                                           cast        director  \\\n",
       "0  19995  [SamWorthington, ZoeSaldana, SigourneyWeaver]  [JamesCameron]   \n",
       "\n",
       "                                          genres  \\\n",
       "0  [Action, Adventure, Fantasy, Science Fiction]   \n",
       "\n",
       "                                            keywords original_language  \\\n",
       "0  [culture clash, future, space war, space colon...                en   \n",
       "\n",
       "  original_title                                           overview  \\\n",
       "0         Avatar  22nd century     paraplegic marine dispatch mo...   \n",
       "\n",
       "                                            combined  \n",
       "0  [SamWorthington, ZoeSaldana, SigourneyWeaver, ...  "
      ]
     },
     "execution_count": 1898,
     "metadata": {},
     "output_type": "execute_result"
    }
   ],
   "source": [
    "df2.head(1)"
   ]
  },
  {
   "cell_type": "code",
   "execution_count": 1899,
   "id": "254c0008-7b9e-492c-8231-556809c07e5e",
   "metadata": {},
   "outputs": [],
   "source": [
    "msg = df2.iloc[0, 7]"
   ]
  },
  {
   "cell_type": "code",
   "execution_count": 1900,
   "id": "50b55d6d-cc1f-4e75-b3b9-fb447f279cdb",
   "metadata": {},
   "outputs": [
    {
     "data": {
      "text/plain": [
       "['SamWorthington',\n",
       " 'ZoeSaldana',\n",
       " 'SigourneyWeaver',\n",
       " 'JamesCameron',\n",
       " 'Action',\n",
       " 'Adventure',\n",
       " 'Fantasy',\n",
       " 'Science Fiction',\n",
       " 'culture clash',\n",
       " 'future',\n",
       " 'space war',\n",
       " 'space colony',\n",
       " 'society',\n",
       " 'space travel',\n",
       " 'futuristic',\n",
       " 'romance',\n",
       " 'space',\n",
       " 'alien',\n",
       " 'tribe',\n",
       " 'alien planet',\n",
       " 'cgi',\n",
       " 'marine',\n",
       " 'soldier',\n",
       " 'battle',\n",
       " 'love affair',\n",
       " 'anti war',\n",
       " 'power relations',\n",
       " 'mind and soul',\n",
       " '3d']"
      ]
     },
     "execution_count": 1900,
     "metadata": {},
     "output_type": "execute_result"
    }
   ],
   "source": [
    "df2.iloc[0, 8]"
   ]
  },
  {
   "cell_type": "code",
   "execution_count": 1901,
   "id": "3f9348c2-6307-40f7-83a2-56d3c8d3fc8c",
   "metadata": {},
   "outputs": [],
   "source": [
    "def replace_big_spaces(string):\n",
    "    string = string.replace('  ', '')\n",
    "    return string"
   ]
  },
  {
   "cell_type": "code",
   "execution_count": 1902,
   "id": "840e328a-ed91-4f2c-8ca6-459976d216e0",
   "metadata": {},
   "outputs": [
    {
     "data": {
      "text/plain": [
       "'22nd century paraplegic marine dispatch moon pandora unique mission become torn follow order protect alien civilization'"
      ]
     },
     "execution_count": 1902,
     "metadata": {},
     "output_type": "execute_result"
    }
   ],
   "source": [
    "replace_big_spaces(msg)"
   ]
  },
  {
   "cell_type": "code",
   "execution_count": 1903,
   "id": "f072e2c6-4037-4504-8a28-c203459e90c5",
   "metadata": {},
   "outputs": [],
   "source": [
    "df2['overview'] = df2['overview'].apply(replace_big_spaces)"
   ]
  },
  {
   "cell_type": "code",
   "execution_count": 1904,
   "id": "e08e229f-040b-4ab9-b252-05f34425076c",
   "metadata": {},
   "outputs": [
    {
     "data": {
      "text/html": [
       "<div>\n",
       "<style scoped>\n",
       "    .dataframe tbody tr th:only-of-type {\n",
       "        vertical-align: middle;\n",
       "    }\n",
       "\n",
       "    .dataframe tbody tr th {\n",
       "        vertical-align: top;\n",
       "    }\n",
       "\n",
       "    .dataframe thead th {\n",
       "        text-align: right;\n",
       "    }\n",
       "</style>\n",
       "<table border=\"1\" class=\"dataframe\">\n",
       "  <thead>\n",
       "    <tr style=\"text-align: right;\">\n",
       "      <th></th>\n",
       "      <th>id</th>\n",
       "      <th>cast</th>\n",
       "      <th>director</th>\n",
       "      <th>genres</th>\n",
       "      <th>keywords</th>\n",
       "      <th>original_language</th>\n",
       "      <th>original_title</th>\n",
       "      <th>overview</th>\n",
       "      <th>combined</th>\n",
       "    </tr>\n",
       "  </thead>\n",
       "  <tbody>\n",
       "    <tr>\n",
       "      <th>0</th>\n",
       "      <td>19995</td>\n",
       "      <td>[SamWorthington, ZoeSaldana, SigourneyWeaver]</td>\n",
       "      <td>[JamesCameron]</td>\n",
       "      <td>[Action, Adventure, Fantasy, Science Fiction]</td>\n",
       "      <td>[culture clash, future, space war, space colon...</td>\n",
       "      <td>en</td>\n",
       "      <td>Avatar</td>\n",
       "      <td>22nd century paraplegic marine dispatch moon p...</td>\n",
       "      <td>[SamWorthington, ZoeSaldana, SigourneyWeaver, ...</td>\n",
       "    </tr>\n",
       "    <tr>\n",
       "      <th>1</th>\n",
       "      <td>285</td>\n",
       "      <td>[JohnnyDepp, OrlandoBloom, KeiraKnightley]</td>\n",
       "      <td>[GoreVerbinski]</td>\n",
       "      <td>[Adventure, Fantasy, Action]</td>\n",
       "      <td>[ocean, drug abuse, exotic island, east india ...</td>\n",
       "      <td>en</td>\n",
       "      <td>Pirates of the Caribbean: At World's End</td>\n",
       "      <td>captain barbossa long believe dead come back l...</td>\n",
       "      <td>[JohnnyDepp, OrlandoBloom, KeiraKnightley, Gor...</td>\n",
       "    </tr>\n",
       "    <tr>\n",
       "      <th>2</th>\n",
       "      <td>206647</td>\n",
       "      <td>[DanielCraig, ChristophWaltz, LéaSeydoux]</td>\n",
       "      <td>[SamMendes]</td>\n",
       "      <td>[Action, Adventure, Crime]</td>\n",
       "      <td>[spy, based on novel, secret agent, sequel, mi...</td>\n",
       "      <td>en</td>\n",
       "      <td>Spectre</td>\n",
       "      <td>cryptic message bond ’s past send trail uncove...</td>\n",
       "      <td>[DanielCraig, ChristophWaltz, LéaSeydoux, SamM...</td>\n",
       "    </tr>\n",
       "    <tr>\n",
       "      <th>3</th>\n",
       "      <td>49026</td>\n",
       "      <td>[ChristianBale, MichaelCaine, GaryOldman]</td>\n",
       "      <td>[ChristopherNolan]</td>\n",
       "      <td>[Action, Crime, Drama, Thriller]</td>\n",
       "      <td>[dc comics, crime fighter, terrorist, secret i...</td>\n",
       "      <td>en</td>\n",
       "      <td>The Dark Knight Rises</td>\n",
       "      <td>follow death district attorney harvey dent bat...</td>\n",
       "      <td>[ChristianBale, MichaelCaine, GaryOldman, Chri...</td>\n",
       "    </tr>\n",
       "    <tr>\n",
       "      <th>4</th>\n",
       "      <td>49529</td>\n",
       "      <td>[TaylorKitsch, LynnCollins, SamanthaMorton]</td>\n",
       "      <td>[AndrewStanton]</td>\n",
       "      <td>[Action, Adventure, Science Fiction]</td>\n",
       "      <td>[based on novel, mars, medallion, space travel...</td>\n",
       "      <td>en</td>\n",
       "      <td>John Carter</td>\n",
       "      <td>john carter war weary former military captain ...</td>\n",
       "      <td>[TaylorKitsch, LynnCollins, SamanthaMorton, An...</td>\n",
       "    </tr>\n",
       "  </tbody>\n",
       "</table>\n",
       "</div>"
      ],
      "text/plain": [
       "       id                                           cast            director  \\\n",
       "0   19995  [SamWorthington, ZoeSaldana, SigourneyWeaver]      [JamesCameron]   \n",
       "1     285     [JohnnyDepp, OrlandoBloom, KeiraKnightley]     [GoreVerbinski]   \n",
       "2  206647      [DanielCraig, ChristophWaltz, LéaSeydoux]         [SamMendes]   \n",
       "3   49026      [ChristianBale, MichaelCaine, GaryOldman]  [ChristopherNolan]   \n",
       "4   49529    [TaylorKitsch, LynnCollins, SamanthaMorton]     [AndrewStanton]   \n",
       "\n",
       "                                          genres  \\\n",
       "0  [Action, Adventure, Fantasy, Science Fiction]   \n",
       "1                   [Adventure, Fantasy, Action]   \n",
       "2                     [Action, Adventure, Crime]   \n",
       "3               [Action, Crime, Drama, Thriller]   \n",
       "4           [Action, Adventure, Science Fiction]   \n",
       "\n",
       "                                            keywords original_language  \\\n",
       "0  [culture clash, future, space war, space colon...                en   \n",
       "1  [ocean, drug abuse, exotic island, east india ...                en   \n",
       "2  [spy, based on novel, secret agent, sequel, mi...                en   \n",
       "3  [dc comics, crime fighter, terrorist, secret i...                en   \n",
       "4  [based on novel, mars, medallion, space travel...                en   \n",
       "\n",
       "                             original_title  \\\n",
       "0                                    Avatar   \n",
       "1  Pirates of the Caribbean: At World's End   \n",
       "2                                   Spectre   \n",
       "3                     The Dark Knight Rises   \n",
       "4                               John Carter   \n",
       "\n",
       "                                            overview  \\\n",
       "0  22nd century paraplegic marine dispatch moon p...   \n",
       "1  captain barbossa long believe dead come back l...   \n",
       "2  cryptic message bond ’s past send trail uncove...   \n",
       "3  follow death district attorney harvey dent bat...   \n",
       "4  john carter war weary former military captain ...   \n",
       "\n",
       "                                            combined  \n",
       "0  [SamWorthington, ZoeSaldana, SigourneyWeaver, ...  \n",
       "1  [JohnnyDepp, OrlandoBloom, KeiraKnightley, Gor...  \n",
       "2  [DanielCraig, ChristophWaltz, LéaSeydoux, SamM...  \n",
       "3  [ChristianBale, MichaelCaine, GaryOldman, Chri...  \n",
       "4  [TaylorKitsch, LynnCollins, SamanthaMorton, An...  "
      ]
     },
     "execution_count": 1904,
     "metadata": {},
     "output_type": "execute_result"
    }
   ],
   "source": [
    "df2.head(5)"
   ]
  },
  {
   "cell_type": "code",
   "execution_count": 1905,
   "id": "97480ecd-4700-4459-9d6c-b297f6c37e86",
   "metadata": {},
   "outputs": [],
   "source": [
    "msg = df2.iloc[0, 7]"
   ]
  },
  {
   "cell_type": "code",
   "execution_count": 1906,
   "id": "33242232-ffb7-43e5-94fb-5415bdc4e01d",
   "metadata": {},
   "outputs": [
    {
     "data": {
      "text/plain": [
       "'22nd century paraplegic marine dispatch moon pandora unique mission become torn follow order protect alien civilization'"
      ]
     },
     "execution_count": 1906,
     "metadata": {},
     "output_type": "execute_result"
    }
   ],
   "source": [
    "msg"
   ]
  },
  {
   "cell_type": "code",
   "execution_count": 1907,
   "id": "9096ee15-3241-498a-92cb-204ad64a259a",
   "metadata": {},
   "outputs": [],
   "source": [
    "def list_to_string(ls):\n",
    "    st=\"\"\n",
    "    \n",
    "    for i in ls:\n",
    "        st = ' '.join(ls)\n",
    "    return st"
   ]
  },
  {
   "cell_type": "code",
   "execution_count": 1908,
   "id": "fd6afcb9-df83-4f8c-9bc2-84c1a6193ab3",
   "metadata": {},
   "outputs": [],
   "source": [
    "msg = df2.iloc[0, 8]"
   ]
  },
  {
   "cell_type": "code",
   "execution_count": 1909,
   "id": "ae4deed2-a837-4e4a-98b3-e6a921ec1490",
   "metadata": {},
   "outputs": [
    {
     "data": {
      "text/plain": [
       "['SamWorthington',\n",
       " 'ZoeSaldana',\n",
       " 'SigourneyWeaver',\n",
       " 'JamesCameron',\n",
       " 'Action',\n",
       " 'Adventure',\n",
       " 'Fantasy',\n",
       " 'Science Fiction',\n",
       " 'culture clash',\n",
       " 'future',\n",
       " 'space war',\n",
       " 'space colony',\n",
       " 'society',\n",
       " 'space travel',\n",
       " 'futuristic',\n",
       " 'romance',\n",
       " 'space',\n",
       " 'alien',\n",
       " 'tribe',\n",
       " 'alien planet',\n",
       " 'cgi',\n",
       " 'marine',\n",
       " 'soldier',\n",
       " 'battle',\n",
       " 'love affair',\n",
       " 'anti war',\n",
       " 'power relations',\n",
       " 'mind and soul',\n",
       " '3d']"
      ]
     },
     "execution_count": 1909,
     "metadata": {},
     "output_type": "execute_result"
    }
   ],
   "source": [
    "msg"
   ]
  },
  {
   "cell_type": "code",
   "execution_count": 1910,
   "id": "1c75cfa7-e4e4-4592-87f1-28eb5aa3a11c",
   "metadata": {},
   "outputs": [
    {
     "data": {
      "text/plain": [
       "'SamWorthington ZoeSaldana SigourneyWeaver JamesCameron Action Adventure Fantasy Science Fiction culture clash future space war space colony society space travel futuristic romance space alien tribe alien planet cgi marine soldier battle love affair anti war power relations mind and soul 3d'"
      ]
     },
     "execution_count": 1910,
     "metadata": {},
     "output_type": "execute_result"
    }
   ],
   "source": [
    "list_to_string(msg)"
   ]
  },
  {
   "cell_type": "code",
   "execution_count": 1911,
   "id": "e0447573-0058-4798-a5b3-7d1f0ac7d985",
   "metadata": {},
   "outputs": [],
   "source": [
    "df2['combined'] = df2['combined'].apply(list_to_string)"
   ]
  },
  {
   "cell_type": "code",
   "execution_count": 1912,
   "id": "6e08151f-126d-46b2-a57f-7f096a8112b1",
   "metadata": {},
   "outputs": [
    {
     "data": {
      "text/html": [
       "<div>\n",
       "<style scoped>\n",
       "    .dataframe tbody tr th:only-of-type {\n",
       "        vertical-align: middle;\n",
       "    }\n",
       "\n",
       "    .dataframe tbody tr th {\n",
       "        vertical-align: top;\n",
       "    }\n",
       "\n",
       "    .dataframe thead th {\n",
       "        text-align: right;\n",
       "    }\n",
       "</style>\n",
       "<table border=\"1\" class=\"dataframe\">\n",
       "  <thead>\n",
       "    <tr style=\"text-align: right;\">\n",
       "      <th></th>\n",
       "      <th>id</th>\n",
       "      <th>cast</th>\n",
       "      <th>director</th>\n",
       "      <th>genres</th>\n",
       "      <th>keywords</th>\n",
       "      <th>original_language</th>\n",
       "      <th>original_title</th>\n",
       "      <th>overview</th>\n",
       "      <th>combined</th>\n",
       "    </tr>\n",
       "  </thead>\n",
       "  <tbody>\n",
       "    <tr>\n",
       "      <th>0</th>\n",
       "      <td>19995</td>\n",
       "      <td>[SamWorthington, ZoeSaldana, SigourneyWeaver]</td>\n",
       "      <td>[JamesCameron]</td>\n",
       "      <td>[Action, Adventure, Fantasy, Science Fiction]</td>\n",
       "      <td>[culture clash, future, space war, space colon...</td>\n",
       "      <td>en</td>\n",
       "      <td>Avatar</td>\n",
       "      <td>22nd century paraplegic marine dispatch moon p...</td>\n",
       "      <td>SamWorthington ZoeSaldana SigourneyWeaver Jame...</td>\n",
       "    </tr>\n",
       "  </tbody>\n",
       "</table>\n",
       "</div>"
      ],
      "text/plain": [
       "      id                                           cast        director  \\\n",
       "0  19995  [SamWorthington, ZoeSaldana, SigourneyWeaver]  [JamesCameron]   \n",
       "\n",
       "                                          genres  \\\n",
       "0  [Action, Adventure, Fantasy, Science Fiction]   \n",
       "\n",
       "                                            keywords original_language  \\\n",
       "0  [culture clash, future, space war, space colon...                en   \n",
       "\n",
       "  original_title                                           overview  \\\n",
       "0         Avatar  22nd century paraplegic marine dispatch moon p...   \n",
       "\n",
       "                                            combined  \n",
       "0  SamWorthington ZoeSaldana SigourneyWeaver Jame...  "
      ]
     },
     "execution_count": 1912,
     "metadata": {},
     "output_type": "execute_result"
    }
   ],
   "source": [
    "df2.head(1)"
   ]
  },
  {
   "cell_type": "code",
   "execution_count": 1913,
   "id": "2ee70d7c-9209-4f3d-8035-221895ddee53",
   "metadata": {},
   "outputs": [],
   "source": [
    "def insert_space_at_beginning(string):\n",
    "    string = ' ' + string\n",
    "    return string"
   ]
  },
  {
   "cell_type": "code",
   "execution_count": 1914,
   "id": "86b8ea5b-5201-402d-9f41-08e35101c513",
   "metadata": {},
   "outputs": [],
   "source": [
    "df2['overview']=df2['overview'].apply(insert_space_at_beginning)"
   ]
  },
  {
   "cell_type": "code",
   "execution_count": 1915,
   "id": "d614941d-c021-4454-a97c-6828c1c20839",
   "metadata": {},
   "outputs": [],
   "source": [
    "df2['tags'] = df2['combined'] + df2['overview']"
   ]
  },
  {
   "cell_type": "code",
   "execution_count": 1916,
   "id": "01b3cad8-13e6-45f2-87c8-ed43618e0e42",
   "metadata": {},
   "outputs": [
    {
     "data": {
      "text/html": [
       "<div>\n",
       "<style scoped>\n",
       "    .dataframe tbody tr th:only-of-type {\n",
       "        vertical-align: middle;\n",
       "    }\n",
       "\n",
       "    .dataframe tbody tr th {\n",
       "        vertical-align: top;\n",
       "    }\n",
       "\n",
       "    .dataframe thead th {\n",
       "        text-align: right;\n",
       "    }\n",
       "</style>\n",
       "<table border=\"1\" class=\"dataframe\">\n",
       "  <thead>\n",
       "    <tr style=\"text-align: right;\">\n",
       "      <th></th>\n",
       "      <th>id</th>\n",
       "      <th>cast</th>\n",
       "      <th>director</th>\n",
       "      <th>genres</th>\n",
       "      <th>keywords</th>\n",
       "      <th>original_language</th>\n",
       "      <th>original_title</th>\n",
       "      <th>overview</th>\n",
       "      <th>combined</th>\n",
       "      <th>tags</th>\n",
       "    </tr>\n",
       "  </thead>\n",
       "  <tbody>\n",
       "    <tr>\n",
       "      <th>0</th>\n",
       "      <td>19995</td>\n",
       "      <td>[SamWorthington, ZoeSaldana, SigourneyWeaver]</td>\n",
       "      <td>[JamesCameron]</td>\n",
       "      <td>[Action, Adventure, Fantasy, Science Fiction]</td>\n",
       "      <td>[culture clash, future, space war, space colon...</td>\n",
       "      <td>en</td>\n",
       "      <td>Avatar</td>\n",
       "      <td>22nd century paraplegic marine dispatch moon ...</td>\n",
       "      <td>SamWorthington ZoeSaldana SigourneyWeaver Jame...</td>\n",
       "      <td>SamWorthington ZoeSaldana SigourneyWeaver Jame...</td>\n",
       "    </tr>\n",
       "  </tbody>\n",
       "</table>\n",
       "</div>"
      ],
      "text/plain": [
       "      id                                           cast        director  \\\n",
       "0  19995  [SamWorthington, ZoeSaldana, SigourneyWeaver]  [JamesCameron]   \n",
       "\n",
       "                                          genres  \\\n",
       "0  [Action, Adventure, Fantasy, Science Fiction]   \n",
       "\n",
       "                                            keywords original_language  \\\n",
       "0  [culture clash, future, space war, space colon...                en   \n",
       "\n",
       "  original_title                                           overview  \\\n",
       "0         Avatar   22nd century paraplegic marine dispatch moon ...   \n",
       "\n",
       "                                            combined  \\\n",
       "0  SamWorthington ZoeSaldana SigourneyWeaver Jame...   \n",
       "\n",
       "                                                tags  \n",
       "0  SamWorthington ZoeSaldana SigourneyWeaver Jame...  "
      ]
     },
     "execution_count": 1916,
     "metadata": {},
     "output_type": "execute_result"
    }
   ],
   "source": [
    "df2.head(1)"
   ]
  },
  {
   "cell_type": "code",
   "execution_count": 1917,
   "id": "93abe1ad-0066-4a55-bc38-47dcf932f33f",
   "metadata": {},
   "outputs": [
    {
     "data": {
      "text/plain": [
       "'SamWorthington ZoeSaldana SigourneyWeaver JamesCameron Action Adventure Fantasy Science Fiction culture clash future space war space colony society space travel futuristic romance space alien tribe alien planet cgi marine soldier battle love affair anti war power relations mind and soul 3d 22nd century paraplegic marine dispatch moon pandora unique mission become torn follow order protect alien civilization'"
      ]
     },
     "execution_count": 1917,
     "metadata": {},
     "output_type": "execute_result"
    }
   ],
   "source": [
    "df2.iloc[0, 9]"
   ]
  },
  {
   "cell_type": "code",
   "execution_count": null,
   "id": "0fc4058f-3391-4a1d-a872-91f15852a1eb",
   "metadata": {},
   "outputs": [],
   "source": []
  },
  {
   "cell_type": "code",
   "execution_count": 1918,
   "id": "7822a7f8-2b2a-4ae7-b905-80f1149df925",
   "metadata": {},
   "outputs": [],
   "source": [
    "df2['original_language'] = df2['original_language'].apply(insert_space_at_beginning)"
   ]
  },
  {
   "cell_type": "code",
   "execution_count": 1919,
   "id": "4aaf7256-660c-41c4-bd2f-42f8ba2fd8b5",
   "metadata": {},
   "outputs": [],
   "source": [
    "df2['tags'] = df2['tags'] + df2['original_language']"
   ]
  },
  {
   "cell_type": "code",
   "execution_count": 1920,
   "id": "2a7274c4-205a-4cf4-86ab-9a99f98f64d0",
   "metadata": {},
   "outputs": [
    {
     "data": {
      "text/html": [
       "<div>\n",
       "<style scoped>\n",
       "    .dataframe tbody tr th:only-of-type {\n",
       "        vertical-align: middle;\n",
       "    }\n",
       "\n",
       "    .dataframe tbody tr th {\n",
       "        vertical-align: top;\n",
       "    }\n",
       "\n",
       "    .dataframe thead th {\n",
       "        text-align: right;\n",
       "    }\n",
       "</style>\n",
       "<table border=\"1\" class=\"dataframe\">\n",
       "  <thead>\n",
       "    <tr style=\"text-align: right;\">\n",
       "      <th></th>\n",
       "      <th>id</th>\n",
       "      <th>cast</th>\n",
       "      <th>director</th>\n",
       "      <th>genres</th>\n",
       "      <th>keywords</th>\n",
       "      <th>original_language</th>\n",
       "      <th>original_title</th>\n",
       "      <th>overview</th>\n",
       "      <th>combined</th>\n",
       "      <th>tags</th>\n",
       "    </tr>\n",
       "  </thead>\n",
       "  <tbody>\n",
       "    <tr>\n",
       "      <th>0</th>\n",
       "      <td>19995</td>\n",
       "      <td>[SamWorthington, ZoeSaldana, SigourneyWeaver]</td>\n",
       "      <td>[JamesCameron]</td>\n",
       "      <td>[Action, Adventure, Fantasy, Science Fiction]</td>\n",
       "      <td>[culture clash, future, space war, space colon...</td>\n",
       "      <td>en</td>\n",
       "      <td>Avatar</td>\n",
       "      <td>22nd century paraplegic marine dispatch moon ...</td>\n",
       "      <td>SamWorthington ZoeSaldana SigourneyWeaver Jame...</td>\n",
       "      <td>SamWorthington ZoeSaldana SigourneyWeaver Jame...</td>\n",
       "    </tr>\n",
       "  </tbody>\n",
       "</table>\n",
       "</div>"
      ],
      "text/plain": [
       "      id                                           cast        director  \\\n",
       "0  19995  [SamWorthington, ZoeSaldana, SigourneyWeaver]  [JamesCameron]   \n",
       "\n",
       "                                          genres  \\\n",
       "0  [Action, Adventure, Fantasy, Science Fiction]   \n",
       "\n",
       "                                            keywords original_language  \\\n",
       "0  [culture clash, future, space war, space colon...                en   \n",
       "\n",
       "  original_title                                           overview  \\\n",
       "0         Avatar   22nd century paraplegic marine dispatch moon ...   \n",
       "\n",
       "                                            combined  \\\n",
       "0  SamWorthington ZoeSaldana SigourneyWeaver Jame...   \n",
       "\n",
       "                                                tags  \n",
       "0  SamWorthington ZoeSaldana SigourneyWeaver Jame...  "
      ]
     },
     "execution_count": 1920,
     "metadata": {},
     "output_type": "execute_result"
    }
   ],
   "source": [
    "df2.head(1)"
   ]
  },
  {
   "cell_type": "code",
   "execution_count": 1921,
   "id": "cc099da9-7588-44af-878c-33975de7b56f",
   "metadata": {},
   "outputs": [
    {
     "data": {
      "text/plain": [
       "'SamWorthington ZoeSaldana SigourneyWeaver JamesCameron Action Adventure Fantasy Science Fiction culture clash future space war space colony society space travel futuristic romance space alien tribe alien planet cgi marine soldier battle love affair anti war power relations mind and soul 3d 22nd century paraplegic marine dispatch moon pandora unique mission become torn follow order protect alien civilization en'"
      ]
     },
     "execution_count": 1921,
     "metadata": {},
     "output_type": "execute_result"
    }
   ],
   "source": [
    "df2.iloc[0, 9]"
   ]
  },
  {
   "cell_type": "code",
   "execution_count": 1922,
   "id": "5556b59b-5448-48e3-984f-57c33799aa77",
   "metadata": {},
   "outputs": [],
   "source": [
    "movies = df2[['id', 'original_title', 'tags']]"
   ]
  },
  {
   "cell_type": "code",
   "execution_count": 1923,
   "id": "c405e0cd-53ea-4271-9909-33945d1a392c",
   "metadata": {},
   "outputs": [
    {
     "data": {
      "text/plain": [
       "'SamWorthington ZoeSaldana SigourneyWeaver JamesCameron Action Adventure Fantasy Science Fiction culture clash future space war space colony society space travel futuristic romance space alien tribe alien planet cgi marine soldier battle love affair anti war power relations mind and soul 3d 22nd century paraplegic marine dispatch moon pandora unique mission become torn follow order protect alien civilization en'"
      ]
     },
     "execution_count": 1923,
     "metadata": {},
     "output_type": "execute_result"
    }
   ],
   "source": [
    "movies.iloc[0,2]"
   ]
  },
  {
   "cell_type": "code",
   "execution_count": 1924,
   "id": "6e6a2076-769a-4eb8-b86e-fa7a22f7b011",
   "metadata": {},
   "outputs": [],
   "source": [
    "# movies['original_title'] = movies['original_title'].apply(remove_spaces_str)"
   ]
  },
  {
   "cell_type": "code",
   "execution_count": 1925,
   "id": "eee2adb0-60b6-4aa7-9028-bed8785494bd",
   "metadata": {},
   "outputs": [],
   "source": [
    "# movies['original_title'] = movies['original_title'].apply(insert_space_at_beginning)"
   ]
  },
  {
   "cell_type": "code",
   "execution_count": 1926,
   "id": "aa871270-60ce-4b30-8af5-bada1c60bb9a",
   "metadata": {},
   "outputs": [],
   "source": [
    "# movies['tags'] = movies['tags'] + movies['original_title']"
   ]
  },
  {
   "cell_type": "code",
   "execution_count": 1927,
   "id": "2710b850-138d-4d29-9ce5-05519bfd97b3",
   "metadata": {},
   "outputs": [
    {
     "data": {
      "text/plain": [
       "'DanielCraig ChristophWaltz LéaSeydoux SamMendes Action Adventure Crime spy based on novel secret agent sequel mi6 british secret service united kingdom cryptic message bond ’s past send trail uncover sinister organization battle political force keep secret service alive bond feel back layer deceit reveal terrible truth behind spectre en'"
      ]
     },
     "execution_count": 1927,
     "metadata": {},
     "output_type": "execute_result"
    }
   ],
   "source": [
    "movies.iloc[2, 2]"
   ]
  },
  {
   "cell_type": "code",
   "execution_count": 1928,
   "id": "c2a19cd3-bfc9-43d3-b638-9ceb7bb5a625",
   "metadata": {},
   "outputs": [],
   "source": [
    "msg = movies.iloc[1, 2]"
   ]
  },
  {
   "cell_type": "code",
   "execution_count": 1929,
   "id": "58480d22-b395-4d1a-9251-e497e2f87454",
   "metadata": {},
   "outputs": [],
   "source": [
    "def remove_spaces_str(string):\n",
    "    string = string.replace(' ', '')\n",
    "    return string"
   ]
  },
  {
   "cell_type": "code",
   "execution_count": 1930,
   "id": "fde3e7d1-4c98-483b-863d-b6f0819f2524",
   "metadata": {},
   "outputs": [
    {
     "data": {
      "text/plain": [
       "\"JohnnyDepp OrlandoBloom KeiraKnightley GoreVerbinski Adventure Fantasy Action ocean drug abuse exotic island east india trading company love of one's life traitor shipwreck strong woman ship alliance calypso afterlife fighter pirate swashbuckler aftercreditsstinger captain barbossa long believe dead come back life head edge earth turner elizabeth swan nothing quite seem en\""
      ]
     },
     "execution_count": 1930,
     "metadata": {},
     "output_type": "execute_result"
    }
   ],
   "source": [
    "msg"
   ]
  },
  {
   "cell_type": "code",
   "execution_count": 1931,
   "id": "1511fcd9-e45e-41a7-aaf2-d57555ae7e0d",
   "metadata": {},
   "outputs": [
    {
     "data": {
      "text/html": [
       "<div>\n",
       "<style scoped>\n",
       "    .dataframe tbody tr th:only-of-type {\n",
       "        vertical-align: middle;\n",
       "    }\n",
       "\n",
       "    .dataframe tbody tr th {\n",
       "        vertical-align: top;\n",
       "    }\n",
       "\n",
       "    .dataframe thead th {\n",
       "        text-align: right;\n",
       "    }\n",
       "</style>\n",
       "<table border=\"1\" class=\"dataframe\">\n",
       "  <thead>\n",
       "    <tr style=\"text-align: right;\">\n",
       "      <th></th>\n",
       "      <th>id</th>\n",
       "      <th>original_title</th>\n",
       "      <th>tags</th>\n",
       "    </tr>\n",
       "  </thead>\n",
       "  <tbody>\n",
       "    <tr>\n",
       "      <th>0</th>\n",
       "      <td>19995</td>\n",
       "      <td>Avatar</td>\n",
       "      <td>SamWorthington ZoeSaldana SigourneyWeaver Jame...</td>\n",
       "    </tr>\n",
       "  </tbody>\n",
       "</table>\n",
       "</div>"
      ],
      "text/plain": [
       "      id original_title                                               tags\n",
       "0  19995         Avatar  SamWorthington ZoeSaldana SigourneyWeaver Jame..."
      ]
     },
     "execution_count": 1931,
     "metadata": {},
     "output_type": "execute_result"
    }
   ],
   "source": [
    "movies.head(1)"
   ]
  },
  {
   "cell_type": "code",
   "execution_count": 1932,
   "id": "1aec2f9b-c8ab-4a5a-9e75-9c4512b5012e",
   "metadata": {},
   "outputs": [
    {
     "data": {
      "text/plain": [
       "\"JohnnyDepp OrlandoBloom KeiraKnightley GoreVerbinski Adventure Fantasy Action ocean drug abuse exotic island east india trading company love of one's life traitor shipwreck strong woman ship alliance calypso afterlife fighter pirate swashbuckler aftercreditsstinger captain barbossa long believe dead come back life head edge earth turner elizabeth swan nothing quite seem en\""
      ]
     },
     "execution_count": 1932,
     "metadata": {},
     "output_type": "execute_result"
    }
   ],
   "source": [
    "movies.iloc[1,2]"
   ]
  },
  {
   "cell_type": "code",
   "execution_count": 1933,
   "id": "7383e6fd-ce0c-4b1d-8c8f-ed6d0242c581",
   "metadata": {},
   "outputs": [],
   "source": [
    "# movies['original_title'] = movies['original_title'].apply(insert_space_at_beginning)"
   ]
  },
  {
   "cell_type": "code",
   "execution_count": 1934,
   "id": "faec811c-6d1f-41ff-b023-5101d0c84d8a",
   "metadata": {},
   "outputs": [],
   "source": [
    "#Importing the DNN Model"
   ]
  },
  {
   "cell_type": "code",
   "execution_count": 1935,
   "id": "029002c4-286b-46e5-a2f2-35ebe78c8bcd",
   "metadata": {},
   "outputs": [
    {
     "name": "stdout",
     "output_type": "stream",
     "text": [
      "Requirement already satisfied: gensim in /home/mist/anaconda3/lib/python3.10/site-packages (4.3.0)\n",
      "Requirement already satisfied: scipy>=1.7.0 in /home/mist/anaconda3/lib/python3.10/site-packages (from gensim) (1.10.0)\n",
      "Requirement already satisfied: FuzzyTM>=0.4.0 in /home/mist/anaconda3/lib/python3.10/site-packages (from gensim) (2.0.5)\n",
      "Requirement already satisfied: numpy>=1.18.5 in /home/mist/anaconda3/lib/python3.10/site-packages (from gensim) (1.23.5)\n",
      "Requirement already satisfied: smart-open>=1.8.1 in /home/mist/anaconda3/lib/python3.10/site-packages (from gensim) (5.2.1)\n",
      "Requirement already satisfied: pandas in /home/mist/anaconda3/lib/python3.10/site-packages (from FuzzyTM>=0.4.0->gensim) (1.5.3)\n",
      "Requirement already satisfied: pyfume in /home/mist/anaconda3/lib/python3.10/site-packages (from FuzzyTM>=0.4.0->gensim) (0.2.25)\n",
      "Requirement already satisfied: python-dateutil>=2.8.1 in /home/mist/anaconda3/lib/python3.10/site-packages (from pandas->FuzzyTM>=0.4.0->gensim) (2.8.2)\n",
      "Requirement already satisfied: pytz>=2020.1 in /home/mist/anaconda3/lib/python3.10/site-packages (from pandas->FuzzyTM>=0.4.0->gensim) (2022.7)\n",
      "Requirement already satisfied: simpful in /home/mist/anaconda3/lib/python3.10/site-packages (from pyfume->FuzzyTM>=0.4.0->gensim) (2.11.0)\n",
      "Requirement already satisfied: fst-pso in /home/mist/anaconda3/lib/python3.10/site-packages (from pyfume->FuzzyTM>=0.4.0->gensim) (1.8.1)\n",
      "Requirement already satisfied: six>=1.5 in /home/mist/anaconda3/lib/python3.10/site-packages (from python-dateutil>=2.8.1->pandas->FuzzyTM>=0.4.0->gensim) (1.16.0)\n",
      "Requirement already satisfied: miniful in /home/mist/anaconda3/lib/python3.10/site-packages (from fst-pso->pyfume->FuzzyTM>=0.4.0->gensim) (0.0.6)\n"
     ]
    }
   ],
   "source": [
    "!pip install gensim"
   ]
  },
  {
   "cell_type": "code",
   "execution_count": 1936,
   "id": "8328f2ea-028d-49b7-a5fc-41c334ce2633",
   "metadata": {},
   "outputs": [],
   "source": [
    "import gensim"
   ]
  },
  {
   "cell_type": "code",
   "execution_count": 1937,
   "id": "6180983f-6e5b-41d6-a990-b1813a4c0390",
   "metadata": {},
   "outputs": [],
   "source": [
    "from gensim.utils import simple_preprocess"
   ]
  },
  {
   "cell_type": "code",
   "execution_count": 1938,
   "id": "e3a4f38f-b4af-43c6-8a71-210b3f324aed",
   "metadata": {},
   "outputs": [],
   "source": [
    "msg = movies.iloc[1, 2]"
   ]
  },
  {
   "cell_type": "code",
   "execution_count": 1939,
   "id": "486594da-4d4f-4e9e-a121-0b7fc4a7d043",
   "metadata": {},
   "outputs": [
    {
     "data": {
      "text/plain": [
       "\"JohnnyDepp OrlandoBloom KeiraKnightley GoreVerbinski Adventure Fantasy Action ocean drug abuse exotic island east india trading company love of one's life traitor shipwreck strong woman ship alliance calypso afterlife fighter pirate swashbuckler aftercreditsstinger captain barbossa long believe dead come back life head edge earth turner elizabeth swan nothing quite seem en\""
      ]
     },
     "execution_count": 1939,
     "metadata": {},
     "output_type": "execute_result"
    }
   ],
   "source": [
    "msg"
   ]
  },
  {
   "cell_type": "code",
   "execution_count": 1940,
   "id": "c0e07ad6-9c5b-449e-8152-18351bff9354",
   "metadata": {},
   "outputs": [],
   "source": [
    "msg = remove_punc(msg)"
   ]
  },
  {
   "cell_type": "code",
   "execution_count": 1941,
   "id": "119f00a7-01e9-4c97-a5de-b9f7c37534d8",
   "metadata": {},
   "outputs": [],
   "source": [
    "from nltk.tokenize import sent_tokenize, word_tokenize"
   ]
  },
  {
   "cell_type": "code",
   "execution_count": 1942,
   "id": "75eb1a9b-f61c-489d-a325-49f085bbef8f",
   "metadata": {},
   "outputs": [],
   "source": [
    "doc1 = nlp(msg)"
   ]
  },
  {
   "cell_type": "code",
   "execution_count": 1943,
   "id": "81bf0cf9-55d7-42dc-a0fa-e7b2a19919b5",
   "metadata": {},
   "outputs": [
    {
     "data": {
      "text/plain": [
       "JohnnyDepp OrlandoBloom KeiraKnightley GoreVerbinski Adventure Fantasy Action ocean drug abuse exotic island east india trading company love of ones life traitor shipwreck strong woman ship alliance calypso afterlife fighter pirate swashbuckler aftercreditsstinger captain barbossa long believe dead come back life head edge earth turner elizabeth swan nothing quite seem en"
      ]
     },
     "execution_count": 1943,
     "metadata": {},
     "output_type": "execute_result"
    }
   ],
   "source": [
    "doc1"
   ]
  },
  {
   "cell_type": "code",
   "execution_count": 1944,
   "id": "11159c82-e677-4794-9bf0-b7de0f28f7ea",
   "metadata": {},
   "outputs": [],
   "source": [
    "#Removing punctuations from movie's titles"
   ]
  },
  {
   "cell_type": "code",
   "execution_count": 1945,
   "id": "2cd89b42-4d3a-40c4-93f8-a9df188865e3",
   "metadata": {},
   "outputs": [],
   "source": [
    "movies['tags'] = movies['tags'].apply(remove_punc)"
   ]
  },
  {
   "cell_type": "code",
   "execution_count": 1946,
   "id": "88fac3da-ac47-4cbe-9113-04be1a5aa37a",
   "metadata": {},
   "outputs": [],
   "source": [
    "# movies['tags'] = movies['tags'] + movies['original_title']"
   ]
  },
  {
   "cell_type": "code",
   "execution_count": 1947,
   "id": "f6a89114-524d-4c15-9d21-ce2e42bee5c2",
   "metadata": {},
   "outputs": [],
   "source": [
    "msg = movies.iloc[1, 2]"
   ]
  },
  {
   "cell_type": "code",
   "execution_count": 1948,
   "id": "729b7061-80e0-4a8f-8f5f-db3c7895e955",
   "metadata": {},
   "outputs": [
    {
     "data": {
      "text/plain": [
       "'JohnnyDepp OrlandoBloom KeiraKnightley GoreVerbinski Adventure Fantasy Action ocean drug abuse exotic island east india trading company love of ones life traitor shipwreck strong woman ship alliance calypso afterlife fighter pirate swashbuckler aftercreditsstinger captain barbossa long believe dead come back life head edge earth turner elizabeth swan nothing quite seem en'"
      ]
     },
     "execution_count": 1948,
     "metadata": {},
     "output_type": "execute_result"
    }
   ],
   "source": [
    "msg"
   ]
  },
  {
   "cell_type": "code",
   "execution_count": 1949,
   "id": "c58fa86e-3e52-4d4e-a343-b8a1fca90a62",
   "metadata": {},
   "outputs": [],
   "source": [
    "doc1 = sent_tokenize(msg)"
   ]
  },
  {
   "cell_type": "code",
   "execution_count": 1950,
   "id": "7736aa14-2538-4695-a209-baa3d14a784e",
   "metadata": {},
   "outputs": [],
   "source": [
    "ls = []\n",
    "for word in doc1:\n",
    "    ls.append(simple_preprocess(word))\n"
   ]
  },
  {
   "cell_type": "code",
   "execution_count": 1951,
   "id": "8d93ee06-3023-4496-9ba0-1c46e8546c1b",
   "metadata": {},
   "outputs": [
    {
     "data": {
      "text/plain": [
       "[['johnnydepp',\n",
       "  'orlandobloom',\n",
       "  'keiraknightley',\n",
       "  'goreverbinski',\n",
       "  'adventure',\n",
       "  'fantasy',\n",
       "  'action',\n",
       "  'ocean',\n",
       "  'drug',\n",
       "  'abuse',\n",
       "  'exotic',\n",
       "  'island',\n",
       "  'east',\n",
       "  'india',\n",
       "  'trading',\n",
       "  'company',\n",
       "  'love',\n",
       "  'of',\n",
       "  'ones',\n",
       "  'life',\n",
       "  'traitor',\n",
       "  'shipwreck',\n",
       "  'strong',\n",
       "  'woman',\n",
       "  'ship',\n",
       "  'alliance',\n",
       "  'calypso',\n",
       "  'afterlife',\n",
       "  'fighter',\n",
       "  'pirate',\n",
       "  'swashbuckler',\n",
       "  'captain',\n",
       "  'barbossa',\n",
       "  'long',\n",
       "  'believe',\n",
       "  'dead',\n",
       "  'come',\n",
       "  'back',\n",
       "  'life',\n",
       "  'head',\n",
       "  'edge',\n",
       "  'earth',\n",
       "  'turner',\n",
       "  'elizabeth',\n",
       "  'swan',\n",
       "  'nothing',\n",
       "  'quite',\n",
       "  'seem',\n",
       "  'en']]"
      ]
     },
     "execution_count": 1951,
     "metadata": {},
     "output_type": "execute_result"
    }
   ],
   "source": [
    "ls"
   ]
  },
  {
   "cell_type": "code",
   "execution_count": 1952,
   "id": "c930191c-0eb7-4f5f-8047-a8f645cab3e9",
   "metadata": {},
   "outputs": [],
   "source": [
    "\n",
    "def making_corpus(string):\n",
    "    corpus = []\n",
    "    # doc1 = sent_tokenize(string)\n",
    "    # for word in doc1:\n",
    "    #     corpus.append(simple_preprocess(word))\n",
    "    corpus.append(string.split())\n",
    "\n",
    "    return corpus"
   ]
  },
  {
   "cell_type": "code",
   "execution_count": 1953,
   "id": "f7a371bf-5f26-4e7f-a5ff-accf1f43ce97",
   "metadata": {},
   "outputs": [],
   "source": [
    "msg = movies.iloc[2, 2]"
   ]
  },
  {
   "cell_type": "code",
   "execution_count": 1954,
   "id": "823e943c-afcf-414f-bbe5-027ff38b7a78",
   "metadata": {},
   "outputs": [
    {
     "data": {
      "text/plain": [
       "[['DanielCraig',\n",
       "  'ChristophWaltz',\n",
       "  'LéaSeydoux',\n",
       "  'SamMendes',\n",
       "  'Action',\n",
       "  'Adventure',\n",
       "  'Crime',\n",
       "  'spy',\n",
       "  'based',\n",
       "  'on',\n",
       "  'novel',\n",
       "  'secret',\n",
       "  'agent',\n",
       "  'sequel',\n",
       "  'mi6',\n",
       "  'british',\n",
       "  'secret',\n",
       "  'service',\n",
       "  'united',\n",
       "  'kingdom',\n",
       "  'cryptic',\n",
       "  'message',\n",
       "  'bond',\n",
       "  '’s',\n",
       "  'past',\n",
       "  'send',\n",
       "  'trail',\n",
       "  'uncover',\n",
       "  'sinister',\n",
       "  'organization',\n",
       "  'battle',\n",
       "  'political',\n",
       "  'force',\n",
       "  'keep',\n",
       "  'secret',\n",
       "  'service',\n",
       "  'alive',\n",
       "  'bond',\n",
       "  'feel',\n",
       "  'back',\n",
       "  'layer',\n",
       "  'deceit',\n",
       "  'reveal',\n",
       "  'terrible',\n",
       "  'truth',\n",
       "  'behind',\n",
       "  'spectre',\n",
       "  'en']]"
      ]
     },
     "execution_count": 1954,
     "metadata": {},
     "output_type": "execute_result"
    }
   ],
   "source": [
    "making_corpus(msg)"
   ]
  },
  {
   "cell_type": "code",
   "execution_count": 1955,
   "id": "ededbda8-feff-47d2-a496-449712bbb6f4",
   "metadata": {},
   "outputs": [],
   "source": [
    "movies['tags'] = movies['tags'].apply(making_corpus)"
   ]
  },
  {
   "cell_type": "code",
   "execution_count": 1956,
   "id": "0a00f776-a41c-46a0-a19c-63c92c951c13",
   "metadata": {},
   "outputs": [
    {
     "data": {
      "text/plain": [
       "[['SamWorthington',\n",
       "  'ZoeSaldana',\n",
       "  'SigourneyWeaver',\n",
       "  'JamesCameron',\n",
       "  'Action',\n",
       "  'Adventure',\n",
       "  'Fantasy',\n",
       "  'Science',\n",
       "  'Fiction',\n",
       "  'culture',\n",
       "  'clash',\n",
       "  'future',\n",
       "  'space',\n",
       "  'war',\n",
       "  'space',\n",
       "  'colony',\n",
       "  'society',\n",
       "  'space',\n",
       "  'travel',\n",
       "  'futuristic',\n",
       "  'romance',\n",
       "  'space',\n",
       "  'alien',\n",
       "  'tribe',\n",
       "  'alien',\n",
       "  'planet',\n",
       "  'cgi',\n",
       "  'marine',\n",
       "  'soldier',\n",
       "  'battle',\n",
       "  'love',\n",
       "  'affair',\n",
       "  'anti',\n",
       "  'war',\n",
       "  'power',\n",
       "  'relations',\n",
       "  'mind',\n",
       "  'and',\n",
       "  'soul',\n",
       "  '3d',\n",
       "  '22nd',\n",
       "  'century',\n",
       "  'paraplegic',\n",
       "  'marine',\n",
       "  'dispatch',\n",
       "  'moon',\n",
       "  'pandora',\n",
       "  'unique',\n",
       "  'mission',\n",
       "  'become',\n",
       "  'torn',\n",
       "  'follow',\n",
       "  'order',\n",
       "  'protect',\n",
       "  'alien',\n",
       "  'civilization',\n",
       "  'en']]"
      ]
     },
     "execution_count": 1956,
     "metadata": {},
     "output_type": "execute_result"
    }
   ],
   "source": [
    "movies['tags'].iloc[0]"
   ]
  },
  {
   "cell_type": "code",
   "execution_count": 1957,
   "id": "f1d1b010-c425-4448-9fab-fb35c01a7acb",
   "metadata": {},
   "outputs": [],
   "source": [
    "corpus = []"
   ]
  },
  {
   "cell_type": "code",
   "execution_count": 1958,
   "id": "31939346-1290-42be-bec6-724ed8cb1630",
   "metadata": {},
   "outputs": [],
   "source": [
    "def corpus_formation(ls):\n",
    "    corpus.append(ls)"
   ]
  },
  {
   "cell_type": "code",
   "execution_count": 1959,
   "id": "589e9381-6310-46f6-ad40-7e2a1caef635",
   "metadata": {},
   "outputs": [],
   "source": [
    "movies['tags'] = movies['tags'].apply(corpus_formation)"
   ]
  },
  {
   "cell_type": "code",
   "execution_count": 1960,
   "id": "a6d961fb-4cc5-4609-9e14-f0d998ec6f11",
   "metadata": {},
   "outputs": [],
   "source": [
    "from itertools import chain\n",
    "flatten_corpus = list(chain.from_iterable(corpus))"
   ]
  },
  {
   "cell_type": "code",
   "execution_count": 1961,
   "id": "db2995cd-2188-422a-a219-6f253bcc1517",
   "metadata": {},
   "outputs": [],
   "source": [
    "for i in range(len(flatten_corpus)):\n",
    "    if len(flatten_corpus[i]) == 0:\n",
    "        print(i)"
   ]
  },
  {
   "cell_type": "code",
   "execution_count": 1962,
   "id": "001b8b9c-f0c9-477e-83b3-3a8f543d702d",
   "metadata": {},
   "outputs": [
    {
     "data": {
      "text/plain": [
       "4800"
      ]
     },
     "execution_count": 1962,
     "metadata": {},
     "output_type": "execute_result"
    }
   ],
   "source": [
    "len(flatten_corpus)"
   ]
  },
  {
   "cell_type": "code",
   "execution_count": 1963,
   "id": "4101725a-b854-4722-95a9-a5bb79da47b2",
   "metadata": {},
   "outputs": [],
   "source": [
    "#Embeddings"
   ]
  },
  {
   "cell_type": "code",
   "execution_count": 2231,
   "id": "2fc3aaaa-f063-4813-9b73-c1d49c701144",
   "metadata": {},
   "outputs": [
    {
     "ename": "KeyboardInterrupt",
     "evalue": "",
     "output_type": "error",
     "traceback": [
      "\u001b[0;31m---------------------------------------------------------------------------\u001b[0m",
      "\u001b[0;31mKeyboardInterrupt\u001b[0m                         Traceback (most recent call last)",
      "Cell \u001b[0;32mIn[2231], line 3\u001b[0m\n\u001b[1;32m      1\u001b[0m \u001b[38;5;66;03m#Google News Word2Vec\u001b[39;00m\n\u001b[1;32m      2\u001b[0m \u001b[38;5;28;01mimport\u001b[39;00m \u001b[38;5;21;01mgensim\u001b[39;00m\u001b[38;5;21;01m.\u001b[39;00m\u001b[38;5;21;01mdownloader\u001b[39;00m \u001b[38;5;28;01mas\u001b[39;00m \u001b[38;5;21;01mapi\u001b[39;00m\n\u001b[0;32m----> 3\u001b[0m model2 \u001b[38;5;241m=\u001b[39m \u001b[43mapi\u001b[49m\u001b[38;5;241;43m.\u001b[39;49m\u001b[43mload\u001b[49m\u001b[43m(\u001b[49m\u001b[38;5;124;43m'\u001b[39;49m\u001b[38;5;124;43mword2vec-google-news-300\u001b[39;49m\u001b[38;5;124;43m'\u001b[39;49m\u001b[43m)\u001b[49m\n",
      "File \u001b[0;32m~/anaconda3/lib/python3.10/site-packages/gensim/downloader.py:496\u001b[0m, in \u001b[0;36mload\u001b[0;34m(name, return_path)\u001b[0m\n\u001b[1;32m    494\u001b[0m path \u001b[38;5;241m=\u001b[39m os\u001b[38;5;241m.\u001b[39mpath\u001b[38;5;241m.\u001b[39mjoin(folder_dir, file_name)\n\u001b[1;32m    495\u001b[0m \u001b[38;5;28;01mif\u001b[39;00m \u001b[38;5;129;01mnot\u001b[39;00m os\u001b[38;5;241m.\u001b[39mpath\u001b[38;5;241m.\u001b[39mexists(folder_dir):\n\u001b[0;32m--> 496\u001b[0m     \u001b[43m_download\u001b[49m\u001b[43m(\u001b[49m\u001b[43mname\u001b[49m\u001b[43m)\u001b[49m\n\u001b[1;32m    498\u001b[0m \u001b[38;5;28;01mif\u001b[39;00m return_path:\n\u001b[1;32m    499\u001b[0m     \u001b[38;5;28;01mreturn\u001b[39;00m path\n",
      "File \u001b[0;32m~/anaconda3/lib/python3.10/site-packages/gensim/downloader.py:365\u001b[0m, in \u001b[0;36m_download\u001b[0;34m(name)\u001b[0m\n\u001b[1;32m    363\u001b[0m tmp_dir \u001b[38;5;241m=\u001b[39m tempfile\u001b[38;5;241m.\u001b[39mmkdtemp()\n\u001b[1;32m    364\u001b[0m init_path \u001b[38;5;241m=\u001b[39m os\u001b[38;5;241m.\u001b[39mpath\u001b[38;5;241m.\u001b[39mjoin(tmp_dir, \u001b[38;5;124m\"\u001b[39m\u001b[38;5;124m__init__.py\u001b[39m\u001b[38;5;124m\"\u001b[39m)\n\u001b[0;32m--> 365\u001b[0m \u001b[43murllib\u001b[49m\u001b[38;5;241;43m.\u001b[39;49m\u001b[43murlretrieve\u001b[49m\u001b[43m(\u001b[49m\u001b[43murl_load_file\u001b[49m\u001b[43m,\u001b[49m\u001b[43m \u001b[49m\u001b[43minit_path\u001b[49m\u001b[43m)\u001b[49m\n\u001b[1;32m    366\u001b[0m total_parts \u001b[38;5;241m=\u001b[39m _get_parts(name)\n\u001b[1;32m    367\u001b[0m \u001b[38;5;28;01mif\u001b[39;00m total_parts \u001b[38;5;241m>\u001b[39m \u001b[38;5;241m1\u001b[39m:\n",
      "File \u001b[0;32m~/anaconda3/lib/python3.10/urllib/request.py:241\u001b[0m, in \u001b[0;36murlretrieve\u001b[0;34m(url, filename, reporthook, data)\u001b[0m\n\u001b[1;32m    224\u001b[0m \u001b[38;5;250m\u001b[39m\u001b[38;5;124;03m\"\"\"\u001b[39;00m\n\u001b[1;32m    225\u001b[0m \u001b[38;5;124;03mRetrieve a URL into a temporary location on disk.\u001b[39;00m\n\u001b[1;32m    226\u001b[0m \n\u001b[0;32m   (...)\u001b[0m\n\u001b[1;32m    237\u001b[0m \u001b[38;5;124;03mdata file as well as the resulting HTTPMessage object.\u001b[39;00m\n\u001b[1;32m    238\u001b[0m \u001b[38;5;124;03m\"\"\"\u001b[39;00m\n\u001b[1;32m    239\u001b[0m url_type, path \u001b[38;5;241m=\u001b[39m _splittype(url)\n\u001b[0;32m--> 241\u001b[0m \u001b[38;5;28;01mwith\u001b[39;00m contextlib\u001b[38;5;241m.\u001b[39mclosing(\u001b[43murlopen\u001b[49m\u001b[43m(\u001b[49m\u001b[43murl\u001b[49m\u001b[43m,\u001b[49m\u001b[43m \u001b[49m\u001b[43mdata\u001b[49m\u001b[43m)\u001b[49m) \u001b[38;5;28;01mas\u001b[39;00m fp:\n\u001b[1;32m    242\u001b[0m     headers \u001b[38;5;241m=\u001b[39m fp\u001b[38;5;241m.\u001b[39minfo()\n\u001b[1;32m    244\u001b[0m     \u001b[38;5;66;03m# Just return the local path and the \"headers\" for file://\u001b[39;00m\n\u001b[1;32m    245\u001b[0m     \u001b[38;5;66;03m# URLs. No sense in performing a copy unless requested.\u001b[39;00m\n",
      "File \u001b[0;32m~/anaconda3/lib/python3.10/urllib/request.py:216\u001b[0m, in \u001b[0;36murlopen\u001b[0;34m(url, data, timeout, cafile, capath, cadefault, context)\u001b[0m\n\u001b[1;32m    214\u001b[0m \u001b[38;5;28;01melse\u001b[39;00m:\n\u001b[1;32m    215\u001b[0m     opener \u001b[38;5;241m=\u001b[39m _opener\n\u001b[0;32m--> 216\u001b[0m \u001b[38;5;28;01mreturn\u001b[39;00m \u001b[43mopener\u001b[49m\u001b[38;5;241;43m.\u001b[39;49m\u001b[43mopen\u001b[49m\u001b[43m(\u001b[49m\u001b[43murl\u001b[49m\u001b[43m,\u001b[49m\u001b[43m \u001b[49m\u001b[43mdata\u001b[49m\u001b[43m,\u001b[49m\u001b[43m \u001b[49m\u001b[43mtimeout\u001b[49m\u001b[43m)\u001b[49m\n",
      "File \u001b[0;32m~/anaconda3/lib/python3.10/urllib/request.py:519\u001b[0m, in \u001b[0;36mOpenerDirector.open\u001b[0;34m(self, fullurl, data, timeout)\u001b[0m\n\u001b[1;32m    516\u001b[0m     req \u001b[38;5;241m=\u001b[39m meth(req)\n\u001b[1;32m    518\u001b[0m sys\u001b[38;5;241m.\u001b[39maudit(\u001b[38;5;124m'\u001b[39m\u001b[38;5;124murllib.Request\u001b[39m\u001b[38;5;124m'\u001b[39m, req\u001b[38;5;241m.\u001b[39mfull_url, req\u001b[38;5;241m.\u001b[39mdata, req\u001b[38;5;241m.\u001b[39mheaders, req\u001b[38;5;241m.\u001b[39mget_method())\n\u001b[0;32m--> 519\u001b[0m response \u001b[38;5;241m=\u001b[39m \u001b[38;5;28;43mself\u001b[39;49m\u001b[38;5;241;43m.\u001b[39;49m\u001b[43m_open\u001b[49m\u001b[43m(\u001b[49m\u001b[43mreq\u001b[49m\u001b[43m,\u001b[49m\u001b[43m \u001b[49m\u001b[43mdata\u001b[49m\u001b[43m)\u001b[49m\n\u001b[1;32m    521\u001b[0m \u001b[38;5;66;03m# post-process response\u001b[39;00m\n\u001b[1;32m    522\u001b[0m meth_name \u001b[38;5;241m=\u001b[39m protocol\u001b[38;5;241m+\u001b[39m\u001b[38;5;124m\"\u001b[39m\u001b[38;5;124m_response\u001b[39m\u001b[38;5;124m\"\u001b[39m\n",
      "File \u001b[0;32m~/anaconda3/lib/python3.10/urllib/request.py:536\u001b[0m, in \u001b[0;36mOpenerDirector._open\u001b[0;34m(self, req, data)\u001b[0m\n\u001b[1;32m    533\u001b[0m     \u001b[38;5;28;01mreturn\u001b[39;00m result\n\u001b[1;32m    535\u001b[0m protocol \u001b[38;5;241m=\u001b[39m req\u001b[38;5;241m.\u001b[39mtype\n\u001b[0;32m--> 536\u001b[0m result \u001b[38;5;241m=\u001b[39m \u001b[38;5;28;43mself\u001b[39;49m\u001b[38;5;241;43m.\u001b[39;49m\u001b[43m_call_chain\u001b[49m\u001b[43m(\u001b[49m\u001b[38;5;28;43mself\u001b[39;49m\u001b[38;5;241;43m.\u001b[39;49m\u001b[43mhandle_open\u001b[49m\u001b[43m,\u001b[49m\u001b[43m \u001b[49m\u001b[43mprotocol\u001b[49m\u001b[43m,\u001b[49m\u001b[43m \u001b[49m\u001b[43mprotocol\u001b[49m\u001b[43m \u001b[49m\u001b[38;5;241;43m+\u001b[39;49m\n\u001b[1;32m    537\u001b[0m \u001b[43m                          \u001b[49m\u001b[38;5;124;43m'\u001b[39;49m\u001b[38;5;124;43m_open\u001b[39;49m\u001b[38;5;124;43m'\u001b[39;49m\u001b[43m,\u001b[49m\u001b[43m \u001b[49m\u001b[43mreq\u001b[49m\u001b[43m)\u001b[49m\n\u001b[1;32m    538\u001b[0m \u001b[38;5;28;01mif\u001b[39;00m result:\n\u001b[1;32m    539\u001b[0m     \u001b[38;5;28;01mreturn\u001b[39;00m result\n",
      "File \u001b[0;32m~/anaconda3/lib/python3.10/urllib/request.py:496\u001b[0m, in \u001b[0;36mOpenerDirector._call_chain\u001b[0;34m(self, chain, kind, meth_name, *args)\u001b[0m\n\u001b[1;32m    494\u001b[0m \u001b[38;5;28;01mfor\u001b[39;00m handler \u001b[38;5;129;01min\u001b[39;00m handlers:\n\u001b[1;32m    495\u001b[0m     func \u001b[38;5;241m=\u001b[39m \u001b[38;5;28mgetattr\u001b[39m(handler, meth_name)\n\u001b[0;32m--> 496\u001b[0m     result \u001b[38;5;241m=\u001b[39m \u001b[43mfunc\u001b[49m\u001b[43m(\u001b[49m\u001b[38;5;241;43m*\u001b[39;49m\u001b[43margs\u001b[49m\u001b[43m)\u001b[49m\n\u001b[1;32m    497\u001b[0m     \u001b[38;5;28;01mif\u001b[39;00m result \u001b[38;5;129;01mis\u001b[39;00m \u001b[38;5;129;01mnot\u001b[39;00m \u001b[38;5;28;01mNone\u001b[39;00m:\n\u001b[1;32m    498\u001b[0m         \u001b[38;5;28;01mreturn\u001b[39;00m result\n",
      "File \u001b[0;32m~/anaconda3/lib/python3.10/urllib/request.py:1391\u001b[0m, in \u001b[0;36mHTTPSHandler.https_open\u001b[0;34m(self, req)\u001b[0m\n\u001b[1;32m   1390\u001b[0m \u001b[38;5;28;01mdef\u001b[39;00m \u001b[38;5;21mhttps_open\u001b[39m(\u001b[38;5;28mself\u001b[39m, req):\n\u001b[0;32m-> 1391\u001b[0m     \u001b[38;5;28;01mreturn\u001b[39;00m \u001b[38;5;28;43mself\u001b[39;49m\u001b[38;5;241;43m.\u001b[39;49m\u001b[43mdo_open\u001b[49m\u001b[43m(\u001b[49m\u001b[43mhttp\u001b[49m\u001b[38;5;241;43m.\u001b[39;49m\u001b[43mclient\u001b[49m\u001b[38;5;241;43m.\u001b[39;49m\u001b[43mHTTPSConnection\u001b[49m\u001b[43m,\u001b[49m\u001b[43m \u001b[49m\u001b[43mreq\u001b[49m\u001b[43m,\u001b[49m\n\u001b[1;32m   1392\u001b[0m \u001b[43m        \u001b[49m\u001b[43mcontext\u001b[49m\u001b[38;5;241;43m=\u001b[39;49m\u001b[38;5;28;43mself\u001b[39;49m\u001b[38;5;241;43m.\u001b[39;49m\u001b[43m_context\u001b[49m\u001b[43m,\u001b[49m\u001b[43m \u001b[49m\u001b[43mcheck_hostname\u001b[49m\u001b[38;5;241;43m=\u001b[39;49m\u001b[38;5;28;43mself\u001b[39;49m\u001b[38;5;241;43m.\u001b[39;49m\u001b[43m_check_hostname\u001b[49m\u001b[43m)\u001b[49m\n",
      "File \u001b[0;32m~/anaconda3/lib/python3.10/urllib/request.py:1348\u001b[0m, in \u001b[0;36mAbstractHTTPHandler.do_open\u001b[0;34m(self, http_class, req, **http_conn_args)\u001b[0m\n\u001b[1;32m   1346\u001b[0m \u001b[38;5;28;01mtry\u001b[39;00m:\n\u001b[1;32m   1347\u001b[0m     \u001b[38;5;28;01mtry\u001b[39;00m:\n\u001b[0;32m-> 1348\u001b[0m         \u001b[43mh\u001b[49m\u001b[38;5;241;43m.\u001b[39;49m\u001b[43mrequest\u001b[49m\u001b[43m(\u001b[49m\u001b[43mreq\u001b[49m\u001b[38;5;241;43m.\u001b[39;49m\u001b[43mget_method\u001b[49m\u001b[43m(\u001b[49m\u001b[43m)\u001b[49m\u001b[43m,\u001b[49m\u001b[43m \u001b[49m\u001b[43mreq\u001b[49m\u001b[38;5;241;43m.\u001b[39;49m\u001b[43mselector\u001b[49m\u001b[43m,\u001b[49m\u001b[43m \u001b[49m\u001b[43mreq\u001b[49m\u001b[38;5;241;43m.\u001b[39;49m\u001b[43mdata\u001b[49m\u001b[43m,\u001b[49m\u001b[43m \u001b[49m\u001b[43mheaders\u001b[49m\u001b[43m,\u001b[49m\n\u001b[1;32m   1349\u001b[0m \u001b[43m                  \u001b[49m\u001b[43mencode_chunked\u001b[49m\u001b[38;5;241;43m=\u001b[39;49m\u001b[43mreq\u001b[49m\u001b[38;5;241;43m.\u001b[39;49m\u001b[43mhas_header\u001b[49m\u001b[43m(\u001b[49m\u001b[38;5;124;43m'\u001b[39;49m\u001b[38;5;124;43mTransfer-encoding\u001b[39;49m\u001b[38;5;124;43m'\u001b[39;49m\u001b[43m)\u001b[49m\u001b[43m)\u001b[49m\n\u001b[1;32m   1350\u001b[0m     \u001b[38;5;28;01mexcept\u001b[39;00m \u001b[38;5;167;01mOSError\u001b[39;00m \u001b[38;5;28;01mas\u001b[39;00m err: \u001b[38;5;66;03m# timeout error\u001b[39;00m\n\u001b[1;32m   1351\u001b[0m         \u001b[38;5;28;01mraise\u001b[39;00m URLError(err)\n",
      "File \u001b[0;32m~/anaconda3/lib/python3.10/http/client.py:1282\u001b[0m, in \u001b[0;36mHTTPConnection.request\u001b[0;34m(self, method, url, body, headers, encode_chunked)\u001b[0m\n\u001b[1;32m   1279\u001b[0m \u001b[38;5;28;01mdef\u001b[39;00m \u001b[38;5;21mrequest\u001b[39m(\u001b[38;5;28mself\u001b[39m, method, url, body\u001b[38;5;241m=\u001b[39m\u001b[38;5;28;01mNone\u001b[39;00m, headers\u001b[38;5;241m=\u001b[39m{}, \u001b[38;5;241m*\u001b[39m,\n\u001b[1;32m   1280\u001b[0m             encode_chunked\u001b[38;5;241m=\u001b[39m\u001b[38;5;28;01mFalse\u001b[39;00m):\n\u001b[1;32m   1281\u001b[0m \u001b[38;5;250m    \u001b[39m\u001b[38;5;124;03m\"\"\"Send a complete request to the server.\"\"\"\u001b[39;00m\n\u001b[0;32m-> 1282\u001b[0m     \u001b[38;5;28;43mself\u001b[39;49m\u001b[38;5;241;43m.\u001b[39;49m\u001b[43m_send_request\u001b[49m\u001b[43m(\u001b[49m\u001b[43mmethod\u001b[49m\u001b[43m,\u001b[49m\u001b[43m \u001b[49m\u001b[43murl\u001b[49m\u001b[43m,\u001b[49m\u001b[43m \u001b[49m\u001b[43mbody\u001b[49m\u001b[43m,\u001b[49m\u001b[43m \u001b[49m\u001b[43mheaders\u001b[49m\u001b[43m,\u001b[49m\u001b[43m \u001b[49m\u001b[43mencode_chunked\u001b[49m\u001b[43m)\u001b[49m\n",
      "File \u001b[0;32m~/anaconda3/lib/python3.10/http/client.py:1328\u001b[0m, in \u001b[0;36mHTTPConnection._send_request\u001b[0;34m(self, method, url, body, headers, encode_chunked)\u001b[0m\n\u001b[1;32m   1324\u001b[0m \u001b[38;5;28;01mif\u001b[39;00m \u001b[38;5;28misinstance\u001b[39m(body, \u001b[38;5;28mstr\u001b[39m):\n\u001b[1;32m   1325\u001b[0m     \u001b[38;5;66;03m# RFC 2616 Section 3.7.1 says that text default has a\u001b[39;00m\n\u001b[1;32m   1326\u001b[0m     \u001b[38;5;66;03m# default charset of iso-8859-1.\u001b[39;00m\n\u001b[1;32m   1327\u001b[0m     body \u001b[38;5;241m=\u001b[39m _encode(body, \u001b[38;5;124m'\u001b[39m\u001b[38;5;124mbody\u001b[39m\u001b[38;5;124m'\u001b[39m)\n\u001b[0;32m-> 1328\u001b[0m \u001b[38;5;28;43mself\u001b[39;49m\u001b[38;5;241;43m.\u001b[39;49m\u001b[43mendheaders\u001b[49m\u001b[43m(\u001b[49m\u001b[43mbody\u001b[49m\u001b[43m,\u001b[49m\u001b[43m \u001b[49m\u001b[43mencode_chunked\u001b[49m\u001b[38;5;241;43m=\u001b[39;49m\u001b[43mencode_chunked\u001b[49m\u001b[43m)\u001b[49m\n",
      "File \u001b[0;32m~/anaconda3/lib/python3.10/http/client.py:1277\u001b[0m, in \u001b[0;36mHTTPConnection.endheaders\u001b[0;34m(self, message_body, encode_chunked)\u001b[0m\n\u001b[1;32m   1275\u001b[0m \u001b[38;5;28;01melse\u001b[39;00m:\n\u001b[1;32m   1276\u001b[0m     \u001b[38;5;28;01mraise\u001b[39;00m CannotSendHeader()\n\u001b[0;32m-> 1277\u001b[0m \u001b[38;5;28;43mself\u001b[39;49m\u001b[38;5;241;43m.\u001b[39;49m\u001b[43m_send_output\u001b[49m\u001b[43m(\u001b[49m\u001b[43mmessage_body\u001b[49m\u001b[43m,\u001b[49m\u001b[43m \u001b[49m\u001b[43mencode_chunked\u001b[49m\u001b[38;5;241;43m=\u001b[39;49m\u001b[43mencode_chunked\u001b[49m\u001b[43m)\u001b[49m\n",
      "File \u001b[0;32m~/anaconda3/lib/python3.10/http/client.py:1037\u001b[0m, in \u001b[0;36mHTTPConnection._send_output\u001b[0;34m(self, message_body, encode_chunked)\u001b[0m\n\u001b[1;32m   1035\u001b[0m msg \u001b[38;5;241m=\u001b[39m \u001b[38;5;124mb\u001b[39m\u001b[38;5;124m\"\u001b[39m\u001b[38;5;130;01m\\r\u001b[39;00m\u001b[38;5;130;01m\\n\u001b[39;00m\u001b[38;5;124m\"\u001b[39m\u001b[38;5;241m.\u001b[39mjoin(\u001b[38;5;28mself\u001b[39m\u001b[38;5;241m.\u001b[39m_buffer)\n\u001b[1;32m   1036\u001b[0m \u001b[38;5;28;01mdel\u001b[39;00m \u001b[38;5;28mself\u001b[39m\u001b[38;5;241m.\u001b[39m_buffer[:]\n\u001b[0;32m-> 1037\u001b[0m \u001b[38;5;28;43mself\u001b[39;49m\u001b[38;5;241;43m.\u001b[39;49m\u001b[43msend\u001b[49m\u001b[43m(\u001b[49m\u001b[43mmsg\u001b[49m\u001b[43m)\u001b[49m\n\u001b[1;32m   1039\u001b[0m \u001b[38;5;28;01mif\u001b[39;00m message_body \u001b[38;5;129;01mis\u001b[39;00m \u001b[38;5;129;01mnot\u001b[39;00m \u001b[38;5;28;01mNone\u001b[39;00m:\n\u001b[1;32m   1040\u001b[0m \n\u001b[1;32m   1041\u001b[0m     \u001b[38;5;66;03m# create a consistent interface to message_body\u001b[39;00m\n\u001b[1;32m   1042\u001b[0m     \u001b[38;5;28;01mif\u001b[39;00m \u001b[38;5;28mhasattr\u001b[39m(message_body, \u001b[38;5;124m'\u001b[39m\u001b[38;5;124mread\u001b[39m\u001b[38;5;124m'\u001b[39m):\n\u001b[1;32m   1043\u001b[0m         \u001b[38;5;66;03m# Let file-like take precedence over byte-like.  This\u001b[39;00m\n\u001b[1;32m   1044\u001b[0m         \u001b[38;5;66;03m# is needed to allow the current position of mmap'ed\u001b[39;00m\n\u001b[1;32m   1045\u001b[0m         \u001b[38;5;66;03m# files to be taken into account.\u001b[39;00m\n",
      "File \u001b[0;32m~/anaconda3/lib/python3.10/http/client.py:975\u001b[0m, in \u001b[0;36mHTTPConnection.send\u001b[0;34m(self, data)\u001b[0m\n\u001b[1;32m    973\u001b[0m \u001b[38;5;28;01mif\u001b[39;00m \u001b[38;5;28mself\u001b[39m\u001b[38;5;241m.\u001b[39msock \u001b[38;5;129;01mis\u001b[39;00m \u001b[38;5;28;01mNone\u001b[39;00m:\n\u001b[1;32m    974\u001b[0m     \u001b[38;5;28;01mif\u001b[39;00m \u001b[38;5;28mself\u001b[39m\u001b[38;5;241m.\u001b[39mauto_open:\n\u001b[0;32m--> 975\u001b[0m         \u001b[38;5;28;43mself\u001b[39;49m\u001b[38;5;241;43m.\u001b[39;49m\u001b[43mconnect\u001b[49m\u001b[43m(\u001b[49m\u001b[43m)\u001b[49m\n\u001b[1;32m    976\u001b[0m     \u001b[38;5;28;01melse\u001b[39;00m:\n\u001b[1;32m    977\u001b[0m         \u001b[38;5;28;01mraise\u001b[39;00m NotConnected()\n",
      "File \u001b[0;32m~/anaconda3/lib/python3.10/http/client.py:1447\u001b[0m, in \u001b[0;36mHTTPSConnection.connect\u001b[0;34m(self)\u001b[0m\n\u001b[1;32m   1444\u001b[0m \u001b[38;5;28;01mdef\u001b[39;00m \u001b[38;5;21mconnect\u001b[39m(\u001b[38;5;28mself\u001b[39m):\n\u001b[1;32m   1445\u001b[0m     \u001b[38;5;124m\"\u001b[39m\u001b[38;5;124mConnect to a host on a given (SSL) port.\u001b[39m\u001b[38;5;124m\"\u001b[39m\n\u001b[0;32m-> 1447\u001b[0m     \u001b[38;5;28;43msuper\u001b[39;49m\u001b[43m(\u001b[49m\u001b[43m)\u001b[49m\u001b[38;5;241;43m.\u001b[39;49m\u001b[43mconnect\u001b[49m\u001b[43m(\u001b[49m\u001b[43m)\u001b[49m\n\u001b[1;32m   1449\u001b[0m     \u001b[38;5;28;01mif\u001b[39;00m \u001b[38;5;28mself\u001b[39m\u001b[38;5;241m.\u001b[39m_tunnel_host:\n\u001b[1;32m   1450\u001b[0m         server_hostname \u001b[38;5;241m=\u001b[39m \u001b[38;5;28mself\u001b[39m\u001b[38;5;241m.\u001b[39m_tunnel_host\n",
      "File \u001b[0;32m~/anaconda3/lib/python3.10/http/client.py:941\u001b[0m, in \u001b[0;36mHTTPConnection.connect\u001b[0;34m(self)\u001b[0m\n\u001b[1;32m    939\u001b[0m \u001b[38;5;250m\u001b[39m\u001b[38;5;124;03m\"\"\"Connect to the host and port specified in __init__.\"\"\"\u001b[39;00m\n\u001b[1;32m    940\u001b[0m sys\u001b[38;5;241m.\u001b[39maudit(\u001b[38;5;124m\"\u001b[39m\u001b[38;5;124mhttp.client.connect\u001b[39m\u001b[38;5;124m\"\u001b[39m, \u001b[38;5;28mself\u001b[39m, \u001b[38;5;28mself\u001b[39m\u001b[38;5;241m.\u001b[39mhost, \u001b[38;5;28mself\u001b[39m\u001b[38;5;241m.\u001b[39mport)\n\u001b[0;32m--> 941\u001b[0m \u001b[38;5;28mself\u001b[39m\u001b[38;5;241m.\u001b[39msock \u001b[38;5;241m=\u001b[39m \u001b[38;5;28;43mself\u001b[39;49m\u001b[38;5;241;43m.\u001b[39;49m\u001b[43m_create_connection\u001b[49m\u001b[43m(\u001b[49m\n\u001b[1;32m    942\u001b[0m \u001b[43m    \u001b[49m\u001b[43m(\u001b[49m\u001b[38;5;28;43mself\u001b[39;49m\u001b[38;5;241;43m.\u001b[39;49m\u001b[43mhost\u001b[49m\u001b[43m,\u001b[49m\u001b[38;5;28;43mself\u001b[39;49m\u001b[38;5;241;43m.\u001b[39;49m\u001b[43mport\u001b[49m\u001b[43m)\u001b[49m\u001b[43m,\u001b[49m\u001b[43m \u001b[49m\u001b[38;5;28;43mself\u001b[39;49m\u001b[38;5;241;43m.\u001b[39;49m\u001b[43mtimeout\u001b[49m\u001b[43m,\u001b[49m\u001b[43m \u001b[49m\u001b[38;5;28;43mself\u001b[39;49m\u001b[38;5;241;43m.\u001b[39;49m\u001b[43msource_address\u001b[49m\u001b[43m)\u001b[49m\n\u001b[1;32m    943\u001b[0m \u001b[38;5;66;03m# Might fail in OSs that don't implement TCP_NODELAY\u001b[39;00m\n\u001b[1;32m    944\u001b[0m \u001b[38;5;28;01mtry\u001b[39;00m:\n",
      "File \u001b[0;32m~/anaconda3/lib/python3.10/socket.py:833\u001b[0m, in \u001b[0;36mcreate_connection\u001b[0;34m(address, timeout, source_address)\u001b[0m\n\u001b[1;32m    831\u001b[0m \u001b[38;5;28;01mif\u001b[39;00m source_address:\n\u001b[1;32m    832\u001b[0m     sock\u001b[38;5;241m.\u001b[39mbind(source_address)\n\u001b[0;32m--> 833\u001b[0m \u001b[43msock\u001b[49m\u001b[38;5;241;43m.\u001b[39;49m\u001b[43mconnect\u001b[49m\u001b[43m(\u001b[49m\u001b[43msa\u001b[49m\u001b[43m)\u001b[49m\n\u001b[1;32m    834\u001b[0m \u001b[38;5;66;03m# Break explicitly a reference cycle\u001b[39;00m\n\u001b[1;32m    835\u001b[0m err \u001b[38;5;241m=\u001b[39m \u001b[38;5;28;01mNone\u001b[39;00m\n",
      "\u001b[0;31mKeyboardInterrupt\u001b[0m: "
     ]
    }
   ],
   "source": [
    "#Google News Word2Vec\n",
    "import gensim.downloader as api\n",
    "model2 = api.load('word2vec-google-news-300')"
   ]
  },
  {
   "cell_type": "code",
   "execution_count": 2177,
   "id": "d4cba51f-aeca-4147-ad08-bcf09c7464a7",
   "metadata": {},
   "outputs": [],
   "source": [
    "model = gensim.models.Word2Vec(window=10, min_count=1, workers=8, vector_size=300, alpha=0.03, min_alpha=0.005, sg=1)"
   ]
  },
  {
   "cell_type": "code",
   "execution_count": 2178,
   "id": "10814723-26b9-4a81-b05f-391c9fcad985",
   "metadata": {},
   "outputs": [],
   "source": [
    "model.build_vocab(flatten_corpus)"
   ]
  },
  {
   "cell_type": "code",
   "execution_count": 2179,
   "id": "14dd5353-8721-4dfd-8ce9-d33c000443ee",
   "metadata": {},
   "outputs": [
    {
     "data": {
      "text/plain": [
       "(2280229, 2367310)"
      ]
     },
     "execution_count": 2179,
     "metadata": {},
     "output_type": "execute_result"
    }
   ],
   "source": [
    "model.train(flatten_corpus, total_examples=model.corpus_count, epochs=10)"
   ]
  },
  {
   "cell_type": "code",
   "execution_count": 2180,
   "id": "5eb3ddbd-3979-4494-9662-3e152853bef0",
   "metadata": {},
   "outputs": [],
   "source": [
    "# model.wv.most_similar('Spectre')"
   ]
  },
  {
   "cell_type": "code",
   "execution_count": 2181,
   "id": "7625e7a8-2b67-4de7-ab87-2447c8d5684a",
   "metadata": {},
   "outputs": [],
   "source": [
    "embeddings = model.wv.get_normed_vectors()"
   ]
  },
  {
   "cell_type": "code",
   "execution_count": 2182,
   "id": "f00cefab-75ba-4079-8dca-d28767286b70",
   "metadata": {},
   "outputs": [],
   "source": [
    "# embeddings[0]"
   ]
  },
  {
   "cell_type": "code",
   "execution_count": 2183,
   "id": "b505ee2c-ebbc-46af-842f-047f37a16602",
   "metadata": {},
   "outputs": [],
   "source": [
    "# model.wv.index_to_key"
   ]
  },
  {
   "cell_type": "code",
   "execution_count": 2184,
   "id": "f09593cf-7311-4a75-8c62-4c6e8f5abfd7",
   "metadata": {},
   "outputs": [],
   "source": [
    "#Average Word2Vec for each tags"
   ]
  },
  {
   "cell_type": "code",
   "execution_count": 2185,
   "id": "eff87c4b-246d-4574-9c3f-d83175972977",
   "metadata": {},
   "outputs": [],
   "source": [
    "avg_embeddings = []"
   ]
  },
  {
   "cell_type": "code",
   "execution_count": 2186,
   "id": "90c812a8-5058-4229-90f3-c0fe4f8ac783",
   "metadata": {},
   "outputs": [
    {
     "data": {
      "text/html": [
       "<div>\n",
       "<style scoped>\n",
       "    .dataframe tbody tr th:only-of-type {\n",
       "        vertical-align: middle;\n",
       "    }\n",
       "\n",
       "    .dataframe tbody tr th {\n",
       "        vertical-align: top;\n",
       "    }\n",
       "\n",
       "    .dataframe thead th {\n",
       "        text-align: right;\n",
       "    }\n",
       "</style>\n",
       "<table border=\"1\" class=\"dataframe\">\n",
       "  <thead>\n",
       "    <tr style=\"text-align: right;\">\n",
       "      <th></th>\n",
       "      <th>id</th>\n",
       "      <th>cast</th>\n",
       "      <th>director</th>\n",
       "      <th>genres</th>\n",
       "      <th>keywords</th>\n",
       "      <th>original_language</th>\n",
       "      <th>original_title</th>\n",
       "      <th>overview</th>\n",
       "      <th>combined</th>\n",
       "      <th>tags</th>\n",
       "    </tr>\n",
       "  </thead>\n",
       "  <tbody>\n",
       "    <tr>\n",
       "      <th>0</th>\n",
       "      <td>19995</td>\n",
       "      <td>[SamWorthington, ZoeSaldana, SigourneyWeaver]</td>\n",
       "      <td>[JamesCameron]</td>\n",
       "      <td>[Action, Adventure, Fantasy, Science Fiction]</td>\n",
       "      <td>[culture clash, future, space war, space colon...</td>\n",
       "      <td>en</td>\n",
       "      <td>Avatar</td>\n",
       "      <td>22nd century paraplegic marine dispatch moon ...</td>\n",
       "      <td>SamWorthington ZoeSaldana SigourneyWeaver Jame...</td>\n",
       "      <td>SamWorthington ZoeSaldana SigourneyWeaver Jame...</td>\n",
       "    </tr>\n",
       "  </tbody>\n",
       "</table>\n",
       "</div>"
      ],
      "text/plain": [
       "      id                                           cast        director  \\\n",
       "0  19995  [SamWorthington, ZoeSaldana, SigourneyWeaver]  [JamesCameron]   \n",
       "\n",
       "                                          genres  \\\n",
       "0  [Action, Adventure, Fantasy, Science Fiction]   \n",
       "\n",
       "                                            keywords original_language  \\\n",
       "0  [culture clash, future, space war, space colon...                en   \n",
       "\n",
       "  original_title                                           overview  \\\n",
       "0         Avatar   22nd century paraplegic marine dispatch moon ...   \n",
       "\n",
       "                                            combined  \\\n",
       "0  SamWorthington ZoeSaldana SigourneyWeaver Jame...   \n",
       "\n",
       "                                                tags  \n",
       "0  SamWorthington ZoeSaldana SigourneyWeaver Jame...  "
      ]
     },
     "execution_count": 2186,
     "metadata": {},
     "output_type": "execute_result"
    }
   ],
   "source": [
    "df2.head(1)"
   ]
  },
  {
   "cell_type": "code",
   "execution_count": 2187,
   "id": "ac6475ad-f247-42f9-a0bb-5fee6768257d",
   "metadata": {},
   "outputs": [
    {
     "data": {
      "text/plain": [
       "'SamWorthington ZoeSaldana SigourneyWeaver JamesCameron Action Adventure Fantasy Science Fiction culture clash future space war space colony society space travel futuristic romance space alien tribe alien planet cgi marine soldier battle love affair anti war power relations mind and soul 3d 22nd century paraplegic marine dispatch moon pandora unique mission become torn follow order protect alien civilization en'"
      ]
     },
     "execution_count": 2187,
     "metadata": {},
     "output_type": "execute_result"
    }
   ],
   "source": [
    "df2.iloc[0, 9]"
   ]
  },
  {
   "cell_type": "code",
   "execution_count": 2188,
   "id": "41dd80cb-d2ab-4943-aa41-a17fbcd09d06",
   "metadata": {},
   "outputs": [
    {
     "data": {
      "text/plain": [
       "'SamWorthington'"
      ]
     },
     "execution_count": 2188,
     "metadata": {},
     "output_type": "execute_result"
    }
   ],
   "source": [
    "flatten_corpus[0][0]"
   ]
  },
  {
   "cell_type": "code",
   "execution_count": 2189,
   "id": "247f7aff-1ebb-4c1a-be1a-eee56746a63a",
   "metadata": {},
   "outputs": [],
   "source": [
    "#Building vocabulary\n",
    "vocabulary = set(model.wv.index_to_key)"
   ]
  },
  {
   "cell_type": "code",
   "execution_count": 2190,
   "id": "4fa09e14-0e24-4365-960b-608086ffaa03",
   "metadata": {},
   "outputs": [],
   "source": [
    "final_embeddings = []\n",
    "for i in flatten_corpus:   \n",
    "    avg_embeddings = None\n",
    "    for j in i:\n",
    "        \n",
    "        if j in vocabulary: \n",
    "            \n",
    "            if avg_embeddings is None:\n",
    "                avg_embeddings = model.wv[j]\n",
    "            else:\n",
    "                avg_embeddings = avg_embeddings + model.wv[j]\n",
    "    if avg_embeddings is not None:\n",
    "        avg_embeddings = avg_embeddings / len(avg_embeddings)\n",
    "        final_embeddings.append(avg_embeddings)\n",
    "# print(len(list(unique_words)))"
   ]
  },
  {
   "cell_type": "code",
   "execution_count": 2191,
   "id": "ced2c226-88b9-42e9-aec7-c86479f0037c",
   "metadata": {},
   "outputs": [],
   "source": [
    "ls = []\n",
    "ls.append(model.wv[flatten_corpus[0][0]].tolist())\n",
    "# from itertools import \n",
    "ls = list(chain.from_iterable(ls))"
   ]
  },
  {
   "cell_type": "code",
   "execution_count": 2192,
   "id": "4980fd18-341d-49c4-ac51-f76067a210ff",
   "metadata": {},
   "outputs": [
    {
     "data": {
      "text/plain": [
       "300"
      ]
     },
     "execution_count": 2192,
     "metadata": {},
     "output_type": "execute_result"
    }
   ],
   "source": [
    "len(ls)"
   ]
  },
  {
   "cell_type": "code",
   "execution_count": 2193,
   "id": "ed2f97fc-1fa4-4eb0-9d19-0a291aa68a04",
   "metadata": {},
   "outputs": [
    {
     "data": {
      "text/plain": [
       "57"
      ]
     },
     "execution_count": 2193,
     "metadata": {},
     "output_type": "execute_result"
    }
   ],
   "source": [
    "len(flatten_corpus[0])"
   ]
  },
  {
   "cell_type": "code",
   "execution_count": 2194,
   "id": "28ce1d3c-bd85-4983-bea2-81273c9b4610",
   "metadata": {},
   "outputs": [
    {
     "data": {
      "text/plain": [
       "4800"
      ]
     },
     "execution_count": 2194,
     "metadata": {},
     "output_type": "execute_result"
    }
   ],
   "source": [
    "len(flatten_corpus)"
   ]
  },
  {
   "cell_type": "code",
   "execution_count": 2195,
   "id": "a7436e4d-56ff-41d5-b57f-e60a2896e7ae",
   "metadata": {},
   "outputs": [
    {
     "data": {
      "text/plain": [
       "(4800, 3)"
      ]
     },
     "execution_count": 2195,
     "metadata": {},
     "output_type": "execute_result"
    }
   ],
   "source": [
    "movies.shape"
   ]
  },
  {
   "cell_type": "code",
   "execution_count": 2196,
   "id": "ceb4047c-faac-4d35-9577-089593daa248",
   "metadata": {},
   "outputs": [
    {
     "data": {
      "text/plain": [
       "4800"
      ]
     },
     "execution_count": 2196,
     "metadata": {},
     "output_type": "execute_result"
    }
   ],
   "source": [
    "len(final_embeddings)"
   ]
  },
  {
   "cell_type": "code",
   "execution_count": 2197,
   "id": "e2bdc9fc-1c32-4916-bffa-c21b0d5f806b",
   "metadata": {},
   "outputs": [
    {
     "data": {
      "text/plain": [
       "300"
      ]
     },
     "execution_count": 2197,
     "metadata": {},
     "output_type": "execute_result"
    }
   ],
   "source": [
    "len(final_embeddings[0])"
   ]
  },
  {
   "cell_type": "code",
   "execution_count": 2198,
   "id": "012e8fd6-f743-4836-82ee-06e16cf11662",
   "metadata": {},
   "outputs": [],
   "source": [
    "import math"
   ]
  },
  {
   "cell_type": "code",
   "execution_count": 2199,
   "id": "bfdb1b84-7f77-43f3-b42d-4c530f20ebc9",
   "metadata": {},
   "outputs": [],
   "source": [
    "def idx_of_movie_in_dataframe(string):\n",
    "    idx = movies[movies['original_title'] == string].index.values\n",
    "    idx = idx.tolist()[0]\n",
    "    return idx"
   ]
  },
  {
   "cell_type": "code",
   "execution_count": 2200,
   "id": "d739e305-bf25-4ce0-8b4d-f01ff5d779f4",
   "metadata": {},
   "outputs": [
    {
     "data": {
      "text/html": [
       "<div>\n",
       "<style scoped>\n",
       "    .dataframe tbody tr th:only-of-type {\n",
       "        vertical-align: middle;\n",
       "    }\n",
       "\n",
       "    .dataframe tbody tr th {\n",
       "        vertical-align: top;\n",
       "    }\n",
       "\n",
       "    .dataframe thead th {\n",
       "        text-align: right;\n",
       "    }\n",
       "</style>\n",
       "<table border=\"1\" class=\"dataframe\">\n",
       "  <thead>\n",
       "    <tr style=\"text-align: right;\">\n",
       "      <th></th>\n",
       "      <th>id</th>\n",
       "      <th>original_title</th>\n",
       "      <th>tags</th>\n",
       "    </tr>\n",
       "  </thead>\n",
       "  <tbody>\n",
       "    <tr>\n",
       "      <th>0</th>\n",
       "      <td>19995</td>\n",
       "      <td>Avatar</td>\n",
       "      <td>None</td>\n",
       "    </tr>\n",
       "    <tr>\n",
       "      <th>1</th>\n",
       "      <td>285</td>\n",
       "      <td>Pirates of the Caribbean: At World's End</td>\n",
       "      <td>None</td>\n",
       "    </tr>\n",
       "    <tr>\n",
       "      <th>2</th>\n",
       "      <td>206647</td>\n",
       "      <td>Spectre</td>\n",
       "      <td>None</td>\n",
       "    </tr>\n",
       "    <tr>\n",
       "      <th>3</th>\n",
       "      <td>49026</td>\n",
       "      <td>The Dark Knight Rises</td>\n",
       "      <td>None</td>\n",
       "    </tr>\n",
       "    <tr>\n",
       "      <th>4</th>\n",
       "      <td>49529</td>\n",
       "      <td>John Carter</td>\n",
       "      <td>None</td>\n",
       "    </tr>\n",
       "    <tr>\n",
       "      <th>5</th>\n",
       "      <td>559</td>\n",
       "      <td>Spider-Man 3</td>\n",
       "      <td>None</td>\n",
       "    </tr>\n",
       "    <tr>\n",
       "      <th>6</th>\n",
       "      <td>38757</td>\n",
       "      <td>Tangled</td>\n",
       "      <td>None</td>\n",
       "    </tr>\n",
       "    <tr>\n",
       "      <th>7</th>\n",
       "      <td>99861</td>\n",
       "      <td>Avengers: Age of Ultron</td>\n",
       "      <td>None</td>\n",
       "    </tr>\n",
       "    <tr>\n",
       "      <th>8</th>\n",
       "      <td>767</td>\n",
       "      <td>Harry Potter and the Half-Blood Prince</td>\n",
       "      <td>None</td>\n",
       "    </tr>\n",
       "    <tr>\n",
       "      <th>9</th>\n",
       "      <td>209112</td>\n",
       "      <td>Batman v Superman: Dawn of Justice</td>\n",
       "      <td>None</td>\n",
       "    </tr>\n",
       "  </tbody>\n",
       "</table>\n",
       "</div>"
      ],
      "text/plain": [
       "       id                            original_title  tags\n",
       "0   19995                                    Avatar  None\n",
       "1     285  Pirates of the Caribbean: At World's End  None\n",
       "2  206647                                   Spectre  None\n",
       "3   49026                     The Dark Knight Rises  None\n",
       "4   49529                               John Carter  None\n",
       "5     559                              Spider-Man 3  None\n",
       "6   38757                                   Tangled  None\n",
       "7   99861                   Avengers: Age of Ultron  None\n",
       "8     767    Harry Potter and the Half-Blood Prince  None\n",
       "9  209112        Batman v Superman: Dawn of Justice  None"
      ]
     },
     "execution_count": 2200,
     "metadata": {},
     "output_type": "execute_result"
    }
   ],
   "source": [
    "movies.head(10)"
   ]
  },
  {
   "cell_type": "code",
   "execution_count": 2216,
   "id": "269e281b-797d-4daf-961f-8c1ce5882c6d",
   "metadata": {},
   "outputs": [],
   "source": [
    "idx = idx_of_movie_in_embeddings(\"Ant-Man\")"
   ]
  },
  {
   "cell_type": "code",
   "execution_count": 2217,
   "id": "99256d03-315b-4984-80da-995d30ba2739",
   "metadata": {},
   "outputs": [
    {
     "data": {
      "text/plain": [
       "182"
      ]
     },
     "execution_count": 2217,
     "metadata": {},
     "output_type": "execute_result"
    }
   ],
   "source": [
    "idx"
   ]
  },
  {
   "cell_type": "code",
   "execution_count": 2218,
   "id": "2cb2cc76-e987-4ad5-9212-8cd7d3c0e47c",
   "metadata": {},
   "outputs": [
    {
     "data": {
      "text/plain": [
       "array([-0.00881291,  0.01858789,  0.00944835,  0.02321797,  0.00308918,\n",
       "       -0.02680604,  0.01205493,  0.01945494,  0.01488227, -0.01890481,\n",
       "        0.02115833, -0.01543339, -0.01355954,  0.00953733, -0.00862719,\n",
       "       -0.04260439, -0.00179672,  0.01713242,  0.03311311,  0.03169078,\n",
       "       -0.05950649,  0.00622101,  0.00386272, -0.02989631,  0.03455465,\n",
       "       -0.01886496, -0.04174385, -0.00158075, -0.01682364, -0.02761676,\n",
       "       -0.01303926, -0.02307617, -0.01236494, -0.03113667, -0.01031006,\n",
       "       -0.0222696 , -0.00415289, -0.00682764, -0.00334394, -0.00933957,\n",
       "        0.02043995,  0.02865587, -0.02205418, -0.02227552, -0.02798725,\n",
       "        0.03695438, -0.03249451,  0.01900826,  0.03060133, -0.00266958,\n",
       "        0.01670202, -0.00183047, -0.02369153,  0.01751833, -0.00202516,\n",
       "        0.03035456,  0.07335925, -0.00645586,  0.03525224,  0.01547243,\n",
       "       -0.0210794 ,  0.03485956,  0.03188684,  0.00272602, -0.00708682,\n",
       "       -0.01844256, -0.00951639,  0.00622697, -0.01638774, -0.00975729,\n",
       "       -0.03101586,  0.05677967,  0.00348507, -0.01781962,  0.01404294,\n",
       "       -0.01294767, -0.00442031,  0.0133385 , -0.01356458,  0.01252826,\n",
       "       -0.02856303, -0.03174283,  0.02252474,  0.03395456, -0.01359312,\n",
       "        0.04285279,  0.00688595, -0.00623212, -0.00435682,  0.02466319,\n",
       "       -0.00371694,  0.01810901,  0.01000857, -0.01762215, -0.01313206,\n",
       "       -0.01294514,  0.00373136, -0.04682379, -0.03611977,  0.03553518,\n",
       "       -0.00652301, -0.04033324,  0.0147463 , -0.01727227,  0.02304119,\n",
       "        0.01494603, -0.0001384 ,  0.02578378, -0.01399787, -0.01508412,\n",
       "       -0.00692833, -0.01491642,  0.03178956,  0.04320206,  0.04418696,\n",
       "        0.04928286, -0.00355076, -0.00270892,  0.04484715, -0.07323918,\n",
       "        0.01191754,  0.01573926, -0.0323538 ,  0.0054509 , -0.0237031 ,\n",
       "        0.0178806 ,  0.00538901, -0.02495927, -0.01633   , -0.01965281,\n",
       "       -0.03258971,  0.01713824,  0.03431992, -0.01860406,  0.00767974,\n",
       "       -0.00527216,  0.00791781, -0.03270487, -0.02143871, -0.04611997,\n",
       "        0.00596584,  0.00500969, -0.03220132,  0.01138331,  0.01882835,\n",
       "       -0.00983803, -0.0476312 ,  0.02900569,  0.02544902,  0.00135469,\n",
       "        0.0053698 , -0.02112134, -0.0195494 ,  0.0444923 ,  0.01022185,\n",
       "        0.0061069 ,  0.01840656, -0.01448894,  0.03594418,  0.02717269,\n",
       "        0.02653207,  0.01182538, -0.0289213 ,  0.02351518, -0.05288796,\n",
       "        0.01181813, -0.01713728, -0.01696591,  0.02216607,  0.05307136,\n",
       "       -0.00124471,  0.01631952,  0.02288596,  0.01738065, -0.02453232,\n",
       "       -0.03552126,  0.0287552 , -0.03747652, -0.02729626, -0.02235984,\n",
       "       -0.01125327, -0.01452398, -0.02591427, -0.00884047,  0.00282636,\n",
       "        0.02801121, -0.00641479,  0.0233533 ,  0.01518145, -0.0376654 ,\n",
       "        0.01360478,  0.01286221, -0.03295049,  0.05910699,  0.00793385,\n",
       "       -0.02651178, -0.00069569, -0.02684071,  0.03446363,  0.01737108,\n",
       "       -0.01903307,  0.01620855,  0.022306  , -0.02067931, -0.00278133,\n",
       "        0.00633579, -0.00075128,  0.00101827,  0.00327374, -0.00882102,\n",
       "       -0.00155295, -0.00706063, -0.01561186,  0.01159823,  0.03868937,\n",
       "       -0.02665995, -0.01067982, -0.04338809, -0.05437218, -0.03937318,\n",
       "        0.00976645,  0.0112881 , -0.06815088, -0.01131486,  0.02279379,\n",
       "        0.0106174 , -0.00391483, -0.00594985, -0.04361701, -0.01471134,\n",
       "       -0.01112991, -0.00338318, -0.04165414,  0.01630385,  0.01498181,\n",
       "        0.02300875,  0.03348092,  0.0228596 ,  0.00464588, -0.05506478,\n",
       "       -0.04027472, -0.0194667 , -0.02935665, -0.01142306,  0.0006734 ,\n",
       "        0.00520443,  0.03230837,  0.01086723,  0.00725798,  0.02261434,\n",
       "       -0.01841663,  0.01893969,  0.01985247, -0.02121279, -0.02739083,\n",
       "        0.00158225,  0.02725221,  0.00432328, -0.05093656, -0.01976415,\n",
       "        0.02592415,  0.02162994, -0.02430758, -0.02094142, -0.03600483,\n",
       "        0.01120929, -0.02849912,  0.01565674,  0.01192468,  0.00160893,\n",
       "       -0.00711614,  0.01886356,  0.02840738,  0.00299511,  0.0575499 ,\n",
       "        0.00521514,  0.00922369,  0.01526271, -0.01212734,  0.02206312,\n",
       "       -0.00356899, -0.01420483,  0.01879189, -0.0079184 , -0.00729279,\n",
       "       -0.02566313, -0.00577061,  0.01912916,  0.0659264 ,  0.03064824,\n",
       "       -0.00132264,  0.02890127,  0.01642111,  0.01027438,  0.02603425,\n",
       "        0.01936092,  0.0151915 , -0.00398465,  0.03012402,  0.01971193],\n",
       "      dtype=float32)"
      ]
     },
     "execution_count": 2218,
     "metadata": {},
     "output_type": "execute_result"
    }
   ],
   "source": [
    "final_embeddings[idx]"
   ]
  },
  {
   "cell_type": "code",
   "execution_count": 2219,
   "id": "e723575c-abb9-4974-8d81-aba814e36bf6",
   "metadata": {},
   "outputs": [],
   "source": [
    "#Cosine Similarity"
   ]
  },
  {
   "cell_type": "code",
   "execution_count": 2220,
   "id": "8cf90d46-9492-4f6d-bc30-dbe2a5d084c5",
   "metadata": {},
   "outputs": [],
   "source": [
    "from sklearn.metrics.pairwise import cosine_similarity"
   ]
  },
  {
   "cell_type": "code",
   "execution_count": 2221,
   "id": "e145be19-03b7-4386-91a0-611969b93179",
   "metadata": {},
   "outputs": [
    {
     "data": {
      "text/plain": [
       "(4800, 3)"
      ]
     },
     "execution_count": 2221,
     "metadata": {},
     "output_type": "execute_result"
    }
   ],
   "source": [
    "movies.shape"
   ]
  },
  {
   "cell_type": "code",
   "execution_count": 2222,
   "id": "db34cca0-84da-4b07-8304-1b4789882ee7",
   "metadata": {},
   "outputs": [
    {
     "data": {
      "text/plain": [
       "array([[0.80515796, 0.80556124, 0.82180023, ..., 0.8277098 , 0.78849006,\n",
       "        0.7888979 ]], dtype=float32)"
      ]
     },
     "execution_count": 2222,
     "metadata": {},
     "output_type": "execute_result"
    }
   ],
   "source": [
    "cosine_similarity(final_embeddings[idx].reshape(1, -1), final_embeddings)"
   ]
  },
  {
   "cell_type": "code",
   "execution_count": 2223,
   "id": "262abfa9-88c4-4bce-ad16-0a851234586a",
   "metadata": {},
   "outputs": [
    {
     "data": {
      "text/plain": [
       "4800"
      ]
     },
     "execution_count": 2223,
     "metadata": {},
     "output_type": "execute_result"
    }
   ],
   "source": [
    "len(cosine_similarity(final_embeddings[idx].reshape(1, -1), final_embeddings)[0])"
   ]
  },
  {
   "cell_type": "code",
   "execution_count": 2224,
   "id": "2af736b5-e579-4097-ae1e-73744a8f68a7",
   "metadata": {},
   "outputs": [],
   "source": [
    "#Getting the top five movies from the inputted movie"
   ]
  },
  {
   "cell_type": "code",
   "execution_count": 2225,
   "id": "831a1347-93e1-47f4-910f-0a0e4efb6588",
   "metadata": {},
   "outputs": [],
   "source": [
    "# movies.reset_index(inplace=True, drop=True)"
   ]
  },
  {
   "cell_type": "code",
   "execution_count": 2226,
   "id": "e7225a50-d1da-480e-9bb2-1b3cf2c90931",
   "metadata": {},
   "outputs": [
    {
     "data": {
      "text/html": [
       "<div>\n",
       "<style scoped>\n",
       "    .dataframe tbody tr th:only-of-type {\n",
       "        vertical-align: middle;\n",
       "    }\n",
       "\n",
       "    .dataframe tbody tr th {\n",
       "        vertical-align: top;\n",
       "    }\n",
       "\n",
       "    .dataframe thead th {\n",
       "        text-align: right;\n",
       "    }\n",
       "</style>\n",
       "<table border=\"1\" class=\"dataframe\">\n",
       "  <thead>\n",
       "    <tr style=\"text-align: right;\">\n",
       "      <th></th>\n",
       "      <th>id</th>\n",
       "      <th>original_title</th>\n",
       "      <th>tags</th>\n",
       "    </tr>\n",
       "  </thead>\n",
       "  <tbody>\n",
       "    <tr>\n",
       "      <th>0</th>\n",
       "      <td>19995</td>\n",
       "      <td>Avatar</td>\n",
       "      <td>None</td>\n",
       "    </tr>\n",
       "    <tr>\n",
       "      <th>1</th>\n",
       "      <td>285</td>\n",
       "      <td>Pirates of the Caribbean: At World's End</td>\n",
       "      <td>None</td>\n",
       "    </tr>\n",
       "    <tr>\n",
       "      <th>2</th>\n",
       "      <td>206647</td>\n",
       "      <td>Spectre</td>\n",
       "      <td>None</td>\n",
       "    </tr>\n",
       "    <tr>\n",
       "      <th>3</th>\n",
       "      <td>49026</td>\n",
       "      <td>The Dark Knight Rises</td>\n",
       "      <td>None</td>\n",
       "    </tr>\n",
       "    <tr>\n",
       "      <th>4</th>\n",
       "      <td>49529</td>\n",
       "      <td>John Carter</td>\n",
       "      <td>None</td>\n",
       "    </tr>\n",
       "    <tr>\n",
       "      <th>5</th>\n",
       "      <td>559</td>\n",
       "      <td>Spider-Man 3</td>\n",
       "      <td>None</td>\n",
       "    </tr>\n",
       "    <tr>\n",
       "      <th>6</th>\n",
       "      <td>38757</td>\n",
       "      <td>Tangled</td>\n",
       "      <td>None</td>\n",
       "    </tr>\n",
       "    <tr>\n",
       "      <th>7</th>\n",
       "      <td>99861</td>\n",
       "      <td>Avengers: Age of Ultron</td>\n",
       "      <td>None</td>\n",
       "    </tr>\n",
       "    <tr>\n",
       "      <th>8</th>\n",
       "      <td>767</td>\n",
       "      <td>Harry Potter and the Half-Blood Prince</td>\n",
       "      <td>None</td>\n",
       "    </tr>\n",
       "    <tr>\n",
       "      <th>9</th>\n",
       "      <td>209112</td>\n",
       "      <td>Batman v Superman: Dawn of Justice</td>\n",
       "      <td>None</td>\n",
       "    </tr>\n",
       "    <tr>\n",
       "      <th>10</th>\n",
       "      <td>1452</td>\n",
       "      <td>Superman Returns</td>\n",
       "      <td>None</td>\n",
       "    </tr>\n",
       "    <tr>\n",
       "      <th>11</th>\n",
       "      <td>10764</td>\n",
       "      <td>Quantum of Solace</td>\n",
       "      <td>None</td>\n",
       "    </tr>\n",
       "    <tr>\n",
       "      <th>12</th>\n",
       "      <td>58</td>\n",
       "      <td>Pirates of the Caribbean: Dead Man's Chest</td>\n",
       "      <td>None</td>\n",
       "    </tr>\n",
       "    <tr>\n",
       "      <th>13</th>\n",
       "      <td>57201</td>\n",
       "      <td>The Lone Ranger</td>\n",
       "      <td>None</td>\n",
       "    </tr>\n",
       "    <tr>\n",
       "      <th>14</th>\n",
       "      <td>49521</td>\n",
       "      <td>Man of Steel</td>\n",
       "      <td>None</td>\n",
       "    </tr>\n",
       "    <tr>\n",
       "      <th>15</th>\n",
       "      <td>2454</td>\n",
       "      <td>The Chronicles of Narnia: Prince Caspian</td>\n",
       "      <td>None</td>\n",
       "    </tr>\n",
       "    <tr>\n",
       "      <th>16</th>\n",
       "      <td>24428</td>\n",
       "      <td>The Avengers</td>\n",
       "      <td>None</td>\n",
       "    </tr>\n",
       "    <tr>\n",
       "      <th>17</th>\n",
       "      <td>1865</td>\n",
       "      <td>Pirates of the Caribbean: On Stranger Tides</td>\n",
       "      <td>None</td>\n",
       "    </tr>\n",
       "    <tr>\n",
       "      <th>18</th>\n",
       "      <td>41154</td>\n",
       "      <td>Men in Black 3</td>\n",
       "      <td>None</td>\n",
       "    </tr>\n",
       "    <tr>\n",
       "      <th>19</th>\n",
       "      <td>122917</td>\n",
       "      <td>The Hobbit: The Battle of the Five Armies</td>\n",
       "      <td>None</td>\n",
       "    </tr>\n",
       "  </tbody>\n",
       "</table>\n",
       "</div>"
      ],
      "text/plain": [
       "        id                               original_title  tags\n",
       "0    19995                                       Avatar  None\n",
       "1      285     Pirates of the Caribbean: At World's End  None\n",
       "2   206647                                      Spectre  None\n",
       "3    49026                        The Dark Knight Rises  None\n",
       "4    49529                                  John Carter  None\n",
       "5      559                                 Spider-Man 3  None\n",
       "6    38757                                      Tangled  None\n",
       "7    99861                      Avengers: Age of Ultron  None\n",
       "8      767       Harry Potter and the Half-Blood Prince  None\n",
       "9   209112           Batman v Superman: Dawn of Justice  None\n",
       "10    1452                             Superman Returns  None\n",
       "11   10764                            Quantum of Solace  None\n",
       "12      58   Pirates of the Caribbean: Dead Man's Chest  None\n",
       "13   57201                              The Lone Ranger  None\n",
       "14   49521                                 Man of Steel  None\n",
       "15    2454     The Chronicles of Narnia: Prince Caspian  None\n",
       "16   24428                                 The Avengers  None\n",
       "17    1865  Pirates of the Caribbean: On Stranger Tides  None\n",
       "18   41154                               Men in Black 3  None\n",
       "19  122917    The Hobbit: The Battle of the Five Armies  None"
      ]
     },
     "execution_count": 2226,
     "metadata": {},
     "output_type": "execute_result"
    }
   ],
   "source": [
    "movies.head(20)"
   ]
  },
  {
   "cell_type": "code",
   "execution_count": 2227,
   "id": "973584de-5356-4ea0-a46a-4e677e61c9a5",
   "metadata": {},
   "outputs": [],
   "source": [
    "def recommend_movie(index):\n",
    "    similarity = []\n",
    "    similarity = cosine_similarity(final_embeddings[index].reshape(1, -1), final_embeddings)[0]\n",
    "    # similarity = sorted(similarity, reverse=True)\n",
    "    # similarity = similarity[1:]\n",
    "    # print(similarity)\n",
    "    movie_indexes = list(enumerate(similarity))\n",
    "    # movie_indexes = movie_indexes[:-1]\n",
    "    movie_indexes.sort(key = lambda x: x[1], reverse=True)\n",
    "    # print(movie_indexes)\n",
    "    movie_indexes = movie_indexes[1:6]\n",
    "    print(movie_indexes)\n",
    "    for i in movie_indexes:\n",
    "        print(movies.iloc[i[0], 1])"
   ]
  },
  {
   "cell_type": "code",
   "execution_count": 2228,
   "id": "9020a724-0398-41ca-ae34-476a367b7bb9",
   "metadata": {},
   "outputs": [
    {
     "data": {
      "text/plain": [
       "182"
      ]
     },
     "execution_count": 2228,
     "metadata": {},
     "output_type": "execute_result"
    }
   ],
   "source": [
    "idx"
   ]
  },
  {
   "cell_type": "code",
   "execution_count": 2229,
   "id": "73137fd7-fb33-423a-9e85-3a5ab9916384",
   "metadata": {},
   "outputs": [
    {
     "name": "stdout",
     "output_type": "stream",
     "text": [
      "[(7, 0.9745592), (79, 0.969571), (1296, 0.96496093), (16, 0.96061665), (242, 0.9595127)]\n",
      "Avengers: Age of Ultron\n",
      "Iron Man 2\n",
      "Superman III\n",
      "The Avengers\n",
      "Fantastic Four\n"
     ]
    }
   ],
   "source": [
    "recommend_movie(idx)"
   ]
  }
 ],
 "metadata": {
  "kernelspec": {
   "display_name": "Python 3 (ipykernel)",
   "language": "python",
   "name": "python3"
  },
  "language_info": {
   "codemirror_mode": {
    "name": "ipython",
    "version": 3
   },
   "file_extension": ".py",
   "mimetype": "text/x-python",
   "name": "python",
   "nbconvert_exporter": "python",
   "pygments_lexer": "ipython3",
   "version": "3.10.9"
  },
  "widgets": {
   "application/vnd.jupyter.widget-state+json": {
    "state": {},
    "version_major": 2,
    "version_minor": 0
   }
  }
 },
 "nbformat": 4,
 "nbformat_minor": 5
}
