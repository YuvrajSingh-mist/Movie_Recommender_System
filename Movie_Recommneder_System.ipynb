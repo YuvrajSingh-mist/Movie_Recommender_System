{
 "cells": [
  {
   "cell_type": "code",
   "execution_count": 462,
   "id": "d50f025c-4b4a-4a33-a6c2-28aad51c0dc6",
   "metadata": {},
   "outputs": [],
   "source": [
    "import nltk\n",
    "import pandas as pd\n",
    "import numpy as np\n",
    "import seaborn as sns\n",
    "from sklearn.model_selection import train_test_split\n",
    "import matplotlib.pyplot as plt\n",
    "from sklearn.compose import ColumnTransformer\n",
    "from sklearn.experimental import enable_iterative_imputer\n",
    "from statsmodels.stats.outliers_influence import variance_inflation_factor\n",
    "from sklearn.preprocessing import StandardScaler, RobustScaler, MinMaxScaler\n",
    "from sklearn.feature_selection import RFE, RFECV, f_regression, chi2\n",
    "from sklearn.ensemble import RandomForestClassifier\n",
    "from sklearn.pipeline import Pipeline\n",
    "from sklearn.linear_model import LogisticRegression\n",
    "from sklearn.experimental import enable_halving_search_cv\n",
    "from sklearn.model_selection import GridSearchCV, KFold, RandomizedSearchCV, HalvingGridSearchCV\n",
    "from sklearn.model_selection import cross_val_score\n",
    "from sklearn.feature_selection import SelectKBest\n",
    "from sklearn.metrics import accuracy_score, confusion_matrix, classification_report, recall_score, precision_score, f1_score, roc_auc_score\n",
    "from sklearn.ensemble import RandomForestClassifier\n",
    "from sklearn.naive_bayes import GaussianNB, BernoulliNB\n",
    "from sklearn.preprocessing import PowerTransformer, QuantileTransformer\n",
    "from mlxtend.feature_selection import SequentialFeatureSelector as SFS\n",
    "from sklearn.neighbors import  KNeighborsClassifier\n",
    "from datetime import datetime as dt\n",
    "from sklearn.impute import SimpleImputer, KNNImputer, IterativeImputer\n",
    "from sklearn.tree import DecisionTreeClassifier\n",
    "from sklearn.svm import SVC, LinearSVC\n",
    "from sklearn.ensemble import GradientBoostingClassifier, AdaBoostClassifier\n",
    "from sklearn.ensemble import VotingClassifier\n",
    "from sklearn.preprocessing import OneHotEncoder, OrdinalEncoder, LabelEncoder\n",
    "from imblearn.combine import SMOTETomek\n",
    "from collections import Counter\n",
    "from mlxtend.feature_selection import ColumnSelector\n",
    "import warnings\n",
    "# Settings the warnings to be ignored\n",
    "warnings.filterwarnings('ignore')"
   ]
  },
  {
   "cell_type": "code",
   "execution_count": 463,
   "id": "6ccd7c92-15af-4108-a8d6-e97eed90334e",
   "metadata": {},
   "outputs": [],
   "source": [
    "# Displaying all columns\n",
    "pd.set_option('display.max_columns', None)\n",
    "\n",
    "#Display all data in columns\n",
    "# pd.set_option(\"display.max_colwidth\", None)\n",
    "\n",
    "# np.set_printoptions(threshold=None, edgeitems=None, linewidth=None, suppress=None)\n",
    "# pd.set_option(\"display.max_rows\", None)\n",
    "# pd.set_option(\"display.expand_frame_repr\", True)\n",
    "# pd.set_option('display.width', 1000)\n"
   ]
  },
  {
   "cell_type": "code",
   "execution_count": 464,
   "id": "75ae12cf-7e98-4117-8d54-ea40a9376ea3",
   "metadata": {},
   "outputs": [],
   "source": [
    "#Storing Accuracy\n",
    "\n",
    "data_accuracy = pd.DataFrame(columns=['Algo', 'Accuracy(KFold)', 'Test', 'Train', 'Recall', 'Precision', 'F1', 'ROC_AUC_SCORE'])\n",
    "def store(data):\n",
    "    data_accuracy.loc[len(data_accuracy.index)] = data\n",
    "    data_accuracy.to_csv('loan_prediction_metric_scores.csv')\n",
    "    print(data_accuracy)\n",
    "\n",
    "\n",
    "\n",
    "def get_info_pipeline(pipe_name):\n",
    "    sub_pipe = pipe_name[:-1]\n",
    "    transformed_df = pd.DataFrame(\n",
    "        data=sub_pipe.fit_transform(X_train, y_train),\n",
    "        columns=sub_pipe.get_feature_names_out(),\n",
    "    )\n",
    "    print(transformed_df)"
   ]
  },
  {
   "cell_type": "code",
   "execution_count": 465,
   "id": "ee1a3f77-f142-4f6f-8ff2-8b0be6c3df84",
   "metadata": {},
   "outputs": [],
   "source": [
    "import spacy\n",
    "nlp = spacy.load('en_core_web_sm')"
   ]
  },
  {
   "cell_type": "code",
   "execution_count": 466,
   "id": "4570731c-526d-4265-aa74-bdb6e5c867cd",
   "metadata": {},
   "outputs": [],
   "source": [
    "df1 = pd.read_csv('tmdb_5000_credits.csv')\n",
    "df2 = pd.read_csv('tmdb_5000_movies.csv')"
   ]
  },
  {
   "cell_type": "code",
   "execution_count": 467,
   "id": "db18a860-dcb9-4c02-b274-c97c69c8d3bc",
   "metadata": {},
   "outputs": [
    {
     "data": {
      "text/html": [
       "<div>\n",
       "<style scoped>\n",
       "    .dataframe tbody tr th:only-of-type {\n",
       "        vertical-align: middle;\n",
       "    }\n",
       "\n",
       "    .dataframe tbody tr th {\n",
       "        vertical-align: top;\n",
       "    }\n",
       "\n",
       "    .dataframe thead th {\n",
       "        text-align: right;\n",
       "    }\n",
       "</style>\n",
       "<table border=\"1\" class=\"dataframe\">\n",
       "  <thead>\n",
       "    <tr style=\"text-align: right;\">\n",
       "      <th></th>\n",
       "      <th>movie_id</th>\n",
       "      <th>title</th>\n",
       "      <th>cast</th>\n",
       "      <th>crew</th>\n",
       "    </tr>\n",
       "  </thead>\n",
       "  <tbody>\n",
       "    <tr>\n",
       "      <th>0</th>\n",
       "      <td>19995</td>\n",
       "      <td>Avatar</td>\n",
       "      <td>[{\"cast_id\": 242, \"character\": \"Jake Sully\", \"...</td>\n",
       "      <td>[{\"credit_id\": \"52fe48009251416c750aca23\", \"de...</td>\n",
       "    </tr>\n",
       "  </tbody>\n",
       "</table>\n",
       "</div>"
      ],
      "text/plain": [
       "   movie_id   title                                               cast  \\\n",
       "0     19995  Avatar  [{\"cast_id\": 242, \"character\": \"Jake Sully\", \"...   \n",
       "\n",
       "                                                crew  \n",
       "0  [{\"credit_id\": \"52fe48009251416c750aca23\", \"de...  "
      ]
     },
     "execution_count": 467,
     "metadata": {},
     "output_type": "execute_result"
    }
   ],
   "source": [
    "df1.head(1)"
   ]
  },
  {
   "cell_type": "code",
   "execution_count": 468,
   "id": "37fd6a48-baba-4cba-9002-e91529521e37",
   "metadata": {},
   "outputs": [],
   "source": [
    "#Renaming the 'movie_id' col in df1 to 'id' of df2 "
   ]
  },
  {
   "cell_type": "code",
   "execution_count": 469,
   "id": "8eb1b533-7f7d-4c8f-ab0c-bb4c663ecd64",
   "metadata": {},
   "outputs": [],
   "source": [
    "df1.rename(columns = {'movie_id':'id'}, inplace = True)"
   ]
  },
  {
   "cell_type": "code",
   "execution_count": 470,
   "id": "4dac1afa-41fd-4f80-9f60-5d9c1f4f6874",
   "metadata": {},
   "outputs": [
    {
     "data": {
      "text/html": [
       "<div>\n",
       "<style scoped>\n",
       "    .dataframe tbody tr th:only-of-type {\n",
       "        vertical-align: middle;\n",
       "    }\n",
       "\n",
       "    .dataframe tbody tr th {\n",
       "        vertical-align: top;\n",
       "    }\n",
       "\n",
       "    .dataframe thead th {\n",
       "        text-align: right;\n",
       "    }\n",
       "</style>\n",
       "<table border=\"1\" class=\"dataframe\">\n",
       "  <thead>\n",
       "    <tr style=\"text-align: right;\">\n",
       "      <th></th>\n",
       "      <th>id</th>\n",
       "      <th>title</th>\n",
       "      <th>cast</th>\n",
       "      <th>crew</th>\n",
       "    </tr>\n",
       "  </thead>\n",
       "  <tbody>\n",
       "    <tr>\n",
       "      <th>0</th>\n",
       "      <td>19995</td>\n",
       "      <td>Avatar</td>\n",
       "      <td>[{\"cast_id\": 242, \"character\": \"Jake Sully\", \"...</td>\n",
       "      <td>[{\"credit_id\": \"52fe48009251416c750aca23\", \"de...</td>\n",
       "    </tr>\n",
       "  </tbody>\n",
       "</table>\n",
       "</div>"
      ],
      "text/plain": [
       "      id   title                                               cast  \\\n",
       "0  19995  Avatar  [{\"cast_id\": 242, \"character\": \"Jake Sully\", \"...   \n",
       "\n",
       "                                                crew  \n",
       "0  [{\"credit_id\": \"52fe48009251416c750aca23\", \"de...  "
      ]
     },
     "execution_count": 470,
     "metadata": {},
     "output_type": "execute_result"
    }
   ],
   "source": [
    "df1.head(1)"
   ]
  },
  {
   "cell_type": "code",
   "execution_count": 471,
   "id": "720080a9-f26e-49ec-83ce-b1cb01473eba",
   "metadata": {},
   "outputs": [],
   "source": [
    "#joining the credits amd movie dataframes"
   ]
  },
  {
   "cell_type": "code",
   "execution_count": 472,
   "id": "2a0640fc-d36b-4553-a3ec-be859a63c68c",
   "metadata": {},
   "outputs": [],
   "source": [
    "df2 = pd.merge(df1, df2, on='id')"
   ]
  },
  {
   "cell_type": "code",
   "execution_count": 473,
   "id": "dae48cac-bbec-421e-8b41-9ace60e9ad74",
   "metadata": {},
   "outputs": [
    {
     "data": {
      "text/html": [
       "<div>\n",
       "<style scoped>\n",
       "    .dataframe tbody tr th:only-of-type {\n",
       "        vertical-align: middle;\n",
       "    }\n",
       "\n",
       "    .dataframe tbody tr th {\n",
       "        vertical-align: top;\n",
       "    }\n",
       "\n",
       "    .dataframe thead th {\n",
       "        text-align: right;\n",
       "    }\n",
       "</style>\n",
       "<table border=\"1\" class=\"dataframe\">\n",
       "  <thead>\n",
       "    <tr style=\"text-align: right;\">\n",
       "      <th></th>\n",
       "      <th>id</th>\n",
       "      <th>title_x</th>\n",
       "      <th>cast</th>\n",
       "      <th>crew</th>\n",
       "      <th>budget</th>\n",
       "      <th>genres</th>\n",
       "      <th>homepage</th>\n",
       "      <th>keywords</th>\n",
       "      <th>original_language</th>\n",
       "      <th>original_title</th>\n",
       "      <th>overview</th>\n",
       "      <th>popularity</th>\n",
       "      <th>production_companies</th>\n",
       "      <th>production_countries</th>\n",
       "      <th>release_date</th>\n",
       "      <th>revenue</th>\n",
       "      <th>runtime</th>\n",
       "      <th>spoken_languages</th>\n",
       "      <th>status</th>\n",
       "      <th>tagline</th>\n",
       "      <th>title_y</th>\n",
       "      <th>vote_average</th>\n",
       "      <th>vote_count</th>\n",
       "    </tr>\n",
       "  </thead>\n",
       "  <tbody>\n",
       "    <tr>\n",
       "      <th>0</th>\n",
       "      <td>19995</td>\n",
       "      <td>Avatar</td>\n",
       "      <td>[{\"cast_id\": 242, \"character\": \"Jake Sully\", \"...</td>\n",
       "      <td>[{\"credit_id\": \"52fe48009251416c750aca23\", \"de...</td>\n",
       "      <td>237000000</td>\n",
       "      <td>[{\"id\": 28, \"name\": \"Action\"}, {\"id\": 12, \"nam...</td>\n",
       "      <td>http://www.avatarmovie.com/</td>\n",
       "      <td>[{\"id\": 1463, \"name\": \"culture clash\"}, {\"id\":...</td>\n",
       "      <td>en</td>\n",
       "      <td>Avatar</td>\n",
       "      <td>In the 22nd century, a paraplegic Marine is di...</td>\n",
       "      <td>150.437577</td>\n",
       "      <td>[{\"name\": \"Ingenious Film Partners\", \"id\": 289...</td>\n",
       "      <td>[{\"iso_3166_1\": \"US\", \"name\": \"United States o...</td>\n",
       "      <td>2009-12-10</td>\n",
       "      <td>2787965087</td>\n",
       "      <td>162.0</td>\n",
       "      <td>[{\"iso_639_1\": \"en\", \"name\": \"English\"}, {\"iso...</td>\n",
       "      <td>Released</td>\n",
       "      <td>Enter the World of Pandora.</td>\n",
       "      <td>Avatar</td>\n",
       "      <td>7.2</td>\n",
       "      <td>11800</td>\n",
       "    </tr>\n",
       "  </tbody>\n",
       "</table>\n",
       "</div>"
      ],
      "text/plain": [
       "      id title_x                                               cast  \\\n",
       "0  19995  Avatar  [{\"cast_id\": 242, \"character\": \"Jake Sully\", \"...   \n",
       "\n",
       "                                                crew     budget  \\\n",
       "0  [{\"credit_id\": \"52fe48009251416c750aca23\", \"de...  237000000   \n",
       "\n",
       "                                              genres  \\\n",
       "0  [{\"id\": 28, \"name\": \"Action\"}, {\"id\": 12, \"nam...   \n",
       "\n",
       "                      homepage  \\\n",
       "0  http://www.avatarmovie.com/   \n",
       "\n",
       "                                            keywords original_language  \\\n",
       "0  [{\"id\": 1463, \"name\": \"culture clash\"}, {\"id\":...                en   \n",
       "\n",
       "  original_title                                           overview  \\\n",
       "0         Avatar  In the 22nd century, a paraplegic Marine is di...   \n",
       "\n",
       "   popularity                               production_companies  \\\n",
       "0  150.437577  [{\"name\": \"Ingenious Film Partners\", \"id\": 289...   \n",
       "\n",
       "                                production_countries release_date     revenue  \\\n",
       "0  [{\"iso_3166_1\": \"US\", \"name\": \"United States o...   2009-12-10  2787965087   \n",
       "\n",
       "   runtime                                   spoken_languages    status  \\\n",
       "0    162.0  [{\"iso_639_1\": \"en\", \"name\": \"English\"}, {\"iso...  Released   \n",
       "\n",
       "                       tagline title_y  vote_average  vote_count  \n",
       "0  Enter the World of Pandora.  Avatar           7.2       11800  "
      ]
     },
     "execution_count": 473,
     "metadata": {},
     "output_type": "execute_result"
    }
   ],
   "source": [
    "df2.head(1)"
   ]
  },
  {
   "cell_type": "code",
   "execution_count": 474,
   "id": "fcb5f53c-07cd-46fc-b241-e9c93f811387",
   "metadata": {},
   "outputs": [],
   "source": [
    "#Drpping columns"
   ]
  },
  {
   "cell_type": "code",
   "execution_count": 475,
   "id": "26ce9e25-9520-4beb-b084-987008f6ad30",
   "metadata": {},
   "outputs": [
    {
     "data": {
      "text/plain": [
       "Index(['id', 'title_x', 'cast', 'crew', 'budget', 'genres', 'homepage',\n",
       "       'keywords', 'original_language', 'original_title', 'overview',\n",
       "       'popularity', 'production_companies', 'production_countries',\n",
       "       'release_date', 'revenue', 'runtime', 'spoken_languages', 'status',\n",
       "       'tagline', 'title_y', 'vote_average', 'vote_count'],\n",
       "      dtype='object')"
      ]
     },
     "execution_count": 475,
     "metadata": {},
     "output_type": "execute_result"
    }
   ],
   "source": [
    "df2.columns"
   ]
  },
  {
   "cell_type": "code",
   "execution_count": 476,
   "id": "7c7c1404-890e-4bbd-8ff1-c39df37ddf75",
   "metadata": {},
   "outputs": [],
   "source": [
    "df2.drop(columns=['status', 'runtime'], axis=1, inplace=True)"
   ]
  },
  {
   "cell_type": "code",
   "execution_count": 477,
   "id": "37a19b4e-4cf9-496b-bba1-4bc288b26792",
   "metadata": {},
   "outputs": [],
   "source": [
    "df2.drop(columns=['title_x'], axis=1, inplace=True)"
   ]
  },
  {
   "cell_type": "code",
   "execution_count": 478,
   "id": "79b352aa-c002-4577-a183-1eda356a036d",
   "metadata": {},
   "outputs": [
    {
     "data": {
      "text/html": [
       "<div>\n",
       "<style scoped>\n",
       "    .dataframe tbody tr th:only-of-type {\n",
       "        vertical-align: middle;\n",
       "    }\n",
       "\n",
       "    .dataframe tbody tr th {\n",
       "        vertical-align: top;\n",
       "    }\n",
       "\n",
       "    .dataframe thead th {\n",
       "        text-align: right;\n",
       "    }\n",
       "</style>\n",
       "<table border=\"1\" class=\"dataframe\">\n",
       "  <thead>\n",
       "    <tr style=\"text-align: right;\">\n",
       "      <th></th>\n",
       "      <th>id</th>\n",
       "      <th>cast</th>\n",
       "      <th>crew</th>\n",
       "      <th>budget</th>\n",
       "      <th>genres</th>\n",
       "      <th>homepage</th>\n",
       "      <th>keywords</th>\n",
       "      <th>original_language</th>\n",
       "      <th>original_title</th>\n",
       "      <th>overview</th>\n",
       "      <th>popularity</th>\n",
       "      <th>production_companies</th>\n",
       "      <th>production_countries</th>\n",
       "      <th>release_date</th>\n",
       "      <th>revenue</th>\n",
       "      <th>spoken_languages</th>\n",
       "      <th>tagline</th>\n",
       "      <th>title_y</th>\n",
       "      <th>vote_average</th>\n",
       "      <th>vote_count</th>\n",
       "    </tr>\n",
       "  </thead>\n",
       "  <tbody>\n",
       "    <tr>\n",
       "      <th>0</th>\n",
       "      <td>19995</td>\n",
       "      <td>[{\"cast_id\": 242, \"character\": \"Jake Sully\", \"...</td>\n",
       "      <td>[{\"credit_id\": \"52fe48009251416c750aca23\", \"de...</td>\n",
       "      <td>237000000</td>\n",
       "      <td>[{\"id\": 28, \"name\": \"Action\"}, {\"id\": 12, \"nam...</td>\n",
       "      <td>http://www.avatarmovie.com/</td>\n",
       "      <td>[{\"id\": 1463, \"name\": \"culture clash\"}, {\"id\":...</td>\n",
       "      <td>en</td>\n",
       "      <td>Avatar</td>\n",
       "      <td>In the 22nd century, a paraplegic Marine is di...</td>\n",
       "      <td>150.437577</td>\n",
       "      <td>[{\"name\": \"Ingenious Film Partners\", \"id\": 289...</td>\n",
       "      <td>[{\"iso_3166_1\": \"US\", \"name\": \"United States o...</td>\n",
       "      <td>2009-12-10</td>\n",
       "      <td>2787965087</td>\n",
       "      <td>[{\"iso_639_1\": \"en\", \"name\": \"English\"}, {\"iso...</td>\n",
       "      <td>Enter the World of Pandora.</td>\n",
       "      <td>Avatar</td>\n",
       "      <td>7.2</td>\n",
       "      <td>11800</td>\n",
       "    </tr>\n",
       "  </tbody>\n",
       "</table>\n",
       "</div>"
      ],
      "text/plain": [
       "      id                                               cast  \\\n",
       "0  19995  [{\"cast_id\": 242, \"character\": \"Jake Sully\", \"...   \n",
       "\n",
       "                                                crew     budget  \\\n",
       "0  [{\"credit_id\": \"52fe48009251416c750aca23\", \"de...  237000000   \n",
       "\n",
       "                                              genres  \\\n",
       "0  [{\"id\": 28, \"name\": \"Action\"}, {\"id\": 12, \"nam...   \n",
       "\n",
       "                      homepage  \\\n",
       "0  http://www.avatarmovie.com/   \n",
       "\n",
       "                                            keywords original_language  \\\n",
       "0  [{\"id\": 1463, \"name\": \"culture clash\"}, {\"id\":...                en   \n",
       "\n",
       "  original_title                                           overview  \\\n",
       "0         Avatar  In the 22nd century, a paraplegic Marine is di...   \n",
       "\n",
       "   popularity                               production_companies  \\\n",
       "0  150.437577  [{\"name\": \"Ingenious Film Partners\", \"id\": 289...   \n",
       "\n",
       "                                production_countries release_date     revenue  \\\n",
       "0  [{\"iso_3166_1\": \"US\", \"name\": \"United States o...   2009-12-10  2787965087   \n",
       "\n",
       "                                    spoken_languages  \\\n",
       "0  [{\"iso_639_1\": \"en\", \"name\": \"English\"}, {\"iso...   \n",
       "\n",
       "                       tagline title_y  vote_average  vote_count  \n",
       "0  Enter the World of Pandora.  Avatar           7.2       11800  "
      ]
     },
     "execution_count": 478,
     "metadata": {},
     "output_type": "execute_result"
    }
   ],
   "source": [
    "df2.head(1)"
   ]
  },
  {
   "cell_type": "code",
   "execution_count": 479,
   "id": "7f4182fb-fe13-4ec1-9f8c-29c49bc2bdc7",
   "metadata": {},
   "outputs": [],
   "source": [
    "df2.drop(columns=['title_y'], axis=1, inplace=True)"
   ]
  },
  {
   "cell_type": "code",
   "execution_count": 480,
   "id": "7c121e96-2fbf-4410-98b2-af6b16bdd1cc",
   "metadata": {},
   "outputs": [
    {
     "data": {
      "text/plain": [
       "(4803, 19)"
      ]
     },
     "execution_count": 480,
     "metadata": {},
     "output_type": "execute_result"
    }
   ],
   "source": [
    "df2.shape"
   ]
  },
  {
   "cell_type": "code",
   "execution_count": 481,
   "id": "c42aff38-167e-48f5-8ec0-0ac228bac3d3",
   "metadata": {},
   "outputs": [
    {
     "data": {
      "text/html": [
       "<div>\n",
       "<style scoped>\n",
       "    .dataframe tbody tr th:only-of-type {\n",
       "        vertical-align: middle;\n",
       "    }\n",
       "\n",
       "    .dataframe tbody tr th {\n",
       "        vertical-align: top;\n",
       "    }\n",
       "\n",
       "    .dataframe thead th {\n",
       "        text-align: right;\n",
       "    }\n",
       "</style>\n",
       "<table border=\"1\" class=\"dataframe\">\n",
       "  <thead>\n",
       "    <tr style=\"text-align: right;\">\n",
       "      <th></th>\n",
       "      <th>id</th>\n",
       "      <th>cast</th>\n",
       "      <th>crew</th>\n",
       "      <th>budget</th>\n",
       "      <th>genres</th>\n",
       "      <th>homepage</th>\n",
       "      <th>keywords</th>\n",
       "      <th>original_language</th>\n",
       "      <th>original_title</th>\n",
       "      <th>overview</th>\n",
       "      <th>popularity</th>\n",
       "      <th>production_companies</th>\n",
       "      <th>production_countries</th>\n",
       "      <th>release_date</th>\n",
       "      <th>revenue</th>\n",
       "      <th>spoken_languages</th>\n",
       "      <th>tagline</th>\n",
       "      <th>vote_average</th>\n",
       "      <th>vote_count</th>\n",
       "    </tr>\n",
       "  </thead>\n",
       "  <tbody>\n",
       "    <tr>\n",
       "      <th>0</th>\n",
       "      <td>19995</td>\n",
       "      <td>[{\"cast_id\": 242, \"character\": \"Jake Sully\", \"...</td>\n",
       "      <td>[{\"credit_id\": \"52fe48009251416c750aca23\", \"de...</td>\n",
       "      <td>237000000</td>\n",
       "      <td>[{\"id\": 28, \"name\": \"Action\"}, {\"id\": 12, \"nam...</td>\n",
       "      <td>http://www.avatarmovie.com/</td>\n",
       "      <td>[{\"id\": 1463, \"name\": \"culture clash\"}, {\"id\":...</td>\n",
       "      <td>en</td>\n",
       "      <td>Avatar</td>\n",
       "      <td>In the 22nd century, a paraplegic Marine is di...</td>\n",
       "      <td>150.437577</td>\n",
       "      <td>[{\"name\": \"Ingenious Film Partners\", \"id\": 289...</td>\n",
       "      <td>[{\"iso_3166_1\": \"US\", \"name\": \"United States o...</td>\n",
       "      <td>2009-12-10</td>\n",
       "      <td>2787965087</td>\n",
       "      <td>[{\"iso_639_1\": \"en\", \"name\": \"English\"}, {\"iso...</td>\n",
       "      <td>Enter the World of Pandora.</td>\n",
       "      <td>7.2</td>\n",
       "      <td>11800</td>\n",
       "    </tr>\n",
       "  </tbody>\n",
       "</table>\n",
       "</div>"
      ],
      "text/plain": [
       "      id                                               cast  \\\n",
       "0  19995  [{\"cast_id\": 242, \"character\": \"Jake Sully\", \"...   \n",
       "\n",
       "                                                crew     budget  \\\n",
       "0  [{\"credit_id\": \"52fe48009251416c750aca23\", \"de...  237000000   \n",
       "\n",
       "                                              genres  \\\n",
       "0  [{\"id\": 28, \"name\": \"Action\"}, {\"id\": 12, \"nam...   \n",
       "\n",
       "                      homepage  \\\n",
       "0  http://www.avatarmovie.com/   \n",
       "\n",
       "                                            keywords original_language  \\\n",
       "0  [{\"id\": 1463, \"name\": \"culture clash\"}, {\"id\":...                en   \n",
       "\n",
       "  original_title                                           overview  \\\n",
       "0         Avatar  In the 22nd century, a paraplegic Marine is di...   \n",
       "\n",
       "   popularity                               production_companies  \\\n",
       "0  150.437577  [{\"name\": \"Ingenious Film Partners\", \"id\": 289...   \n",
       "\n",
       "                                production_countries release_date     revenue  \\\n",
       "0  [{\"iso_3166_1\": \"US\", \"name\": \"United States o...   2009-12-10  2787965087   \n",
       "\n",
       "                                    spoken_languages  \\\n",
       "0  [{\"iso_639_1\": \"en\", \"name\": \"English\"}, {\"iso...   \n",
       "\n",
       "                       tagline  vote_average  vote_count  \n",
       "0  Enter the World of Pandora.           7.2       11800  "
      ]
     },
     "execution_count": 481,
     "metadata": {},
     "output_type": "execute_result"
    }
   ],
   "source": [
    "df2.head(1)"
   ]
  },
  {
   "cell_type": "code",
   "execution_count": 482,
   "id": "a8b42fbb-9e2f-495b-9c15-2674351439f8",
   "metadata": {},
   "outputs": [],
   "source": [
    "df2.drop(columns=['revenue', 'release_date'], axis=1, inplace=True)"
   ]
  },
  {
   "cell_type": "code",
   "execution_count": 483,
   "id": "582df72f-fcb9-4937-973b-b2de10aad21e",
   "metadata": {},
   "outputs": [],
   "source": [
    "df2.drop(columns=['budget', 'homepage', 'popularity', 'spoken_languages', 'production_countries', 'vote_average', 'vote_count'], axis=1, inplace=True)"
   ]
  },
  {
   "cell_type": "code",
   "execution_count": 484,
   "id": "20660644-cb21-4ed7-870e-1a7081129aee",
   "metadata": {},
   "outputs": [
    {
     "data": {
      "text/plain": [
       "(4803, 10)"
      ]
     },
     "execution_count": 484,
     "metadata": {},
     "output_type": "execute_result"
    }
   ],
   "source": [
    "df2.shape"
   ]
  },
  {
   "cell_type": "code",
   "execution_count": 485,
   "id": "74475fbf-e042-41ba-8a7f-28ff3404988c",
   "metadata": {},
   "outputs": [
    {
     "data": {
      "text/html": [
       "<div>\n",
       "<style scoped>\n",
       "    .dataframe tbody tr th:only-of-type {\n",
       "        vertical-align: middle;\n",
       "    }\n",
       "\n",
       "    .dataframe tbody tr th {\n",
       "        vertical-align: top;\n",
       "    }\n",
       "\n",
       "    .dataframe thead th {\n",
       "        text-align: right;\n",
       "    }\n",
       "</style>\n",
       "<table border=\"1\" class=\"dataframe\">\n",
       "  <thead>\n",
       "    <tr style=\"text-align: right;\">\n",
       "      <th></th>\n",
       "      <th>id</th>\n",
       "      <th>cast</th>\n",
       "      <th>crew</th>\n",
       "      <th>genres</th>\n",
       "      <th>keywords</th>\n",
       "      <th>original_language</th>\n",
       "      <th>original_title</th>\n",
       "      <th>overview</th>\n",
       "      <th>production_companies</th>\n",
       "      <th>tagline</th>\n",
       "    </tr>\n",
       "  </thead>\n",
       "  <tbody>\n",
       "    <tr>\n",
       "      <th>0</th>\n",
       "      <td>19995</td>\n",
       "      <td>[{\"cast_id\": 242, \"character\": \"Jake Sully\", \"...</td>\n",
       "      <td>[{\"credit_id\": \"52fe48009251416c750aca23\", \"de...</td>\n",
       "      <td>[{\"id\": 28, \"name\": \"Action\"}, {\"id\": 12, \"nam...</td>\n",
       "      <td>[{\"id\": 1463, \"name\": \"culture clash\"}, {\"id\":...</td>\n",
       "      <td>en</td>\n",
       "      <td>Avatar</td>\n",
       "      <td>In the 22nd century, a paraplegic Marine is di...</td>\n",
       "      <td>[{\"name\": \"Ingenious Film Partners\", \"id\": 289...</td>\n",
       "      <td>Enter the World of Pandora.</td>\n",
       "    </tr>\n",
       "  </tbody>\n",
       "</table>\n",
       "</div>"
      ],
      "text/plain": [
       "      id                                               cast  \\\n",
       "0  19995  [{\"cast_id\": 242, \"character\": \"Jake Sully\", \"...   \n",
       "\n",
       "                                                crew  \\\n",
       "0  [{\"credit_id\": \"52fe48009251416c750aca23\", \"de...   \n",
       "\n",
       "                                              genres  \\\n",
       "0  [{\"id\": 28, \"name\": \"Action\"}, {\"id\": 12, \"nam...   \n",
       "\n",
       "                                            keywords original_language  \\\n",
       "0  [{\"id\": 1463, \"name\": \"culture clash\"}, {\"id\":...                en   \n",
       "\n",
       "  original_title                                           overview  \\\n",
       "0         Avatar  In the 22nd century, a paraplegic Marine is di...   \n",
       "\n",
       "                                production_companies  \\\n",
       "0  [{\"name\": \"Ingenious Film Partners\", \"id\": 289...   \n",
       "\n",
       "                       tagline  \n",
       "0  Enter the World of Pandora.  "
      ]
     },
     "execution_count": 485,
     "metadata": {},
     "output_type": "execute_result"
    }
   ],
   "source": [
    "df2.head(1)"
   ]
  },
  {
   "cell_type": "code",
   "execution_count": 486,
   "id": "6b92080d-d7dc-4f29-8895-e3dec41f0641",
   "metadata": {},
   "outputs": [
    {
     "data": {
      "text/plain": [
       "id                        0\n",
       "cast                      0\n",
       "crew                      0\n",
       "genres                    0\n",
       "keywords                  0\n",
       "original_language         0\n",
       "original_title            0\n",
       "overview                  3\n",
       "production_companies      0\n",
       "tagline                 844\n",
       "dtype: int64"
      ]
     },
     "execution_count": 486,
     "metadata": {},
     "output_type": "execute_result"
    }
   ],
   "source": [
    "df2.isnull().sum()"
   ]
  },
  {
   "cell_type": "code",
   "execution_count": 487,
   "id": "76c99fae-d287-4b71-b045-0a1fb294fac3",
   "metadata": {},
   "outputs": [
    {
     "name": "stdout",
     "output_type": "stream",
     "text": [
      "<class 'pandas.core.frame.DataFrame'>\n",
      "Int64Index: 4803 entries, 0 to 4802\n",
      "Data columns (total 10 columns):\n",
      " #   Column                Non-Null Count  Dtype \n",
      "---  ------                --------------  ----- \n",
      " 0   id                    4803 non-null   int64 \n",
      " 1   cast                  4803 non-null   object\n",
      " 2   crew                  4803 non-null   object\n",
      " 3   genres                4803 non-null   object\n",
      " 4   keywords              4803 non-null   object\n",
      " 5   original_language     4803 non-null   object\n",
      " 6   original_title        4803 non-null   object\n",
      " 7   overview              4800 non-null   object\n",
      " 8   production_companies  4803 non-null   object\n",
      " 9   tagline               3959 non-null   object\n",
      "dtypes: int64(1), object(9)\n",
      "memory usage: 412.8+ KB\n"
     ]
    }
   ],
   "source": [
    "df2.info()"
   ]
  },
  {
   "cell_type": "code",
   "execution_count": 488,
   "id": "93f739f5-6e65-43f8-a562-f2e5f7dc2a8d",
   "metadata": {},
   "outputs": [],
   "source": [
    "df2.drop(columns='production_companies', axis=1, inplace=True)"
   ]
  },
  {
   "cell_type": "code",
   "execution_count": 489,
   "id": "21150002-9f7d-4b8a-8b73-90fb9210921f",
   "metadata": {},
   "outputs": [
    {
     "data": {
      "text/html": [
       "<div>\n",
       "<style scoped>\n",
       "    .dataframe tbody tr th:only-of-type {\n",
       "        vertical-align: middle;\n",
       "    }\n",
       "\n",
       "    .dataframe tbody tr th {\n",
       "        vertical-align: top;\n",
       "    }\n",
       "\n",
       "    .dataframe thead th {\n",
       "        text-align: right;\n",
       "    }\n",
       "</style>\n",
       "<table border=\"1\" class=\"dataframe\">\n",
       "  <thead>\n",
       "    <tr style=\"text-align: right;\">\n",
       "      <th></th>\n",
       "      <th>id</th>\n",
       "      <th>cast</th>\n",
       "      <th>crew</th>\n",
       "      <th>genres</th>\n",
       "      <th>keywords</th>\n",
       "      <th>original_language</th>\n",
       "      <th>original_title</th>\n",
       "      <th>overview</th>\n",
       "      <th>tagline</th>\n",
       "    </tr>\n",
       "  </thead>\n",
       "  <tbody>\n",
       "    <tr>\n",
       "      <th>0</th>\n",
       "      <td>19995</td>\n",
       "      <td>[{\"cast_id\": 242, \"character\": \"Jake Sully\", \"...</td>\n",
       "      <td>[{\"credit_id\": \"52fe48009251416c750aca23\", \"de...</td>\n",
       "      <td>[{\"id\": 28, \"name\": \"Action\"}, {\"id\": 12, \"nam...</td>\n",
       "      <td>[{\"id\": 1463, \"name\": \"culture clash\"}, {\"id\":...</td>\n",
       "      <td>en</td>\n",
       "      <td>Avatar</td>\n",
       "      <td>In the 22nd century, a paraplegic Marine is di...</td>\n",
       "      <td>Enter the World of Pandora.</td>\n",
       "    </tr>\n",
       "  </tbody>\n",
       "</table>\n",
       "</div>"
      ],
      "text/plain": [
       "      id                                               cast  \\\n",
       "0  19995  [{\"cast_id\": 242, \"character\": \"Jake Sully\", \"...   \n",
       "\n",
       "                                                crew  \\\n",
       "0  [{\"credit_id\": \"52fe48009251416c750aca23\", \"de...   \n",
       "\n",
       "                                              genres  \\\n",
       "0  [{\"id\": 28, \"name\": \"Action\"}, {\"id\": 12, \"nam...   \n",
       "\n",
       "                                            keywords original_language  \\\n",
       "0  [{\"id\": 1463, \"name\": \"culture clash\"}, {\"id\":...                en   \n",
       "\n",
       "  original_title                                           overview  \\\n",
       "0         Avatar  In the 22nd century, a paraplegic Marine is di...   \n",
       "\n",
       "                       tagline  \n",
       "0  Enter the World of Pandora.  "
      ]
     },
     "execution_count": 489,
     "metadata": {},
     "output_type": "execute_result"
    }
   ],
   "source": [
    "df2.head(1)"
   ]
  },
  {
   "cell_type": "code",
   "execution_count": 490,
   "id": "1816d0fd-4017-4900-a514-f2571be48a21",
   "metadata": {},
   "outputs": [
    {
     "data": {
      "text/plain": [
       "(4803, 9)"
      ]
     },
     "execution_count": 490,
     "metadata": {},
     "output_type": "execute_result"
    }
   ],
   "source": [
    "df2.shape"
   ]
  },
  {
   "cell_type": "code",
   "execution_count": 491,
   "id": "48e36235-cc0e-46d7-9657-271519d05c80",
   "metadata": {},
   "outputs": [],
   "source": [
    "#Dropping null rows"
   ]
  },
  {
   "cell_type": "code",
   "execution_count": 492,
   "id": "42aba659-e1cb-473f-aed4-d5dedadbf32a",
   "metadata": {},
   "outputs": [
    {
     "data": {
      "text/plain": [
       "id                     0\n",
       "cast                   0\n",
       "crew                   0\n",
       "genres                 0\n",
       "keywords               0\n",
       "original_language      0\n",
       "original_title         0\n",
       "overview               3\n",
       "tagline              844\n",
       "dtype: int64"
      ]
     },
     "execution_count": 492,
     "metadata": {},
     "output_type": "execute_result"
    }
   ],
   "source": [
    "df2.isnull().sum()"
   ]
  },
  {
   "cell_type": "code",
   "execution_count": 493,
   "id": "f1443144-6d14-4aa5-8c6b-238669078bc4",
   "metadata": {},
   "outputs": [],
   "source": [
    "df2.drop(columns='tagline', axis=1, inplace=True)"
   ]
  },
  {
   "cell_type": "code",
   "execution_count": 494,
   "id": "75b7da7f-47d2-4188-92e7-c5db68f0c988",
   "metadata": {},
   "outputs": [],
   "source": [
    "df2.dropna(inplace=True)"
   ]
  },
  {
   "cell_type": "code",
   "execution_count": 495,
   "id": "7136be84-52eb-463c-9112-e0e9d9f1890f",
   "metadata": {},
   "outputs": [
    {
     "data": {
      "text/html": [
       "<div>\n",
       "<style scoped>\n",
       "    .dataframe tbody tr th:only-of-type {\n",
       "        vertical-align: middle;\n",
       "    }\n",
       "\n",
       "    .dataframe tbody tr th {\n",
       "        vertical-align: top;\n",
       "    }\n",
       "\n",
       "    .dataframe thead th {\n",
       "        text-align: right;\n",
       "    }\n",
       "</style>\n",
       "<table border=\"1\" class=\"dataframe\">\n",
       "  <thead>\n",
       "    <tr style=\"text-align: right;\">\n",
       "      <th></th>\n",
       "      <th>id</th>\n",
       "      <th>cast</th>\n",
       "      <th>crew</th>\n",
       "      <th>genres</th>\n",
       "      <th>keywords</th>\n",
       "      <th>original_language</th>\n",
       "      <th>original_title</th>\n",
       "      <th>overview</th>\n",
       "    </tr>\n",
       "  </thead>\n",
       "  <tbody>\n",
       "    <tr>\n",
       "      <th>0</th>\n",
       "      <td>19995</td>\n",
       "      <td>[{\"cast_id\": 242, \"character\": \"Jake Sully\", \"...</td>\n",
       "      <td>[{\"credit_id\": \"52fe48009251416c750aca23\", \"de...</td>\n",
       "      <td>[{\"id\": 28, \"name\": \"Action\"}, {\"id\": 12, \"nam...</td>\n",
       "      <td>[{\"id\": 1463, \"name\": \"culture clash\"}, {\"id\":...</td>\n",
       "      <td>en</td>\n",
       "      <td>Avatar</td>\n",
       "      <td>In the 22nd century, a paraplegic Marine is di...</td>\n",
       "    </tr>\n",
       "  </tbody>\n",
       "</table>\n",
       "</div>"
      ],
      "text/plain": [
       "      id                                               cast  \\\n",
       "0  19995  [{\"cast_id\": 242, \"character\": \"Jake Sully\", \"...   \n",
       "\n",
       "                                                crew  \\\n",
       "0  [{\"credit_id\": \"52fe48009251416c750aca23\", \"de...   \n",
       "\n",
       "                                              genres  \\\n",
       "0  [{\"id\": 28, \"name\": \"Action\"}, {\"id\": 12, \"nam...   \n",
       "\n",
       "                                            keywords original_language  \\\n",
       "0  [{\"id\": 1463, \"name\": \"culture clash\"}, {\"id\":...                en   \n",
       "\n",
       "  original_title                                           overview  \n",
       "0         Avatar  In the 22nd century, a paraplegic Marine is di...  "
      ]
     },
     "execution_count": 495,
     "metadata": {},
     "output_type": "execute_result"
    }
   ],
   "source": [
    "df2.head(1)"
   ]
  },
  {
   "cell_type": "code",
   "execution_count": 496,
   "id": "4077c982-b153-4d17-8079-de84d55e8084",
   "metadata": {},
   "outputs": [
    {
     "data": {
      "text/plain": [
       "id                   0\n",
       "cast                 0\n",
       "crew                 0\n",
       "genres               0\n",
       "keywords             0\n",
       "original_language    0\n",
       "original_title       0\n",
       "overview             0\n",
       "dtype: int64"
      ]
     },
     "execution_count": 496,
     "metadata": {},
     "output_type": "execute_result"
    }
   ],
   "source": [
    "df2.isnull().sum()"
   ]
  },
  {
   "cell_type": "code",
   "execution_count": 497,
   "id": "718a5588-a8b9-46f0-8e3a-2466fc60f274",
   "metadata": {},
   "outputs": [],
   "source": [
    "#Preprocessing"
   ]
  },
  {
   "cell_type": "code",
   "execution_count": 498,
   "id": "993e4d18-6a54-407a-b4b1-36ff7d03f214",
   "metadata": {},
   "outputs": [],
   "source": [
    "##Genre"
   ]
  },
  {
   "cell_type": "code",
   "execution_count": 499,
   "id": "b3d9f821-b297-4f8e-aa31-7b90ad50683d",
   "metadata": {},
   "outputs": [
    {
     "data": {
      "text/plain": [
       "'[{\"id\": 28, \"name\": \"Action\"}, {\"id\": 12, \"name\": \"Adventure\"}, {\"id\": 14, \"name\": \"Fantasy\"}, {\"id\": 878, \"name\": \"Science Fiction\"}]'"
      ]
     },
     "execution_count": 499,
     "metadata": {},
     "output_type": "execute_result"
    }
   ],
   "source": [
    "df2.iloc[0, 3]"
   ]
  },
  {
   "cell_type": "code",
   "execution_count": 500,
   "id": "48befd88-b20b-4766-a1dd-527c580f432b",
   "metadata": {},
   "outputs": [],
   "source": [
    "import ast"
   ]
  },
  {
   "cell_type": "code",
   "execution_count": 501,
   "id": "6dba82bb-8ef6-4a1c-8829-2a9d1c9dec1b",
   "metadata": {},
   "outputs": [],
   "source": [
    "def fetch_genres(string):\n",
    "    ls = []\n",
    "    for i in  ast.literal_eval(string):\n",
    "        ls.append(i['name'])\n",
    "    return ls"
   ]
  },
  {
   "cell_type": "code",
   "execution_count": 502,
   "id": "7ecad9cc-e3f2-4dd7-9b46-a6814e937e01",
   "metadata": {},
   "outputs": [],
   "source": [
    "df2['genres'] = df2['genres'].apply(fetch_genres)"
   ]
  },
  {
   "cell_type": "code",
   "execution_count": 503,
   "id": "c994f9da-4ef6-4016-9ae1-c7b6e51b81af",
   "metadata": {},
   "outputs": [
    {
     "data": {
      "text/html": [
       "<div>\n",
       "<style scoped>\n",
       "    .dataframe tbody tr th:only-of-type {\n",
       "        vertical-align: middle;\n",
       "    }\n",
       "\n",
       "    .dataframe tbody tr th {\n",
       "        vertical-align: top;\n",
       "    }\n",
       "\n",
       "    .dataframe thead th {\n",
       "        text-align: right;\n",
       "    }\n",
       "</style>\n",
       "<table border=\"1\" class=\"dataframe\">\n",
       "  <thead>\n",
       "    <tr style=\"text-align: right;\">\n",
       "      <th></th>\n",
       "      <th>id</th>\n",
       "      <th>cast</th>\n",
       "      <th>crew</th>\n",
       "      <th>genres</th>\n",
       "      <th>keywords</th>\n",
       "      <th>original_language</th>\n",
       "      <th>original_title</th>\n",
       "      <th>overview</th>\n",
       "    </tr>\n",
       "  </thead>\n",
       "  <tbody>\n",
       "    <tr>\n",
       "      <th>0</th>\n",
       "      <td>19995</td>\n",
       "      <td>[{\"cast_id\": 242, \"character\": \"Jake Sully\", \"...</td>\n",
       "      <td>[{\"credit_id\": \"52fe48009251416c750aca23\", \"de...</td>\n",
       "      <td>[Action, Adventure, Fantasy, Science Fiction]</td>\n",
       "      <td>[{\"id\": 1463, \"name\": \"culture clash\"}, {\"id\":...</td>\n",
       "      <td>en</td>\n",
       "      <td>Avatar</td>\n",
       "      <td>In the 22nd century, a paraplegic Marine is di...</td>\n",
       "    </tr>\n",
       "  </tbody>\n",
       "</table>\n",
       "</div>"
      ],
      "text/plain": [
       "      id                                               cast  \\\n",
       "0  19995  [{\"cast_id\": 242, \"character\": \"Jake Sully\", \"...   \n",
       "\n",
       "                                                crew  \\\n",
       "0  [{\"credit_id\": \"52fe48009251416c750aca23\", \"de...   \n",
       "\n",
       "                                          genres  \\\n",
       "0  [Action, Adventure, Fantasy, Science Fiction]   \n",
       "\n",
       "                                            keywords original_language  \\\n",
       "0  [{\"id\": 1463, \"name\": \"culture clash\"}, {\"id\":...                en   \n",
       "\n",
       "  original_title                                           overview  \n",
       "0         Avatar  In the 22nd century, a paraplegic Marine is di...  "
      ]
     },
     "execution_count": 503,
     "metadata": {},
     "output_type": "execute_result"
    }
   ],
   "source": [
    "df2.head(1)"
   ]
  },
  {
   "cell_type": "code",
   "execution_count": 504,
   "id": "242ecb8c-0994-4f60-9dc6-97e2eb7e3641",
   "metadata": {},
   "outputs": [
    {
     "data": {
      "text/plain": [
       "['Action', 'Crime', 'Drama', 'Thriller']"
      ]
     },
     "execution_count": 504,
     "metadata": {},
     "output_type": "execute_result"
    }
   ],
   "source": [
    "df2.iloc[3, 3]"
   ]
  },
  {
   "cell_type": "code",
   "execution_count": 505,
   "id": "7fef8644-754d-4773-97df-a23637177e61",
   "metadata": {},
   "outputs": [],
   "source": [
    "##Crew"
   ]
  },
  {
   "cell_type": "code",
   "execution_count": 506,
   "id": "0f0aa61c-f175-4136-8001-0bb1d65afb3e",
   "metadata": {},
   "outputs": [],
   "source": [
    "def fetch_dir_and_prod(string):\n",
    "    ls = []\n",
    "    for i in  ast.literal_eval(string):\n",
    "        if i['job']=='Director':\n",
    "            ls.append(i['name'])\n",
    "            break\n",
    "    return ls"
   ]
  },
  {
   "cell_type": "code",
   "execution_count": 507,
   "id": "ade769cc-d364-4b8f-ad00-362fe2df75ac",
   "metadata": {},
   "outputs": [
    {
     "data": {
      "text/html": [
       "<div>\n",
       "<style scoped>\n",
       "    .dataframe tbody tr th:only-of-type {\n",
       "        vertical-align: middle;\n",
       "    }\n",
       "\n",
       "    .dataframe tbody tr th {\n",
       "        vertical-align: top;\n",
       "    }\n",
       "\n",
       "    .dataframe thead th {\n",
       "        text-align: right;\n",
       "    }\n",
       "</style>\n",
       "<table border=\"1\" class=\"dataframe\">\n",
       "  <thead>\n",
       "    <tr style=\"text-align: right;\">\n",
       "      <th></th>\n",
       "      <th>id</th>\n",
       "      <th>cast</th>\n",
       "      <th>crew</th>\n",
       "      <th>genres</th>\n",
       "      <th>keywords</th>\n",
       "      <th>original_language</th>\n",
       "      <th>original_title</th>\n",
       "      <th>overview</th>\n",
       "    </tr>\n",
       "  </thead>\n",
       "  <tbody>\n",
       "    <tr>\n",
       "      <th>0</th>\n",
       "      <td>19995</td>\n",
       "      <td>[{\"cast_id\": 242, \"character\": \"Jake Sully\", \"...</td>\n",
       "      <td>[{\"credit_id\": \"52fe48009251416c750aca23\", \"de...</td>\n",
       "      <td>[Action, Adventure, Fantasy, Science Fiction]</td>\n",
       "      <td>[{\"id\": 1463, \"name\": \"culture clash\"}, {\"id\":...</td>\n",
       "      <td>en</td>\n",
       "      <td>Avatar</td>\n",
       "      <td>In the 22nd century, a paraplegic Marine is di...</td>\n",
       "    </tr>\n",
       "  </tbody>\n",
       "</table>\n",
       "</div>"
      ],
      "text/plain": [
       "      id                                               cast  \\\n",
       "0  19995  [{\"cast_id\": 242, \"character\": \"Jake Sully\", \"...   \n",
       "\n",
       "                                                crew  \\\n",
       "0  [{\"credit_id\": \"52fe48009251416c750aca23\", \"de...   \n",
       "\n",
       "                                          genres  \\\n",
       "0  [Action, Adventure, Fantasy, Science Fiction]   \n",
       "\n",
       "                                            keywords original_language  \\\n",
       "0  [{\"id\": 1463, \"name\": \"culture clash\"}, {\"id\":...                en   \n",
       "\n",
       "  original_title                                           overview  \n",
       "0         Avatar  In the 22nd century, a paraplegic Marine is di...  "
      ]
     },
     "execution_count": 507,
     "metadata": {},
     "output_type": "execute_result"
    }
   ],
   "source": [
    "df2.head(1)"
   ]
  },
  {
   "cell_type": "code",
   "execution_count": 508,
   "id": "e8f69306-7651-4031-877d-8164c8d5a967",
   "metadata": {},
   "outputs": [],
   "source": [
    "msg = \" \"\n",
    "msg = df2.loc[4].crew"
   ]
  },
  {
   "cell_type": "code",
   "execution_count": 509,
   "id": "f160375b-ad7d-4ed6-8c65-c1f29aee5706",
   "metadata": {},
   "outputs": [
    {
     "data": {
      "text/plain": [
       "'[{\"credit_id\": \"52fe479ac3a36847f813eaa3\", \"department\": \"Writing\", \"gender\": 2, \"id\": 7, \"job\": \"Screenplay\", \"name\": \"Andrew Stanton\"}, {\"credit_id\": \"52fe479ac3a36847f813ea65\", \"department\": \"Directing\", \"gender\": 2, \"id\": 7, \"job\": \"Director\", \"name\": \"Andrew Stanton\"}, {\"credit_id\": \"58c69e819251411d30017673\", \"department\": \"Crew\", \"gender\": 2, \"id\": 7879, \"job\": \"Thanks\", \"name\": \"John Lasseter\"}, {\"credit_id\": \"52fe479ac3a36847f813eac5\", \"department\": \"Production\", \"gender\": 2, \"id\": 490, \"job\": \"Producer\", \"name\": \"Colin Wilson\"}, {\"credit_id\": \"58c68f2b9251411d30016cf2\", \"department\": \"Production\", \"gender\": 2, \"id\": 2073, \"job\": \"Casting\", \"name\": \"Gail Stevens\"}, {\"credit_id\": \"58c68ef19251411d62016ec3\", \"department\": \"Sound\", \"gender\": 2, \"id\": 3996, \"job\": \"Sound Re-Recording Mixer\", \"name\": \"Tom Johnson\"}, {\"credit_id\": \"52fe479ac3a36847f813ead7\", \"department\": \"Editing\", \"gender\": 2, \"id\": 6958, \"job\": \"Editor\", \"name\": \"Eric Zumbrunnen\"}, {\"credit_id\": \"58c69a9ec3a36840b801738e\", \"department\": \"Editing\", \"gender\": 0, \"id\": 8158, \"job\": \"Dialogue Editor\", \"name\": \"Michael Silvers\"}, {\"credit_id\": \"58c68f1ec3a368413b015877\", \"department\": \"Sound\", \"gender\": 0, \"id\": 8166, \"job\": \"Sound Re-Recording Mixer\", \"name\": \"Juan Peralta\"}, {\"credit_id\": \"58c69340c3a36841200154c9\", \"department\": \"Costume & Make-Up\", \"gender\": 0, \"id\": 8412, \"job\": \"Key Makeup Artist\", \"name\": \"Paul Gooch\"}, {\"credit_id\": \"58c69cc0c3a368413001574a\", \"department\": \"Art\", \"gender\": 0, \"id\": 12039, \"job\": \"Set Decoration\", \"name\": \"Paki Smith\"}, {\"credit_id\": \"58c69e9e9251411d11017c02\", \"department\": \"Crew\", \"gender\": 0, \"id\": 12895, \"job\": \"Thanks\", \"name\": \"Ed Catmull\"}, {\"credit_id\": \"58c689079251411d19017350\", \"department\": \"Crew\", \"gender\": 2, \"id\": 12897, \"job\": \"In Memory Of\", \"name\": \"Steve Jobs\"}, {\"credit_id\": \"56abe29d9251417e22003953\", \"department\": \"Costume & Make-Up\", \"gender\": 2, \"id\": 15017, \"job\": \"Makeup Designer\", \"name\": \"Bill Corso\"}, {\"credit_id\": \"58c691fc9251411d30016e75\", \"department\": \"Art\", \"gender\": 2, \"id\": 14762, \"job\": \"Art Direction\", \"name\": \"Robert Woodruff\"}, {\"credit_id\": \"52fe479ac3a36847f813eae3\", \"department\": \"Art\", \"gender\": 2, \"id\": 15327, \"job\": \"Production Design\", \"name\": \"Nathan Crowley\"}, {\"credit_id\": \"58c6888bc3a36840f6014f95\", \"department\": \"Sound\", \"gender\": 2, \"id\": 15347, \"job\": \"Music\", \"name\": \"Michael Giacchino\"}, {\"credit_id\": \"52fe479ac3a36847f813ead1\", \"department\": \"Camera\", \"gender\": 0, \"id\": 15348, \"job\": \"Director of Photography\", \"name\": \"Daniel Mindel\"}, {\"credit_id\": \"58c69adcc3a36840f6015b94\", \"department\": \"Sound\", \"gender\": 2, \"id\": 15354, \"job\": \"Music Editor\", \"name\": \"Stephen M. Davis\"}, {\"credit_id\": \"58c69227c3a36840f60155d7\", \"department\": \"Art\", \"gender\": 2, \"id\": 34513, \"job\": \"Art Direction\", \"name\": \"John King\"}, {\"credit_id\": \"52fe479ac3a36847f813eafb\", \"department\": \"Costume & Make-Up\", \"gender\": 0, \"id\": 17675, \"job\": \"Costume Design\", \"name\": \"Mayes C. Rubeo\"}, {\"credit_id\": \"570b939092514111f20029c9\", \"department\": \"Art\", \"gender\": 0, \"id\": 17677, \"job\": \"Supervising Art Director\", \"name\": \"Naaman Marshall\"}, {\"credit_id\": \"58c69203c3a36841140150c8\", \"department\": \"Art\", \"gender\": 0, \"id\": 18925, \"job\": \"Art Direction\", \"name\": \"Scott Zuber\"}, {\"credit_id\": \"58c6905bc3a3684128014f17\", \"department\": \"Art\", \"gender\": 2, \"id\": 23454, \"job\": \"Art Direction\", \"name\": \"Phil Harvey\"}, {\"credit_id\": \"58c69aedc3a36841140156e9\", \"department\": \"Sound\", \"gender\": 0, \"id\": 28241, \"job\": \"Orchestrator\", \"name\": \"Tim Simonec\"}, {\"credit_id\": \"58c69811c3a368410c0160b1\", \"department\": \"Costume & Make-Up\", \"gender\": 0, \"id\": 29233, \"job\": \"Makeup Artist\", \"name\": \"Veronica McAleer\"}, {\"credit_id\": \"52fe479ac3a36847f813eb07\", \"department\": \"Writing\", \"gender\": 2, \"id\": 15776, \"job\": \"Original Story\", \"name\": \"Edgar Rice Burroughs\"}, {\"credit_id\": \"52fe479ac3a36847f813eadd\", \"department\": \"Production\", \"gender\": 1, \"id\": 51557, \"job\": \"Casting\", \"name\": \"Marcia Ross\"}, {\"credit_id\": \"58c69f12c3a36841140159a5\", \"department\": \"Crew\", \"gender\": 2, \"id\": 39624, \"job\": \"Thanks\", \"name\": \"Peter Gabriel\"}, {\"credit_id\": \"58c6937f9251411d30016f5f\", \"department\": \"Costume & Make-Up\", \"gender\": 0, \"id\": 61996, \"job\": \"Key Makeup Artist\", \"name\": \"Christien Tinsley\"}, {\"credit_id\": \"58c69acb9251411d19017f73\", \"department\": \"Production\", \"gender\": 0, \"id\": 64449, \"job\": \"ADR Voice Casting\", \"name\": \"Holly Dorff\"}, {\"credit_id\": \"52fe479ac3a36847f813eabf\", \"department\": \"Production\", \"gender\": 0, \"id\": 72752, \"job\": \"Producer\", \"name\": \"Jim Morris\"}, {\"credit_id\": \"52fe479ac3a36847f813eab9\", \"department\": \"Production\", \"gender\": 0, \"id\": 72753, \"job\": \"Producer\", \"name\": \"Lindsey Collins\"}, {\"credit_id\": \"52fe479ac3a36847f813eaaf\", \"department\": \"Writing\", \"gender\": 2, \"id\": 67758, \"job\": \"Screenplay\", \"name\": \"Michael Chabon\"}, {\"credit_id\": \"58c68a499251411d55016dd5\", \"department\": \"Production\", \"gender\": 0, \"id\": 91055, \"job\": \"Unit Production Manager\", \"name\": \"Jan Foster\"}, {\"credit_id\": \"58c699509251411d550177c7\", \"department\": \"Camera\", \"gender\": 0, \"id\": 91912, \"job\": \"Camera Operator\", \"name\": \"John Skotchdopole\"}, {\"credit_id\": \"58c6995cc3a368412001591e\", \"department\": \"Sound\", \"gender\": 2, \"id\": 105780, \"job\": \"Sound Mixer\", \"name\": \"Chris Munro\"}, {\"credit_id\": \"58c6884e9251411d15016de7\", \"department\": \"Visual Effects\", \"gender\": 0, \"id\": 122274, \"job\": \"Visual Effects Supervisor\", \"name\": \"Peter Chiang\"}, {\"credit_id\": \"52fe479ac3a36847f813eaa9\", \"department\": \"Writing\", \"gender\": 2, \"id\": 126638, \"job\": \"Screenplay\", \"name\": \"Mark Andrews\"}, {\"credit_id\": \"58c68ed79251411d62016eb2\", \"department\": \"Sound\", \"gender\": 0, \"id\": 138617, \"job\": \"Supervising Sound Editor\", \"name\": \"Jonathan Null\"}, {\"credit_id\": \"58c69c9a9251411d6201776e\", \"department\": \"Production\", \"gender\": 2, \"id\": 238120, \"job\": \"Casting Associate\", \"name\": \"Colin Jones\"}, {\"credit_id\": \"52fe479ac3a36847f813eb13\", \"department\": \"Costume & Make-Up\", \"gender\": 1, \"id\": 406204, \"job\": \"Makeup Department Head\", \"name\": \"Ve Neill\"}, {\"credit_id\": \"58c69b249251411d0d018598\", \"department\": \"Production\", \"gender\": 1, \"id\": 528783, \"job\": \"Casting Associate\", \"name\": \"Brittainy Roberts\"}, {\"credit_id\": \"58c698c9c3a36840b8017245\", \"department\": \"Costume & Make-Up\", \"gender\": 0, \"id\": 967148, \"job\": \"Assistant Costume Designer\", \"name\": \"Jeremy Turner\"}, {\"credit_id\": \"58c691f5c3a36841200153f6\", \"department\": \"Art\", \"gender\": 2, \"id\": 969743, \"job\": \"Art Direction\", \"name\": \"Dean Wolcott\"}, {\"credit_id\": \"58c69032c3a36841200152fe\", \"department\": \"Art\", \"gender\": 2, \"id\": 986687, \"job\": \"Art Direction\", \"name\": \"Mark Harris\"}, {\"credit_id\": \"570b9382c3a368779600816a\", \"department\": \"Art\", \"gender\": 0, \"id\": 1034754, \"job\": \"Supervising Art Director\", \"name\": \"James Hambidge\"}, {\"credit_id\": \"52fe479ac3a36847f813eb01\", \"department\": \"Crew\", \"gender\": 0, \"id\": 1034755, \"job\": \"Post Production Supervisor\", \"name\": \"Lori Korngiebel\"}, {\"credit_id\": \"58c692ffc3a3684114015167\", \"department\": \"Art\", \"gender\": 0, \"id\": 1055222, \"job\": \"Storyboard Designer\", \"name\": \"David Krentz\"}, {\"credit_id\": \"58c68e719251411d19017745\", \"department\": \"Visual Effects\", \"gender\": 0, \"id\": 1081073, \"job\": \"Special Effects Supervisor\", \"name\": \"Chris Corbould\"}, {\"credit_id\": \"58c698bec3a368411401553a\", \"department\": \"Costume & Make-Up\", \"gender\": 1, \"id\": 1121742, \"job\": \"Assistant Costume Designer\", \"name\": \"Colleen Kelsall\"}, {\"credit_id\": \"58c68e2e9251411d47017e8a\", \"department\": \"Production\", \"gender\": 0, \"id\": 1123360, \"job\": \"Associate Producer\", \"name\": \"Bob Roath\"}, {\"credit_id\": \"58c692629251411d620170a7\", \"department\": \"Art\", \"gender\": 0, \"id\": 1171098, \"job\": \"Set Designer\", \"name\": \"Darrell L. Wight\"}, {\"credit_id\": \"58c692f9c3a36840b8016e22\", \"department\": \"Art\", \"gender\": 0, \"id\": 1218986, \"job\": \"Storyboard Designer\", \"name\": \"Bryan Andrews\"}, {\"credit_id\": \"58c6941f9251411d110174ca\", \"department\": \"Costume & Make-Up\", \"gender\": 0, \"id\": 1316599, \"job\": \"Makeup Artist\", \"name\": \"Dennis Liddiard\"}, {\"credit_id\": \"58c6943a9251411d0d01804a\", \"department\": \"Costume & Make-Up\", \"gender\": 0, \"id\": 1319490, \"job\": \"Makeup Artist\", \"name\": \"Kevin Haney\"}, {\"credit_id\": \"58c69244c3a368413b015a23\", \"department\": \"Art\", \"gender\": 0, \"id\": 1334782, \"job\": \"Assistant Art Director\", \"name\": \"Josh Lusby\"}, {\"credit_id\": \"58c69ccec3a36841280156f6\", \"department\": \"Art\", \"gender\": 0, \"id\": 1335553, \"job\": \"Property Master\", \"name\": \"Jamie Wilkinson\"}, {\"credit_id\": \"58c69f219251411d190182a8\", \"department\": \"Crew\", \"gender\": 0, \"id\": 1339450, \"job\": \"Thanks\", \"name\": \"Roger Guyett\"}, {\"credit_id\": \"58c69dc79251411d1901819d\", \"department\": \"Crew\", \"gender\": 0, \"id\": 1357070, \"job\": \"Transportation Coordinator\", \"name\": \"Denny Caira\"}, {\"credit_id\": \"58c688709251411d3001684b\", \"department\": \"Visual Effects\", \"gender\": 0, \"id\": 1367497, \"job\": \"Visual Effects Supervisor\", \"name\": \"Sue Rowe\"}, {\"credit_id\": \"58c69ca79251411d11017a77\", \"department\": \"Production\", \"gender\": 0, \"id\": 1374469, \"job\": \"Casting Assistant\", \"name\": \"Toby Spigel\"}, {\"credit_id\": \"58c69aa59251411d11017919\", \"department\": \"Editing\", \"gender\": 0, \"id\": 1376901, \"job\": \"Dialogue Editor\", \"name\": \"Marshall Winn\"}, {\"credit_id\": \"58c68ee9c3a3684128014e36\", \"department\": \"Sound\", \"gender\": 0, \"id\": 1378828, \"job\": \"Sound Re-Recording Mixer\", \"name\": \"Michael Semanick\"}, {\"credit_id\": \"58c692389251411d30016ea2\", \"department\": \"Art\", \"gender\": 0, \"id\": 1388850, \"job\": \"Assistant Art Director\", \"name\": \"Peter Dorme\"}, {\"credit_id\": \"58c69cf49251411d4701890b\", \"department\": \"Lighting\", \"gender\": 0, \"id\": 1390367, \"job\": \"Gaffer\", \"name\": \"Perry Evans\"}, {\"credit_id\": \"58c699f4c3a368413b015f45\", \"department\": \"Directing\", \"gender\": 0, \"id\": 1390388, \"job\": \"Script Supervisor\", \"name\": \"Annie Penn\"}, {\"credit_id\": \"58c69a7ac3a368410c016254\", \"department\": \"Sound\", \"gender\": 0, \"id\": 1394129, \"job\": \"Sound Designer\", \"name\": \"Tim Nielsen\"}, {\"credit_id\": \"58c68edec3a3684114014f16\", \"department\": \"Sound\", \"gender\": 0, \"id\": 1394129, \"job\": \"Supervising Sound Editor\", \"name\": \"Tim Nielsen\"}, {\"credit_id\": \"58c6928f9251411d55017337\", \"department\": \"Art\", \"gender\": 0, \"id\": 1395430, \"job\": \"Art Department Coordinator\", \"name\": \"Jenne Lee\"}, {\"credit_id\": \"58c6925b9251411d150174df\", \"department\": \"Art\", \"gender\": 0, \"id\": 1395435, \"job\": \"Set Designer\", \"name\": \"Theodore Sharps\"}, {\"credit_id\": \"58c691c4c3a36840f6015583\", \"department\": \"Art\", \"gender\": 0, \"id\": 1397837, \"job\": \"Art Direction\", \"name\": \"Joseph Hodges\"}, {\"credit_id\": \"58c699489251411d300172de\", \"department\": \"Camera\", \"gender\": 0, \"id\": 1399467, \"job\": \"Camera Operator\", \"name\": \"Philippe Carr-Forster\"}, {\"credit_id\": \"58c69cfdc3a368413b016165\", \"department\": \"Lighting\", \"gender\": 0, \"id\": 1399475, \"job\": \"Gaffer\", \"name\": \"Christopher Prampin\"}, {\"credit_id\": \"58c69920c3a36841300154e2\", \"department\": \"Camera\", \"gender\": 0, \"id\": 1400535, \"job\": \"Camera Operator\", \"name\": \"Colin Anderson\"}, {\"credit_id\": \"58c699259251411d620174e9\", \"department\": \"Camera\", \"gender\": 0, \"id\": 1400535, \"job\": \"Steadicam Operator\", \"name\": \"Colin Anderson\"}, {\"credit_id\": \"58c699ebc3a368411401561c\", \"department\": \"Production\", \"gender\": 0, \"id\": 1401784, \"job\": \"Production Supervisor\", \"name\": \"Jennifer Teves\"}, {\"credit_id\": \"58c6935ec3a368413b015ae4\", \"department\": \"Costume & Make-Up\", \"gender\": 0, \"id\": 1403388, \"job\": \"Key Makeup Artist\", \"name\": \"Kim Ayers\"}, {\"credit_id\": \"58c68e49c3a368413b0157eb\", \"department\": \"Visual Effects\", \"gender\": 0, \"id\": 1408379, \"job\": \"Visual Effects Producer\", \"name\": \"Daniel Barrow\"}, {\"credit_id\": \"58c6936fc3a368413b015aed\", \"department\": \"Costume & Make-Up\", \"gender\": 0, \"id\": 1409757, \"job\": \"Key Makeup Artist\", \"name\": \"Debbi Salmon\"}, {\"credit_id\": \"58c69339c3a36841200154c4\", \"department\": \"Costume & Make-Up\", \"gender\": 0, \"id\": 1411320, \"job\": \"Key Makeup Artist\", \"name\": \"Paula Price\"}, {\"credit_id\": \"58c69dba9251411d0d018767\", \"department\": \"Camera\", \"gender\": 0, \"id\": 1412205, \"job\": \"Still Photographer\", \"name\": \"Frank Connor\"}, {\"credit_id\": \"58c69a89c3a3684114015691\", \"department\": \"Sound\", \"gender\": 0, \"id\": 1414177, \"job\": \"Sound Effects Editor\", \"name\": \"J.R. Grubbs\"}, {\"credit_id\": \"58c69452c3a36840f6015741\", \"department\": \"Costume & Make-Up\", \"gender\": 0, \"id\": 1414539, \"job\": \"Makeup Artist\", \"name\": \"Deborah Rutherford\"}, {\"credit_id\": \"58c6946c9251411d15017617\", \"department\": \"Costume & Make-Up\", \"gender\": 0, \"id\": 1414540, \"job\": \"Makeup Artist\", \"name\": \"Don Rutherford\"}, {\"credit_id\": \"58c69a929251411d11017907\", \"department\": \"Sound\", \"gender\": 0, \"id\": 1415464, \"job\": \"Sound Effects Editor\", \"name\": \"Malcolm Fife\"}, {\"credit_id\": \"58c6923e9251411d11017382\", \"department\": \"Art\", \"gender\": 0, \"id\": 1417396, \"job\": \"Assistant Art Director\", \"name\": \"Toby Britton\"}, {\"credit_id\": \"58c69866c3a368413001545d\", \"department\": \"Costume & Make-Up\", \"gender\": 0, \"id\": 1418124, \"job\": \"Hair Designer\", \"name\": \"Kevin Alexander\"}, {\"credit_id\": \"58c693779251411d470181e4\", \"department\": \"Costume & Make-Up\", \"gender\": 0, \"id\": 1421936, \"job\": \"Key Makeup Artist\", \"name\": \"Kristie Matthiae\"}, {\"credit_id\": \"58c694a99251411d15017646\", \"department\": \"Costume & Make-Up\", \"gender\": 0, \"id\": 1424151, \"job\": \"Makeup Artist\", \"name\": \"Gerald Quist\"}, {\"credit_id\": \"58c693f39251411d110174a9\", \"department\": \"Costume & Make-Up\", \"gender\": 0, \"id\": 1425411, \"job\": \"Makeup Artist\", \"name\": \"Nuria Mbomio\"}, {\"credit_id\": \"58c68866c3a368413b015367\", \"department\": \"Visual Effects\", \"gender\": 0, \"id\": 1428901, \"job\": \"Animation Supervisor\", \"name\": \"Eamonn Butler\"}, {\"credit_id\": \"58c68ec89251411d11017191\", \"department\": \"Crew\", \"gender\": 0, \"id\": 1428905, \"job\": \"Visual Effects Editor\", \"name\": \"Laura Jennings\"}, {\"credit_id\": \"58c693919251411d0d017fde\", \"department\": \"Costume & Make-Up\", \"gender\": 0, \"id\": 1428911, \"job\": \"Makeup Artist\", \"name\": \"Ailbhe Lemass\"}, {\"credit_id\": \"58c6992f9251411d19017e49\", \"department\": \"Camera\", \"gender\": 0, \"id\": 1430188, \"job\": \"Camera Operator\", \"name\": \"Simon Finney\"}, {\"credit_id\": \"58c6948b9251411d15017628\", \"department\": \"Costume & Make-Up\", \"gender\": 0, \"id\": 1441176, \"job\": \"Makeup Artist\", \"name\": \"Eryn Krueger Mekash\"}, {\"credit_id\": \"58c692ddc3a368413b015a8d\", \"department\": \"Art\", \"gender\": 0, \"id\": 1447571, \"job\": \"Art Department Assistant\", \"name\": \"Travis Witkowski\"}, {\"credit_id\": \"58c694809251411d15017622\", \"department\": \"Costume & Make-Up\", \"gender\": 0, \"id\": 1458894, \"job\": \"Makeup Artist\", \"name\": \"Mike Mekash\"}, {\"credit_id\": \"58c6940e9251411d19017aad\", \"department\": \"Costume & Make-Up\", \"gender\": 0, \"id\": 1530220, \"job\": \"Makeup Artist\", \"name\": \"Kirstin Chalmers\"}, {\"credit_id\": \"58c698e89251411d5501777a\", \"department\": \"Costume & Make-Up\", \"gender\": 0, \"id\": 1532325, \"job\": \"Key Costumer\", \"name\": \"Kacie Seamons\"}, {\"credit_id\": \"58c693b39251411d30016f78\", \"department\": \"Costume & Make-Up\", \"gender\": 0, \"id\": 1536539, \"job\": \"Makeup Artist\", \"name\": \"Deborah Taylor\"}, {\"credit_id\": \"58c68e84c3a36840f60153a1\", \"department\": \"Crew\", \"gender\": 0, \"id\": 1546844, \"job\": \"Visual Effects Art Director\", \"name\": \"Ryan Church\"}, {\"credit_id\": \"58c693659251411d550173be\", \"department\": \"Costume & Make-Up\", \"gender\": 0, \"id\": 1549655, \"job\": \"Key Makeup Artist\", \"name\": \"Camille Henderson\"}, {\"credit_id\": \"58c68fd29251411d30016d3f\", \"department\": \"Crew\", \"gender\": 0, \"id\": 1550851, \"job\": \"Stunt Coordinator\", \"name\": \"Tom Struthers\"}, {\"credit_id\": \"58c692bfc3a36840b8016df9\", \"department\": \"Art\", \"gender\": 0, \"id\": 1551810, \"job\": \"Art Department Assistant\", \"name\": \"Liam Georgensen\"}, {\"credit_id\": \"58c692869251411d30016ed9\", \"department\": \"Art\", \"gender\": 0, \"id\": 1561994, \"job\": \"Art Department Coordinator\", \"name\": \"Lavinia Waters\"}, {\"credit_id\": \"58c697f89251411d30017205\", \"department\": \"Costume & Make-Up\", \"gender\": 0, \"id\": 1613336, \"job\": \"Makeup Artist\", \"name\": \"Greg T. Moon\"}, {\"credit_id\": \"58c69a07c3a36841200159ae\", \"department\": \"Production\", \"gender\": 0, \"id\": 1640350, \"job\": \"Production Coordinator\", \"name\": \"Richard Daldry\"}, {\"credit_id\": \"58c69979c3a368413b015eef\", \"department\": \"Sound\", \"gender\": 2, \"id\": 1658269, \"job\": \"Boom Operator\", \"name\": \"Stephen Finn\"}, {\"credit_id\": \"58c692e4c3a36840f601564a\", \"department\": \"Art\", \"gender\": 0, \"id\": 1661321, \"job\": \"Art Department Assistant\", \"name\": \"Tom Castronovo\"}, {\"credit_id\": \"58c69dadc3a36841280157a4\", \"department\": \"Crew\", \"gender\": 0, \"id\": 1686002, \"job\": \"Unit Publicist\", \"name\": \"Katherine McCormack\"}, {\"credit_id\": \"58c689439251411d15016ed6\", \"department\": \"Production\", \"gender\": 0, \"id\": 1697623, \"job\": \"Unit Production Manager\", \"name\": \"Steve Harding\"}, {\"credit_id\": \"58c68ebdc3a3684128014e11\", \"department\": \"Editing\", \"gender\": 0, \"id\": 1710258, \"job\": \"Additional Editing\", \"name\": \"Erik Jessen\"}, {\"credit_id\": \"58c689739251411d47017af1\", \"department\": \"Directing\", \"gender\": 0, \"id\": 1750922, \"job\": \"First Assistant Director\", \"name\": \"Tommy Gormley\"}, {\"credit_id\": \"58c692c7c3a36841300150c2\", \"department\": \"Art\", \"gender\": 0, \"id\": 1761112, \"job\": \"Art Department Assistant\", \"name\": \"Sarah Ginn\"}, {\"credit_id\": \"58c689aa9251411d55016d59\", \"department\": \"Directing\", \"gender\": 0, \"id\": 1775681, \"job\": \"Second Assistant Director\", \"name\": \"Ben Dixon\"}, {\"credit_id\": \"58c68a859251411d1901746d\", \"department\": \"Directing\", \"gender\": 2, \"id\": 1775682, \"job\": \"Second Assistant Director\", \"name\": \"Andrew M. Ward\"}, {\"credit_id\": \"58c692a4c3a368413b015a64\", \"department\": \"Art\", \"gender\": 0, \"id\": 1775687, \"job\": \"Art Department Coordinator\", \"name\": \"Stacey Newton\"}, {\"credit_id\": \"58c692b6c3a368412001546d\", \"department\": \"Art\", \"gender\": 0, \"id\": 1775688, \"job\": \"Art Department Assistant\", \"name\": \"Rachel Corbould\"}, {\"credit_id\": \"58c692d4c3a368413b015a88\", \"department\": \"Art\", \"gender\": 0, \"id\": 1775689, \"job\": \"Art Department Assistant\", \"name\": \"Jake Hall\"}, {\"credit_id\": \"58c693589251411d0d017fb3\", \"department\": \"Costume & Make-Up\", \"gender\": 0, \"id\": 1775690, \"job\": \"Key Makeup Artist\", \"name\": \"Gemma Richards\"}, {\"credit_id\": \"58c693fe9251411d55017423\", \"department\": \"Costume & Make-Up\", \"gender\": 0, \"id\": 1775691, \"job\": \"Makeup Artist\", \"name\": \"Sara Riesel\"}, {\"credit_id\": \"58c69407c3a368413b015b42\", \"department\": \"Costume & Make-Up\", \"gender\": 0, \"id\": 1775692, \"job\": \"Makeup Artist\", \"name\": \"Paul Boyce\"}, {\"credit_id\": \"58c694189251411d19017ab6\", \"department\": \"Costume & Make-Up\", \"gender\": 0, \"id\": 1775693, \"job\": \"Makeup Artist\", \"name\": \"Mandy Gold\"}, {\"credit_id\": \"58c698989251411d0d01836e\", \"department\": \"Costume & Make-Up\", \"gender\": 0, \"id\": 1775701, \"job\": \"Hairstylist\", \"name\": \"Candice Banks\"}, {\"credit_id\": \"58c698a59251411d19017de5\", \"department\": \"Costume & Make-Up\", \"gender\": 0, \"id\": 1775702, \"job\": \"Hairstylist\", \"name\": \"Gary Machin\"}, {\"credit_id\": \"58c69994c3a36840b80172dd\", \"department\": \"Sound\", \"gender\": 0, \"id\": 1775704, \"job\": \"Boom Operator\", \"name\": \"Noel Espinosa\"}, {\"credit_id\": \"58c69a309251411d110178c9\", \"department\": \"Production\", \"gender\": 0, \"id\": 1775707, \"job\": \"Production Coordinator\", \"name\": \"Meredith Humbracht\"}, {\"credit_id\": \"58c69d39c3a368410c0163fd\", \"department\": \"Camera\", \"gender\": 0, \"id\": 1775718, \"job\": \"Key Grip\", \"name\": \"Gary Hymns\"}, {\"credit_id\": \"58c69da6c3a368413b01620f\", \"department\": \"Camera\", \"gender\": 0, \"id\": 1775721, \"job\": \"Key Grip\", \"name\": \"Thomas Gibson\"}, {\"credit_id\": \"58c69ec49251411d55017be6\", \"department\": \"Crew\", \"gender\": 0, \"id\": 1775723, \"job\": \"Thanks\", \"name\": \"Danton Burroughs\"}, {\"credit_id\": \"591264bac3a368646b04fda5\", \"department\": \"Crew\", \"gender\": 1, \"id\": 1813644, \"job\": \"Stunts\", \"name\": \"Karin Silvestri\"}]'"
      ]
     },
     "execution_count": 509,
     "metadata": {},
     "output_type": "execute_result"
    }
   ],
   "source": [
    "msg"
   ]
  },
  {
   "cell_type": "code",
   "execution_count": 510,
   "id": "c56cefe5-93cb-4cc6-855d-9022ccdbd297",
   "metadata": {},
   "outputs": [],
   "source": [
    "import ast\n",
    "msg = ast.literal_eval(msg)"
   ]
  },
  {
   "cell_type": "code",
   "execution_count": 511,
   "id": "7090f1bc-07bd-4218-bb4f-51b52f3e5012",
   "metadata": {},
   "outputs": [
    {
     "name": "stdout",
     "output_type": "stream",
     "text": [
      "Andrew Stanton\n"
     ]
    }
   ],
   "source": [
    "for i in msg:\n",
    "    if i['job']=='Director':\n",
    "        print(i['name'])\n",
    "        break"
   ]
  },
  {
   "cell_type": "code",
   "execution_count": 512,
   "id": "e042b3bc-48e4-461e-9057-051b3c5b5121",
   "metadata": {},
   "outputs": [],
   "source": [
    "df2['crew'] = df2['crew'].apply(fetch_dir_and_prod)"
   ]
  },
  {
   "cell_type": "code",
   "execution_count": 513,
   "id": "041e2819-9f1d-45fd-88fb-ab5de4651ecb",
   "metadata": {},
   "outputs": [
    {
     "data": {
      "text/html": [
       "<div>\n",
       "<style scoped>\n",
       "    .dataframe tbody tr th:only-of-type {\n",
       "        vertical-align: middle;\n",
       "    }\n",
       "\n",
       "    .dataframe tbody tr th {\n",
       "        vertical-align: top;\n",
       "    }\n",
       "\n",
       "    .dataframe thead th {\n",
       "        text-align: right;\n",
       "    }\n",
       "</style>\n",
       "<table border=\"1\" class=\"dataframe\">\n",
       "  <thead>\n",
       "    <tr style=\"text-align: right;\">\n",
       "      <th></th>\n",
       "      <th>id</th>\n",
       "      <th>cast</th>\n",
       "      <th>crew</th>\n",
       "      <th>genres</th>\n",
       "      <th>keywords</th>\n",
       "      <th>original_language</th>\n",
       "      <th>original_title</th>\n",
       "      <th>overview</th>\n",
       "    </tr>\n",
       "  </thead>\n",
       "  <tbody>\n",
       "    <tr>\n",
       "      <th>0</th>\n",
       "      <td>19995</td>\n",
       "      <td>[{\"cast_id\": 242, \"character\": \"Jake Sully\", \"...</td>\n",
       "      <td>[James Cameron]</td>\n",
       "      <td>[Action, Adventure, Fantasy, Science Fiction]</td>\n",
       "      <td>[{\"id\": 1463, \"name\": \"culture clash\"}, {\"id\":...</td>\n",
       "      <td>en</td>\n",
       "      <td>Avatar</td>\n",
       "      <td>In the 22nd century, a paraplegic Marine is di...</td>\n",
       "    </tr>\n",
       "  </tbody>\n",
       "</table>\n",
       "</div>"
      ],
      "text/plain": [
       "      id                                               cast             crew  \\\n",
       "0  19995  [{\"cast_id\": 242, \"character\": \"Jake Sully\", \"...  [James Cameron]   \n",
       "\n",
       "                                          genres  \\\n",
       "0  [Action, Adventure, Fantasy, Science Fiction]   \n",
       "\n",
       "                                            keywords original_language  \\\n",
       "0  [{\"id\": 1463, \"name\": \"culture clash\"}, {\"id\":...                en   \n",
       "\n",
       "  original_title                                           overview  \n",
       "0         Avatar  In the 22nd century, a paraplegic Marine is di...  "
      ]
     },
     "execution_count": 513,
     "metadata": {},
     "output_type": "execute_result"
    }
   ],
   "source": [
    "df2.head(1)"
   ]
  },
  {
   "cell_type": "code",
   "execution_count": 514,
   "id": "ff0ae00c-517e-4a23-8d29-9c0386772c3f",
   "metadata": {},
   "outputs": [],
   "source": [
    "##keywords"
   ]
  },
  {
   "cell_type": "code",
   "execution_count": 515,
   "id": "5fe433a9-500d-46c2-ad0c-3e6b34283db6",
   "metadata": {},
   "outputs": [],
   "source": [
    "msg = df2.iloc[0, 4]"
   ]
  },
  {
   "cell_type": "code",
   "execution_count": 516,
   "id": "5acc1d01-66d8-4a72-89db-f7207fb1bbbb",
   "metadata": {},
   "outputs": [
    {
     "data": {
      "text/plain": [
       "'[{\"id\": 1463, \"name\": \"culture clash\"}, {\"id\": 2964, \"name\": \"future\"}, {\"id\": 3386, \"name\": \"space war\"}, {\"id\": 3388, \"name\": \"space colony\"}, {\"id\": 3679, \"name\": \"society\"}, {\"id\": 3801, \"name\": \"space travel\"}, {\"id\": 9685, \"name\": \"futuristic\"}, {\"id\": 9840, \"name\": \"romance\"}, {\"id\": 9882, \"name\": \"space\"}, {\"id\": 9951, \"name\": \"alien\"}, {\"id\": 10148, \"name\": \"tribe\"}, {\"id\": 10158, \"name\": \"alien planet\"}, {\"id\": 10987, \"name\": \"cgi\"}, {\"id\": 11399, \"name\": \"marine\"}, {\"id\": 13065, \"name\": \"soldier\"}, {\"id\": 14643, \"name\": \"battle\"}, {\"id\": 14720, \"name\": \"love affair\"}, {\"id\": 165431, \"name\": \"anti war\"}, {\"id\": 193554, \"name\": \"power relations\"}, {\"id\": 206690, \"name\": \"mind and soul\"}, {\"id\": 209714, \"name\": \"3d\"}]'"
      ]
     },
     "execution_count": 516,
     "metadata": {},
     "output_type": "execute_result"
    }
   ],
   "source": [
    "msg"
   ]
  },
  {
   "cell_type": "code",
   "execution_count": 517,
   "id": "86248fa7-ae97-40e6-b224-651f29f8a601",
   "metadata": {},
   "outputs": [],
   "source": [
    "def fetch_keyowrds(string):\n",
    "    ls = []\n",
    "    for i in  ast.literal_eval(string):\n",
    "        ls.append(i['name'])\n",
    "            \n",
    "    return ls"
   ]
  },
  {
   "cell_type": "code",
   "execution_count": 518,
   "id": "cc6ef8ca-be10-4d3f-8a70-55cdc80c0eda",
   "metadata": {},
   "outputs": [
    {
     "data": {
      "text/plain": [
       "['culture clash',\n",
       " 'future',\n",
       " 'space war',\n",
       " 'space colony',\n",
       " 'society',\n",
       " 'space travel',\n",
       " 'futuristic',\n",
       " 'romance',\n",
       " 'space',\n",
       " 'alien',\n",
       " 'tribe',\n",
       " 'alien planet',\n",
       " 'cgi',\n",
       " 'marine',\n",
       " 'soldier',\n",
       " 'battle',\n",
       " 'love affair',\n",
       " 'anti war',\n",
       " 'power relations',\n",
       " 'mind and soul',\n",
       " '3d']"
      ]
     },
     "execution_count": 518,
     "metadata": {},
     "output_type": "execute_result"
    }
   ],
   "source": [
    "fetch_keyowrds(msg)"
   ]
  },
  {
   "cell_type": "code",
   "execution_count": 519,
   "id": "301c1bc6-5086-412d-9d23-8f1bf92651bd",
   "metadata": {},
   "outputs": [],
   "source": [
    "df2['keywords'] = df2['keywords'].apply(fetch_genres)"
   ]
  },
  {
   "cell_type": "code",
   "execution_count": 520,
   "id": "0d732819-b0cb-439b-8a2e-e16071f911ec",
   "metadata": {},
   "outputs": [
    {
     "data": {
      "text/html": [
       "<div>\n",
       "<style scoped>\n",
       "    .dataframe tbody tr th:only-of-type {\n",
       "        vertical-align: middle;\n",
       "    }\n",
       "\n",
       "    .dataframe tbody tr th {\n",
       "        vertical-align: top;\n",
       "    }\n",
       "\n",
       "    .dataframe thead th {\n",
       "        text-align: right;\n",
       "    }\n",
       "</style>\n",
       "<table border=\"1\" class=\"dataframe\">\n",
       "  <thead>\n",
       "    <tr style=\"text-align: right;\">\n",
       "      <th></th>\n",
       "      <th>id</th>\n",
       "      <th>cast</th>\n",
       "      <th>crew</th>\n",
       "      <th>genres</th>\n",
       "      <th>keywords</th>\n",
       "      <th>original_language</th>\n",
       "      <th>original_title</th>\n",
       "      <th>overview</th>\n",
       "    </tr>\n",
       "  </thead>\n",
       "  <tbody>\n",
       "    <tr>\n",
       "      <th>0</th>\n",
       "      <td>19995</td>\n",
       "      <td>[{\"cast_id\": 242, \"character\": \"Jake Sully\", \"...</td>\n",
       "      <td>[James Cameron]</td>\n",
       "      <td>[Action, Adventure, Fantasy, Science Fiction]</td>\n",
       "      <td>[culture clash, future, space war, space colon...</td>\n",
       "      <td>en</td>\n",
       "      <td>Avatar</td>\n",
       "      <td>In the 22nd century, a paraplegic Marine is di...</td>\n",
       "    </tr>\n",
       "  </tbody>\n",
       "</table>\n",
       "</div>"
      ],
      "text/plain": [
       "      id                                               cast             crew  \\\n",
       "0  19995  [{\"cast_id\": 242, \"character\": \"Jake Sully\", \"...  [James Cameron]   \n",
       "\n",
       "                                          genres  \\\n",
       "0  [Action, Adventure, Fantasy, Science Fiction]   \n",
       "\n",
       "                                            keywords original_language  \\\n",
       "0  [culture clash, future, space war, space colon...                en   \n",
       "\n",
       "  original_title                                           overview  \n",
       "0         Avatar  In the 22nd century, a paraplegic Marine is di...  "
      ]
     },
     "execution_count": 520,
     "metadata": {},
     "output_type": "execute_result"
    }
   ],
   "source": [
    "df2.head(1)"
   ]
  },
  {
   "cell_type": "code",
   "execution_count": 521,
   "id": "2d97cd73-9171-44aa-96b9-242fb16f4915",
   "metadata": {},
   "outputs": [],
   "source": [
    "##cast (first 3)"
   ]
  },
  {
   "cell_type": "code",
   "execution_count": 522,
   "id": "5bafa470-c329-461c-8420-c85a4d0be05f",
   "metadata": {},
   "outputs": [],
   "source": [
    "msg = df2.iloc[0, 1]"
   ]
  },
  {
   "cell_type": "code",
   "execution_count": 523,
   "id": "25c29e1c-b351-4252-af5e-339c938e3c5f",
   "metadata": {},
   "outputs": [
    {
     "data": {
      "text/plain": [
       "'[{\"cast_id\": 242, \"character\": \"Jake Sully\", \"credit_id\": \"5602a8a7c3a3685532001c9a\", \"gender\": 2, \"id\": 65731, \"name\": \"Sam Worthington\", \"order\": 0}, {\"cast_id\": 3, \"character\": \"Neytiri\", \"credit_id\": \"52fe48009251416c750ac9cb\", \"gender\": 1, \"id\": 8691, \"name\": \"Zoe Saldana\", \"order\": 1}, {\"cast_id\": 25, \"character\": \"Dr. Grace Augustine\", \"credit_id\": \"52fe48009251416c750aca39\", \"gender\": 1, \"id\": 10205, \"name\": \"Sigourney Weaver\", \"order\": 2}, {\"cast_id\": 4, \"character\": \"Col. Quaritch\", \"credit_id\": \"52fe48009251416c750ac9cf\", \"gender\": 2, \"id\": 32747, \"name\": \"Stephen Lang\", \"order\": 3}, {\"cast_id\": 5, \"character\": \"Trudy Chacon\", \"credit_id\": \"52fe48009251416c750ac9d3\", \"gender\": 1, \"id\": 17647, \"name\": \"Michelle Rodriguez\", \"order\": 4}, {\"cast_id\": 8, \"character\": \"Selfridge\", \"credit_id\": \"52fe48009251416c750ac9e1\", \"gender\": 2, \"id\": 1771, \"name\": \"Giovanni Ribisi\", \"order\": 5}, {\"cast_id\": 7, \"character\": \"Norm Spellman\", \"credit_id\": \"52fe48009251416c750ac9dd\", \"gender\": 2, \"id\": 59231, \"name\": \"Joel David Moore\", \"order\": 6}, {\"cast_id\": 9, \"character\": \"Moat\", \"credit_id\": \"52fe48009251416c750ac9e5\", \"gender\": 1, \"id\": 30485, \"name\": \"CCH Pounder\", \"order\": 7}, {\"cast_id\": 11, \"character\": \"Eytukan\", \"credit_id\": \"52fe48009251416c750ac9ed\", \"gender\": 2, \"id\": 15853, \"name\": \"Wes Studi\", \"order\": 8}, {\"cast_id\": 10, \"character\": \"Tsu\\'Tey\", \"credit_id\": \"52fe48009251416c750ac9e9\", \"gender\": 2, \"id\": 10964, \"name\": \"Laz Alonso\", \"order\": 9}, {\"cast_id\": 12, \"character\": \"Dr. Max Patel\", \"credit_id\": \"52fe48009251416c750ac9f1\", \"gender\": 2, \"id\": 95697, \"name\": \"Dileep Rao\", \"order\": 10}, {\"cast_id\": 13, \"character\": \"Lyle Wainfleet\", \"credit_id\": \"52fe48009251416c750ac9f5\", \"gender\": 2, \"id\": 98215, \"name\": \"Matt Gerald\", \"order\": 11}, {\"cast_id\": 32, \"character\": \"Private Fike\", \"credit_id\": \"52fe48009251416c750aca5b\", \"gender\": 2, \"id\": 154153, \"name\": \"Sean Anthony Moran\", \"order\": 12}, {\"cast_id\": 33, \"character\": \"Cryo Vault Med Tech\", \"credit_id\": \"52fe48009251416c750aca5f\", \"gender\": 2, \"id\": 397312, \"name\": \"Jason Whyte\", \"order\": 13}, {\"cast_id\": 34, \"character\": \"Venture Star Crew Chief\", \"credit_id\": \"52fe48009251416c750aca63\", \"gender\": 2, \"id\": 42317, \"name\": \"Scott Lawrence\", \"order\": 14}, {\"cast_id\": 35, \"character\": \"Lock Up Trooper\", \"credit_id\": \"52fe48009251416c750aca67\", \"gender\": 2, \"id\": 986734, \"name\": \"Kelly Kilgour\", \"order\": 15}, {\"cast_id\": 36, \"character\": \"Shuttle Pilot\", \"credit_id\": \"52fe48009251416c750aca6b\", \"gender\": 0, \"id\": 1207227, \"name\": \"James Patrick Pitt\", \"order\": 16}, {\"cast_id\": 37, \"character\": \"Shuttle Co-Pilot\", \"credit_id\": \"52fe48009251416c750aca6f\", \"gender\": 0, \"id\": 1180936, \"name\": \"Sean Patrick Murphy\", \"order\": 17}, {\"cast_id\": 38, \"character\": \"Shuttle Crew Chief\", \"credit_id\": \"52fe48009251416c750aca73\", \"gender\": 2, \"id\": 1019578, \"name\": \"Peter Dillon\", \"order\": 18}, {\"cast_id\": 39, \"character\": \"Tractor Operator / Troupe\", \"credit_id\": \"52fe48009251416c750aca77\", \"gender\": 0, \"id\": 91443, \"name\": \"Kevin Dorman\", \"order\": 19}, {\"cast_id\": 40, \"character\": \"Dragon Gunship Pilot\", \"credit_id\": \"52fe48009251416c750aca7b\", \"gender\": 2, \"id\": 173391, \"name\": \"Kelson Henderson\", \"order\": 20}, {\"cast_id\": 41, \"character\": \"Dragon Gunship Gunner\", \"credit_id\": \"52fe48009251416c750aca7f\", \"gender\": 0, \"id\": 1207236, \"name\": \"David Van Horn\", \"order\": 21}, {\"cast_id\": 42, \"character\": \"Dragon Gunship Navigator\", \"credit_id\": \"52fe48009251416c750aca83\", \"gender\": 0, \"id\": 215913, \"name\": \"Jacob Tomuri\", \"order\": 22}, {\"cast_id\": 43, \"character\": \"Suit #1\", \"credit_id\": \"52fe48009251416c750aca87\", \"gender\": 0, \"id\": 143206, \"name\": \"Michael Blain-Rozgay\", \"order\": 23}, {\"cast_id\": 44, \"character\": \"Suit #2\", \"credit_id\": \"52fe48009251416c750aca8b\", \"gender\": 2, \"id\": 169676, \"name\": \"Jon Curry\", \"order\": 24}, {\"cast_id\": 46, \"character\": \"Ambient Room Tech\", \"credit_id\": \"52fe48009251416c750aca8f\", \"gender\": 0, \"id\": 1048610, \"name\": \"Luke Hawker\", \"order\": 25}, {\"cast_id\": 47, \"character\": \"Ambient Room Tech / Troupe\", \"credit_id\": \"52fe48009251416c750aca93\", \"gender\": 0, \"id\": 42288, \"name\": \"Woody Schultz\", \"order\": 26}, {\"cast_id\": 48, \"character\": \"Horse Clan Leader\", \"credit_id\": \"52fe48009251416c750aca97\", \"gender\": 2, \"id\": 68278, \"name\": \"Peter Mensah\", \"order\": 27}, {\"cast_id\": 49, \"character\": \"Link Room Tech\", \"credit_id\": \"52fe48009251416c750aca9b\", \"gender\": 0, \"id\": 1207247, \"name\": \"Sonia Yee\", \"order\": 28}, {\"cast_id\": 50, \"character\": \"Basketball Avatar / Troupe\", \"credit_id\": \"52fe48009251416c750aca9f\", \"gender\": 1, \"id\": 1207248, \"name\": \"Jahnel Curfman\", \"order\": 29}, {\"cast_id\": 51, \"character\": \"Basketball Avatar\", \"credit_id\": \"52fe48009251416c750acaa3\", \"gender\": 0, \"id\": 89714, \"name\": \"Ilram Choi\", \"order\": 30}, {\"cast_id\": 52, \"character\": \"Na\\'vi Child\", \"credit_id\": \"52fe48009251416c750acaa7\", \"gender\": 0, \"id\": 1207249, \"name\": \"Kyla Warren\", \"order\": 31}, {\"cast_id\": 53, \"character\": \"Troupe\", \"credit_id\": \"52fe48009251416c750acaab\", \"gender\": 0, \"id\": 1207250, \"name\": \"Lisa Roumain\", \"order\": 32}, {\"cast_id\": 54, \"character\": \"Troupe\", \"credit_id\": \"52fe48009251416c750acaaf\", \"gender\": 1, \"id\": 83105, \"name\": \"Debra Wilson\", \"order\": 33}, {\"cast_id\": 57, \"character\": \"Troupe\", \"credit_id\": \"52fe48009251416c750acabb\", \"gender\": 0, \"id\": 1207253, \"name\": \"Chris Mala\", \"order\": 34}, {\"cast_id\": 55, \"character\": \"Troupe\", \"credit_id\": \"52fe48009251416c750acab3\", \"gender\": 0, \"id\": 1207251, \"name\": \"Taylor Kibby\", \"order\": 35}, {\"cast_id\": 56, \"character\": \"Troupe\", \"credit_id\": \"52fe48009251416c750acab7\", \"gender\": 0, \"id\": 1207252, \"name\": \"Jodie Landau\", \"order\": 36}, {\"cast_id\": 58, \"character\": \"Troupe\", \"credit_id\": \"52fe48009251416c750acabf\", \"gender\": 0, \"id\": 1207254, \"name\": \"Julie Lamm\", \"order\": 37}, {\"cast_id\": 59, \"character\": \"Troupe\", \"credit_id\": \"52fe48009251416c750acac3\", \"gender\": 0, \"id\": 1207257, \"name\": \"Cullen B. Madden\", \"order\": 38}, {\"cast_id\": 60, \"character\": \"Troupe\", \"credit_id\": \"52fe48009251416c750acac7\", \"gender\": 0, \"id\": 1207259, \"name\": \"Joseph Brady Madden\", \"order\": 39}, {\"cast_id\": 61, \"character\": \"Troupe\", \"credit_id\": \"52fe48009251416c750acacb\", \"gender\": 0, \"id\": 1207262, \"name\": \"Frankie Torres\", \"order\": 40}, {\"cast_id\": 62, \"character\": \"Troupe\", \"credit_id\": \"52fe48009251416c750acacf\", \"gender\": 1, \"id\": 1158600, \"name\": \"Austin Wilson\", \"order\": 41}, {\"cast_id\": 63, \"character\": \"Troupe\", \"credit_id\": \"52fe48019251416c750acad3\", \"gender\": 1, \"id\": 983705, \"name\": \"Sara Wilson\", \"order\": 42}, {\"cast_id\": 64, \"character\": \"Troupe\", \"credit_id\": \"52fe48019251416c750acad7\", \"gender\": 0, \"id\": 1207263, \"name\": \"Tamica Washington-Miller\", \"order\": 43}, {\"cast_id\": 65, \"character\": \"Op Center Staff\", \"credit_id\": \"52fe48019251416c750acadb\", \"gender\": 1, \"id\": 1145098, \"name\": \"Lucy Briant\", \"order\": 44}, {\"cast_id\": 66, \"character\": \"Op Center Staff\", \"credit_id\": \"52fe48019251416c750acadf\", \"gender\": 2, \"id\": 33305, \"name\": \"Nathan Meister\", \"order\": 45}, {\"cast_id\": 67, \"character\": \"Op Center Staff\", \"credit_id\": \"52fe48019251416c750acae3\", \"gender\": 0, \"id\": 1207264, \"name\": \"Gerry Blair\", \"order\": 46}, {\"cast_id\": 68, \"character\": \"Op Center Staff\", \"credit_id\": \"52fe48019251416c750acae7\", \"gender\": 2, \"id\": 33311, \"name\": \"Matthew Chamberlain\", \"order\": 47}, {\"cast_id\": 69, \"character\": \"Op Center Staff\", \"credit_id\": \"52fe48019251416c750acaeb\", \"gender\": 0, \"id\": 1207265, \"name\": \"Paul Yates\", \"order\": 48}, {\"cast_id\": 70, \"character\": \"Op Center Duty Officer\", \"credit_id\": \"52fe48019251416c750acaef\", \"gender\": 0, \"id\": 1207266, \"name\": \"Wray Wilson\", \"order\": 49}, {\"cast_id\": 71, \"character\": \"Op Center Staff\", \"credit_id\": \"52fe48019251416c750acaf3\", \"gender\": 2, \"id\": 54492, \"name\": \"James Gaylyn\", \"order\": 50}, {\"cast_id\": 72, \"character\": \"Dancer\", \"credit_id\": \"52fe48019251416c750acaf7\", \"gender\": 0, \"id\": 1207267, \"name\": \"Melvin Leno Clark III\", \"order\": 51}, {\"cast_id\": 73, \"character\": \"Dancer\", \"credit_id\": \"52fe48019251416c750acafb\", \"gender\": 0, \"id\": 1207268, \"name\": \"Carvon Futrell\", \"order\": 52}, {\"cast_id\": 74, \"character\": \"Dancer\", \"credit_id\": \"52fe48019251416c750acaff\", \"gender\": 0, \"id\": 1207269, \"name\": \"Brandon Jelkes\", \"order\": 53}, {\"cast_id\": 75, \"character\": \"Dancer\", \"credit_id\": \"52fe48019251416c750acb03\", \"gender\": 0, \"id\": 1207270, \"name\": \"Micah Moch\", \"order\": 54}, {\"cast_id\": 76, \"character\": \"Dancer\", \"credit_id\": \"52fe48019251416c750acb07\", \"gender\": 0, \"id\": 1207271, \"name\": \"Hanniyah Muhammad\", \"order\": 55}, {\"cast_id\": 77, \"character\": \"Dancer\", \"credit_id\": \"52fe48019251416c750acb0b\", \"gender\": 0, \"id\": 1207272, \"name\": \"Christopher Nolen\", \"order\": 56}, {\"cast_id\": 78, \"character\": \"Dancer\", \"credit_id\": \"52fe48019251416c750acb0f\", \"gender\": 0, \"id\": 1207273, \"name\": \"Christa Oliver\", \"order\": 57}, {\"cast_id\": 79, \"character\": \"Dancer\", \"credit_id\": \"52fe48019251416c750acb13\", \"gender\": 0, \"id\": 1207274, \"name\": \"April Marie Thomas\", \"order\": 58}, {\"cast_id\": 80, \"character\": \"Dancer\", \"credit_id\": \"52fe48019251416c750acb17\", \"gender\": 0, \"id\": 1207275, \"name\": \"Bravita A. Threatt\", \"order\": 59}, {\"cast_id\": 81, \"character\": \"Mining Chief (uncredited)\", \"credit_id\": \"52fe48019251416c750acb1b\", \"gender\": 0, \"id\": 1207276, \"name\": \"Colin Bleasdale\", \"order\": 60}, {\"cast_id\": 82, \"character\": \"Veteran Miner (uncredited)\", \"credit_id\": \"52fe48019251416c750acb1f\", \"gender\": 0, \"id\": 107969, \"name\": \"Mike Bodnar\", \"order\": 61}, {\"cast_id\": 83, \"character\": \"Richard (uncredited)\", \"credit_id\": \"52fe48019251416c750acb23\", \"gender\": 0, \"id\": 1207278, \"name\": \"Matt Clayton\", \"order\": 62}, {\"cast_id\": 84, \"character\": \"Nav\\'i (uncredited)\", \"credit_id\": \"52fe48019251416c750acb27\", \"gender\": 1, \"id\": 147898, \"name\": \"Nicole Dionne\", \"order\": 63}, {\"cast_id\": 85, \"character\": \"Trooper (uncredited)\", \"credit_id\": \"52fe48019251416c750acb2b\", \"gender\": 0, \"id\": 1207280, \"name\": \"Jamie Harrison\", \"order\": 64}, {\"cast_id\": 86, \"character\": \"Trooper (uncredited)\", \"credit_id\": \"52fe48019251416c750acb2f\", \"gender\": 0, \"id\": 1207281, \"name\": \"Allan Henry\", \"order\": 65}, {\"cast_id\": 87, \"character\": \"Ground Technician (uncredited)\", \"credit_id\": \"52fe48019251416c750acb33\", \"gender\": 2, \"id\": 1207282, \"name\": \"Anthony Ingruber\", \"order\": 66}, {\"cast_id\": 88, \"character\": \"Flight Crew Mechanic (uncredited)\", \"credit_id\": \"52fe48019251416c750acb37\", \"gender\": 0, \"id\": 1207283, \"name\": \"Ashley Jeffery\", \"order\": 67}, {\"cast_id\": 14, \"character\": \"Samson Pilot\", \"credit_id\": \"52fe48009251416c750ac9f9\", \"gender\": 0, \"id\": 98216, \"name\": \"Dean Knowsley\", \"order\": 68}, {\"cast_id\": 89, \"character\": \"Trooper (uncredited)\", \"credit_id\": \"52fe48019251416c750acb3b\", \"gender\": 0, \"id\": 1201399, \"name\": \"Joseph Mika-Hunt\", \"order\": 69}, {\"cast_id\": 90, \"character\": \"Banshee (uncredited)\", \"credit_id\": \"52fe48019251416c750acb3f\", \"gender\": 0, \"id\": 236696, \"name\": \"Terry Notary\", \"order\": 70}, {\"cast_id\": 91, \"character\": \"Soldier (uncredited)\", \"credit_id\": \"52fe48019251416c750acb43\", \"gender\": 0, \"id\": 1207287, \"name\": \"Kai Pantano\", \"order\": 71}, {\"cast_id\": 92, \"character\": \"Blast Technician (uncredited)\", \"credit_id\": \"52fe48019251416c750acb47\", \"gender\": 0, \"id\": 1207288, \"name\": \"Logan Pithyou\", \"order\": 72}, {\"cast_id\": 93, \"character\": \"Vindum Raah (uncredited)\", \"credit_id\": \"52fe48019251416c750acb4b\", \"gender\": 0, \"id\": 1207289, \"name\": \"Stuart Pollock\", \"order\": 73}, {\"cast_id\": 94, \"character\": \"Hero (uncredited)\", \"credit_id\": \"52fe48019251416c750acb4f\", \"gender\": 0, \"id\": 584868, \"name\": \"Raja\", \"order\": 74}, {\"cast_id\": 95, \"character\": \"Ops Centreworker (uncredited)\", \"credit_id\": \"52fe48019251416c750acb53\", \"gender\": 0, \"id\": 1207290, \"name\": \"Gareth Ruck\", \"order\": 75}, {\"cast_id\": 96, \"character\": \"Engineer (uncredited)\", \"credit_id\": \"52fe48019251416c750acb57\", \"gender\": 0, \"id\": 1062463, \"name\": \"Rhian Sheehan\", \"order\": 76}, {\"cast_id\": 97, \"character\": \"Col. Quaritch\\'s Mech Suit (uncredited)\", \"credit_id\": \"52fe48019251416c750acb5b\", \"gender\": 0, \"id\": 60656, \"name\": \"T. J. Storm\", \"order\": 77}, {\"cast_id\": 98, \"character\": \"Female Marine (uncredited)\", \"credit_id\": \"52fe48019251416c750acb5f\", \"gender\": 0, \"id\": 1207291, \"name\": \"Jodie Taylor\", \"order\": 78}, {\"cast_id\": 99, \"character\": \"Ikran Clan Leader (uncredited)\", \"credit_id\": \"52fe48019251416c750acb63\", \"gender\": 1, \"id\": 1186027, \"name\": \"Alicia Vela-Bailey\", \"order\": 79}, {\"cast_id\": 100, \"character\": \"Geologist (uncredited)\", \"credit_id\": \"52fe48019251416c750acb67\", \"gender\": 0, \"id\": 1207292, \"name\": \"Richard Whiteside\", \"order\": 80}, {\"cast_id\": 101, \"character\": \"Na\\'vi (uncredited)\", \"credit_id\": \"52fe48019251416c750acb6b\", \"gender\": 0, \"id\": 103259, \"name\": \"Nikie Zambo\", \"order\": 81}, {\"cast_id\": 102, \"character\": \"Ambient Room Tech / Troupe\", \"credit_id\": \"52fe48019251416c750acb6f\", \"gender\": 1, \"id\": 42286, \"name\": \"Julene Renee\", \"order\": 82}]'"
      ]
     },
     "execution_count": 523,
     "metadata": {},
     "output_type": "execute_result"
    }
   ],
   "source": [
    "msg"
   ]
  },
  {
   "cell_type": "code",
   "execution_count": 524,
   "id": "b1983adb-9231-414b-a5f7-009c788bcdca",
   "metadata": {},
   "outputs": [],
   "source": [
    "def fetch_crew_first_three(string):\n",
    "    ls = []\n",
    "    cnt = 3\n",
    "    for i in  ast.literal_eval(string):\n",
    "        if cnt==0:\n",
    "            break\n",
    "        else:\n",
    "            ls.append(i['name'])\n",
    "        cnt=cnt-1\n",
    "    return ls"
   ]
  },
  {
   "cell_type": "code",
   "execution_count": 525,
   "id": "438d70c5-ff43-434f-984e-7ee1c6f7d734",
   "metadata": {},
   "outputs": [
    {
     "data": {
      "text/plain": [
       "'[{\"cast_id\": 242, \"character\": \"Jake Sully\", \"credit_id\": \"5602a8a7c3a3685532001c9a\", \"gender\": 2, \"id\": 65731, \"name\": \"Sam Worthington\", \"order\": 0}, {\"cast_id\": 3, \"character\": \"Neytiri\", \"credit_id\": \"52fe48009251416c750ac9cb\", \"gender\": 1, \"id\": 8691, \"name\": \"Zoe Saldana\", \"order\": 1}, {\"cast_id\": 25, \"character\": \"Dr. Grace Augustine\", \"credit_id\": \"52fe48009251416c750aca39\", \"gender\": 1, \"id\": 10205, \"name\": \"Sigourney Weaver\", \"order\": 2}, {\"cast_id\": 4, \"character\": \"Col. Quaritch\", \"credit_id\": \"52fe48009251416c750ac9cf\", \"gender\": 2, \"id\": 32747, \"name\": \"Stephen Lang\", \"order\": 3}, {\"cast_id\": 5, \"character\": \"Trudy Chacon\", \"credit_id\": \"52fe48009251416c750ac9d3\", \"gender\": 1, \"id\": 17647, \"name\": \"Michelle Rodriguez\", \"order\": 4}, {\"cast_id\": 8, \"character\": \"Selfridge\", \"credit_id\": \"52fe48009251416c750ac9e1\", \"gender\": 2, \"id\": 1771, \"name\": \"Giovanni Ribisi\", \"order\": 5}, {\"cast_id\": 7, \"character\": \"Norm Spellman\", \"credit_id\": \"52fe48009251416c750ac9dd\", \"gender\": 2, \"id\": 59231, \"name\": \"Joel David Moore\", \"order\": 6}, {\"cast_id\": 9, \"character\": \"Moat\", \"credit_id\": \"52fe48009251416c750ac9e5\", \"gender\": 1, \"id\": 30485, \"name\": \"CCH Pounder\", \"order\": 7}, {\"cast_id\": 11, \"character\": \"Eytukan\", \"credit_id\": \"52fe48009251416c750ac9ed\", \"gender\": 2, \"id\": 15853, \"name\": \"Wes Studi\", \"order\": 8}, {\"cast_id\": 10, \"character\": \"Tsu\\'Tey\", \"credit_id\": \"52fe48009251416c750ac9e9\", \"gender\": 2, \"id\": 10964, \"name\": \"Laz Alonso\", \"order\": 9}, {\"cast_id\": 12, \"character\": \"Dr. Max Patel\", \"credit_id\": \"52fe48009251416c750ac9f1\", \"gender\": 2, \"id\": 95697, \"name\": \"Dileep Rao\", \"order\": 10}, {\"cast_id\": 13, \"character\": \"Lyle Wainfleet\", \"credit_id\": \"52fe48009251416c750ac9f5\", \"gender\": 2, \"id\": 98215, \"name\": \"Matt Gerald\", \"order\": 11}, {\"cast_id\": 32, \"character\": \"Private Fike\", \"credit_id\": \"52fe48009251416c750aca5b\", \"gender\": 2, \"id\": 154153, \"name\": \"Sean Anthony Moran\", \"order\": 12}, {\"cast_id\": 33, \"character\": \"Cryo Vault Med Tech\", \"credit_id\": \"52fe48009251416c750aca5f\", \"gender\": 2, \"id\": 397312, \"name\": \"Jason Whyte\", \"order\": 13}, {\"cast_id\": 34, \"character\": \"Venture Star Crew Chief\", \"credit_id\": \"52fe48009251416c750aca63\", \"gender\": 2, \"id\": 42317, \"name\": \"Scott Lawrence\", \"order\": 14}, {\"cast_id\": 35, \"character\": \"Lock Up Trooper\", \"credit_id\": \"52fe48009251416c750aca67\", \"gender\": 2, \"id\": 986734, \"name\": \"Kelly Kilgour\", \"order\": 15}, {\"cast_id\": 36, \"character\": \"Shuttle Pilot\", \"credit_id\": \"52fe48009251416c750aca6b\", \"gender\": 0, \"id\": 1207227, \"name\": \"James Patrick Pitt\", \"order\": 16}, {\"cast_id\": 37, \"character\": \"Shuttle Co-Pilot\", \"credit_id\": \"52fe48009251416c750aca6f\", \"gender\": 0, \"id\": 1180936, \"name\": \"Sean Patrick Murphy\", \"order\": 17}, {\"cast_id\": 38, \"character\": \"Shuttle Crew Chief\", \"credit_id\": \"52fe48009251416c750aca73\", \"gender\": 2, \"id\": 1019578, \"name\": \"Peter Dillon\", \"order\": 18}, {\"cast_id\": 39, \"character\": \"Tractor Operator / Troupe\", \"credit_id\": \"52fe48009251416c750aca77\", \"gender\": 0, \"id\": 91443, \"name\": \"Kevin Dorman\", \"order\": 19}, {\"cast_id\": 40, \"character\": \"Dragon Gunship Pilot\", \"credit_id\": \"52fe48009251416c750aca7b\", \"gender\": 2, \"id\": 173391, \"name\": \"Kelson Henderson\", \"order\": 20}, {\"cast_id\": 41, \"character\": \"Dragon Gunship Gunner\", \"credit_id\": \"52fe48009251416c750aca7f\", \"gender\": 0, \"id\": 1207236, \"name\": \"David Van Horn\", \"order\": 21}, {\"cast_id\": 42, \"character\": \"Dragon Gunship Navigator\", \"credit_id\": \"52fe48009251416c750aca83\", \"gender\": 0, \"id\": 215913, \"name\": \"Jacob Tomuri\", \"order\": 22}, {\"cast_id\": 43, \"character\": \"Suit #1\", \"credit_id\": \"52fe48009251416c750aca87\", \"gender\": 0, \"id\": 143206, \"name\": \"Michael Blain-Rozgay\", \"order\": 23}, {\"cast_id\": 44, \"character\": \"Suit #2\", \"credit_id\": \"52fe48009251416c750aca8b\", \"gender\": 2, \"id\": 169676, \"name\": \"Jon Curry\", \"order\": 24}, {\"cast_id\": 46, \"character\": \"Ambient Room Tech\", \"credit_id\": \"52fe48009251416c750aca8f\", \"gender\": 0, \"id\": 1048610, \"name\": \"Luke Hawker\", \"order\": 25}, {\"cast_id\": 47, \"character\": \"Ambient Room Tech / Troupe\", \"credit_id\": \"52fe48009251416c750aca93\", \"gender\": 0, \"id\": 42288, \"name\": \"Woody Schultz\", \"order\": 26}, {\"cast_id\": 48, \"character\": \"Horse Clan Leader\", \"credit_id\": \"52fe48009251416c750aca97\", \"gender\": 2, \"id\": 68278, \"name\": \"Peter Mensah\", \"order\": 27}, {\"cast_id\": 49, \"character\": \"Link Room Tech\", \"credit_id\": \"52fe48009251416c750aca9b\", \"gender\": 0, \"id\": 1207247, \"name\": \"Sonia Yee\", \"order\": 28}, {\"cast_id\": 50, \"character\": \"Basketball Avatar / Troupe\", \"credit_id\": \"52fe48009251416c750aca9f\", \"gender\": 1, \"id\": 1207248, \"name\": \"Jahnel Curfman\", \"order\": 29}, {\"cast_id\": 51, \"character\": \"Basketball Avatar\", \"credit_id\": \"52fe48009251416c750acaa3\", \"gender\": 0, \"id\": 89714, \"name\": \"Ilram Choi\", \"order\": 30}, {\"cast_id\": 52, \"character\": \"Na\\'vi Child\", \"credit_id\": \"52fe48009251416c750acaa7\", \"gender\": 0, \"id\": 1207249, \"name\": \"Kyla Warren\", \"order\": 31}, {\"cast_id\": 53, \"character\": \"Troupe\", \"credit_id\": \"52fe48009251416c750acaab\", \"gender\": 0, \"id\": 1207250, \"name\": \"Lisa Roumain\", \"order\": 32}, {\"cast_id\": 54, \"character\": \"Troupe\", \"credit_id\": \"52fe48009251416c750acaaf\", \"gender\": 1, \"id\": 83105, \"name\": \"Debra Wilson\", \"order\": 33}, {\"cast_id\": 57, \"character\": \"Troupe\", \"credit_id\": \"52fe48009251416c750acabb\", \"gender\": 0, \"id\": 1207253, \"name\": \"Chris Mala\", \"order\": 34}, {\"cast_id\": 55, \"character\": \"Troupe\", \"credit_id\": \"52fe48009251416c750acab3\", \"gender\": 0, \"id\": 1207251, \"name\": \"Taylor Kibby\", \"order\": 35}, {\"cast_id\": 56, \"character\": \"Troupe\", \"credit_id\": \"52fe48009251416c750acab7\", \"gender\": 0, \"id\": 1207252, \"name\": \"Jodie Landau\", \"order\": 36}, {\"cast_id\": 58, \"character\": \"Troupe\", \"credit_id\": \"52fe48009251416c750acabf\", \"gender\": 0, \"id\": 1207254, \"name\": \"Julie Lamm\", \"order\": 37}, {\"cast_id\": 59, \"character\": \"Troupe\", \"credit_id\": \"52fe48009251416c750acac3\", \"gender\": 0, \"id\": 1207257, \"name\": \"Cullen B. Madden\", \"order\": 38}, {\"cast_id\": 60, \"character\": \"Troupe\", \"credit_id\": \"52fe48009251416c750acac7\", \"gender\": 0, \"id\": 1207259, \"name\": \"Joseph Brady Madden\", \"order\": 39}, {\"cast_id\": 61, \"character\": \"Troupe\", \"credit_id\": \"52fe48009251416c750acacb\", \"gender\": 0, \"id\": 1207262, \"name\": \"Frankie Torres\", \"order\": 40}, {\"cast_id\": 62, \"character\": \"Troupe\", \"credit_id\": \"52fe48009251416c750acacf\", \"gender\": 1, \"id\": 1158600, \"name\": \"Austin Wilson\", \"order\": 41}, {\"cast_id\": 63, \"character\": \"Troupe\", \"credit_id\": \"52fe48019251416c750acad3\", \"gender\": 1, \"id\": 983705, \"name\": \"Sara Wilson\", \"order\": 42}, {\"cast_id\": 64, \"character\": \"Troupe\", \"credit_id\": \"52fe48019251416c750acad7\", \"gender\": 0, \"id\": 1207263, \"name\": \"Tamica Washington-Miller\", \"order\": 43}, {\"cast_id\": 65, \"character\": \"Op Center Staff\", \"credit_id\": \"52fe48019251416c750acadb\", \"gender\": 1, \"id\": 1145098, \"name\": \"Lucy Briant\", \"order\": 44}, {\"cast_id\": 66, \"character\": \"Op Center Staff\", \"credit_id\": \"52fe48019251416c750acadf\", \"gender\": 2, \"id\": 33305, \"name\": \"Nathan Meister\", \"order\": 45}, {\"cast_id\": 67, \"character\": \"Op Center Staff\", \"credit_id\": \"52fe48019251416c750acae3\", \"gender\": 0, \"id\": 1207264, \"name\": \"Gerry Blair\", \"order\": 46}, {\"cast_id\": 68, \"character\": \"Op Center Staff\", \"credit_id\": \"52fe48019251416c750acae7\", \"gender\": 2, \"id\": 33311, \"name\": \"Matthew Chamberlain\", \"order\": 47}, {\"cast_id\": 69, \"character\": \"Op Center Staff\", \"credit_id\": \"52fe48019251416c750acaeb\", \"gender\": 0, \"id\": 1207265, \"name\": \"Paul Yates\", \"order\": 48}, {\"cast_id\": 70, \"character\": \"Op Center Duty Officer\", \"credit_id\": \"52fe48019251416c750acaef\", \"gender\": 0, \"id\": 1207266, \"name\": \"Wray Wilson\", \"order\": 49}, {\"cast_id\": 71, \"character\": \"Op Center Staff\", \"credit_id\": \"52fe48019251416c750acaf3\", \"gender\": 2, \"id\": 54492, \"name\": \"James Gaylyn\", \"order\": 50}, {\"cast_id\": 72, \"character\": \"Dancer\", \"credit_id\": \"52fe48019251416c750acaf7\", \"gender\": 0, \"id\": 1207267, \"name\": \"Melvin Leno Clark III\", \"order\": 51}, {\"cast_id\": 73, \"character\": \"Dancer\", \"credit_id\": \"52fe48019251416c750acafb\", \"gender\": 0, \"id\": 1207268, \"name\": \"Carvon Futrell\", \"order\": 52}, {\"cast_id\": 74, \"character\": \"Dancer\", \"credit_id\": \"52fe48019251416c750acaff\", \"gender\": 0, \"id\": 1207269, \"name\": \"Brandon Jelkes\", \"order\": 53}, {\"cast_id\": 75, \"character\": \"Dancer\", \"credit_id\": \"52fe48019251416c750acb03\", \"gender\": 0, \"id\": 1207270, \"name\": \"Micah Moch\", \"order\": 54}, {\"cast_id\": 76, \"character\": \"Dancer\", \"credit_id\": \"52fe48019251416c750acb07\", \"gender\": 0, \"id\": 1207271, \"name\": \"Hanniyah Muhammad\", \"order\": 55}, {\"cast_id\": 77, \"character\": \"Dancer\", \"credit_id\": \"52fe48019251416c750acb0b\", \"gender\": 0, \"id\": 1207272, \"name\": \"Christopher Nolen\", \"order\": 56}, {\"cast_id\": 78, \"character\": \"Dancer\", \"credit_id\": \"52fe48019251416c750acb0f\", \"gender\": 0, \"id\": 1207273, \"name\": \"Christa Oliver\", \"order\": 57}, {\"cast_id\": 79, \"character\": \"Dancer\", \"credit_id\": \"52fe48019251416c750acb13\", \"gender\": 0, \"id\": 1207274, \"name\": \"April Marie Thomas\", \"order\": 58}, {\"cast_id\": 80, \"character\": \"Dancer\", \"credit_id\": \"52fe48019251416c750acb17\", \"gender\": 0, \"id\": 1207275, \"name\": \"Bravita A. Threatt\", \"order\": 59}, {\"cast_id\": 81, \"character\": \"Mining Chief (uncredited)\", \"credit_id\": \"52fe48019251416c750acb1b\", \"gender\": 0, \"id\": 1207276, \"name\": \"Colin Bleasdale\", \"order\": 60}, {\"cast_id\": 82, \"character\": \"Veteran Miner (uncredited)\", \"credit_id\": \"52fe48019251416c750acb1f\", \"gender\": 0, \"id\": 107969, \"name\": \"Mike Bodnar\", \"order\": 61}, {\"cast_id\": 83, \"character\": \"Richard (uncredited)\", \"credit_id\": \"52fe48019251416c750acb23\", \"gender\": 0, \"id\": 1207278, \"name\": \"Matt Clayton\", \"order\": 62}, {\"cast_id\": 84, \"character\": \"Nav\\'i (uncredited)\", \"credit_id\": \"52fe48019251416c750acb27\", \"gender\": 1, \"id\": 147898, \"name\": \"Nicole Dionne\", \"order\": 63}, {\"cast_id\": 85, \"character\": \"Trooper (uncredited)\", \"credit_id\": \"52fe48019251416c750acb2b\", \"gender\": 0, \"id\": 1207280, \"name\": \"Jamie Harrison\", \"order\": 64}, {\"cast_id\": 86, \"character\": \"Trooper (uncredited)\", \"credit_id\": \"52fe48019251416c750acb2f\", \"gender\": 0, \"id\": 1207281, \"name\": \"Allan Henry\", \"order\": 65}, {\"cast_id\": 87, \"character\": \"Ground Technician (uncredited)\", \"credit_id\": \"52fe48019251416c750acb33\", \"gender\": 2, \"id\": 1207282, \"name\": \"Anthony Ingruber\", \"order\": 66}, {\"cast_id\": 88, \"character\": \"Flight Crew Mechanic (uncredited)\", \"credit_id\": \"52fe48019251416c750acb37\", \"gender\": 0, \"id\": 1207283, \"name\": \"Ashley Jeffery\", \"order\": 67}, {\"cast_id\": 14, \"character\": \"Samson Pilot\", \"credit_id\": \"52fe48009251416c750ac9f9\", \"gender\": 0, \"id\": 98216, \"name\": \"Dean Knowsley\", \"order\": 68}, {\"cast_id\": 89, \"character\": \"Trooper (uncredited)\", \"credit_id\": \"52fe48019251416c750acb3b\", \"gender\": 0, \"id\": 1201399, \"name\": \"Joseph Mika-Hunt\", \"order\": 69}, {\"cast_id\": 90, \"character\": \"Banshee (uncredited)\", \"credit_id\": \"52fe48019251416c750acb3f\", \"gender\": 0, \"id\": 236696, \"name\": \"Terry Notary\", \"order\": 70}, {\"cast_id\": 91, \"character\": \"Soldier (uncredited)\", \"credit_id\": \"52fe48019251416c750acb43\", \"gender\": 0, \"id\": 1207287, \"name\": \"Kai Pantano\", \"order\": 71}, {\"cast_id\": 92, \"character\": \"Blast Technician (uncredited)\", \"credit_id\": \"52fe48019251416c750acb47\", \"gender\": 0, \"id\": 1207288, \"name\": \"Logan Pithyou\", \"order\": 72}, {\"cast_id\": 93, \"character\": \"Vindum Raah (uncredited)\", \"credit_id\": \"52fe48019251416c750acb4b\", \"gender\": 0, \"id\": 1207289, \"name\": \"Stuart Pollock\", \"order\": 73}, {\"cast_id\": 94, \"character\": \"Hero (uncredited)\", \"credit_id\": \"52fe48019251416c750acb4f\", \"gender\": 0, \"id\": 584868, \"name\": \"Raja\", \"order\": 74}, {\"cast_id\": 95, \"character\": \"Ops Centreworker (uncredited)\", \"credit_id\": \"52fe48019251416c750acb53\", \"gender\": 0, \"id\": 1207290, \"name\": \"Gareth Ruck\", \"order\": 75}, {\"cast_id\": 96, \"character\": \"Engineer (uncredited)\", \"credit_id\": \"52fe48019251416c750acb57\", \"gender\": 0, \"id\": 1062463, \"name\": \"Rhian Sheehan\", \"order\": 76}, {\"cast_id\": 97, \"character\": \"Col. Quaritch\\'s Mech Suit (uncredited)\", \"credit_id\": \"52fe48019251416c750acb5b\", \"gender\": 0, \"id\": 60656, \"name\": \"T. J. Storm\", \"order\": 77}, {\"cast_id\": 98, \"character\": \"Female Marine (uncredited)\", \"credit_id\": \"52fe48019251416c750acb5f\", \"gender\": 0, \"id\": 1207291, \"name\": \"Jodie Taylor\", \"order\": 78}, {\"cast_id\": 99, \"character\": \"Ikran Clan Leader (uncredited)\", \"credit_id\": \"52fe48019251416c750acb63\", \"gender\": 1, \"id\": 1186027, \"name\": \"Alicia Vela-Bailey\", \"order\": 79}, {\"cast_id\": 100, \"character\": \"Geologist (uncredited)\", \"credit_id\": \"52fe48019251416c750acb67\", \"gender\": 0, \"id\": 1207292, \"name\": \"Richard Whiteside\", \"order\": 80}, {\"cast_id\": 101, \"character\": \"Na\\'vi (uncredited)\", \"credit_id\": \"52fe48019251416c750acb6b\", \"gender\": 0, \"id\": 103259, \"name\": \"Nikie Zambo\", \"order\": 81}, {\"cast_id\": 102, \"character\": \"Ambient Room Tech / Troupe\", \"credit_id\": \"52fe48019251416c750acb6f\", \"gender\": 1, \"id\": 42286, \"name\": \"Julene Renee\", \"order\": 82}]'"
      ]
     },
     "execution_count": 525,
     "metadata": {},
     "output_type": "execute_result"
    }
   ],
   "source": [
    "msg"
   ]
  },
  {
   "cell_type": "code",
   "execution_count": 526,
   "id": "30927699-fb4e-42df-94d8-e45152b2024a",
   "metadata": {},
   "outputs": [
    {
     "data": {
      "text/plain": [
       "['Sam Worthington', 'Zoe Saldana', 'Sigourney Weaver']"
      ]
     },
     "execution_count": 526,
     "metadata": {},
     "output_type": "execute_result"
    }
   ],
   "source": [
    "fetch_crew_first_three(msg)"
   ]
  },
  {
   "cell_type": "code",
   "execution_count": 527,
   "id": "eb53b4c2-221b-4c83-a5e2-13e04f1781af",
   "metadata": {},
   "outputs": [],
   "source": [
    "df2['cast'] = df2['cast'].apply(fetch_crew_first_three)"
   ]
  },
  {
   "cell_type": "code",
   "execution_count": 528,
   "id": "44d6ed38-5ddc-409d-a884-2895d2567ef3",
   "metadata": {},
   "outputs": [
    {
     "data": {
      "text/html": [
       "<div>\n",
       "<style scoped>\n",
       "    .dataframe tbody tr th:only-of-type {\n",
       "        vertical-align: middle;\n",
       "    }\n",
       "\n",
       "    .dataframe tbody tr th {\n",
       "        vertical-align: top;\n",
       "    }\n",
       "\n",
       "    .dataframe thead th {\n",
       "        text-align: right;\n",
       "    }\n",
       "</style>\n",
       "<table border=\"1\" class=\"dataframe\">\n",
       "  <thead>\n",
       "    <tr style=\"text-align: right;\">\n",
       "      <th></th>\n",
       "      <th>id</th>\n",
       "      <th>cast</th>\n",
       "      <th>crew</th>\n",
       "      <th>genres</th>\n",
       "      <th>keywords</th>\n",
       "      <th>original_language</th>\n",
       "      <th>original_title</th>\n",
       "      <th>overview</th>\n",
       "    </tr>\n",
       "  </thead>\n",
       "  <tbody>\n",
       "    <tr>\n",
       "      <th>0</th>\n",
       "      <td>19995</td>\n",
       "      <td>[Sam Worthington, Zoe Saldana, Sigourney Weaver]</td>\n",
       "      <td>[James Cameron]</td>\n",
       "      <td>[Action, Adventure, Fantasy, Science Fiction]</td>\n",
       "      <td>[culture clash, future, space war, space colon...</td>\n",
       "      <td>en</td>\n",
       "      <td>Avatar</td>\n",
       "      <td>In the 22nd century, a paraplegic Marine is di...</td>\n",
       "    </tr>\n",
       "  </tbody>\n",
       "</table>\n",
       "</div>"
      ],
      "text/plain": [
       "      id                                              cast             crew  \\\n",
       "0  19995  [Sam Worthington, Zoe Saldana, Sigourney Weaver]  [James Cameron]   \n",
       "\n",
       "                                          genres  \\\n",
       "0  [Action, Adventure, Fantasy, Science Fiction]   \n",
       "\n",
       "                                            keywords original_language  \\\n",
       "0  [culture clash, future, space war, space colon...                en   \n",
       "\n",
       "  original_title                                           overview  \n",
       "0         Avatar  In the 22nd century, a paraplegic Marine is di...  "
      ]
     },
     "execution_count": 528,
     "metadata": {},
     "output_type": "execute_result"
    }
   ],
   "source": [
    "df2.head(1)"
   ]
  },
  {
   "cell_type": "code",
   "execution_count": 529,
   "id": "74d6c95d-fcf7-4731-af4c-c18c15bf1858",
   "metadata": {},
   "outputs": [],
   "source": [
    "df2.rename(columns = {'crew':'director'}, inplace = True)"
   ]
  },
  {
   "cell_type": "code",
   "execution_count": 530,
   "id": "c98e4319-6508-4f43-bda6-d8f2ebbbe379",
   "metadata": {},
   "outputs": [
    {
     "data": {
      "text/html": [
       "<div>\n",
       "<style scoped>\n",
       "    .dataframe tbody tr th:only-of-type {\n",
       "        vertical-align: middle;\n",
       "    }\n",
       "\n",
       "    .dataframe tbody tr th {\n",
       "        vertical-align: top;\n",
       "    }\n",
       "\n",
       "    .dataframe thead th {\n",
       "        text-align: right;\n",
       "    }\n",
       "</style>\n",
       "<table border=\"1\" class=\"dataframe\">\n",
       "  <thead>\n",
       "    <tr style=\"text-align: right;\">\n",
       "      <th></th>\n",
       "      <th>id</th>\n",
       "      <th>cast</th>\n",
       "      <th>director</th>\n",
       "      <th>genres</th>\n",
       "      <th>keywords</th>\n",
       "      <th>original_language</th>\n",
       "      <th>original_title</th>\n",
       "      <th>overview</th>\n",
       "    </tr>\n",
       "  </thead>\n",
       "  <tbody>\n",
       "    <tr>\n",
       "      <th>0</th>\n",
       "      <td>19995</td>\n",
       "      <td>[Sam Worthington, Zoe Saldana, Sigourney Weaver]</td>\n",
       "      <td>[James Cameron]</td>\n",
       "      <td>[Action, Adventure, Fantasy, Science Fiction]</td>\n",
       "      <td>[culture clash, future, space war, space colon...</td>\n",
       "      <td>en</td>\n",
       "      <td>Avatar</td>\n",
       "      <td>In the 22nd century, a paraplegic Marine is di...</td>\n",
       "    </tr>\n",
       "  </tbody>\n",
       "</table>\n",
       "</div>"
      ],
      "text/plain": [
       "      id                                              cast         director  \\\n",
       "0  19995  [Sam Worthington, Zoe Saldana, Sigourney Weaver]  [James Cameron]   \n",
       "\n",
       "                                          genres  \\\n",
       "0  [Action, Adventure, Fantasy, Science Fiction]   \n",
       "\n",
       "                                            keywords original_language  \\\n",
       "0  [culture clash, future, space war, space colon...                en   \n",
       "\n",
       "  original_title                                           overview  \n",
       "0         Avatar  In the 22nd century, a paraplegic Marine is di...  "
      ]
     },
     "execution_count": 530,
     "metadata": {},
     "output_type": "execute_result"
    }
   ],
   "source": [
    "df2.head(1)"
   ]
  },
  {
   "cell_type": "code",
   "execution_count": 531,
   "id": "dc61d547-15c1-4f0b-ac00-b62b76f12cfc",
   "metadata": {},
   "outputs": [],
   "source": [
    "#Preprocessing 'overview' column\n",
    "\n",
    "#Lowercasing\n",
    "\n",
    "df2['overview'] = df2['overview'].str.lower()\n",
    "\n",
    "\n",
    "# Removing HTML tags\n",
    "\n",
    "import re\n",
    "\n",
    "def remove_html(text):\n",
    "    pattern = re.compile('<.*?>')\n",
    "    return pattern.sub(r'', text)\n",
    "\n",
    "df2['overview'] = df2['overview'].apply(remove_html)\n",
    "# print(df.head())\n",
    "\n",
    "\n",
    "#Remove @\n",
    "\n",
    "def remove_at_the_rate(text):\n",
    "\n",
    "  ls = []\n",
    "  new = []\n",
    "\n",
    "  ls = nlp(text)\n",
    "\n",
    "  for word in ls:\n",
    "        if word.text != \"@\":\n",
    "            new.append(word.text)\n",
    "\n",
    "  return ' '.join(new)\n",
    "\n",
    "df2['overview'] = df2['overview'].apply(remove_at_the_rate)\n",
    "\n",
    "\n",
    "\n",
    "#Removing URL\n",
    "\n",
    "import re\n",
    "\n",
    "def remove_url(text):\n",
    "    pattern = re.compile(r'https?://\\S+|www\\.\\S+')\n",
    "    return pattern.sub(r'', text)\n",
    "\n",
    "df2['overview'] = df2['overview'].apply(remove_url)\n",
    "# print(df.head())\n",
    "\n",
    "\n",
    "#Remmove punctuation\n",
    "\n",
    "import string\n",
    "\n",
    "punc = string.punctuation\n",
    "\n",
    "def  remove_punc(text):\n",
    "\n",
    "    return text.translate(str.maketrans('', '', punc))\n",
    "\n",
    "df2['overview'] = df2['overview'].apply(remove_punc)\n",
    "\n",
    "\n",
    "#Correcting spelling\n",
    "\n",
    "# from textblob import TextBlob\n",
    "\n",
    "# def spell_check(text):\n",
    "\n",
    "#     textblb = TextBlob(text)\n",
    "#     return textblb.correct().string\n",
    "\n",
    "# X['remainder__text'] = X['remainder__text'].apply(spell_check)\n",
    "\n",
    "\n",
    "from autocorrect import Speller\n",
    "\n",
    "check = Speller()\n",
    "\n",
    "def check_spell(text):\n",
    "\n",
    "  return check(text)\n",
    "\n",
    "df2['overview'] = df2['overview'].apply(check_spell)\n",
    "\n",
    "\n",
    "# Removing stop words\n",
    "\n",
    "\n",
    "from nltk.corpus import stopwords\n",
    "\n",
    "stopwords = stopwords.words('english')\n",
    "\n",
    "def remove_stop_words(text):\n",
    "    ls = []\n",
    "    new = []\n",
    "\n",
    "    ls = nlp(text)\n",
    "\n",
    "    for word in ls:\n",
    "        if word.text not in stopwords:\n",
    "\n",
    "            new.append(word.text)\n",
    "\n",
    "    return ' '.join(new)\n",
    "\n",
    "df2['overview'] = df2['overview'].apply(remove_stop_words)\n",
    "\n",
    "\n",
    "#Removing Contradictions\n",
    "\n",
    "import contractions\n",
    "\n",
    "def remove_contradictions(text):\n",
    "\n",
    "  return \" \".join([contractions.fix(word.text) for word in nlp(text)])\n",
    "\n",
    "df2['overview'] = df2['overview'].apply(remove_contradictions)\n",
    "\n",
    "\n",
    "# #Lemmetization\n",
    "\n",
    "# from nltk.stem.wordnet import WordNetLemmatizer\n",
    "\n",
    "# lemmatizer = WordNetLemmatizer()\n",
    "\n",
    "def Lemmetization(text):\n",
    "\n",
    "  return \" \".join([word.lemma_ for word in nlp(text)])\n",
    "\n",
    "\n",
    "# #Stemming\n",
    "\n",
    "# from nltk.stem.porter import PorterStemmer\n",
    "\n",
    "# ps = PorterStemmer()\n",
    "# def stemming(text):\n",
    "\n",
    "#     return \" \".join([ps.stem(word.text) for word in nlp(text)])\n",
    "\n",
    "df2['overview'] = df2['overview'].apply(Lemmetization)\n",
    "\n",
    "\n"
   ]
  },
  {
   "cell_type": "code",
   "execution_count": 532,
   "id": "b7c34e40-8320-4550-bee3-ec005a90c8c5",
   "metadata": {},
   "outputs": [],
   "source": [
    "#Tokenization of overview column"
   ]
  },
  {
   "cell_type": "code",
   "execution_count": 533,
   "id": "0c40c9f0-16fb-4a74-8762-d61c2fdeeb93",
   "metadata": {},
   "outputs": [],
   "source": [
    "# from nltk.tokenize import sent_tokenize, word_tokenize\n",
    "\n",
    "# def token_nlp(string):\n",
    "#     ls = []\n",
    "#     # doc1 = nlp(string)\n",
    "#     doc1 = word_tokenize(string)\n",
    "#     ls.append(doc1)\n",
    "#     return ls"
   ]
  },
  {
   "cell_type": "code",
   "execution_count": 534,
   "id": "a4b8eff4-7826-416a-be2e-5b993e71f2f8",
   "metadata": {},
   "outputs": [],
   "source": [
    "# df2['overview'] = df2['overview'].apply(token_nlp)"
   ]
  },
  {
   "cell_type": "code",
   "execution_count": 535,
   "id": "3e4a7c7c-0545-4a8b-9ab5-acd92436d74f",
   "metadata": {},
   "outputs": [
    {
     "data": {
      "text/plain": [
       "'22nd century     paraplegic marine dispatch moon pandora unique mission     become torn follow order protect alien civilization'"
      ]
     },
     "execution_count": 535,
     "metadata": {},
     "output_type": "execute_result"
    }
   ],
   "source": [
    "df2.iloc[0, 7]"
   ]
  },
  {
   "cell_type": "code",
   "execution_count": 536,
   "id": "ce712d2a-ac19-4f2f-bbc0-78f730e23bea",
   "metadata": {},
   "outputs": [
    {
     "data": {
      "text/html": [
       "<div>\n",
       "<style scoped>\n",
       "    .dataframe tbody tr th:only-of-type {\n",
       "        vertical-align: middle;\n",
       "    }\n",
       "\n",
       "    .dataframe tbody tr th {\n",
       "        vertical-align: top;\n",
       "    }\n",
       "\n",
       "    .dataframe thead th {\n",
       "        text-align: right;\n",
       "    }\n",
       "</style>\n",
       "<table border=\"1\" class=\"dataframe\">\n",
       "  <thead>\n",
       "    <tr style=\"text-align: right;\">\n",
       "      <th></th>\n",
       "      <th>id</th>\n",
       "      <th>cast</th>\n",
       "      <th>director</th>\n",
       "      <th>genres</th>\n",
       "      <th>keywords</th>\n",
       "      <th>original_language</th>\n",
       "      <th>original_title</th>\n",
       "      <th>overview</th>\n",
       "    </tr>\n",
       "  </thead>\n",
       "  <tbody>\n",
       "    <tr>\n",
       "      <th>0</th>\n",
       "      <td>19995</td>\n",
       "      <td>[Sam Worthington, Zoe Saldana, Sigourney Weaver]</td>\n",
       "      <td>[James Cameron]</td>\n",
       "      <td>[Action, Adventure, Fantasy, Science Fiction]</td>\n",
       "      <td>[culture clash, future, space war, space colon...</td>\n",
       "      <td>en</td>\n",
       "      <td>Avatar</td>\n",
       "      <td>22nd century     paraplegic marine dispatch mo...</td>\n",
       "    </tr>\n",
       "  </tbody>\n",
       "</table>\n",
       "</div>"
      ],
      "text/plain": [
       "      id                                              cast         director  \\\n",
       "0  19995  [Sam Worthington, Zoe Saldana, Sigourney Weaver]  [James Cameron]   \n",
       "\n",
       "                                          genres  \\\n",
       "0  [Action, Adventure, Fantasy, Science Fiction]   \n",
       "\n",
       "                                            keywords original_language  \\\n",
       "0  [culture clash, future, space war, space colon...                en   \n",
       "\n",
       "  original_title                                           overview  \n",
       "0         Avatar  22nd century     paraplegic marine dispatch mo...  "
      ]
     },
     "execution_count": 536,
     "metadata": {},
     "output_type": "execute_result"
    }
   ],
   "source": [
    "df2.head(1)"
   ]
  },
  {
   "cell_type": "code",
   "execution_count": 537,
   "id": "30a1b861-a290-4472-8024-41d23ef31107",
   "metadata": {},
   "outputs": [],
   "source": [
    "df2['tags'] = df2.sum(axis=1)"
   ]
  },
  {
   "cell_type": "code",
   "execution_count": 538,
   "id": "7d44db0a-9df9-40c8-bd53-7b10265d88a1",
   "metadata": {},
   "outputs": [
    {
     "data": {
      "text/html": [
       "<div>\n",
       "<style scoped>\n",
       "    .dataframe tbody tr th:only-of-type {\n",
       "        vertical-align: middle;\n",
       "    }\n",
       "\n",
       "    .dataframe tbody tr th {\n",
       "        vertical-align: top;\n",
       "    }\n",
       "\n",
       "    .dataframe thead th {\n",
       "        text-align: right;\n",
       "    }\n",
       "</style>\n",
       "<table border=\"1\" class=\"dataframe\">\n",
       "  <thead>\n",
       "    <tr style=\"text-align: right;\">\n",
       "      <th></th>\n",
       "      <th>id</th>\n",
       "      <th>cast</th>\n",
       "      <th>director</th>\n",
       "      <th>genres</th>\n",
       "      <th>keywords</th>\n",
       "      <th>original_language</th>\n",
       "      <th>original_title</th>\n",
       "      <th>overview</th>\n",
       "      <th>tags</th>\n",
       "    </tr>\n",
       "  </thead>\n",
       "  <tbody>\n",
       "    <tr>\n",
       "      <th>0</th>\n",
       "      <td>19995</td>\n",
       "      <td>[Sam Worthington, Zoe Saldana, Sigourney Weaver]</td>\n",
       "      <td>[James Cameron]</td>\n",
       "      <td>[Action, Adventure, Fantasy, Science Fiction]</td>\n",
       "      <td>[culture clash, future, space war, space colon...</td>\n",
       "      <td>en</td>\n",
       "      <td>Avatar</td>\n",
       "      <td>22nd century     paraplegic marine dispatch mo...</td>\n",
       "      <td>19995</td>\n",
       "    </tr>\n",
       "  </tbody>\n",
       "</table>\n",
       "</div>"
      ],
      "text/plain": [
       "      id                                              cast         director  \\\n",
       "0  19995  [Sam Worthington, Zoe Saldana, Sigourney Weaver]  [James Cameron]   \n",
       "\n",
       "                                          genres  \\\n",
       "0  [Action, Adventure, Fantasy, Science Fiction]   \n",
       "\n",
       "                                            keywords original_language  \\\n",
       "0  [culture clash, future, space war, space colon...                en   \n",
       "\n",
       "  original_title                                           overview   tags  \n",
       "0         Avatar  22nd century     paraplegic marine dispatch mo...  19995  "
      ]
     },
     "execution_count": 538,
     "metadata": {},
     "output_type": "execute_result"
    }
   ],
   "source": [
    "df2.head(1)"
   ]
  },
  {
   "cell_type": "code",
   "execution_count": 539,
   "id": "d1929543-3e56-4175-aadb-00f184dd0228",
   "metadata": {},
   "outputs": [],
   "source": [
    "#Removing spaces between names in cast and crew column"
   ]
  },
  {
   "cell_type": "code",
   "execution_count": 540,
   "id": "8b5fa86f-174c-4c31-a04f-53255da95d6a",
   "metadata": {},
   "outputs": [],
   "source": [
    "def remove_spaces(ls):\n",
    "    for i in range(len(ls)):\n",
    "        ls[i] = ls[i].replace(' ', '')\n",
    "    return ls\n",
    "        # print(ls[i])"
   ]
  },
  {
   "cell_type": "code",
   "execution_count": 541,
   "id": "d113ef88-e6d0-4cfc-8da8-5475882ccd82",
   "metadata": {},
   "outputs": [],
   "source": [
    "ls1 = df2.iloc[0, 1]"
   ]
  },
  {
   "cell_type": "code",
   "execution_count": 542,
   "id": "65186383-fc44-4d53-91e9-2828a57da6d2",
   "metadata": {},
   "outputs": [
    {
     "data": {
      "text/plain": [
       "['Sam Worthington', 'Zoe Saldana', 'Sigourney Weaver']"
      ]
     },
     "execution_count": 542,
     "metadata": {},
     "output_type": "execute_result"
    }
   ],
   "source": [
    "ls1"
   ]
  },
  {
   "cell_type": "code",
   "execution_count": 543,
   "id": "95c92d70-c64e-4f0b-9261-7a27c26b2b2a",
   "metadata": {},
   "outputs": [
    {
     "data": {
      "text/plain": [
       "['SamWorthington', 'ZoeSaldana', 'SigourneyWeaver']"
      ]
     },
     "execution_count": 543,
     "metadata": {},
     "output_type": "execute_result"
    }
   ],
   "source": [
    "remove_spaces(ls1)"
   ]
  },
  {
   "cell_type": "code",
   "execution_count": 544,
   "id": "964f2192-d134-4941-ac2e-089afed3f2cf",
   "metadata": {},
   "outputs": [],
   "source": [
    "df2.drop(columns='tags', axis=1, inplace=True)"
   ]
  },
  {
   "cell_type": "code",
   "execution_count": 545,
   "id": "c130edef-16c5-404d-9d0b-476113de7a00",
   "metadata": {},
   "outputs": [
    {
     "data": {
      "text/html": [
       "<div>\n",
       "<style scoped>\n",
       "    .dataframe tbody tr th:only-of-type {\n",
       "        vertical-align: middle;\n",
       "    }\n",
       "\n",
       "    .dataframe tbody tr th {\n",
       "        vertical-align: top;\n",
       "    }\n",
       "\n",
       "    .dataframe thead th {\n",
       "        text-align: right;\n",
       "    }\n",
       "</style>\n",
       "<table border=\"1\" class=\"dataframe\">\n",
       "  <thead>\n",
       "    <tr style=\"text-align: right;\">\n",
       "      <th></th>\n",
       "      <th>id</th>\n",
       "      <th>cast</th>\n",
       "      <th>director</th>\n",
       "      <th>genres</th>\n",
       "      <th>keywords</th>\n",
       "      <th>original_language</th>\n",
       "      <th>original_title</th>\n",
       "      <th>overview</th>\n",
       "    </tr>\n",
       "  </thead>\n",
       "  <tbody>\n",
       "    <tr>\n",
       "      <th>0</th>\n",
       "      <td>19995</td>\n",
       "      <td>[SamWorthington, ZoeSaldana, SigourneyWeaver]</td>\n",
       "      <td>[James Cameron]</td>\n",
       "      <td>[Action, Adventure, Fantasy, Science Fiction]</td>\n",
       "      <td>[culture clash, future, space war, space colon...</td>\n",
       "      <td>en</td>\n",
       "      <td>Avatar</td>\n",
       "      <td>22nd century     paraplegic marine dispatch mo...</td>\n",
       "    </tr>\n",
       "  </tbody>\n",
       "</table>\n",
       "</div>"
      ],
      "text/plain": [
       "      id                                           cast         director  \\\n",
       "0  19995  [SamWorthington, ZoeSaldana, SigourneyWeaver]  [James Cameron]   \n",
       "\n",
       "                                          genres  \\\n",
       "0  [Action, Adventure, Fantasy, Science Fiction]   \n",
       "\n",
       "                                            keywords original_language  \\\n",
       "0  [culture clash, future, space war, space colon...                en   \n",
       "\n",
       "  original_title                                           overview  \n",
       "0         Avatar  22nd century     paraplegic marine dispatch mo...  "
      ]
     },
     "execution_count": 545,
     "metadata": {},
     "output_type": "execute_result"
    }
   ],
   "source": [
    "df2.head(1)"
   ]
  },
  {
   "cell_type": "code",
   "execution_count": 546,
   "id": "03e61869-bdd6-4409-a3e6-b7df1ce76b6b",
   "metadata": {},
   "outputs": [],
   "source": [
    "df2['cast'] = df2['cast'].apply(remove_spaces)"
   ]
  },
  {
   "cell_type": "code",
   "execution_count": 547,
   "id": "a3a0091e-b60f-4f9b-8a69-a9e16caace35",
   "metadata": {},
   "outputs": [],
   "source": [
    "df2['director'] = df2['director'].apply(remove_spaces)"
   ]
  },
  {
   "cell_type": "code",
   "execution_count": 548,
   "id": "078ef678-85d0-4eb9-adec-4ec96e3abf51",
   "metadata": {},
   "outputs": [],
   "source": [
    "# df2['genres'] = df2['genres'].apply(remove_spaces)"
   ]
  },
  {
   "cell_type": "code",
   "execution_count": 549,
   "id": "4a1d3f62-381e-4266-9a1f-65c8e2a7f28b",
   "metadata": {},
   "outputs": [
    {
     "data": {
      "text/html": [
       "<div>\n",
       "<style scoped>\n",
       "    .dataframe tbody tr th:only-of-type {\n",
       "        vertical-align: middle;\n",
       "    }\n",
       "\n",
       "    .dataframe tbody tr th {\n",
       "        vertical-align: top;\n",
       "    }\n",
       "\n",
       "    .dataframe thead th {\n",
       "        text-align: right;\n",
       "    }\n",
       "</style>\n",
       "<table border=\"1\" class=\"dataframe\">\n",
       "  <thead>\n",
       "    <tr style=\"text-align: right;\">\n",
       "      <th></th>\n",
       "      <th>id</th>\n",
       "      <th>cast</th>\n",
       "      <th>director</th>\n",
       "      <th>genres</th>\n",
       "      <th>keywords</th>\n",
       "      <th>original_language</th>\n",
       "      <th>original_title</th>\n",
       "      <th>overview</th>\n",
       "    </tr>\n",
       "  </thead>\n",
       "  <tbody>\n",
       "    <tr>\n",
       "      <th>0</th>\n",
       "      <td>19995</td>\n",
       "      <td>[SamWorthington, ZoeSaldana, SigourneyWeaver]</td>\n",
       "      <td>[JamesCameron]</td>\n",
       "      <td>[Action, Adventure, Fantasy, Science Fiction]</td>\n",
       "      <td>[culture clash, future, space war, space colon...</td>\n",
       "      <td>en</td>\n",
       "      <td>Avatar</td>\n",
       "      <td>22nd century     paraplegic marine dispatch mo...</td>\n",
       "    </tr>\n",
       "  </tbody>\n",
       "</table>\n",
       "</div>"
      ],
      "text/plain": [
       "      id                                           cast        director  \\\n",
       "0  19995  [SamWorthington, ZoeSaldana, SigourneyWeaver]  [JamesCameron]   \n",
       "\n",
       "                                          genres  \\\n",
       "0  [Action, Adventure, Fantasy, Science Fiction]   \n",
       "\n",
       "                                            keywords original_language  \\\n",
       "0  [culture clash, future, space war, space colon...                en   \n",
       "\n",
       "  original_title                                           overview  \n",
       "0         Avatar  22nd century     paraplegic marine dispatch mo...  "
      ]
     },
     "execution_count": 549,
     "metadata": {},
     "output_type": "execute_result"
    }
   ],
   "source": [
    "df2.head(1)"
   ]
  },
  {
   "cell_type": "code",
   "execution_count": 550,
   "id": "17cd9a83-534a-428b-adb8-5ca1e20dc0c8",
   "metadata": {},
   "outputs": [],
   "source": [
    "# df2['keywords'] = df2['keywords'].apply(remove_spaces)"
   ]
  },
  {
   "cell_type": "code",
   "execution_count": 551,
   "id": "f8508778-de46-4bd2-844a-ba0ca7fe9ec1",
   "metadata": {},
   "outputs": [],
   "source": [
    "df2['combined'] = df2['cast'] + df2['director'] + df2['genres'] + df2['keywords'] "
   ]
  },
  {
   "cell_type": "code",
   "execution_count": 552,
   "id": "b4379f33-1b9a-405d-b583-12ef1b08d330",
   "metadata": {},
   "outputs": [
    {
     "data": {
      "text/html": [
       "<div>\n",
       "<style scoped>\n",
       "    .dataframe tbody tr th:only-of-type {\n",
       "        vertical-align: middle;\n",
       "    }\n",
       "\n",
       "    .dataframe tbody tr th {\n",
       "        vertical-align: top;\n",
       "    }\n",
       "\n",
       "    .dataframe thead th {\n",
       "        text-align: right;\n",
       "    }\n",
       "</style>\n",
       "<table border=\"1\" class=\"dataframe\">\n",
       "  <thead>\n",
       "    <tr style=\"text-align: right;\">\n",
       "      <th></th>\n",
       "      <th>id</th>\n",
       "      <th>cast</th>\n",
       "      <th>director</th>\n",
       "      <th>genres</th>\n",
       "      <th>keywords</th>\n",
       "      <th>original_language</th>\n",
       "      <th>original_title</th>\n",
       "      <th>overview</th>\n",
       "      <th>combined</th>\n",
       "    </tr>\n",
       "  </thead>\n",
       "  <tbody>\n",
       "    <tr>\n",
       "      <th>0</th>\n",
       "      <td>19995</td>\n",
       "      <td>[SamWorthington, ZoeSaldana, SigourneyWeaver]</td>\n",
       "      <td>[JamesCameron]</td>\n",
       "      <td>[Action, Adventure, Fantasy, Science Fiction]</td>\n",
       "      <td>[culture clash, future, space war, space colon...</td>\n",
       "      <td>en</td>\n",
       "      <td>Avatar</td>\n",
       "      <td>22nd century     paraplegic marine dispatch mo...</td>\n",
       "      <td>[SamWorthington, ZoeSaldana, SigourneyWeaver, ...</td>\n",
       "    </tr>\n",
       "  </tbody>\n",
       "</table>\n",
       "</div>"
      ],
      "text/plain": [
       "      id                                           cast        director  \\\n",
       "0  19995  [SamWorthington, ZoeSaldana, SigourneyWeaver]  [JamesCameron]   \n",
       "\n",
       "                                          genres  \\\n",
       "0  [Action, Adventure, Fantasy, Science Fiction]   \n",
       "\n",
       "                                            keywords original_language  \\\n",
       "0  [culture clash, future, space war, space colon...                en   \n",
       "\n",
       "  original_title                                           overview  \\\n",
       "0         Avatar  22nd century     paraplegic marine dispatch mo...   \n",
       "\n",
       "                                            combined  \n",
       "0  [SamWorthington, ZoeSaldana, SigourneyWeaver, ...  "
      ]
     },
     "execution_count": 552,
     "metadata": {},
     "output_type": "execute_result"
    }
   ],
   "source": [
    "df2.head(1)"
   ]
  },
  {
   "cell_type": "code",
   "execution_count": 553,
   "id": "254c0008-7b9e-492c-8231-556809c07e5e",
   "metadata": {},
   "outputs": [],
   "source": [
    "msg = df2.iloc[0, 7]"
   ]
  },
  {
   "cell_type": "code",
   "execution_count": 554,
   "id": "50b55d6d-cc1f-4e75-b3b9-fb447f279cdb",
   "metadata": {},
   "outputs": [
    {
     "data": {
      "text/plain": [
       "['SamWorthington',\n",
       " 'ZoeSaldana',\n",
       " 'SigourneyWeaver',\n",
       " 'JamesCameron',\n",
       " 'Action',\n",
       " 'Adventure',\n",
       " 'Fantasy',\n",
       " 'Science Fiction',\n",
       " 'culture clash',\n",
       " 'future',\n",
       " 'space war',\n",
       " 'space colony',\n",
       " 'society',\n",
       " 'space travel',\n",
       " 'futuristic',\n",
       " 'romance',\n",
       " 'space',\n",
       " 'alien',\n",
       " 'tribe',\n",
       " 'alien planet',\n",
       " 'cgi',\n",
       " 'marine',\n",
       " 'soldier',\n",
       " 'battle',\n",
       " 'love affair',\n",
       " 'anti war',\n",
       " 'power relations',\n",
       " 'mind and soul',\n",
       " '3d']"
      ]
     },
     "execution_count": 554,
     "metadata": {},
     "output_type": "execute_result"
    }
   ],
   "source": [
    "df2.iloc[0, 8]"
   ]
  },
  {
   "cell_type": "code",
   "execution_count": 555,
   "id": "3f9348c2-6307-40f7-83a2-56d3c8d3fc8c",
   "metadata": {},
   "outputs": [],
   "source": [
    "def replace_big_spaces(string):\n",
    "    string = string.replace('  ', '')\n",
    "    return string"
   ]
  },
  {
   "cell_type": "code",
   "execution_count": 556,
   "id": "840e328a-ed91-4f2c-8ca6-459976d216e0",
   "metadata": {},
   "outputs": [
    {
     "data": {
      "text/plain": [
       "'22nd century paraplegic marine dispatch moon pandora unique mission become torn follow order protect alien civilization'"
      ]
     },
     "execution_count": 556,
     "metadata": {},
     "output_type": "execute_result"
    }
   ],
   "source": [
    "replace_big_spaces(msg)"
   ]
  },
  {
   "cell_type": "code",
   "execution_count": 557,
   "id": "f072e2c6-4037-4504-8a28-c203459e90c5",
   "metadata": {},
   "outputs": [],
   "source": [
    "df2['overview'] = df2['overview'].apply(replace_big_spaces)"
   ]
  },
  {
   "cell_type": "code",
   "execution_count": 558,
   "id": "e08e229f-040b-4ab9-b252-05f34425076c",
   "metadata": {},
   "outputs": [
    {
     "data": {
      "text/html": [
       "<div>\n",
       "<style scoped>\n",
       "    .dataframe tbody tr th:only-of-type {\n",
       "        vertical-align: middle;\n",
       "    }\n",
       "\n",
       "    .dataframe tbody tr th {\n",
       "        vertical-align: top;\n",
       "    }\n",
       "\n",
       "    .dataframe thead th {\n",
       "        text-align: right;\n",
       "    }\n",
       "</style>\n",
       "<table border=\"1\" class=\"dataframe\">\n",
       "  <thead>\n",
       "    <tr style=\"text-align: right;\">\n",
       "      <th></th>\n",
       "      <th>id</th>\n",
       "      <th>cast</th>\n",
       "      <th>director</th>\n",
       "      <th>genres</th>\n",
       "      <th>keywords</th>\n",
       "      <th>original_language</th>\n",
       "      <th>original_title</th>\n",
       "      <th>overview</th>\n",
       "      <th>combined</th>\n",
       "    </tr>\n",
       "  </thead>\n",
       "  <tbody>\n",
       "    <tr>\n",
       "      <th>0</th>\n",
       "      <td>19995</td>\n",
       "      <td>[SamWorthington, ZoeSaldana, SigourneyWeaver]</td>\n",
       "      <td>[JamesCameron]</td>\n",
       "      <td>[Action, Adventure, Fantasy, Science Fiction]</td>\n",
       "      <td>[culture clash, future, space war, space colon...</td>\n",
       "      <td>en</td>\n",
       "      <td>Avatar</td>\n",
       "      <td>22nd century paraplegic marine dispatch moon p...</td>\n",
       "      <td>[SamWorthington, ZoeSaldana, SigourneyWeaver, ...</td>\n",
       "    </tr>\n",
       "    <tr>\n",
       "      <th>1</th>\n",
       "      <td>285</td>\n",
       "      <td>[JohnnyDepp, OrlandoBloom, KeiraKnightley]</td>\n",
       "      <td>[GoreVerbinski]</td>\n",
       "      <td>[Adventure, Fantasy, Action]</td>\n",
       "      <td>[ocean, drug abuse, exotic island, east india ...</td>\n",
       "      <td>en</td>\n",
       "      <td>Pirates of the Caribbean: At World's End</td>\n",
       "      <td>captain barbossa long believe dead come back l...</td>\n",
       "      <td>[JohnnyDepp, OrlandoBloom, KeiraKnightley, Gor...</td>\n",
       "    </tr>\n",
       "    <tr>\n",
       "      <th>2</th>\n",
       "      <td>206647</td>\n",
       "      <td>[DanielCraig, ChristophWaltz, LéaSeydoux]</td>\n",
       "      <td>[SamMendes]</td>\n",
       "      <td>[Action, Adventure, Crime]</td>\n",
       "      <td>[spy, based on novel, secret agent, sequel, mi...</td>\n",
       "      <td>en</td>\n",
       "      <td>Spectre</td>\n",
       "      <td>cryptic message bond ’s past send trail uncove...</td>\n",
       "      <td>[DanielCraig, ChristophWaltz, LéaSeydoux, SamM...</td>\n",
       "    </tr>\n",
       "    <tr>\n",
       "      <th>3</th>\n",
       "      <td>49026</td>\n",
       "      <td>[ChristianBale, MichaelCaine, GaryOldman]</td>\n",
       "      <td>[ChristopherNolan]</td>\n",
       "      <td>[Action, Crime, Drama, Thriller]</td>\n",
       "      <td>[dc comics, crime fighter, terrorist, secret i...</td>\n",
       "      <td>en</td>\n",
       "      <td>The Dark Knight Rises</td>\n",
       "      <td>follow death district attorney harvey dent bat...</td>\n",
       "      <td>[ChristianBale, MichaelCaine, GaryOldman, Chri...</td>\n",
       "    </tr>\n",
       "    <tr>\n",
       "      <th>4</th>\n",
       "      <td>49529</td>\n",
       "      <td>[TaylorKitsch, LynnCollins, SamanthaMorton]</td>\n",
       "      <td>[AndrewStanton]</td>\n",
       "      <td>[Action, Adventure, Science Fiction]</td>\n",
       "      <td>[based on novel, mars, medallion, space travel...</td>\n",
       "      <td>en</td>\n",
       "      <td>John Carter</td>\n",
       "      <td>john carter war weary former military captain ...</td>\n",
       "      <td>[TaylorKitsch, LynnCollins, SamanthaMorton, An...</td>\n",
       "    </tr>\n",
       "  </tbody>\n",
       "</table>\n",
       "</div>"
      ],
      "text/plain": [
       "       id                                           cast            director  \\\n",
       "0   19995  [SamWorthington, ZoeSaldana, SigourneyWeaver]      [JamesCameron]   \n",
       "1     285     [JohnnyDepp, OrlandoBloom, KeiraKnightley]     [GoreVerbinski]   \n",
       "2  206647      [DanielCraig, ChristophWaltz, LéaSeydoux]         [SamMendes]   \n",
       "3   49026      [ChristianBale, MichaelCaine, GaryOldman]  [ChristopherNolan]   \n",
       "4   49529    [TaylorKitsch, LynnCollins, SamanthaMorton]     [AndrewStanton]   \n",
       "\n",
       "                                          genres  \\\n",
       "0  [Action, Adventure, Fantasy, Science Fiction]   \n",
       "1                   [Adventure, Fantasy, Action]   \n",
       "2                     [Action, Adventure, Crime]   \n",
       "3               [Action, Crime, Drama, Thriller]   \n",
       "4           [Action, Adventure, Science Fiction]   \n",
       "\n",
       "                                            keywords original_language  \\\n",
       "0  [culture clash, future, space war, space colon...                en   \n",
       "1  [ocean, drug abuse, exotic island, east india ...                en   \n",
       "2  [spy, based on novel, secret agent, sequel, mi...                en   \n",
       "3  [dc comics, crime fighter, terrorist, secret i...                en   \n",
       "4  [based on novel, mars, medallion, space travel...                en   \n",
       "\n",
       "                             original_title  \\\n",
       "0                                    Avatar   \n",
       "1  Pirates of the Caribbean: At World's End   \n",
       "2                                   Spectre   \n",
       "3                     The Dark Knight Rises   \n",
       "4                               John Carter   \n",
       "\n",
       "                                            overview  \\\n",
       "0  22nd century paraplegic marine dispatch moon p...   \n",
       "1  captain barbossa long believe dead come back l...   \n",
       "2  cryptic message bond ’s past send trail uncove...   \n",
       "3  follow death district attorney harvey dent bat...   \n",
       "4  john carter war weary former military captain ...   \n",
       "\n",
       "                                            combined  \n",
       "0  [SamWorthington, ZoeSaldana, SigourneyWeaver, ...  \n",
       "1  [JohnnyDepp, OrlandoBloom, KeiraKnightley, Gor...  \n",
       "2  [DanielCraig, ChristophWaltz, LéaSeydoux, SamM...  \n",
       "3  [ChristianBale, MichaelCaine, GaryOldman, Chri...  \n",
       "4  [TaylorKitsch, LynnCollins, SamanthaMorton, An...  "
      ]
     },
     "execution_count": 558,
     "metadata": {},
     "output_type": "execute_result"
    }
   ],
   "source": [
    "df2.head(5)"
   ]
  },
  {
   "cell_type": "code",
   "execution_count": 559,
   "id": "97480ecd-4700-4459-9d6c-b297f6c37e86",
   "metadata": {},
   "outputs": [],
   "source": [
    "msg = df2.iloc[0, 7]"
   ]
  },
  {
   "cell_type": "code",
   "execution_count": 560,
   "id": "33242232-ffb7-43e5-94fb-5415bdc4e01d",
   "metadata": {},
   "outputs": [
    {
     "data": {
      "text/plain": [
       "'22nd century paraplegic marine dispatch moon pandora unique mission become torn follow order protect alien civilization'"
      ]
     },
     "execution_count": 560,
     "metadata": {},
     "output_type": "execute_result"
    }
   ],
   "source": [
    "msg"
   ]
  },
  {
   "cell_type": "code",
   "execution_count": 561,
   "id": "9096ee15-3241-498a-92cb-204ad64a259a",
   "metadata": {},
   "outputs": [],
   "source": [
    "def list_to_string(ls):\n",
    "    st=\"\"\n",
    "    \n",
    "    for i in ls:\n",
    "        st = ' '.join(ls)\n",
    "    return st"
   ]
  },
  {
   "cell_type": "code",
   "execution_count": 562,
   "id": "fd6afcb9-df83-4f8c-9bc2-84c1a6193ab3",
   "metadata": {},
   "outputs": [],
   "source": [
    "msg = df2.iloc[0, 8]"
   ]
  },
  {
   "cell_type": "code",
   "execution_count": 563,
   "id": "ae4deed2-a837-4e4a-98b3-e6a921ec1490",
   "metadata": {},
   "outputs": [
    {
     "data": {
      "text/plain": [
       "['SamWorthington',\n",
       " 'ZoeSaldana',\n",
       " 'SigourneyWeaver',\n",
       " 'JamesCameron',\n",
       " 'Action',\n",
       " 'Adventure',\n",
       " 'Fantasy',\n",
       " 'Science Fiction',\n",
       " 'culture clash',\n",
       " 'future',\n",
       " 'space war',\n",
       " 'space colony',\n",
       " 'society',\n",
       " 'space travel',\n",
       " 'futuristic',\n",
       " 'romance',\n",
       " 'space',\n",
       " 'alien',\n",
       " 'tribe',\n",
       " 'alien planet',\n",
       " 'cgi',\n",
       " 'marine',\n",
       " 'soldier',\n",
       " 'battle',\n",
       " 'love affair',\n",
       " 'anti war',\n",
       " 'power relations',\n",
       " 'mind and soul',\n",
       " '3d']"
      ]
     },
     "execution_count": 563,
     "metadata": {},
     "output_type": "execute_result"
    }
   ],
   "source": [
    "msg"
   ]
  },
  {
   "cell_type": "code",
   "execution_count": 564,
   "id": "1c75cfa7-e4e4-4592-87f1-28eb5aa3a11c",
   "metadata": {},
   "outputs": [
    {
     "data": {
      "text/plain": [
       "'SamWorthington ZoeSaldana SigourneyWeaver JamesCameron Action Adventure Fantasy Science Fiction culture clash future space war space colony society space travel futuristic romance space alien tribe alien planet cgi marine soldier battle love affair anti war power relations mind and soul 3d'"
      ]
     },
     "execution_count": 564,
     "metadata": {},
     "output_type": "execute_result"
    }
   ],
   "source": [
    "list_to_string(msg)"
   ]
  },
  {
   "cell_type": "code",
   "execution_count": 565,
   "id": "e0447573-0058-4798-a5b3-7d1f0ac7d985",
   "metadata": {},
   "outputs": [],
   "source": [
    "df2['combined'] = df2['combined'].apply(list_to_string)"
   ]
  },
  {
   "cell_type": "code",
   "execution_count": 566,
   "id": "6e08151f-126d-46b2-a57f-7f096a8112b1",
   "metadata": {},
   "outputs": [
    {
     "data": {
      "text/html": [
       "<div>\n",
       "<style scoped>\n",
       "    .dataframe tbody tr th:only-of-type {\n",
       "        vertical-align: middle;\n",
       "    }\n",
       "\n",
       "    .dataframe tbody tr th {\n",
       "        vertical-align: top;\n",
       "    }\n",
       "\n",
       "    .dataframe thead th {\n",
       "        text-align: right;\n",
       "    }\n",
       "</style>\n",
       "<table border=\"1\" class=\"dataframe\">\n",
       "  <thead>\n",
       "    <tr style=\"text-align: right;\">\n",
       "      <th></th>\n",
       "      <th>id</th>\n",
       "      <th>cast</th>\n",
       "      <th>director</th>\n",
       "      <th>genres</th>\n",
       "      <th>keywords</th>\n",
       "      <th>original_language</th>\n",
       "      <th>original_title</th>\n",
       "      <th>overview</th>\n",
       "      <th>combined</th>\n",
       "    </tr>\n",
       "  </thead>\n",
       "  <tbody>\n",
       "    <tr>\n",
       "      <th>0</th>\n",
       "      <td>19995</td>\n",
       "      <td>[SamWorthington, ZoeSaldana, SigourneyWeaver]</td>\n",
       "      <td>[JamesCameron]</td>\n",
       "      <td>[Action, Adventure, Fantasy, Science Fiction]</td>\n",
       "      <td>[culture clash, future, space war, space colon...</td>\n",
       "      <td>en</td>\n",
       "      <td>Avatar</td>\n",
       "      <td>22nd century paraplegic marine dispatch moon p...</td>\n",
       "      <td>SamWorthington ZoeSaldana SigourneyWeaver Jame...</td>\n",
       "    </tr>\n",
       "  </tbody>\n",
       "</table>\n",
       "</div>"
      ],
      "text/plain": [
       "      id                                           cast        director  \\\n",
       "0  19995  [SamWorthington, ZoeSaldana, SigourneyWeaver]  [JamesCameron]   \n",
       "\n",
       "                                          genres  \\\n",
       "0  [Action, Adventure, Fantasy, Science Fiction]   \n",
       "\n",
       "                                            keywords original_language  \\\n",
       "0  [culture clash, future, space war, space colon...                en   \n",
       "\n",
       "  original_title                                           overview  \\\n",
       "0         Avatar  22nd century paraplegic marine dispatch moon p...   \n",
       "\n",
       "                                            combined  \n",
       "0  SamWorthington ZoeSaldana SigourneyWeaver Jame...  "
      ]
     },
     "execution_count": 566,
     "metadata": {},
     "output_type": "execute_result"
    }
   ],
   "source": [
    "df2.head(1)"
   ]
  },
  {
   "cell_type": "code",
   "execution_count": 567,
   "id": "2ee70d7c-9209-4f3d-8035-221895ddee53",
   "metadata": {},
   "outputs": [],
   "source": [
    "def insert_space_at_beginning(string):\n",
    "    string = ' ' + string\n",
    "    return string"
   ]
  },
  {
   "cell_type": "code",
   "execution_count": 568,
   "id": "86b8ea5b-5201-402d-9f41-08e35101c513",
   "metadata": {},
   "outputs": [],
   "source": [
    "df2['overview']=df2['overview'].apply(insert_space_at_beginning)"
   ]
  },
  {
   "cell_type": "code",
   "execution_count": 889,
   "id": "d614941d-c021-4454-a97c-6828c1c20839",
   "metadata": {},
   "outputs": [],
   "source": [
    "df2['tags'] = df2['combined'] + df2['overview']"
   ]
  },
  {
   "cell_type": "code",
   "execution_count": 890,
   "id": "01b3cad8-13e6-45f2-87c8-ed43618e0e42",
   "metadata": {},
   "outputs": [
    {
     "data": {
      "text/html": [
       "<div>\n",
       "<style scoped>\n",
       "    .dataframe tbody tr th:only-of-type {\n",
       "        vertical-align: middle;\n",
       "    }\n",
       "\n",
       "    .dataframe tbody tr th {\n",
       "        vertical-align: top;\n",
       "    }\n",
       "\n",
       "    .dataframe thead th {\n",
       "        text-align: right;\n",
       "    }\n",
       "</style>\n",
       "<table border=\"1\" class=\"dataframe\">\n",
       "  <thead>\n",
       "    <tr style=\"text-align: right;\">\n",
       "      <th></th>\n",
       "      <th>id</th>\n",
       "      <th>cast</th>\n",
       "      <th>director</th>\n",
       "      <th>genres</th>\n",
       "      <th>keywords</th>\n",
       "      <th>original_language</th>\n",
       "      <th>original_title</th>\n",
       "      <th>overview</th>\n",
       "      <th>combined</th>\n",
       "      <th>tags</th>\n",
       "    </tr>\n",
       "  </thead>\n",
       "  <tbody>\n",
       "    <tr>\n",
       "      <th>0</th>\n",
       "      <td>19995</td>\n",
       "      <td>[SamWorthington, ZoeSaldana, SigourneyWeaver]</td>\n",
       "      <td>[JamesCameron]</td>\n",
       "      <td>[Action, Adventure, Fantasy, Science Fiction]</td>\n",
       "      <td>[culture clash, future, space war, space colon...</td>\n",
       "      <td>en</td>\n",
       "      <td>Avatar</td>\n",
       "      <td>22nd century paraplegic marine dispatch moon ...</td>\n",
       "      <td>SamWorthington ZoeSaldana SigourneyWeaver Jame...</td>\n",
       "      <td>SamWorthington ZoeSaldana SigourneyWeaver Jame...</td>\n",
       "    </tr>\n",
       "  </tbody>\n",
       "</table>\n",
       "</div>"
      ],
      "text/plain": [
       "      id                                           cast        director  \\\n",
       "0  19995  [SamWorthington, ZoeSaldana, SigourneyWeaver]  [JamesCameron]   \n",
       "\n",
       "                                          genres  \\\n",
       "0  [Action, Adventure, Fantasy, Science Fiction]   \n",
       "\n",
       "                                            keywords original_language  \\\n",
       "0  [culture clash, future, space war, space colon...                en   \n",
       "\n",
       "  original_title                                           overview  \\\n",
       "0         Avatar   22nd century paraplegic marine dispatch moon ...   \n",
       "\n",
       "                                            combined  \\\n",
       "0  SamWorthington ZoeSaldana SigourneyWeaver Jame...   \n",
       "\n",
       "                                                tags  \n",
       "0  SamWorthington ZoeSaldana SigourneyWeaver Jame...  "
      ]
     },
     "execution_count": 890,
     "metadata": {},
     "output_type": "execute_result"
    }
   ],
   "source": [
    "df2.head(1)"
   ]
  },
  {
   "cell_type": "code",
   "execution_count": 891,
   "id": "93abe1ad-0066-4a55-bc38-47dcf932f33f",
   "metadata": {},
   "outputs": [
    {
     "data": {
      "text/plain": [
       "'SamWorthington ZoeSaldana SigourneyWeaver JamesCameron Action Adventure Fantasy Science Fiction culture clash future space war space colony society space travel futuristic romance space alien tribe alien planet cgi marine soldier battle love affair anti war power relations mind and soul 3d 22nd century paraplegic marine dispatch moon pandora unique mission become torn follow order protect alien civilization'"
      ]
     },
     "execution_count": 891,
     "metadata": {},
     "output_type": "execute_result"
    }
   ],
   "source": [
    "df2.iloc[0, 9]"
   ]
  },
  {
   "cell_type": "code",
   "execution_count": null,
   "id": "0fc4058f-3391-4a1d-a872-91f15852a1eb",
   "metadata": {},
   "outputs": [],
   "source": []
  },
  {
   "cell_type": "code",
   "execution_count": 892,
   "id": "7822a7f8-2b2a-4ae7-b905-80f1149df925",
   "metadata": {},
   "outputs": [],
   "source": [
    "df2['original_language'] = df2['original_language'].apply(insert_space_at_beginning)"
   ]
  },
  {
   "cell_type": "code",
   "execution_count": 893,
   "id": "4aaf7256-660c-41c4-bd2f-42f8ba2fd8b5",
   "metadata": {},
   "outputs": [],
   "source": [
    "df2['tags'] = df2['tags'] + df2['original_language']"
   ]
  },
  {
   "cell_type": "code",
   "execution_count": 894,
   "id": "2a7274c4-205a-4cf4-86ab-9a99f98f64d0",
   "metadata": {},
   "outputs": [
    {
     "data": {
      "text/html": [
       "<div>\n",
       "<style scoped>\n",
       "    .dataframe tbody tr th:only-of-type {\n",
       "        vertical-align: middle;\n",
       "    }\n",
       "\n",
       "    .dataframe tbody tr th {\n",
       "        vertical-align: top;\n",
       "    }\n",
       "\n",
       "    .dataframe thead th {\n",
       "        text-align: right;\n",
       "    }\n",
       "</style>\n",
       "<table border=\"1\" class=\"dataframe\">\n",
       "  <thead>\n",
       "    <tr style=\"text-align: right;\">\n",
       "      <th></th>\n",
       "      <th>id</th>\n",
       "      <th>cast</th>\n",
       "      <th>director</th>\n",
       "      <th>genres</th>\n",
       "      <th>keywords</th>\n",
       "      <th>original_language</th>\n",
       "      <th>original_title</th>\n",
       "      <th>overview</th>\n",
       "      <th>combined</th>\n",
       "      <th>tags</th>\n",
       "    </tr>\n",
       "  </thead>\n",
       "  <tbody>\n",
       "    <tr>\n",
       "      <th>0</th>\n",
       "      <td>19995</td>\n",
       "      <td>[SamWorthington, ZoeSaldana, SigourneyWeaver]</td>\n",
       "      <td>[JamesCameron]</td>\n",
       "      <td>[Action, Adventure, Fantasy, Science Fiction]</td>\n",
       "      <td>[culture clash, future, space war, space colon...</td>\n",
       "      <td>en</td>\n",
       "      <td>Avatar</td>\n",
       "      <td>22nd century paraplegic marine dispatch moon ...</td>\n",
       "      <td>SamWorthington ZoeSaldana SigourneyWeaver Jame...</td>\n",
       "      <td>SamWorthington ZoeSaldana SigourneyWeaver Jame...</td>\n",
       "    </tr>\n",
       "  </tbody>\n",
       "</table>\n",
       "</div>"
      ],
      "text/plain": [
       "      id                                           cast        director  \\\n",
       "0  19995  [SamWorthington, ZoeSaldana, SigourneyWeaver]  [JamesCameron]   \n",
       "\n",
       "                                          genres  \\\n",
       "0  [Action, Adventure, Fantasy, Science Fiction]   \n",
       "\n",
       "                                            keywords original_language  \\\n",
       "0  [culture clash, future, space war, space colon...                en   \n",
       "\n",
       "  original_title                                           overview  \\\n",
       "0         Avatar   22nd century paraplegic marine dispatch moon ...   \n",
       "\n",
       "                                            combined  \\\n",
       "0  SamWorthington ZoeSaldana SigourneyWeaver Jame...   \n",
       "\n",
       "                                                tags  \n",
       "0  SamWorthington ZoeSaldana SigourneyWeaver Jame...  "
      ]
     },
     "execution_count": 894,
     "metadata": {},
     "output_type": "execute_result"
    }
   ],
   "source": [
    "df2.head(1)"
   ]
  },
  {
   "cell_type": "code",
   "execution_count": 895,
   "id": "cc099da9-7588-44af-878c-33975de7b56f",
   "metadata": {},
   "outputs": [
    {
     "data": {
      "text/plain": [
       "'SamWorthington ZoeSaldana SigourneyWeaver JamesCameron Action Adventure Fantasy Science Fiction culture clash future space war space colony society space travel futuristic romance space alien tribe alien planet cgi marine soldier battle love affair anti war power relations mind and soul 3d 22nd century paraplegic marine dispatch moon pandora unique mission become torn follow order protect alien civilization  en'"
      ]
     },
     "execution_count": 895,
     "metadata": {},
     "output_type": "execute_result"
    }
   ],
   "source": [
    "df2.iloc[0, 9]"
   ]
  },
  {
   "cell_type": "code",
   "execution_count": 896,
   "id": "5556b59b-5448-48e3-984f-57c33799aa77",
   "metadata": {},
   "outputs": [],
   "source": [
    "movies = df2[['id', 'original_title', 'tags']]"
   ]
  },
  {
   "cell_type": "code",
   "execution_count": 897,
   "id": "c405e0cd-53ea-4271-9909-33945d1a392c",
   "metadata": {},
   "outputs": [
    {
     "data": {
      "text/plain": [
       "'SamWorthington ZoeSaldana SigourneyWeaver JamesCameron Action Adventure Fantasy Science Fiction culture clash future space war space colony society space travel futuristic romance space alien tribe alien planet cgi marine soldier battle love affair anti war power relations mind and soul 3d 22nd century paraplegic marine dispatch moon pandora unique mission become torn follow order protect alien civilization  en'"
      ]
     },
     "execution_count": 897,
     "metadata": {},
     "output_type": "execute_result"
    }
   ],
   "source": [
    "movies.iloc[0,2]"
   ]
  },
  {
   "cell_type": "code",
   "execution_count": 898,
   "id": "6e6a2076-769a-4eb8-b86e-fa7a22f7b011",
   "metadata": {},
   "outputs": [],
   "source": [
    "# movies['original_title'] = movies['original_title'].apply(remove_spaces_str)"
   ]
  },
  {
   "cell_type": "code",
   "execution_count": 899,
   "id": "eee2adb0-60b6-4aa7-9028-bed8785494bd",
   "metadata": {},
   "outputs": [],
   "source": [
    "# movies['original_title'] = movies['original_title'].apply(insert_space_at_beginning)"
   ]
  },
  {
   "cell_type": "code",
   "execution_count": 900,
   "id": "aa871270-60ce-4b30-8af5-bada1c60bb9a",
   "metadata": {},
   "outputs": [],
   "source": [
    "# movies['tags'] = movies['tags'] + movies['original_title']"
   ]
  },
  {
   "cell_type": "code",
   "execution_count": 901,
   "id": "2710b850-138d-4d29-9ce5-05519bfd97b3",
   "metadata": {},
   "outputs": [
    {
     "data": {
      "text/plain": [
       "'DanielCraig ChristophWaltz LéaSeydoux SamMendes Action Adventure Crime spy based on novel secret agent sequel mi6 british secret service united kingdom cryptic message bond ’s past send trail uncover sinister organization battle political force keep secret service alive bond feel back layer deceit reveal terrible truth behind spectre  en'"
      ]
     },
     "execution_count": 901,
     "metadata": {},
     "output_type": "execute_result"
    }
   ],
   "source": [
    "movies.iloc[2, 2]"
   ]
  },
  {
   "cell_type": "code",
   "execution_count": 902,
   "id": "c2a19cd3-bfc9-43d3-b638-9ceb7bb5a625",
   "metadata": {},
   "outputs": [],
   "source": [
    "msg = movies.iloc[1, 2]"
   ]
  },
  {
   "cell_type": "code",
   "execution_count": 903,
   "id": "58480d22-b395-4d1a-9251-e497e2f87454",
   "metadata": {},
   "outputs": [],
   "source": [
    "def remove_spaces_str(string):\n",
    "    string = string.replace(' ', '')\n",
    "    return string"
   ]
  },
  {
   "cell_type": "code",
   "execution_count": 904,
   "id": "fde3e7d1-4c98-483b-863d-b6f0819f2524",
   "metadata": {},
   "outputs": [
    {
     "data": {
      "text/plain": [
       "\"JohnnyDepp OrlandoBloom KeiraKnightley GoreVerbinski Adventure Fantasy Action ocean drug abuse exotic island east india trading company love of one's life traitor shipwreck strong woman ship alliance calypso afterlife fighter pirate swashbuckler aftercreditsstinger captain barbossa long believe dead come back life head edge earth turner elizabeth swan nothing quite seem  en\""
      ]
     },
     "execution_count": 904,
     "metadata": {},
     "output_type": "execute_result"
    }
   ],
   "source": [
    "msg"
   ]
  },
  {
   "cell_type": "code",
   "execution_count": 905,
   "id": "1511fcd9-e45e-41a7-aaf2-d57555ae7e0d",
   "metadata": {},
   "outputs": [
    {
     "data": {
      "text/html": [
       "<div>\n",
       "<style scoped>\n",
       "    .dataframe tbody tr th:only-of-type {\n",
       "        vertical-align: middle;\n",
       "    }\n",
       "\n",
       "    .dataframe tbody tr th {\n",
       "        vertical-align: top;\n",
       "    }\n",
       "\n",
       "    .dataframe thead th {\n",
       "        text-align: right;\n",
       "    }\n",
       "</style>\n",
       "<table border=\"1\" class=\"dataframe\">\n",
       "  <thead>\n",
       "    <tr style=\"text-align: right;\">\n",
       "      <th></th>\n",
       "      <th>id</th>\n",
       "      <th>original_title</th>\n",
       "      <th>tags</th>\n",
       "    </tr>\n",
       "  </thead>\n",
       "  <tbody>\n",
       "    <tr>\n",
       "      <th>0</th>\n",
       "      <td>19995</td>\n",
       "      <td>Avatar</td>\n",
       "      <td>SamWorthington ZoeSaldana SigourneyWeaver Jame...</td>\n",
       "    </tr>\n",
       "  </tbody>\n",
       "</table>\n",
       "</div>"
      ],
      "text/plain": [
       "      id original_title                                               tags\n",
       "0  19995         Avatar  SamWorthington ZoeSaldana SigourneyWeaver Jame..."
      ]
     },
     "execution_count": 905,
     "metadata": {},
     "output_type": "execute_result"
    }
   ],
   "source": [
    "movies.head(1)"
   ]
  },
  {
   "cell_type": "code",
   "execution_count": 906,
   "id": "1aec2f9b-c8ab-4a5a-9e75-9c4512b5012e",
   "metadata": {},
   "outputs": [
    {
     "data": {
      "text/plain": [
       "\"JohnnyDepp OrlandoBloom KeiraKnightley GoreVerbinski Adventure Fantasy Action ocean drug abuse exotic island east india trading company love of one's life traitor shipwreck strong woman ship alliance calypso afterlife fighter pirate swashbuckler aftercreditsstinger captain barbossa long believe dead come back life head edge earth turner elizabeth swan nothing quite seem  en\""
      ]
     },
     "execution_count": 906,
     "metadata": {},
     "output_type": "execute_result"
    }
   ],
   "source": [
    "movies.iloc[1,2]"
   ]
  },
  {
   "cell_type": "code",
   "execution_count": 907,
   "id": "7383e6fd-ce0c-4b1d-8c8f-ed6d0242c581",
   "metadata": {},
   "outputs": [],
   "source": [
    "# movies['original_title'] = movies['original_title'].apply(insert_space_at_beginning)"
   ]
  },
  {
   "cell_type": "code",
   "execution_count": 908,
   "id": "faec811c-6d1f-41ff-b023-5101d0c84d8a",
   "metadata": {},
   "outputs": [],
   "source": [
    "#Importing the DNN Model"
   ]
  },
  {
   "cell_type": "code",
   "execution_count": 909,
   "id": "029002c4-286b-46e5-a2f2-35ebe78c8bcd",
   "metadata": {},
   "outputs": [
    {
     "name": "stdout",
     "output_type": "stream",
     "text": [
      "Requirement already satisfied: gensim in /home/mist/anaconda3/lib/python3.10/site-packages (4.3.0)\n",
      "Requirement already satisfied: scipy>=1.7.0 in /home/mist/anaconda3/lib/python3.10/site-packages (from gensim) (1.10.0)\n",
      "Requirement already satisfied: smart-open>=1.8.1 in /home/mist/anaconda3/lib/python3.10/site-packages (from gensim) (5.2.1)\n",
      "Requirement already satisfied: FuzzyTM>=0.4.0 in /home/mist/anaconda3/lib/python3.10/site-packages (from gensim) (2.0.5)\n",
      "Requirement already satisfied: numpy>=1.18.5 in /home/mist/anaconda3/lib/python3.10/site-packages (from gensim) (1.23.5)\n",
      "Requirement already satisfied: pandas in /home/mist/anaconda3/lib/python3.10/site-packages (from FuzzyTM>=0.4.0->gensim) (1.5.3)\n",
      "Requirement already satisfied: pyfume in /home/mist/anaconda3/lib/python3.10/site-packages (from FuzzyTM>=0.4.0->gensim) (0.2.25)\n",
      "Requirement already satisfied: python-dateutil>=2.8.1 in /home/mist/anaconda3/lib/python3.10/site-packages (from pandas->FuzzyTM>=0.4.0->gensim) (2.8.2)\n",
      "Requirement already satisfied: pytz>=2020.1 in /home/mist/anaconda3/lib/python3.10/site-packages (from pandas->FuzzyTM>=0.4.0->gensim) (2022.7)\n",
      "Requirement already satisfied: simpful in /home/mist/anaconda3/lib/python3.10/site-packages (from pyfume->FuzzyTM>=0.4.0->gensim) (2.11.0)\n",
      "Requirement already satisfied: fst-pso in /home/mist/anaconda3/lib/python3.10/site-packages (from pyfume->FuzzyTM>=0.4.0->gensim) (1.8.1)\n",
      "Requirement already satisfied: six>=1.5 in /home/mist/anaconda3/lib/python3.10/site-packages (from python-dateutil>=2.8.1->pandas->FuzzyTM>=0.4.0->gensim) (1.16.0)\n",
      "Requirement already satisfied: miniful in /home/mist/anaconda3/lib/python3.10/site-packages (from fst-pso->pyfume->FuzzyTM>=0.4.0->gensim) (0.0.6)\n"
     ]
    }
   ],
   "source": [
    "!pip install gensim"
   ]
  },
  {
   "cell_type": "code",
   "execution_count": 910,
   "id": "8328f2ea-028d-49b7-a5fc-41c334ce2633",
   "metadata": {},
   "outputs": [],
   "source": [
    "import gensim"
   ]
  },
  {
   "cell_type": "code",
   "execution_count": 911,
   "id": "6180983f-6e5b-41d6-a990-b1813a4c0390",
   "metadata": {},
   "outputs": [],
   "source": [
    "from gensim.utils import simple_preprocess"
   ]
  },
  {
   "cell_type": "code",
   "execution_count": 912,
   "id": "e3a4f38f-b4af-43c6-8a71-210b3f324aed",
   "metadata": {},
   "outputs": [],
   "source": [
    "msg = movies.iloc[1, 2]"
   ]
  },
  {
   "cell_type": "code",
   "execution_count": 913,
   "id": "486594da-4d4f-4e9e-a121-0b7fc4a7d043",
   "metadata": {},
   "outputs": [
    {
     "data": {
      "text/plain": [
       "\"JohnnyDepp OrlandoBloom KeiraKnightley GoreVerbinski Adventure Fantasy Action ocean drug abuse exotic island east india trading company love of one's life traitor shipwreck strong woman ship alliance calypso afterlife fighter pirate swashbuckler aftercreditsstinger captain barbossa long believe dead come back life head edge earth turner elizabeth swan nothing quite seem  en\""
      ]
     },
     "execution_count": 913,
     "metadata": {},
     "output_type": "execute_result"
    }
   ],
   "source": [
    "msg"
   ]
  },
  {
   "cell_type": "code",
   "execution_count": 914,
   "id": "c0e07ad6-9c5b-449e-8152-18351bff9354",
   "metadata": {},
   "outputs": [],
   "source": [
    "msg = remove_punc(msg)"
   ]
  },
  {
   "cell_type": "code",
   "execution_count": 915,
   "id": "119f00a7-01e9-4c97-a5de-b9f7c37534d8",
   "metadata": {},
   "outputs": [],
   "source": [
    "from nltk.tokenize import sent_tokenize, word_tokenize"
   ]
  },
  {
   "cell_type": "code",
   "execution_count": 916,
   "id": "75eb1a9b-f61c-489d-a325-49f085bbef8f",
   "metadata": {},
   "outputs": [],
   "source": [
    "doc1 = nlp(msg)"
   ]
  },
  {
   "cell_type": "code",
   "execution_count": 917,
   "id": "81bf0cf9-55d7-42dc-a0fa-e7b2a19919b5",
   "metadata": {},
   "outputs": [
    {
     "data": {
      "text/plain": [
       "JohnnyDepp OrlandoBloom KeiraKnightley GoreVerbinski Adventure Fantasy Action ocean drug abuse exotic island east india trading company love of ones life traitor shipwreck strong woman ship alliance calypso afterlife fighter pirate swashbuckler aftercreditsstinger captain barbossa long believe dead come back life head edge earth turner elizabeth swan nothing quite seem  en"
      ]
     },
     "execution_count": 917,
     "metadata": {},
     "output_type": "execute_result"
    }
   ],
   "source": [
    "doc1"
   ]
  },
  {
   "cell_type": "code",
   "execution_count": 918,
   "id": "11159c82-e677-4794-9bf0-b7de0f28f7ea",
   "metadata": {},
   "outputs": [],
   "source": [
    "#Removing punctuations from movie's titles"
   ]
  },
  {
   "cell_type": "code",
   "execution_count": 919,
   "id": "2cd89b42-4d3a-40c4-93f8-a9df188865e3",
   "metadata": {},
   "outputs": [],
   "source": [
    "# movies['original_title'] = movies['original_title'].apply(remove_punc)"
   ]
  },
  {
   "cell_type": "code",
   "execution_count": 920,
   "id": "88fac3da-ac47-4cbe-9113-04be1a5aa37a",
   "metadata": {},
   "outputs": [],
   "source": [
    "# movies['tags'] = movies['tags'] + movies['original_title']"
   ]
  },
  {
   "cell_type": "code",
   "execution_count": 921,
   "id": "f6a89114-524d-4c15-9d21-ce2e42bee5c2",
   "metadata": {},
   "outputs": [],
   "source": [
    "msg = movies.iloc[1, 2]"
   ]
  },
  {
   "cell_type": "code",
   "execution_count": 922,
   "id": "729b7061-80e0-4a8f-8f5f-db3c7895e955",
   "metadata": {},
   "outputs": [
    {
     "data": {
      "text/plain": [
       "\"JohnnyDepp OrlandoBloom KeiraKnightley GoreVerbinski Adventure Fantasy Action ocean drug abuse exotic island east india trading company love of one's life traitor shipwreck strong woman ship alliance calypso afterlife fighter pirate swashbuckler aftercreditsstinger captain barbossa long believe dead come back life head edge earth turner elizabeth swan nothing quite seem  en\""
      ]
     },
     "execution_count": 922,
     "metadata": {},
     "output_type": "execute_result"
    }
   ],
   "source": [
    "msg"
   ]
  },
  {
   "cell_type": "code",
   "execution_count": 923,
   "id": "c58fa86e-3e52-4d4e-a343-b8a1fca90a62",
   "metadata": {},
   "outputs": [],
   "source": [
    "doc1 = sent_tokenize(msg)"
   ]
  },
  {
   "cell_type": "code",
   "execution_count": 924,
   "id": "7736aa14-2538-4695-a209-baa3d14a784e",
   "metadata": {},
   "outputs": [],
   "source": [
    "ls = []\n",
    "for word in doc1:\n",
    "    ls.append(simple_preprocess(word))\n"
   ]
  },
  {
   "cell_type": "code",
   "execution_count": 925,
   "id": "8d93ee06-3023-4496-9ba0-1c46e8546c1b",
   "metadata": {},
   "outputs": [
    {
     "data": {
      "text/plain": [
       "[['johnnydepp',\n",
       "  'orlandobloom',\n",
       "  'keiraknightley',\n",
       "  'goreverbinski',\n",
       "  'adventure',\n",
       "  'fantasy',\n",
       "  'action',\n",
       "  'ocean',\n",
       "  'drug',\n",
       "  'abuse',\n",
       "  'exotic',\n",
       "  'island',\n",
       "  'east',\n",
       "  'india',\n",
       "  'trading',\n",
       "  'company',\n",
       "  'love',\n",
       "  'of',\n",
       "  'one',\n",
       "  'life',\n",
       "  'traitor',\n",
       "  'shipwreck',\n",
       "  'strong',\n",
       "  'woman',\n",
       "  'ship',\n",
       "  'alliance',\n",
       "  'calypso',\n",
       "  'afterlife',\n",
       "  'fighter',\n",
       "  'pirate',\n",
       "  'swashbuckler',\n",
       "  'captain',\n",
       "  'barbossa',\n",
       "  'long',\n",
       "  'believe',\n",
       "  'dead',\n",
       "  'come',\n",
       "  'back',\n",
       "  'life',\n",
       "  'head',\n",
       "  'edge',\n",
       "  'earth',\n",
       "  'turner',\n",
       "  'elizabeth',\n",
       "  'swan',\n",
       "  'nothing',\n",
       "  'quite',\n",
       "  'seem',\n",
       "  'en']]"
      ]
     },
     "execution_count": 925,
     "metadata": {},
     "output_type": "execute_result"
    }
   ],
   "source": [
    "ls"
   ]
  },
  {
   "cell_type": "code",
   "execution_count": 926,
   "id": "c930191c-0eb7-4f5f-8047-a8f645cab3e9",
   "metadata": {},
   "outputs": [],
   "source": [
    "\n",
    "def making_corpus(string):\n",
    "    corpus = []\n",
    "    doc1 = sent_tokenize(string)\n",
    "    for word in doc1:\n",
    "        corpus.append(simple_preprocess(word))\n",
    "\n",
    "    return corpus"
   ]
  },
  {
   "cell_type": "code",
   "execution_count": 927,
   "id": "f7a371bf-5f26-4e7f-a5ff-accf1f43ce97",
   "metadata": {},
   "outputs": [],
   "source": [
    "msg = movies.iloc[2, 2]"
   ]
  },
  {
   "cell_type": "code",
   "execution_count": 928,
   "id": "823e943c-afcf-414f-bbe5-027ff38b7a78",
   "metadata": {},
   "outputs": [
    {
     "data": {
      "text/plain": [
       "[['danielcraig',\n",
       "  'christophwaltz',\n",
       "  'léaseydoux',\n",
       "  'sammendes',\n",
       "  'action',\n",
       "  'adventure',\n",
       "  'crime',\n",
       "  'spy',\n",
       "  'based',\n",
       "  'on',\n",
       "  'novel',\n",
       "  'secret',\n",
       "  'agent',\n",
       "  'sequel',\n",
       "  'mi',\n",
       "  'british',\n",
       "  'secret',\n",
       "  'service',\n",
       "  'united',\n",
       "  'kingdom',\n",
       "  'cryptic',\n",
       "  'message',\n",
       "  'bond',\n",
       "  'past',\n",
       "  'send',\n",
       "  'trail',\n",
       "  'uncover',\n",
       "  'sinister',\n",
       "  'organization',\n",
       "  'battle',\n",
       "  'political',\n",
       "  'force',\n",
       "  'keep',\n",
       "  'secret',\n",
       "  'service',\n",
       "  'alive',\n",
       "  'bond',\n",
       "  'feel',\n",
       "  'back',\n",
       "  'layer',\n",
       "  'deceit',\n",
       "  'reveal',\n",
       "  'terrible',\n",
       "  'truth',\n",
       "  'behind',\n",
       "  'spectre',\n",
       "  'en']]"
      ]
     },
     "execution_count": 928,
     "metadata": {},
     "output_type": "execute_result"
    }
   ],
   "source": [
    "making_corpus(msg)"
   ]
  },
  {
   "cell_type": "code",
   "execution_count": 929,
   "id": "ededbda8-feff-47d2-a496-449712bbb6f4",
   "metadata": {},
   "outputs": [],
   "source": [
    "movies['tags'] = movies['tags'].apply(making_corpus)"
   ]
  },
  {
   "cell_type": "code",
   "execution_count": 930,
   "id": "0a00f776-a41c-46a0-a19c-63c92c951c13",
   "metadata": {},
   "outputs": [
    {
     "data": {
      "text/plain": [
       "[['samworthington',\n",
       "  'zoesaldana',\n",
       "  'sigourneyweaver',\n",
       "  'jamescameron',\n",
       "  'action',\n",
       "  'adventure',\n",
       "  'fantasy',\n",
       "  'science',\n",
       "  'fiction',\n",
       "  'culture',\n",
       "  'clash',\n",
       "  'future',\n",
       "  'space',\n",
       "  'war',\n",
       "  'space',\n",
       "  'colony',\n",
       "  'society',\n",
       "  'space',\n",
       "  'travel',\n",
       "  'futuristic',\n",
       "  'romance',\n",
       "  'space',\n",
       "  'alien',\n",
       "  'tribe',\n",
       "  'alien',\n",
       "  'planet',\n",
       "  'cgi',\n",
       "  'marine',\n",
       "  'soldier',\n",
       "  'battle',\n",
       "  'love',\n",
       "  'affair',\n",
       "  'anti',\n",
       "  'war',\n",
       "  'power',\n",
       "  'relations',\n",
       "  'mind',\n",
       "  'and',\n",
       "  'soul',\n",
       "  'nd',\n",
       "  'century',\n",
       "  'paraplegic',\n",
       "  'marine',\n",
       "  'dispatch',\n",
       "  'moon',\n",
       "  'pandora',\n",
       "  'unique',\n",
       "  'mission',\n",
       "  'become',\n",
       "  'torn',\n",
       "  'follow',\n",
       "  'order',\n",
       "  'protect',\n",
       "  'alien',\n",
       "  'civilization',\n",
       "  'en']]"
      ]
     },
     "execution_count": 930,
     "metadata": {},
     "output_type": "execute_result"
    }
   ],
   "source": [
    "movies['tags'].iloc[0]"
   ]
  },
  {
   "cell_type": "code",
   "execution_count": 931,
   "id": "f1d1b010-c425-4448-9fab-fb35c01a7acb",
   "metadata": {},
   "outputs": [],
   "source": [
    "corpus = []"
   ]
  },
  {
   "cell_type": "code",
   "execution_count": 932,
   "id": "31939346-1290-42be-bec6-724ed8cb1630",
   "metadata": {},
   "outputs": [],
   "source": [
    "def corpus_formation(ls):\n",
    "    corpus.append(ls)"
   ]
  },
  {
   "cell_type": "code",
   "execution_count": 933,
   "id": "589e9381-6310-46f6-ad40-7e2a1caef635",
   "metadata": {},
   "outputs": [],
   "source": [
    "movies['tags'] = movies['tags'].apply(corpus_formation)"
   ]
  },
  {
   "cell_type": "code",
   "execution_count": 934,
   "id": "a6d961fb-4cc5-4609-9e14-f0d998ec6f11",
   "metadata": {},
   "outputs": [],
   "source": [
    "from itertools import chain\n",
    "flatten_corpus = list(chain.from_iterable(corpus))"
   ]
  },
  {
   "cell_type": "code",
   "execution_count": 946,
   "id": "db2995cd-2188-422a-a219-6f253bcc1517",
   "metadata": {},
   "outputs": [],
   "source": [
    "for i in range(len(flatten_corpus)):\n",
    "    if len(flatten_corpus[i]) == 0:\n",
    "        print(i)"
   ]
  },
  {
   "cell_type": "code",
   "execution_count": 947,
   "id": "001b8b9c-f0c9-477e-83b3-3a8f543d702d",
   "metadata": {},
   "outputs": [
    {
     "data": {
      "text/plain": [
       "4880"
      ]
     },
     "execution_count": 947,
     "metadata": {},
     "output_type": "execute_result"
    }
   ],
   "source": [
    "len(flatten_corpus)"
   ]
  },
  {
   "cell_type": "code",
   "execution_count": 948,
   "id": "4101725a-b854-4722-95a9-a5bb79da47b2",
   "metadata": {},
   "outputs": [],
   "source": [
    "#Embeddings"
   ]
  },
  {
   "cell_type": "code",
   "execution_count": 949,
   "id": "2fc3aaaa-f063-4813-9b73-c1d49c701144",
   "metadata": {},
   "outputs": [],
   "source": [
    "#Google News Word2Vec\n",
    "import gensim.downloader as api\n",
    "# model2 = api.load('word2vec-google-news-300')"
   ]
  },
  {
   "cell_type": "code",
   "execution_count": 950,
   "id": "d4cba51f-aeca-4147-ad08-bcf09c7464a7",
   "metadata": {},
   "outputs": [],
   "source": [
    "model = gensim.models.Word2Vec(window=10, min_count=1, workers=8, vector_size=300, alpha=0.03, min_alpha=0.0007)"
   ]
  },
  {
   "cell_type": "code",
   "execution_count": 951,
   "id": "10814723-26b9-4a81-b05f-391c9fcad985",
   "metadata": {},
   "outputs": [],
   "source": [
    "model.build_vocab(flatten_corpus)"
   ]
  },
  {
   "cell_type": "code",
   "execution_count": 952,
   "id": "14dd5353-8721-4dfd-8ce9-d33c000443ee",
   "metadata": {},
   "outputs": [
    {
     "data": {
      "text/plain": [
       "(2229634, 2332460)"
      ]
     },
     "execution_count": 952,
     "metadata": {},
     "output_type": "execute_result"
    }
   ],
   "source": [
    "model.train(flatten_corpus, total_examples=model.corpus_count, epochs=10)"
   ]
  },
  {
   "cell_type": "code",
   "execution_count": 953,
   "id": "5eb3ddbd-3979-4494-9662-3e152853bef0",
   "metadata": {},
   "outputs": [],
   "source": [
    "# model.wv.most_similar('Spectre')"
   ]
  },
  {
   "cell_type": "code",
   "execution_count": 954,
   "id": "7625e7a8-2b67-4de7-ab87-2447c8d5684a",
   "metadata": {},
   "outputs": [],
   "source": [
    "embeddings = model.wv.get_normed_vectors()"
   ]
  },
  {
   "cell_type": "code",
   "execution_count": 955,
   "id": "f00cefab-75ba-4079-8dca-d28767286b70",
   "metadata": {},
   "outputs": [
    {
     "data": {
      "text/plain": [
       "array([[-0.00667061,  0.0554638 , -0.00925942, ..., -0.01089557,\n",
       "         0.05142752,  0.00908388],\n",
       "       [-0.02917327,  0.03666141, -0.08721096, ..., -0.07248939,\n",
       "         0.03379479, -0.02806423],\n",
       "       [ 0.00638518, -0.03161474, -0.07221184, ..., -0.0155215 ,\n",
       "         0.07652514,  0.06711425],\n",
       "       ...,\n",
       "       [-0.0190047 ,  0.07244407, -0.09565761, ..., -0.01421657,\n",
       "         0.07780842,  0.01144867],\n",
       "       [-0.02884728,  0.07439642, -0.1100005 , ..., -0.01249476,\n",
       "         0.0796173 ,  0.01615428],\n",
       "       [-0.05667001,  0.03388194, -0.08324696, ..., -0.00626704,\n",
       "         0.04056718, -0.00141739]], dtype=float32)"
      ]
     },
     "execution_count": 955,
     "metadata": {},
     "output_type": "execute_result"
    }
   ],
   "source": [
    "embeddings"
   ]
  },
  {
   "cell_type": "code",
   "execution_count": 956,
   "id": "b505ee2c-ebbc-46af-842f-047f37a16602",
   "metadata": {},
   "outputs": [],
   "source": [
    "# model.wv.index_to_key"
   ]
  },
  {
   "cell_type": "code",
   "execution_count": 957,
   "id": "f09593cf-7311-4a75-8c62-4c6e8f5abfd7",
   "metadata": {},
   "outputs": [],
   "source": [
    "#Average Word2Vec for each tags"
   ]
  },
  {
   "cell_type": "code",
   "execution_count": 958,
   "id": "eff87c4b-246d-4574-9c3f-d83175972977",
   "metadata": {},
   "outputs": [],
   "source": [
    "avg_embeddings = []"
   ]
  },
  {
   "cell_type": "code",
   "execution_count": 959,
   "id": "90c812a8-5058-4229-90f3-c0fe4f8ac783",
   "metadata": {},
   "outputs": [
    {
     "data": {
      "text/html": [
       "<div>\n",
       "<style scoped>\n",
       "    .dataframe tbody tr th:only-of-type {\n",
       "        vertical-align: middle;\n",
       "    }\n",
       "\n",
       "    .dataframe tbody tr th {\n",
       "        vertical-align: top;\n",
       "    }\n",
       "\n",
       "    .dataframe thead th {\n",
       "        text-align: right;\n",
       "    }\n",
       "</style>\n",
       "<table border=\"1\" class=\"dataframe\">\n",
       "  <thead>\n",
       "    <tr style=\"text-align: right;\">\n",
       "      <th></th>\n",
       "      <th>id</th>\n",
       "      <th>cast</th>\n",
       "      <th>director</th>\n",
       "      <th>genres</th>\n",
       "      <th>keywords</th>\n",
       "      <th>original_language</th>\n",
       "      <th>original_title</th>\n",
       "      <th>overview</th>\n",
       "      <th>combined</th>\n",
       "      <th>tags</th>\n",
       "    </tr>\n",
       "  </thead>\n",
       "  <tbody>\n",
       "    <tr>\n",
       "      <th>0</th>\n",
       "      <td>19995</td>\n",
       "      <td>[SamWorthington, ZoeSaldana, SigourneyWeaver]</td>\n",
       "      <td>[JamesCameron]</td>\n",
       "      <td>[Action, Adventure, Fantasy, Science Fiction]</td>\n",
       "      <td>[culture clash, future, space war, space colon...</td>\n",
       "      <td>en</td>\n",
       "      <td>Avatar</td>\n",
       "      <td>22nd century paraplegic marine dispatch moon ...</td>\n",
       "      <td>SamWorthington ZoeSaldana SigourneyWeaver Jame...</td>\n",
       "      <td>SamWorthington ZoeSaldana SigourneyWeaver Jame...</td>\n",
       "    </tr>\n",
       "  </tbody>\n",
       "</table>\n",
       "</div>"
      ],
      "text/plain": [
       "      id                                           cast        director  \\\n",
       "0  19995  [SamWorthington, ZoeSaldana, SigourneyWeaver]  [JamesCameron]   \n",
       "\n",
       "                                          genres  \\\n",
       "0  [Action, Adventure, Fantasy, Science Fiction]   \n",
       "\n",
       "                                            keywords original_language  \\\n",
       "0  [culture clash, future, space war, space colon...                en   \n",
       "\n",
       "  original_title                                           overview  \\\n",
       "0         Avatar   22nd century paraplegic marine dispatch moon ...   \n",
       "\n",
       "                                            combined  \\\n",
       "0  SamWorthington ZoeSaldana SigourneyWeaver Jame...   \n",
       "\n",
       "                                                tags  \n",
       "0  SamWorthington ZoeSaldana SigourneyWeaver Jame...  "
      ]
     },
     "execution_count": 959,
     "metadata": {},
     "output_type": "execute_result"
    }
   ],
   "source": [
    "df2.head(1)"
   ]
  },
  {
   "cell_type": "code",
   "execution_count": 960,
   "id": "ac6475ad-f247-42f9-a0bb-5fee6768257d",
   "metadata": {},
   "outputs": [
    {
     "data": {
      "text/plain": [
       "'SamWorthington ZoeSaldana SigourneyWeaver JamesCameron Action Adventure Fantasy Science Fiction culture clash future space war space colony society space travel futuristic romance space alien tribe alien planet cgi marine soldier battle love affair anti war power relations mind and soul 3d 22nd century paraplegic marine dispatch moon pandora unique mission become torn follow order protect alien civilization  en'"
      ]
     },
     "execution_count": 960,
     "metadata": {},
     "output_type": "execute_result"
    }
   ],
   "source": [
    "df2.iloc[0, 9]"
   ]
  },
  {
   "cell_type": "code",
   "execution_count": 961,
   "id": "41dd80cb-d2ab-4943-aa41-a17fbcd09d06",
   "metadata": {},
   "outputs": [
    {
     "data": {
      "text/plain": [
       "'samworthington'"
      ]
     },
     "execution_count": 961,
     "metadata": {},
     "output_type": "execute_result"
    }
   ],
   "source": [
    "flatten_corpus[0][0]"
   ]
  },
  {
   "cell_type": "code",
   "execution_count": 962,
   "id": "247f7aff-1ebb-4c1a-be1a-eee56746a63a",
   "metadata": {},
   "outputs": [],
   "source": [
    "#Building vocabulary\n",
    "vocabulary = set(model.wv.index_to_key)"
   ]
  },
  {
   "cell_type": "code",
   "execution_count": 964,
   "id": "4fa09e14-0e24-4365-960b-608086ffaa03",
   "metadata": {},
   "outputs": [],
   "source": [
    "ls = []\n",
    "unique_words = []\n",
    "avg_embeddings = None\n",
    "vectors = []\n",
    "final_embeddings = []\n",
    "for i in range(len(flatten_corpus)):   \n",
    "    ls = []\n",
    "    unique_words = []\n",
    "    vectors = []\n",
    "    for j in range(len(flatten_corpus[i])):\n",
    "        \n",
    "        if flatten_corpus[i][j] in vocabulary: \n",
    "            \n",
    "            if avg_embeddings is None:\n",
    "                avg_embeddings = model.wv[flatten_corpus[i][j]]\n",
    "            else:\n",
    "                avg_embeddings = avg_embeddings + model.wv[flatten_corpus[i][j]]\n",
    "    # ls = list(chain.from_iterable(ls))\n",
    "    # unique_words = set(ls)\n",
    "    # print(len(ls), len(flatten_corpus[i]))\n",
    "    final_embeddings.append(avg_embeddings / len(avg_embeddings))\n",
    "# print(len(list(unique_words)))"
   ]
  },
  {
   "cell_type": "code",
   "execution_count": 965,
   "id": "ced2c226-88b9-42e9-aec7-c86479f0037c",
   "metadata": {},
   "outputs": [],
   "source": [
    "ls = []\n",
    "ls.append(model.wv[flatten_corpus[0][0]].tolist())\n",
    "# from itertools import \n",
    "ls = list(chain.from_iterable(ls))"
   ]
  },
  {
   "cell_type": "code",
   "execution_count": 966,
   "id": "4980fd18-341d-49c4-ac51-f76067a210ff",
   "metadata": {},
   "outputs": [
    {
     "data": {
      "text/plain": [
       "300"
      ]
     },
     "execution_count": 966,
     "metadata": {},
     "output_type": "execute_result"
    }
   ],
   "source": [
    "len(ls)"
   ]
  },
  {
   "cell_type": "code",
   "execution_count": 967,
   "id": "ed2f97fc-1fa4-4eb0-9d19-0a291aa68a04",
   "metadata": {},
   "outputs": [
    {
     "data": {
      "text/plain": [
       "56"
      ]
     },
     "execution_count": 967,
     "metadata": {},
     "output_type": "execute_result"
    }
   ],
   "source": [
    "len(flatten_corpus[0])"
   ]
  },
  {
   "cell_type": "code",
   "execution_count": 968,
   "id": "a7436e4d-56ff-41d5-b57f-e60a2896e7ae",
   "metadata": {},
   "outputs": [
    {
     "data": {
      "text/plain": [
       "(4800, 3)"
      ]
     },
     "execution_count": 968,
     "metadata": {},
     "output_type": "execute_result"
    }
   ],
   "source": [
    "movies.shape"
   ]
  },
  {
   "cell_type": "code",
   "execution_count": 970,
   "id": "ceb4047c-faac-4d35-9577-089593daa248",
   "metadata": {},
   "outputs": [
    {
     "data": {
      "text/plain": [
       "4880"
      ]
     },
     "execution_count": 970,
     "metadata": {},
     "output_type": "execute_result"
    }
   ],
   "source": [
    "len(final_embeddings)"
   ]
  },
  {
   "cell_type": "code",
   "execution_count": 971,
   "id": "e2bdc9fc-1c32-4916-bffa-c21b0d5f806b",
   "metadata": {},
   "outputs": [
    {
     "data": {
      "text/plain": [
       "array([-5.14829531e-02,  1.14777796e-01, -9.35303420e-02, -5.27457483e-02,\n",
       "        3.51996571e-02,  3.86656635e-02,  1.22189939e-01,  4.43594493e-02,\n",
       "        8.26359689e-02,  1.72754545e-02,  1.78036168e-02, -1.40037730e-01,\n",
       "        1.46883437e-02, -5.91281690e-02,  4.70935088e-03, -4.61956263e-02,\n",
       "        3.45332138e-02,  5.80490567e-02,  1.35118328e-02,  1.37831768e-04,\n",
       "       -3.74701396e-02,  4.68076989e-02, -2.99559943e-02, -2.81759966e-02,\n",
       "        4.29743342e-02,  4.34411764e-02, -7.68685564e-02,  1.60103862e-03,\n",
       "        1.87042058e-02, -3.71420458e-02, -9.91114452e-02, -4.12325747e-02,\n",
       "       -2.49973480e-02,  1.60220787e-02, -1.02085937e-02, -2.43153907e-02,\n",
       "        4.19333875e-02, -4.55206037e-02,  6.88868985e-02, -5.33580855e-02,\n",
       "        4.26935889e-02,  7.11045265e-02, -4.56308909e-02, -3.29872482e-02,\n",
       "       -6.96806982e-03,  6.16647005e-02, -1.06159635e-01,  1.23545483e-01,\n",
       "        1.07962810e-01,  3.69170755e-02, -3.93439047e-02, -1.80117600e-02,\n",
       "        6.33962229e-02,  6.51349500e-02, -6.86279535e-02,  1.51906550e-01,\n",
       "        1.14271834e-01,  3.95003036e-02,  7.86927640e-02,  8.74992013e-02,\n",
       "       -7.54134953e-02, -7.15415052e-04, -3.47302556e-02,  4.53582313e-03,\n",
       "       -1.55038135e-02,  6.74921973e-03, -4.65644896e-02,  4.15552408e-03,\n",
       "       -1.35153374e-02, -5.58122061e-03, -1.53182894e-01,  1.49184585e-01,\n",
       "        8.87613967e-02, -4.60192338e-02,  1.53605267e-02, -1.86497755e-02,\n",
       "        1.27710579e-02,  1.92833506e-02, -7.94286933e-03,  2.25236919e-02,\n",
       "        1.07925776e-02,  3.69001850e-02,  5.79499044e-02,  1.40651479e-01,\n",
       "        1.88992042e-02,  2.37043928e-02, -7.27822483e-02, -5.88216223e-02,\n",
       "        7.95210674e-02,  3.40548716e-02,  7.75600821e-02,  2.91823447e-02,\n",
       "       -1.81828365e-02, -1.07249692e-02,  1.76424962e-02,  1.26024112e-01,\n",
       "        7.98972100e-02, -2.72097941e-02, -6.04968332e-03, -3.87885422e-03,\n",
       "        1.75412502e-02, -2.14494541e-02,  3.72316688e-02, -8.13079774e-02,\n",
       "        1.44570813e-01,  2.68802419e-02,  7.59591907e-02,  5.04943589e-03,\n",
       "        4.17209044e-02, -1.62194241e-02, -3.63559951e-03, -1.48780979e-02,\n",
       "        8.24108571e-02,  7.49891996e-02, -3.97429876e-02,  2.16810275e-02,\n",
       "       -6.49076253e-02, -3.68933356e-03,  4.00413126e-02, -5.90976663e-02,\n",
       "        9.15620402e-02, -4.61948328e-02, -2.75942753e-03,  6.93460405e-02,\n",
       "       -2.81949751e-02, -1.37831211e-01,  6.64564595e-02, -6.92654699e-02,\n",
       "        5.34696579e-02,  7.75232445e-04,  5.54809384e-02,  9.93670300e-02,\n",
       "       -1.52928066e-02, -1.55049805e-02,  6.48559406e-02, -1.36385541e-04,\n",
       "        5.81328571e-02, -5.85984290e-02, -5.07626049e-02, -8.33649859e-02,\n",
       "       -6.48234924e-03,  8.23837239e-04,  6.49738545e-03,  8.48810524e-02,\n",
       "        2.47608796e-02,  3.45640071e-02, -9.58307981e-02,  6.67892173e-02,\n",
       "        2.70714052e-02,  4.96715605e-02,  6.30827621e-02, -1.07950708e-02,\n",
       "       -2.96470593e-03,  6.37550056e-02, -4.70635369e-02, -1.92893799e-02,\n",
       "       -6.09829929e-03, -1.86931286e-02, -4.06301720e-03,  1.19831480e-01,\n",
       "       -3.31236124e-02,  8.87331739e-02, -4.68909442e-02,  1.05652966e-01,\n",
       "       -8.62902105e-02,  8.64224695e-03, -3.69385071e-02, -6.78845197e-02,\n",
       "       -6.03062548e-02,  7.57156461e-02, -8.48311745e-03,  3.83232087e-02,\n",
       "        4.22592461e-02,  8.82843509e-03, -5.58754168e-02, -5.42396307e-02,\n",
       "        6.71750214e-03, -1.71515211e-01, -2.30243523e-02, -4.26833257e-02,\n",
       "       -2.26145354e-03, -5.25095537e-02, -1.78040583e-02, -1.71601698e-02,\n",
       "        3.49803679e-02,  4.40921225e-02,  1.01087220e-01,  6.16205670e-02,\n",
       "        8.15061294e-03,  3.34677249e-02, -4.08206545e-02,  6.75030425e-02,\n",
       "       -7.08126128e-02,  1.86708681e-02, -2.20815595e-02,  1.37620512e-02,\n",
       "       -1.03162177e-01, -8.00810233e-02, -1.47956582e-02,  5.91566004e-02,\n",
       "       -1.29802050e-02,  4.25893292e-02,  2.48631020e-03, -8.68738890e-02,\n",
       "        8.88639763e-02,  3.90882008e-02, -2.92328671e-02,  1.66095644e-02,\n",
       "        2.39145216e-02,  1.02751078e-02, -6.43246844e-02, -1.34842217e-01,\n",
       "       -3.22246589e-02,  4.51723114e-02,  1.06856246e-02, -1.22406274e-01,\n",
       "        1.43573955e-02, -7.93161429e-03, -8.80187526e-02, -7.05204010e-02,\n",
       "        5.36522940e-02,  2.56930031e-02, -1.49676353e-01, -2.19526868e-02,\n",
       "        7.87942410e-02,  9.04516410e-03, -2.17213556e-02, -6.30268231e-02,\n",
       "       -5.34896739e-02, -5.07633574e-02, -2.39671078e-02,  7.99038857e-02,\n",
       "       -1.20926529e-01, -1.11601630e-03, -1.21180406e-02,  3.40660773e-02,\n",
       "       -7.23697692e-02,  7.89962802e-03,  1.33284286e-01, -7.04778805e-02,\n",
       "        3.16996239e-02, -4.36331928e-02, -5.58865108e-02,  1.76646467e-03,\n",
       "       -1.83048733e-02, -7.98432827e-02, -4.86063287e-02,  4.33869176e-02,\n",
       "        2.35614628e-02,  4.71522659e-02, -2.60952879e-02, -4.95612063e-02,\n",
       "       -4.11678515e-02, -2.29244232e-02,  2.31140642e-03,  5.22239842e-02,\n",
       "       -4.36793193e-02,  1.22896031e-01, -3.06228232e-02,  3.16216201e-02,\n",
       "        1.59400273e-02,  2.27067731e-02, -1.77101810e-02, -4.63856384e-02,\n",
       "       -8.54926780e-02, -5.98000968e-03, -3.15656327e-02, -4.36938033e-02,\n",
       "        7.67746195e-02, -2.52706502e-02, -4.82667163e-02,  7.35430941e-02,\n",
       "       -9.72267017e-02, -4.33870330e-02,  1.14545695e-01,  2.85429060e-02,\n",
       "        8.37770626e-02,  4.27086912e-02,  1.45842237e-02, -3.33783813e-02,\n",
       "        3.96085344e-02, -3.14949304e-02, -8.91163871e-02,  9.52086761e-04,\n",
       "       -6.90565333e-02,  1.23076253e-02,  7.13520683e-03,  2.83903945e-02,\n",
       "        7.48225376e-02, -2.52362788e-02, -3.70426588e-02,  8.89488235e-02,\n",
       "        1.70587637e-02, -2.71521211e-02,  5.45420460e-02,  1.04149636e-02,\n",
       "        3.48185338e-02, -8.87092552e-04,  3.11848950e-02,  1.17330179e-02],\n",
       "      dtype=float32)"
      ]
     },
     "execution_count": 971,
     "metadata": {},
     "output_type": "execute_result"
    }
   ],
   "source": [
    "final_embeddings[0]"
   ]
  },
  {
   "cell_type": "code",
   "execution_count": 972,
   "id": "012e8fd6-f743-4836-82ee-06e16cf11662",
   "metadata": {},
   "outputs": [],
   "source": [
    "import math"
   ]
  },
  {
   "cell_type": "code",
   "execution_count": 973,
   "id": "bfdb1b84-7f77-43f3-b42d-4c530f20ebc9",
   "metadata": {},
   "outputs": [],
   "source": [
    "def idx_of_movie_in_embeddings(string):\n",
    "    idx = movies[movies['original_title'] == string].index.values\n",
    "    idx = idx.tolist()[0]\n",
    "    return idx"
   ]
  },
  {
   "cell_type": "code",
   "execution_count": 974,
   "id": "269e281b-797d-4daf-961f-8c1ce5882c6d",
   "metadata": {},
   "outputs": [],
   "source": [
    "idx = idx_of_movie_in_embeddings('Spider-Man')"
   ]
  },
  {
   "cell_type": "code",
   "execution_count": 975,
   "id": "99256d03-315b-4984-80da-995d30ba2739",
   "metadata": {},
   "outputs": [
    {
     "data": {
      "text/plain": [
       "159"
      ]
     },
     "execution_count": 975,
     "metadata": {},
     "output_type": "execute_result"
    }
   ],
   "source": [
    "idx"
   ]
  },
  {
   "cell_type": "code",
   "execution_count": 977,
   "id": "2cb2cc76-e987-4ad5-9212-8cd7d3c0e47c",
   "metadata": {},
   "outputs": [
    {
     "data": {
      "text/plain": [
       "array([ -1.5271878 ,  11.038629  , -10.671763  ,  -4.9398584 ,\n",
       "         0.65617853,  -1.6575117 ,  16.073753  ,  10.064952  ,\n",
       "         3.7135108 ,   2.0512707 ,   1.3824459 , -18.787565  ,\n",
       "        -0.67115754,  -6.8972144 ,  -0.6164255 ,  -3.5547342 ,\n",
       "         4.8426285 ,   4.210514  ,   0.801046  ,  -4.7864294 ,\n",
       "        -8.473245  ,   4.403992  ,   4.187604  ,  -0.50785047,\n",
       "         5.1618476 ,   5.347027  ,  -5.7591352 ,   0.06970948,\n",
       "        -1.2199731 ,  -6.536593  ,  -4.9908195 ,  -2.835049  ,\n",
       "         0.2878127 ,  -0.60642743,  -1.1666635 ,   1.1596926 ,\n",
       "         5.836886  ,  -9.794869  ,   7.0130014 ,  -7.0143385 ,\n",
       "         3.4111364 ,   7.111341  ,  -1.6777534 ,  -5.923752  ,\n",
       "         0.06742737,   5.8470173 ,  -8.922242  ,  18.026018  ,\n",
       "         9.382859  ,   1.8570839 ,   2.8529596 ,  -0.85638654,\n",
       "         2.3306234 ,   3.9295325 ,  -5.6261864 ,  17.04962   ,\n",
       "        11.103247  ,   6.236053  ,  11.973421  ,   9.603856  ,\n",
       "        -5.9850736 ,  -0.05754184,  -4.209574  ,   2.4610236 ,\n",
       "         4.3368907 ,  -0.44417349,  -2.2846825 ,  -1.3356394 ,\n",
       "        -3.5457942 ,   0.6904904 , -12.627628  ,  12.563991  ,\n",
       "         8.072685  ,  -7.4354916 ,   1.1618606 ,   1.4596353 ,\n",
       "        -2.5738542 ,  -2.0083098 ,  -0.21008487,   6.9086533 ,\n",
       "        -1.0715965 ,  -4.1660786 ,   5.701445  ,  16.493803  ,\n",
       "         5.5920897 ,  -1.0242397 ,  -7.4550877 ,  -3.8801205 ,\n",
       "        16.287882  ,   7.184348  ,   7.1052327 ,   0.32595253,\n",
       "         3.1344075 ,  -1.5045202 ,   4.70162   ,  12.53563   ,\n",
       "        11.408261  ,  -4.4299803 ,  -4.2793665 ,   6.0915823 ,\n",
       "         2.1251261 ,  -0.38982418,   7.35772   ,  -4.56052   ,\n",
       "         9.718987  ,  -1.2851628 ,   5.177232  ,  -0.1083432 ,\n",
       "         0.64786786,  -4.5971165 ,  -2.1617281 ,  -7.814248  ,\n",
       "        10.174476  ,   9.124615  ,  -2.3833435 ,   5.392134  ,\n",
       "        -4.516148  ,  -3.7639627 ,   8.4834175 ,  -9.525999  ,\n",
       "         7.4935594 ,  -0.1114754 ,   6.6945148 ,   5.605933  ,\n",
       "        -2.5276132 ,  -8.224468  ,   4.559656  , -12.450667  ,\n",
       "         1.8660616 ,  -0.05392791,   9.337948  ,  11.551717  ,\n",
       "         0.35614902,  -3.9433024 ,   3.8092415 ,  -1.8412038 ,\n",
       "         7.055983  , -11.176149  ,  -9.635345  , -10.587859  ,\n",
       "        -1.4325163 ,  -4.3390613 ,   2.4573843 ,   6.5352483 ,\n",
       "         2.8469415 ,  -1.0326283 , -11.420937  ,   4.4920015 ,\n",
       "         2.9917793 ,   3.1460688 ,   2.6264727 ,  -6.4870625 ,\n",
       "        -3.0941534 ,   2.9971795 ,  -1.9396644 ,  -0.41661972,\n",
       "        -3.5512688 ,  -3.9420407 ,   2.9218867 ,  14.129341  ,\n",
       "         0.951919  ,   7.168047  ,  -8.777566  ,  10.628127  ,\n",
       "        -9.226166  ,   3.798665  ,   0.7483142 ,  -7.959057  ,\n",
       "        -4.954949  ,  14.636599  ,   0.2498965 ,   2.7886362 ,\n",
       "         3.3872044 ,   1.8259039 ,  -9.706617  ,  -4.1100497 ,\n",
       "         3.4361093 , -17.083145  ,  -1.7469462 ,  -3.719031  ,\n",
       "        -1.3532848 ,  -2.0705569 ,  -4.8017397 ,  -2.389145  ,\n",
       "        -0.84520596,   5.878245  ,  15.103949  ,   9.627692  ,\n",
       "        -1.9237205 ,  -1.9769047 ,  -5.8617516 ,   6.627953  ,\n",
       "       -11.92152   ,  -1.3426379 ,  -3.072802  ,  -2.907374  ,\n",
       "        -8.4547825 ,  -9.56312   ,   3.7677393 ,   5.9683566 ,\n",
       "        -1.7966257 ,   5.081146  ,  -4.1363316 ,  -8.054616  ,\n",
       "         5.278204  ,   2.122232  ,  -6.629644  ,   0.80243033,\n",
       "         1.0982608 ,   1.9401041 ,  -1.4738799 , -14.021282  ,\n",
       "        -6.3446    ,   3.9672    ,   2.4670508 , -10.469907  ,\n",
       "         1.2736903 ,  -8.711974  , -11.347897  ,  -6.1164174 ,\n",
       "         7.7952833 ,   2.8289073 , -10.267263  ,  -3.3463945 ,\n",
       "         3.397504  ,  -0.8306408 ,  -3.3275912 ,  -1.5497795 ,\n",
       "        -5.619524  ,  -1.0060045 ,   0.97461843,   7.1367674 ,\n",
       "       -11.991466  ,   5.5030813 ,   1.797874  ,   3.8121188 ,\n",
       "        -6.948593  ,   1.3250413 ,   8.411069  ,  -8.998394  ,\n",
       "         3.4738004 ,  -8.802688  ,  -9.754485  ,   3.7543352 ,\n",
       "        -1.7989064 , -10.1110525 ,  -3.516065  ,   4.64987   ,\n",
       "         2.91146   ,   4.391964  ,  -2.1494157 ,   0.7094622 ,\n",
       "         0.25561514,  -4.3171935 ,  -4.039221  ,   1.9698527 ,\n",
       "         0.35169914,  12.109556  , -10.9631815 ,  -0.6993512 ,\n",
       "         4.1701455 ,   4.579577  ,  -4.0332556 , -11.916884  ,\n",
       "       -10.673589  ,   0.74922585,  -0.46298924,   0.82099056,\n",
       "         3.1534166 ,   0.6251228 ,  -7.8984694 ,   3.253772  ,\n",
       "        -6.8424935 ,  -2.8014653 ,  13.940425  ,   1.1698047 ,\n",
       "        15.23592   ,   5.8584723 ,  -0.3930972 ,  -0.9461324 ,\n",
       "         3.0005023 ,  -0.38655797,  -9.679058  ,   2.4863029 ,\n",
       "       -10.009641  ,  -4.702541  ,  -7.3682837 ,   1.6218013 ,\n",
       "         8.837211  ,   2.168534  ,  -3.8639185 ,  11.58012   ,\n",
       "         6.0887465 ,  -2.8762412 ,   8.955067  ,   4.314564  ,\n",
       "         3.8414905 ,  -2.2891922 ,   8.459658  ,   3.1461265 ],\n",
       "      dtype=float32)"
      ]
     },
     "execution_count": 977,
     "metadata": {},
     "output_type": "execute_result"
    }
   ],
   "source": [
    "final_embeddings[idx]"
   ]
  },
  {
   "cell_type": "code",
   "execution_count": 978,
   "id": "e723575c-abb9-4974-8d81-aba814e36bf6",
   "metadata": {},
   "outputs": [],
   "source": [
    "#Cosine Similarity"
   ]
  },
  {
   "cell_type": "code",
   "execution_count": 979,
   "id": "8cf90d46-9492-4f6d-bc30-dbe2a5d084c5",
   "metadata": {},
   "outputs": [],
   "source": [
    "from sklearn.metrics.pairwise import cosine_similarity"
   ]
  },
  {
   "cell_type": "code",
   "execution_count": 983,
   "id": "1a1adfa8-7401-425f-a577-af3cc4447286",
   "metadata": {},
   "outputs": [],
   "source": [
    "similarity_df = pd.DataFrame(final_embeddings)"
   ]
  },
  {
   "cell_type": "code",
   "execution_count": 984,
   "id": "30c4e034-7160-426e-865c-360c1520a799",
   "metadata": {},
   "outputs": [
    {
     "data": {
      "text/html": [
       "<div>\n",
       "<style scoped>\n",
       "    .dataframe tbody tr th:only-of-type {\n",
       "        vertical-align: middle;\n",
       "    }\n",
       "\n",
       "    .dataframe tbody tr th {\n",
       "        vertical-align: top;\n",
       "    }\n",
       "\n",
       "    .dataframe thead th {\n",
       "        text-align: right;\n",
       "    }\n",
       "</style>\n",
       "<table border=\"1\" class=\"dataframe\">\n",
       "  <thead>\n",
       "    <tr style=\"text-align: right;\">\n",
       "      <th></th>\n",
       "      <th>0</th>\n",
       "      <th>1</th>\n",
       "      <th>2</th>\n",
       "      <th>3</th>\n",
       "      <th>4</th>\n",
       "      <th>5</th>\n",
       "      <th>6</th>\n",
       "      <th>7</th>\n",
       "      <th>8</th>\n",
       "      <th>9</th>\n",
       "      <th>10</th>\n",
       "      <th>11</th>\n",
       "      <th>12</th>\n",
       "      <th>13</th>\n",
       "      <th>14</th>\n",
       "      <th>15</th>\n",
       "      <th>16</th>\n",
       "      <th>17</th>\n",
       "      <th>18</th>\n",
       "      <th>19</th>\n",
       "      <th>20</th>\n",
       "      <th>21</th>\n",
       "      <th>22</th>\n",
       "      <th>23</th>\n",
       "      <th>24</th>\n",
       "      <th>25</th>\n",
       "      <th>26</th>\n",
       "      <th>27</th>\n",
       "      <th>28</th>\n",
       "      <th>29</th>\n",
       "      <th>30</th>\n",
       "      <th>31</th>\n",
       "      <th>32</th>\n",
       "      <th>33</th>\n",
       "      <th>34</th>\n",
       "      <th>35</th>\n",
       "      <th>36</th>\n",
       "      <th>37</th>\n",
       "      <th>38</th>\n",
       "      <th>39</th>\n",
       "      <th>40</th>\n",
       "      <th>41</th>\n",
       "      <th>42</th>\n",
       "      <th>43</th>\n",
       "      <th>44</th>\n",
       "      <th>45</th>\n",
       "      <th>46</th>\n",
       "      <th>47</th>\n",
       "      <th>48</th>\n",
       "      <th>49</th>\n",
       "      <th>50</th>\n",
       "      <th>51</th>\n",
       "      <th>52</th>\n",
       "      <th>53</th>\n",
       "      <th>54</th>\n",
       "      <th>55</th>\n",
       "      <th>56</th>\n",
       "      <th>57</th>\n",
       "      <th>58</th>\n",
       "      <th>59</th>\n",
       "      <th>60</th>\n",
       "      <th>61</th>\n",
       "      <th>62</th>\n",
       "      <th>63</th>\n",
       "      <th>64</th>\n",
       "      <th>65</th>\n",
       "      <th>66</th>\n",
       "      <th>67</th>\n",
       "      <th>68</th>\n",
       "      <th>69</th>\n",
       "      <th>70</th>\n",
       "      <th>71</th>\n",
       "      <th>72</th>\n",
       "      <th>73</th>\n",
       "      <th>74</th>\n",
       "      <th>75</th>\n",
       "      <th>76</th>\n",
       "      <th>77</th>\n",
       "      <th>78</th>\n",
       "      <th>79</th>\n",
       "      <th>80</th>\n",
       "      <th>81</th>\n",
       "      <th>82</th>\n",
       "      <th>83</th>\n",
       "      <th>84</th>\n",
       "      <th>85</th>\n",
       "      <th>86</th>\n",
       "      <th>87</th>\n",
       "      <th>88</th>\n",
       "      <th>89</th>\n",
       "      <th>90</th>\n",
       "      <th>91</th>\n",
       "      <th>92</th>\n",
       "      <th>93</th>\n",
       "      <th>94</th>\n",
       "      <th>95</th>\n",
       "      <th>96</th>\n",
       "      <th>97</th>\n",
       "      <th>98</th>\n",
       "      <th>99</th>\n",
       "      <th>100</th>\n",
       "      <th>101</th>\n",
       "      <th>102</th>\n",
       "      <th>103</th>\n",
       "      <th>104</th>\n",
       "      <th>105</th>\n",
       "      <th>106</th>\n",
       "      <th>107</th>\n",
       "      <th>108</th>\n",
       "      <th>109</th>\n",
       "      <th>110</th>\n",
       "      <th>111</th>\n",
       "      <th>112</th>\n",
       "      <th>113</th>\n",
       "      <th>114</th>\n",
       "      <th>115</th>\n",
       "      <th>116</th>\n",
       "      <th>117</th>\n",
       "      <th>118</th>\n",
       "      <th>119</th>\n",
       "      <th>120</th>\n",
       "      <th>121</th>\n",
       "      <th>122</th>\n",
       "      <th>123</th>\n",
       "      <th>124</th>\n",
       "      <th>125</th>\n",
       "      <th>126</th>\n",
       "      <th>127</th>\n",
       "      <th>128</th>\n",
       "      <th>129</th>\n",
       "      <th>130</th>\n",
       "      <th>131</th>\n",
       "      <th>132</th>\n",
       "      <th>133</th>\n",
       "      <th>134</th>\n",
       "      <th>135</th>\n",
       "      <th>136</th>\n",
       "      <th>137</th>\n",
       "      <th>138</th>\n",
       "      <th>139</th>\n",
       "      <th>140</th>\n",
       "      <th>141</th>\n",
       "      <th>142</th>\n",
       "      <th>143</th>\n",
       "      <th>144</th>\n",
       "      <th>145</th>\n",
       "      <th>146</th>\n",
       "      <th>147</th>\n",
       "      <th>148</th>\n",
       "      <th>149</th>\n",
       "      <th>150</th>\n",
       "      <th>151</th>\n",
       "      <th>152</th>\n",
       "      <th>153</th>\n",
       "      <th>154</th>\n",
       "      <th>155</th>\n",
       "      <th>156</th>\n",
       "      <th>157</th>\n",
       "      <th>158</th>\n",
       "      <th>159</th>\n",
       "      <th>160</th>\n",
       "      <th>161</th>\n",
       "      <th>162</th>\n",
       "      <th>163</th>\n",
       "      <th>164</th>\n",
       "      <th>165</th>\n",
       "      <th>166</th>\n",
       "      <th>167</th>\n",
       "      <th>168</th>\n",
       "      <th>169</th>\n",
       "      <th>170</th>\n",
       "      <th>171</th>\n",
       "      <th>172</th>\n",
       "      <th>173</th>\n",
       "      <th>174</th>\n",
       "      <th>175</th>\n",
       "      <th>176</th>\n",
       "      <th>177</th>\n",
       "      <th>178</th>\n",
       "      <th>179</th>\n",
       "      <th>180</th>\n",
       "      <th>181</th>\n",
       "      <th>182</th>\n",
       "      <th>183</th>\n",
       "      <th>184</th>\n",
       "      <th>185</th>\n",
       "      <th>186</th>\n",
       "      <th>187</th>\n",
       "      <th>188</th>\n",
       "      <th>189</th>\n",
       "      <th>190</th>\n",
       "      <th>191</th>\n",
       "      <th>192</th>\n",
       "      <th>193</th>\n",
       "      <th>194</th>\n",
       "      <th>195</th>\n",
       "      <th>196</th>\n",
       "      <th>197</th>\n",
       "      <th>198</th>\n",
       "      <th>199</th>\n",
       "      <th>200</th>\n",
       "      <th>201</th>\n",
       "      <th>202</th>\n",
       "      <th>203</th>\n",
       "      <th>204</th>\n",
       "      <th>205</th>\n",
       "      <th>206</th>\n",
       "      <th>207</th>\n",
       "      <th>208</th>\n",
       "      <th>209</th>\n",
       "      <th>210</th>\n",
       "      <th>211</th>\n",
       "      <th>212</th>\n",
       "      <th>213</th>\n",
       "      <th>214</th>\n",
       "      <th>215</th>\n",
       "      <th>216</th>\n",
       "      <th>217</th>\n",
       "      <th>218</th>\n",
       "      <th>219</th>\n",
       "      <th>220</th>\n",
       "      <th>221</th>\n",
       "      <th>222</th>\n",
       "      <th>223</th>\n",
       "      <th>224</th>\n",
       "      <th>225</th>\n",
       "      <th>226</th>\n",
       "      <th>227</th>\n",
       "      <th>228</th>\n",
       "      <th>229</th>\n",
       "      <th>230</th>\n",
       "      <th>231</th>\n",
       "      <th>232</th>\n",
       "      <th>233</th>\n",
       "      <th>234</th>\n",
       "      <th>235</th>\n",
       "      <th>236</th>\n",
       "      <th>237</th>\n",
       "      <th>238</th>\n",
       "      <th>239</th>\n",
       "      <th>240</th>\n",
       "      <th>241</th>\n",
       "      <th>242</th>\n",
       "      <th>243</th>\n",
       "      <th>244</th>\n",
       "      <th>245</th>\n",
       "      <th>246</th>\n",
       "      <th>247</th>\n",
       "      <th>248</th>\n",
       "      <th>249</th>\n",
       "      <th>250</th>\n",
       "      <th>251</th>\n",
       "      <th>252</th>\n",
       "      <th>253</th>\n",
       "      <th>254</th>\n",
       "      <th>255</th>\n",
       "      <th>256</th>\n",
       "      <th>257</th>\n",
       "      <th>258</th>\n",
       "      <th>259</th>\n",
       "      <th>260</th>\n",
       "      <th>261</th>\n",
       "      <th>262</th>\n",
       "      <th>263</th>\n",
       "      <th>264</th>\n",
       "      <th>265</th>\n",
       "      <th>266</th>\n",
       "      <th>267</th>\n",
       "      <th>268</th>\n",
       "      <th>269</th>\n",
       "      <th>270</th>\n",
       "      <th>271</th>\n",
       "      <th>272</th>\n",
       "      <th>273</th>\n",
       "      <th>274</th>\n",
       "      <th>275</th>\n",
       "      <th>276</th>\n",
       "      <th>277</th>\n",
       "      <th>278</th>\n",
       "      <th>279</th>\n",
       "      <th>280</th>\n",
       "      <th>281</th>\n",
       "      <th>282</th>\n",
       "      <th>283</th>\n",
       "      <th>284</th>\n",
       "      <th>285</th>\n",
       "      <th>286</th>\n",
       "      <th>287</th>\n",
       "      <th>288</th>\n",
       "      <th>289</th>\n",
       "      <th>290</th>\n",
       "      <th>291</th>\n",
       "      <th>292</th>\n",
       "      <th>293</th>\n",
       "      <th>294</th>\n",
       "      <th>295</th>\n",
       "      <th>296</th>\n",
       "      <th>297</th>\n",
       "      <th>298</th>\n",
       "      <th>299</th>\n",
       "    </tr>\n",
       "  </thead>\n",
       "  <tbody>\n",
       "    <tr>\n",
       "      <th>0</th>\n",
       "      <td>-0.051483</td>\n",
       "      <td>0.114778</td>\n",
       "      <td>-0.09353</td>\n",
       "      <td>-0.052746</td>\n",
       "      <td>0.0352</td>\n",
       "      <td>0.038666</td>\n",
       "      <td>0.12219</td>\n",
       "      <td>0.044359</td>\n",
       "      <td>0.082636</td>\n",
       "      <td>0.017275</td>\n",
       "      <td>0.017804</td>\n",
       "      <td>-0.140038</td>\n",
       "      <td>0.014688</td>\n",
       "      <td>-0.059128</td>\n",
       "      <td>0.004709</td>\n",
       "      <td>-0.046196</td>\n",
       "      <td>0.034533</td>\n",
       "      <td>0.058049</td>\n",
       "      <td>0.013512</td>\n",
       "      <td>0.000138</td>\n",
       "      <td>-0.03747</td>\n",
       "      <td>0.046808</td>\n",
       "      <td>-0.029956</td>\n",
       "      <td>-0.028176</td>\n",
       "      <td>0.042974</td>\n",
       "      <td>0.043441</td>\n",
       "      <td>-0.076869</td>\n",
       "      <td>0.001601</td>\n",
       "      <td>0.018704</td>\n",
       "      <td>-0.037142</td>\n",
       "      <td>-0.099111</td>\n",
       "      <td>-0.041233</td>\n",
       "      <td>-0.024997</td>\n",
       "      <td>0.016022</td>\n",
       "      <td>-0.010209</td>\n",
       "      <td>-0.024315</td>\n",
       "      <td>0.041933</td>\n",
       "      <td>-0.045521</td>\n",
       "      <td>0.068887</td>\n",
       "      <td>-0.053358</td>\n",
       "      <td>0.042694</td>\n",
       "      <td>0.071105</td>\n",
       "      <td>-0.045631</td>\n",
       "      <td>-0.032987</td>\n",
       "      <td>-0.006968</td>\n",
       "      <td>0.061665</td>\n",
       "      <td>-0.10616</td>\n",
       "      <td>0.123545</td>\n",
       "      <td>0.107963</td>\n",
       "      <td>0.036917</td>\n",
       "      <td>-0.039344</td>\n",
       "      <td>-0.018012</td>\n",
       "      <td>0.063396</td>\n",
       "      <td>0.065135</td>\n",
       "      <td>-0.068628</td>\n",
       "      <td>0.151907</td>\n",
       "      <td>0.114272</td>\n",
       "      <td>0.0395</td>\n",
       "      <td>0.078693</td>\n",
       "      <td>0.087499</td>\n",
       "      <td>-0.075413</td>\n",
       "      <td>-0.000715</td>\n",
       "      <td>-0.03473</td>\n",
       "      <td>0.004536</td>\n",
       "      <td>-0.015504</td>\n",
       "      <td>0.006749</td>\n",
       "      <td>-0.046564</td>\n",
       "      <td>0.004156</td>\n",
       "      <td>-0.013515</td>\n",
       "      <td>-0.005581</td>\n",
       "      <td>-0.153183</td>\n",
       "      <td>0.149185</td>\n",
       "      <td>0.088761</td>\n",
       "      <td>-0.046019</td>\n",
       "      <td>0.015361</td>\n",
       "      <td>-0.01865</td>\n",
       "      <td>0.012771</td>\n",
       "      <td>0.019283</td>\n",
       "      <td>-0.007943</td>\n",
       "      <td>0.022524</td>\n",
       "      <td>0.010793</td>\n",
       "      <td>0.0369</td>\n",
       "      <td>0.05795</td>\n",
       "      <td>0.140651</td>\n",
       "      <td>0.018899</td>\n",
       "      <td>0.023704</td>\n",
       "      <td>-0.072782</td>\n",
       "      <td>-0.058822</td>\n",
       "      <td>0.079521</td>\n",
       "      <td>0.034055</td>\n",
       "      <td>0.07756</td>\n",
       "      <td>0.029182</td>\n",
       "      <td>-0.018183</td>\n",
       "      <td>-0.010725</td>\n",
       "      <td>0.017642</td>\n",
       "      <td>0.126024</td>\n",
       "      <td>0.079897</td>\n",
       "      <td>-0.02721</td>\n",
       "      <td>-0.00605</td>\n",
       "      <td>-0.003879</td>\n",
       "      <td>0.017541</td>\n",
       "      <td>-0.021449</td>\n",
       "      <td>0.037232</td>\n",
       "      <td>-0.081308</td>\n",
       "      <td>0.144571</td>\n",
       "      <td>0.02688</td>\n",
       "      <td>0.075959</td>\n",
       "      <td>0.005049</td>\n",
       "      <td>0.041721</td>\n",
       "      <td>-0.016219</td>\n",
       "      <td>-0.003636</td>\n",
       "      <td>-0.014878</td>\n",
       "      <td>0.082411</td>\n",
       "      <td>0.074989</td>\n",
       "      <td>-0.039743</td>\n",
       "      <td>0.021681</td>\n",
       "      <td>-0.064908</td>\n",
       "      <td>-0.003689</td>\n",
       "      <td>0.040041</td>\n",
       "      <td>-0.059098</td>\n",
       "      <td>0.091562</td>\n",
       "      <td>-0.046195</td>\n",
       "      <td>-0.002759</td>\n",
       "      <td>0.069346</td>\n",
       "      <td>-0.028195</td>\n",
       "      <td>-0.137831</td>\n",
       "      <td>0.066456</td>\n",
       "      <td>-0.069265</td>\n",
       "      <td>0.05347</td>\n",
       "      <td>0.000775</td>\n",
       "      <td>0.055481</td>\n",
       "      <td>0.099367</td>\n",
       "      <td>-0.015293</td>\n",
       "      <td>-0.015505</td>\n",
       "      <td>0.064856</td>\n",
       "      <td>-0.000136</td>\n",
       "      <td>0.058133</td>\n",
       "      <td>-0.058598</td>\n",
       "      <td>-0.050763</td>\n",
       "      <td>-0.083365</td>\n",
       "      <td>-0.006482</td>\n",
       "      <td>0.000824</td>\n",
       "      <td>0.006497</td>\n",
       "      <td>0.084881</td>\n",
       "      <td>0.024761</td>\n",
       "      <td>0.034564</td>\n",
       "      <td>-0.095831</td>\n",
       "      <td>0.066789</td>\n",
       "      <td>0.027071</td>\n",
       "      <td>0.049672</td>\n",
       "      <td>0.063083</td>\n",
       "      <td>-0.010795</td>\n",
       "      <td>-0.002965</td>\n",
       "      <td>0.063755</td>\n",
       "      <td>-0.047064</td>\n",
       "      <td>-0.019289</td>\n",
       "      <td>-0.006098</td>\n",
       "      <td>-0.018693</td>\n",
       "      <td>-0.004063</td>\n",
       "      <td>0.119831</td>\n",
       "      <td>-0.033124</td>\n",
       "      <td>0.088733</td>\n",
       "      <td>-0.046891</td>\n",
       "      <td>0.105653</td>\n",
       "      <td>-0.08629</td>\n",
       "      <td>0.008642</td>\n",
       "      <td>-0.036939</td>\n",
       "      <td>-0.067885</td>\n",
       "      <td>-0.060306</td>\n",
       "      <td>0.075716</td>\n",
       "      <td>-0.008483</td>\n",
       "      <td>0.038323</td>\n",
       "      <td>0.042259</td>\n",
       "      <td>0.008828</td>\n",
       "      <td>-0.055875</td>\n",
       "      <td>-0.05424</td>\n",
       "      <td>0.006718</td>\n",
       "      <td>-0.171515</td>\n",
       "      <td>-0.023024</td>\n",
       "      <td>-0.042683</td>\n",
       "      <td>-0.002261</td>\n",
       "      <td>-0.05251</td>\n",
       "      <td>-0.017804</td>\n",
       "      <td>-0.01716</td>\n",
       "      <td>0.03498</td>\n",
       "      <td>0.044092</td>\n",
       "      <td>0.101087</td>\n",
       "      <td>0.061621</td>\n",
       "      <td>0.008151</td>\n",
       "      <td>0.033468</td>\n",
       "      <td>-0.040821</td>\n",
       "      <td>0.067503</td>\n",
       "      <td>-0.070813</td>\n",
       "      <td>0.018671</td>\n",
       "      <td>-0.022082</td>\n",
       "      <td>0.013762</td>\n",
       "      <td>-0.103162</td>\n",
       "      <td>-0.080081</td>\n",
       "      <td>-0.014796</td>\n",
       "      <td>0.059157</td>\n",
       "      <td>-0.01298</td>\n",
       "      <td>0.042589</td>\n",
       "      <td>0.002486</td>\n",
       "      <td>-0.086874</td>\n",
       "      <td>0.088864</td>\n",
       "      <td>0.039088</td>\n",
       "      <td>-0.029233</td>\n",
       "      <td>0.01661</td>\n",
       "      <td>0.023915</td>\n",
       "      <td>0.010275</td>\n",
       "      <td>-0.064325</td>\n",
       "      <td>-0.134842</td>\n",
       "      <td>-0.032225</td>\n",
       "      <td>0.045172</td>\n",
       "      <td>0.010686</td>\n",
       "      <td>-0.122406</td>\n",
       "      <td>0.014357</td>\n",
       "      <td>-0.007932</td>\n",
       "      <td>-0.088019</td>\n",
       "      <td>-0.07052</td>\n",
       "      <td>0.053652</td>\n",
       "      <td>0.025693</td>\n",
       "      <td>-0.149676</td>\n",
       "      <td>-0.021953</td>\n",
       "      <td>0.078794</td>\n",
       "      <td>0.009045</td>\n",
       "      <td>-0.021721</td>\n",
       "      <td>-0.063027</td>\n",
       "      <td>-0.05349</td>\n",
       "      <td>-0.050763</td>\n",
       "      <td>-0.023967</td>\n",
       "      <td>0.079904</td>\n",
       "      <td>-0.120927</td>\n",
       "      <td>-0.001116</td>\n",
       "      <td>-0.012118</td>\n",
       "      <td>0.034066</td>\n",
       "      <td>-0.07237</td>\n",
       "      <td>0.0079</td>\n",
       "      <td>0.133284</td>\n",
       "      <td>-0.070478</td>\n",
       "      <td>0.0317</td>\n",
       "      <td>-0.043633</td>\n",
       "      <td>-0.055887</td>\n",
       "      <td>0.001766</td>\n",
       "      <td>-0.018305</td>\n",
       "      <td>-0.079843</td>\n",
       "      <td>-0.048606</td>\n",
       "      <td>0.043387</td>\n",
       "      <td>0.023561</td>\n",
       "      <td>0.047152</td>\n",
       "      <td>-0.026095</td>\n",
       "      <td>-0.049561</td>\n",
       "      <td>-0.041168</td>\n",
       "      <td>-0.022924</td>\n",
       "      <td>0.002311</td>\n",
       "      <td>0.052224</td>\n",
       "      <td>-0.043679</td>\n",
       "      <td>0.122896</td>\n",
       "      <td>-0.030623</td>\n",
       "      <td>0.031622</td>\n",
       "      <td>0.01594</td>\n",
       "      <td>0.022707</td>\n",
       "      <td>-0.01771</td>\n",
       "      <td>-0.046386</td>\n",
       "      <td>-0.085493</td>\n",
       "      <td>-0.00598</td>\n",
       "      <td>-0.031566</td>\n",
       "      <td>-0.043694</td>\n",
       "      <td>0.076775</td>\n",
       "      <td>-0.025271</td>\n",
       "      <td>-0.048267</td>\n",
       "      <td>0.073543</td>\n",
       "      <td>-0.097227</td>\n",
       "      <td>-0.043387</td>\n",
       "      <td>0.114546</td>\n",
       "      <td>0.028543</td>\n",
       "      <td>0.083777</td>\n",
       "      <td>0.042709</td>\n",
       "      <td>0.014584</td>\n",
       "      <td>-0.033378</td>\n",
       "      <td>0.039609</td>\n",
       "      <td>-0.031495</td>\n",
       "      <td>-0.089116</td>\n",
       "      <td>0.000952</td>\n",
       "      <td>-0.069057</td>\n",
       "      <td>0.012308</td>\n",
       "      <td>0.007135</td>\n",
       "      <td>0.02839</td>\n",
       "      <td>0.074823</td>\n",
       "      <td>-0.025236</td>\n",
       "      <td>-0.037043</td>\n",
       "      <td>0.088949</td>\n",
       "      <td>0.017059</td>\n",
       "      <td>-0.027152</td>\n",
       "      <td>0.054542</td>\n",
       "      <td>0.010415</td>\n",
       "      <td>0.034819</td>\n",
       "      <td>-0.000887</td>\n",
       "      <td>0.031185</td>\n",
       "      <td>0.011733</td>\n",
       "    </tr>\n",
       "  </tbody>\n",
       "</table>\n",
       "</div>"
      ],
      "text/plain": [
       "        0         1        2         3       4         5        6         7    \\\n",
       "0 -0.051483  0.114778 -0.09353 -0.052746  0.0352  0.038666  0.12219  0.044359   \n",
       "\n",
       "        8         9         10        11        12        13        14   \\\n",
       "0  0.082636  0.017275  0.017804 -0.140038  0.014688 -0.059128  0.004709   \n",
       "\n",
       "        15        16        17        18        19       20        21   \\\n",
       "0 -0.046196  0.034533  0.058049  0.013512  0.000138 -0.03747  0.046808   \n",
       "\n",
       "        22        23        24        25        26        27        28   \\\n",
       "0 -0.029956 -0.028176  0.042974  0.043441 -0.076869  0.001601  0.018704   \n",
       "\n",
       "        29        30        31        32        33        34        35   \\\n",
       "0 -0.037142 -0.099111 -0.041233 -0.024997  0.016022 -0.010209 -0.024315   \n",
       "\n",
       "        36        37        38        39        40        41        42   \\\n",
       "0  0.041933 -0.045521  0.068887 -0.053358  0.042694  0.071105 -0.045631   \n",
       "\n",
       "        43        44        45       46        47        48        49   \\\n",
       "0 -0.032987 -0.006968  0.061665 -0.10616  0.123545  0.107963  0.036917   \n",
       "\n",
       "        50        51        52        53        54        55        56   \\\n",
       "0 -0.039344 -0.018012  0.063396  0.065135 -0.068628  0.151907  0.114272   \n",
       "\n",
       "      57        58        59        60        61       62        63   \\\n",
       "0  0.0395  0.078693  0.087499 -0.075413 -0.000715 -0.03473  0.004536   \n",
       "\n",
       "        64        65        66        67        68        69        70   \\\n",
       "0 -0.015504  0.006749 -0.046564  0.004156 -0.013515 -0.005581 -0.153183   \n",
       "\n",
       "        71        72        73        74       75        76        77   \\\n",
       "0  0.149185  0.088761 -0.046019  0.015361 -0.01865  0.012771  0.019283   \n",
       "\n",
       "        78        79        80      81       82        83        84   \\\n",
       "0 -0.007943  0.022524  0.010793  0.0369  0.05795  0.140651  0.018899   \n",
       "\n",
       "        85        86        87        88        89       90        91   \\\n",
       "0  0.023704 -0.072782 -0.058822  0.079521  0.034055  0.07756  0.029182   \n",
       "\n",
       "        92        93        94        95        96       97       98   \\\n",
       "0 -0.018183 -0.010725  0.017642  0.126024  0.079897 -0.02721 -0.00605   \n",
       "\n",
       "        99        100       101       102       103       104      105  \\\n",
       "0 -0.003879  0.017541 -0.021449  0.037232 -0.081308  0.144571  0.02688   \n",
       "\n",
       "        106       107       108       109       110       111       112  \\\n",
       "0  0.075959  0.005049  0.041721 -0.016219 -0.003636 -0.014878  0.082411   \n",
       "\n",
       "        113       114       115       116       117       118       119  \\\n",
       "0  0.074989 -0.039743  0.021681 -0.064908 -0.003689  0.040041 -0.059098   \n",
       "\n",
       "        120       121       122       123       124       125       126  \\\n",
       "0  0.091562 -0.046195 -0.002759  0.069346 -0.028195 -0.137831  0.066456   \n",
       "\n",
       "        127      128       129       130       131       132       133  \\\n",
       "0 -0.069265  0.05347  0.000775  0.055481  0.099367 -0.015293 -0.015505   \n",
       "\n",
       "        134       135       136       137       138       139       140  \\\n",
       "0  0.064856 -0.000136  0.058133 -0.058598 -0.050763 -0.083365 -0.006482   \n",
       "\n",
       "        141       142       143       144       145       146       147  \\\n",
       "0  0.000824  0.006497  0.084881  0.024761  0.034564 -0.095831  0.066789   \n",
       "\n",
       "        148       149       150       151       152       153       154  \\\n",
       "0  0.027071  0.049672  0.063083 -0.010795 -0.002965  0.063755 -0.047064   \n",
       "\n",
       "        155       156       157       158       159       160       161  \\\n",
       "0 -0.019289 -0.006098 -0.018693 -0.004063  0.119831 -0.033124  0.088733   \n",
       "\n",
       "        162       163      164       165       166       167       168  \\\n",
       "0 -0.046891  0.105653 -0.08629  0.008642 -0.036939 -0.067885 -0.060306   \n",
       "\n",
       "        169       170       171       172       173       174      175  \\\n",
       "0  0.075716 -0.008483  0.038323  0.042259  0.008828 -0.055875 -0.05424   \n",
       "\n",
       "        176       177       178       179       180      181       182  \\\n",
       "0  0.006718 -0.171515 -0.023024 -0.042683 -0.002261 -0.05251 -0.017804   \n",
       "\n",
       "       183      184       185       186       187       188       189  \\\n",
       "0 -0.01716  0.03498  0.044092  0.101087  0.061621  0.008151  0.033468   \n",
       "\n",
       "        190       191       192       193       194       195       196  \\\n",
       "0 -0.040821  0.067503 -0.070813  0.018671 -0.022082  0.013762 -0.103162   \n",
       "\n",
       "        197       198       199      200       201       202       203  \\\n",
       "0 -0.080081 -0.014796  0.059157 -0.01298  0.042589  0.002486 -0.086874   \n",
       "\n",
       "        204       205       206      207       208       209       210  \\\n",
       "0  0.088864  0.039088 -0.029233  0.01661  0.023915  0.010275 -0.064325   \n",
       "\n",
       "        211       212       213       214       215       216       217  \\\n",
       "0 -0.134842 -0.032225  0.045172  0.010686 -0.122406  0.014357 -0.007932   \n",
       "\n",
       "        218      219       220       221       222       223       224  \\\n",
       "0 -0.088019 -0.07052  0.053652  0.025693 -0.149676 -0.021953  0.078794   \n",
       "\n",
       "        225       226       227      228       229       230       231  \\\n",
       "0  0.009045 -0.021721 -0.063027 -0.05349 -0.050763 -0.023967  0.079904   \n",
       "\n",
       "        232       233       234       235      236     237       238  \\\n",
       "0 -0.120927 -0.001116 -0.012118  0.034066 -0.07237  0.0079  0.133284   \n",
       "\n",
       "        239     240       241       242       243       244       245  \\\n",
       "0 -0.070478  0.0317 -0.043633 -0.055887  0.001766 -0.018305 -0.079843   \n",
       "\n",
       "        246       247       248       249       250       251       252  \\\n",
       "0 -0.048606  0.043387  0.023561  0.047152 -0.026095 -0.049561 -0.041168   \n",
       "\n",
       "        253       254       255       256       257       258       259  \\\n",
       "0 -0.022924  0.002311  0.052224 -0.043679  0.122896 -0.030623  0.031622   \n",
       "\n",
       "       260       261      262       263       264      265       266  \\\n",
       "0  0.01594  0.022707 -0.01771 -0.046386 -0.085493 -0.00598 -0.031566   \n",
       "\n",
       "        267       268       269       270       271       272       273  \\\n",
       "0 -0.043694  0.076775 -0.025271 -0.048267  0.073543 -0.097227 -0.043387   \n",
       "\n",
       "        274       275       276       277       278       279       280  \\\n",
       "0  0.114546  0.028543  0.083777  0.042709  0.014584 -0.033378  0.039609   \n",
       "\n",
       "        281       282       283       284       285       286      287  \\\n",
       "0 -0.031495 -0.089116  0.000952 -0.069057  0.012308  0.007135  0.02839   \n",
       "\n",
       "        288       289       290       291       292       293       294  \\\n",
       "0  0.074823 -0.025236 -0.037043  0.088949  0.017059 -0.027152  0.054542   \n",
       "\n",
       "        295       296       297       298       299  \n",
       "0  0.010415  0.034819 -0.000887  0.031185  0.011733  "
      ]
     },
     "execution_count": 984,
     "metadata": {},
     "output_type": "execute_result"
    }
   ],
   "source": [
    "similarity_df.head(1)"
   ]
  },
  {
   "cell_type": "code",
   "execution_count": 985,
   "id": "e145be19-03b7-4386-91a0-611969b93179",
   "metadata": {},
   "outputs": [
    {
     "data": {
      "text/plain": [
       "(4800, 3)"
      ]
     },
     "execution_count": 985,
     "metadata": {},
     "output_type": "execute_result"
    }
   ],
   "source": [
    "movies.shape"
   ]
  },
  {
   "cell_type": "code",
   "execution_count": 988,
   "id": "db34cca0-84da-4b07-8304-1b4789882ee7",
   "metadata": {},
   "outputs": [
    {
     "data": {
      "text/plain": [
       "array([[0.87677115, 0.9568796 , 0.9642533 , ..., 0.9521524 , 0.9521436 ,\n",
       "        0.95213073]], dtype=float32)"
      ]
     },
     "execution_count": 988,
     "metadata": {},
     "output_type": "execute_result"
    }
   ],
   "source": [
    "cosine_similarity(final_embeddings[idx].reshape(1, -1), final_embeddings)"
   ]
  }
 ],
 "metadata": {
  "kernelspec": {
   "display_name": "Python 3 (ipykernel)",
   "language": "python",
   "name": "python3"
  },
  "language_info": {
   "codemirror_mode": {
    "name": "ipython",
    "version": 3
   },
   "file_extension": ".py",
   "mimetype": "text/x-python",
   "name": "python",
   "nbconvert_exporter": "python",
   "pygments_lexer": "ipython3",
   "version": "3.10.9"
  },
  "widgets": {
   "application/vnd.jupyter.widget-state+json": {
    "state": {},
    "version_major": 2,
    "version_minor": 0
   }
  }
 },
 "nbformat": 4,
 "nbformat_minor": 5
}
